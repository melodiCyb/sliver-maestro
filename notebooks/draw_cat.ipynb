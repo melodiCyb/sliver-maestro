{
 "cells": [
  {
   "cell_type": "code",
   "execution_count": 1,
   "metadata": {},
   "outputs": [],
   "source": [
    "import csv\n",
    "import ndjson\n",
    "import os\n",
    "import sys"
   ]
  },
  {
   "cell_type": "code",
   "execution_count": 2,
   "metadata": {},
   "outputs": [
    {
     "name": "stdout",
     "output_type": "stream",
     "text": [
      "root_path: C:\\Users\\ozgur\\Desktop\\sandbox\\sliver-maestro\n"
     ]
    }
   ],
   "source": [
    "base_path = os.getcwd().split('sliver-maestro')[0]\n",
    "root_path = os.path.join(base_path, \"sliver-maestro\")\n",
    "print(\"root_path: {}\".format(root_path))"
   ]
  },
  {
   "cell_type": "code",
   "execution_count": 3,
   "metadata": {},
   "outputs": [],
   "source": [
    "sys.path.insert(1, root_path)\n",
    "from src.utils.model_utils import *\n",
    "from src.draw_model import *\n",
    "from src.generate_images import *"
   ]
  },
  {
   "cell_type": "code",
   "execution_count": 4,
   "metadata": {},
   "outputs": [],
   "source": [
    "categories_file = os.path.join(root_path, \"src\", \"data\", \"categories.csv\")"
   ]
  },
  {
   "cell_type": "code",
   "execution_count": 5,
   "metadata": {},
   "outputs": [],
   "source": [
    "with open(categories_file, newline='') as f:\n",
    "    reader = csv.reader(f)\n",
    "    categories = {rows[0]:rows[0] for rows in reader}"
   ]
  },
  {
   "cell_type": "markdown",
   "metadata": {},
   "source": [
    "#### Select a category to download images from "
   ]
  },
  {
   "cell_type": "code",
   "execution_count": 6,
   "metadata": {},
   "outputs": [
    {
     "name": "stdout",
     "output_type": "stream",
     "text": [
      "Number of categories: 345\n"
     ]
    }
   ],
   "source": [
    "print('Number of categories: %d' % len(categories))"
   ]
  },
  {
   "cell_type": "code",
   "execution_count": 7,
   "metadata": {},
   "outputs": [
    {
     "data": {
      "text/plain": [
       "['aircraft carrier',\n",
       " 'airplane',\n",
       " 'alarm clock',\n",
       " 'ambulance',\n",
       " 'angel',\n",
       " 'animal migration',\n",
       " 'ant',\n",
       " 'anvil',\n",
       " 'apple',\n",
       " 'arm']"
      ]
     },
     "execution_count": 7,
     "metadata": {},
     "output_type": "execute_result"
    }
   ],
   "source": [
    "list(categories.keys())[:10]"
   ]
  },
  {
   "cell_type": "code",
   "execution_count": 11,
   "metadata": {},
   "outputs": [
    {
     "name": "stdout",
     "output_type": "stream",
     "text": [
      "Selected category from the list above: cat\n"
     ]
    }
   ],
   "source": [
    "category = input(\"Selected category from the list above: \") or 'cat'\n",
    "# Checking to see if the entered category is in the categories dictionary\n",
    "assert categories.get(category)"
   ]
  },
  {
   "cell_type": "code",
   "execution_count": 12,
   "metadata": {},
   "outputs": [
    {
     "name": "stdout",
     "output_type": "stream",
     "text": [
      "Creating directories to save images, weights and the model ...\n",
      "folders are created...\n"
     ]
    }
   ],
   "source": [
    "print(\"Creating directories to save images, weights and the model ...\")\n",
    "src_list, dst_list, paths_dict = create_folders(root_path, category)"
   ]
  },
  {
   "cell_type": "code",
   "execution_count": 13,
   "metadata": {},
   "outputs": [
    {
     "name": "stdout",
     "output_type": "stream",
     "text": [
      "Select a download method ... \n",
      " 1. Use Google Cloud credentials stored in a json file \n",
      " 2. Use gsutil in the notebook \n",
      " 3. Use gsutil in the terminal \n",
      "2\n"
     ]
    }
   ],
   "source": [
    "option = input(\"Select a download method ... \\n 1. Use Google Cloud credentials stored in a json file \\n 2. Use gsutil in the notebook \\n 3. Use gsutil in the terminal \\n\")"
   ]
  },
  {
   "cell_type": "code",
   "execution_count": 14,
   "metadata": {},
   "outputs": [
    {
     "name": "stdout",
     "output_type": "stream",
     "text": [
      "full/numpy_bitmap/cat.npy C:\\Users\\ozgur\\Desktop\\sandbox\\sliver-maestro\\src\\data\\input\\cat\\cat.npy\n",
      "full/raw/cat.ndjson C:\\Users\\ozgur\\Desktop\\sandbox\\sliver-maestro\\src\\data\\raw\\cat\\cat.ndjson\n"
     ]
    },
    {
     "name": "stderr",
     "output_type": "stream",
     "text": [
      "Copying gs://quickdraw_dataset/full/numpy_bitmap/cat.npy...\n",
      "/ [0/1 files][    0.0 B/ 92.1 MiB]   0% Done                                    \n",
      "-\n",
      "- [0/1 files][  2.1 MiB/ 92.1 MiB]   2% Done                                    \n",
      "\\\n",
      "|\n",
      "| [0/1 files][  5.7 MiB/ 92.1 MiB]   6% Done                                    \n",
      "/\n",
      "/ [0/1 files][  9.3 MiB/ 92.1 MiB]  10% Done                                    \n",
      "-\n",
      "\\\n",
      "\\ [0/1 files][ 12.9 MiB/ 92.1 MiB]  13% Done                                    \n",
      "|\n",
      "/\n",
      "/ [0/1 files][ 16.5 MiB/ 92.1 MiB]  17% Done                                    \n",
      "-\n",
      "- [0/1 files][ 20.1 MiB/ 92.1 MiB]  21% Done                                    \n",
      "\\\n",
      "|\n",
      "| [0/1 files][ 23.7 MiB/ 92.1 MiB]  25% Done                                    \n",
      "/\n",
      "-\n",
      "- [0/1 files][ 27.1 MiB/ 92.1 MiB]  29% Done                                    \n",
      "\\\n",
      "\\ [0/1 files][ 30.7 MiB/ 92.1 MiB]  33% Done                                    \n",
      "|\n",
      "/\n",
      "/ [0/1 files][ 33.8 MiB/ 92.1 MiB]  36% Done                                    \n",
      "-\n",
      "- [0/1 files][ 35.8 MiB/ 92.1 MiB]  38% Done   3.0 MiB/s ETA 00:00:19           \n",
      "\\\n",
      "|\n",
      "| [0/1 files][ 39.2 MiB/ 92.1 MiB]  42% Done   2.9 MiB/s ETA 00:00:18           \n",
      "/\n",
      "-\n",
      "- [0/1 files][ 43.6 MiB/ 92.1 MiB]  47% Done   3.1 MiB/s ETA 00:00:16           \n",
      "\\\n",
      "\\ [0/1 files][ 48.7 MiB/ 92.1 MiB]  52% Done   3.4 MiB/s ETA 00:00:13           \n",
      "|\n",
      "/\n",
      "/ [0/1 files][ 53.9 MiB/ 92.1 MiB]  58% Done   4.0 MiB/s ETA 00:00:09           \n",
      "-\n",
      "\\\n",
      "\\ [0/1 files][ 59.6 MiB/ 92.1 MiB]  64% Done   4.6 MiB/s ETA 00:00:07           \n",
      "|\n",
      "| [0/1 files][ 65.5 MiB/ 92.1 MiB]  71% Done   5.2 MiB/s ETA 00:00:05           \n",
      "/\n",
      "-\n",
      "- [0/1 files][ 71.9 MiB/ 92.1 MiB]  78% Done   5.6 MiB/s ETA 00:00:04           \n",
      "\\\n",
      "|\n",
      "| [0/1 files][ 77.6 MiB/ 92.1 MiB]  84% Done   5.6 MiB/s ETA 00:00:03           \n",
      "/\n",
      "/ [0/1 files][ 82.2 MiB/ 92.1 MiB]  89% Done   5.5 MiB/s ETA 00:00:02           \n",
      "-\n",
      "\\\n",
      "\\ [0/1 files][ 86.9 MiB/ 92.1 MiB]  94% Done   5.3 MiB/s ETA 00:00:01           \n",
      "|\n",
      "/\n",
      "/ [0/1 files][ 91.0 MiB/ 92.1 MiB]  98% Done   4.8 MiB/s ETA 00:00:00           \n",
      "/ [1/1 files][ 92.1 MiB/ 92.1 MiB] 100% Done   4.6 MiB/s ETA 00:00:00           \n",
      "\n",
      "Operation completed over 1 objects/92.1 MiB.                                     \n",
      "Copying gs://quickdraw_dataset/full/raw/cat.ndjson...\n",
      "/ [0/1 files][    0.0 B/496.9 MiB]   0% Done                                    \n",
      "/ [0/1 files][    0.0 B/496.9 MiB]   0% Done                                    \n",
      "-\n",
      "\\\n",
      "\\ [0/1 files][  2.1 MiB/496.9 MiB]   0% Done                                    \n",
      "|\n",
      "/\n",
      "/ [0/1 files][  5.9 MiB/496.9 MiB]   1% Done                                    \n",
      "-\n",
      "- [0/1 files][  9.5 MiB/496.9 MiB]   1% Done                                    \n",
      "\\\n",
      "|\n",
      "| [0/1 files][ 12.6 MiB/496.9 MiB]   2% Done                                    \n",
      "/\n",
      "/ [0/1 files][ 15.0 MiB/496.9 MiB]   3% Done                                    \n",
      "-\n",
      "\\\n",
      "\\ [0/1 files][ 18.3 MiB/496.9 MiB]   3% Done                                    \n",
      "|\n",
      "| [0/1 files][ 21.9 MiB/496.9 MiB]   4% Done   3.0 MiB/s ETA 00:02:36           \n",
      "/\n",
      "-\n",
      "- [0/1 files][ 24.5 MiB/496.9 MiB]   4% Done   2.7 MiB/s ETA 00:02:54           \n",
      "\\\n",
      "|\n",
      "| [0/1 files][ 27.6 MiB/496.9 MiB]   5% Done   2.8 MiB/s ETA 00:02:46           \n",
      "/\n",
      "-\n",
      "- [0/1 files][ 31.2 MiB/496.9 MiB]   6% Done   3.0 MiB/s ETA 00:02:35           \n",
      "\\\n",
      "\\ [0/1 files][ 35.1 MiB/496.9 MiB]   7% Done   3.0 MiB/s ETA 00:02:32           \n",
      "|\n",
      "/\n",
      "/ [0/1 files][ 37.4 MiB/496.9 MiB]   7% Done   2.8 MiB/s ETA 00:02:41           \n",
      "-\n",
      "- [0/1 files][ 41.0 MiB/496.9 MiB]   8% Done   3.0 MiB/s ETA 00:02:29           \n",
      "\\\n",
      "|\n",
      "| [0/1 files][ 44.6 MiB/496.9 MiB]   8% Done   3.3 MiB/s ETA 00:02:18           \n",
      "/\n",
      "-\n",
      "- [0/1 files][ 47.7 MiB/496.9 MiB]   9% Done   3.2 MiB/s ETA 00:02:22           \n",
      "\\\n",
      "\\ [0/1 files][ 50.8 MiB/496.9 MiB]  10% Done   3.0 MiB/s ETA 00:02:28           \n",
      "|\n",
      "/\n",
      "/ [0/1 files][ 53.1 MiB/496.9 MiB]  10% Done   2.9 MiB/s ETA 00:02:32           \n",
      "-\n",
      "\\\n",
      "\\ [0/1 files][ 56.7 MiB/496.9 MiB]  11% Done   3.0 MiB/s ETA 00:02:29           \n",
      "|\n",
      "| [0/1 files][ 59.6 MiB/496.9 MiB]  11% Done   2.8 MiB/s ETA 00:02:34           \n",
      "/\n",
      "-\n",
      "- [0/1 files][ 61.9 MiB/496.9 MiB]  12% Done   2.6 MiB/s ETA 00:02:45           \n",
      "\\\n",
      "\\ [0/1 files][ 66.0 MiB/496.9 MiB]  13% Done   3.0 MiB/s ETA 00:02:26           \n",
      "|\n",
      "/\n",
      "/ [0/1 files][ 69.1 MiB/496.9 MiB]  13% Done   3.0 MiB/s ETA 00:02:23           \n",
      "-\n",
      "- [0/1 files][ 72.7 MiB/496.9 MiB]  14% Done   3.1 MiB/s ETA 00:02:16           \n",
      "\\\n",
      "|\n",
      "| [0/1 files][ 75.5 MiB/496.9 MiB]  15% Done   3.1 MiB/s ETA 00:02:17           \n",
      "/\n",
      "-\n",
      "- [0/1 files][ 79.2 MiB/496.9 MiB]  15% Done   3.3 MiB/s ETA 00:02:08           \n",
      "\\\n",
      "\\ [0/1 files][ 83.0 MiB/496.9 MiB]  16% Done   3.3 MiB/s ETA 00:02:05           \n",
      "|\n",
      "/\n",
      "/ [0/1 files][ 87.1 MiB/496.9 MiB]  17% Done   3.4 MiB/s ETA 00:02:00           \n",
      "-\n",
      "\\\n",
      "\\ [0/1 files][ 90.2 MiB/496.9 MiB]  18% Done   3.4 MiB/s ETA 00:02:01           \n",
      "|\n",
      "| [0/1 files][ 93.1 MiB/496.9 MiB]  18% Done   3.3 MiB/s ETA 00:02:01           \n",
      "/\n",
      "/ [0/1 files][ 94.6 MiB/496.9 MiB]  19% Done   2.9 MiB/s ETA 00:02:19           \n",
      "-\n",
      "\\\n",
      "\\ [0/1 files][ 98.2 MiB/496.9 MiB]  19% Done   2.8 MiB/s ETA 00:02:20           \n",
      "|\n",
      "/\n",
      "/ [0/1 files][101.6 MiB/496.9 MiB]  20% Done   2.7 MiB/s ETA 00:02:25           \n",
      "-\n",
      "- [0/1 files][103.9 MiB/496.9 MiB]  20% Done   2.6 MiB/s ETA 00:02:34           \n",
      "\\\n",
      "|\n",
      "| [0/1 files][107.5 MiB/496.9 MiB]  21% Done   2.9 MiB/s ETA 00:02:13           \n",
      "/\n",
      "/ [0/1 files][110.9 MiB/496.9 MiB]  22% Done   3.0 MiB/s ETA 00:02:06           \n",
      "-\n",
      "\\\n",
      "\\ [0/1 files][114.2 MiB/496.9 MiB]  22% Done   3.1 MiB/s ETA 00:02:05           \n",
      "|\n",
      "| [0/1 files][117.3 MiB/496.9 MiB]  23% Done   3.0 MiB/s ETA 00:02:06           \n",
      "/\n",
      "-\n",
      "- [0/1 files][120.1 MiB/496.9 MiB]  24% Done   3.1 MiB/s ETA 00:02:03           \n",
      "\\\n",
      "|\n",
      "| [0/1 files][123.5 MiB/496.9 MiB]  24% Done   3.0 MiB/s ETA 00:02:03           \n",
      "/\n",
      "/ [0/1 files][127.1 MiB/496.9 MiB]  25% Done   3.1 MiB/s ETA 00:01:59           \n",
      "-\n",
      "\\\n",
      "\\ [0/1 files][129.9 MiB/496.9 MiB]  26% Done   3.1 MiB/s ETA 00:01:58           \n",
      "|\n",
      "| [0/1 files][132.8 MiB/496.9 MiB]  26% Done   3.0 MiB/s ETA 00:02:01           \n",
      "/\n",
      "-\n",
      "- [0/1 files][136.6 MiB/496.9 MiB]  27% Done   3.2 MiB/s ETA 00:01:53           \n",
      "\\\n",
      "\\ [0/1 files][139.7 MiB/496.9 MiB]  28% Done   3.0 MiB/s ETA 00:01:58           \n",
      "|\n",
      "/\n",
      "/ [0/1 files][142.6 MiB/496.9 MiB]  28% Done   2.9 MiB/s ETA 00:02:02           \n",
      "-\n",
      "- [0/1 files][145.7 MiB/496.9 MiB]  29% Done   3.0 MiB/s ETA 00:01:57           \n",
      "\\\n",
      "|\n",
      "| [0/1 files][149.0 MiB/496.9 MiB]  29% Done   3.0 MiB/s ETA 00:01:57           \n",
      "/\n",
      "-\n",
      "- [0/1 files][152.4 MiB/496.9 MiB]  30% Done   2.9 MiB/s ETA 00:01:59           \n",
      "\\\n",
      "\\ [0/1 files][155.7 MiB/496.9 MiB]  31% Done   3.1 MiB/s ETA 00:01:52           \n",
      "|\n",
      "/\n",
      "/ [0/1 files][159.3 MiB/496.9 MiB]  32% Done   3.1 MiB/s ETA 00:01:50           \n",
      "-\n",
      "\\\n",
      "\\ [0/1 files][162.4 MiB/496.9 MiB]  32% Done   3.0 MiB/s ETA 00:01:50           \n",
      "|\n",
      "| [0/1 files][165.0 MiB/496.9 MiB]  33% Done   3.0 MiB/s ETA 00:01:52           \n",
      "/\n",
      "-\n",
      "- [0/1 files][168.4 MiB/496.9 MiB]  33% Done   3.0 MiB/s ETA 00:01:50           \n",
      "\\\n",
      "|\n",
      "| [0/1 files][171.4 MiB/496.9 MiB]  34% Done   2.8 MiB/s ETA 00:01:54           \n",
      "/\n",
      "/ [0/1 files][174.3 MiB/496.9 MiB]  35% Done   2.8 MiB/s ETA 00:01:54           \n",
      "-\n",
      "\\\n",
      "\\ [0/1 files][176.9 MiB/496.9 MiB]  35% Done   2.8 MiB/s ETA 00:01:56           \n",
      "|\n",
      "/\n",
      "/ [0/1 files][179.7 MiB/496.9 MiB]  36% Done   2.7 MiB/s ETA 00:01:56           \n",
      "-\n",
      "- [0/1 files][182.8 MiB/496.9 MiB]  36% Done   2.8 MiB/s ETA 00:01:54           \n",
      "\\\n",
      "|\n",
      "| [0/1 files][185.6 MiB/496.9 MiB]  37% Done   2.7 MiB/s ETA 00:01:56           \n",
      "/\n",
      "/ [0/1 files][190.3 MiB/496.9 MiB]  38% Done   3.1 MiB/s ETA 00:01:40           \n",
      "-\n",
      "\\\n",
      "\\ [0/1 files][193.9 MiB/496.9 MiB]  39% Done   3.3 MiB/s ETA 00:01:33           \n",
      "|\n",
      "/\n",
      "/ [0/1 files][197.5 MiB/496.9 MiB]  39% Done   3.4 MiB/s ETA 00:01:29           \n",
      "-\n",
      "- [0/1 files][201.1 MiB/496.9 MiB]  40% Done   3.5 MiB/s ETA 00:01:25           \n",
      "\\\n",
      "\\ [0/1 files][204.7 MiB/496.9 MiB]  41% Done   3.6 MiB/s ETA 00:01:20           \n",
      "|\n",
      "/\n",
      "/ [0/1 files][208.0 MiB/496.9 MiB]  41% Done   3.4 MiB/s ETA 00:01:26           \n",
      "-\n",
      "\\\n",
      "\\ [0/1 files][211.4 MiB/496.9 MiB]  42% Done   3.4 MiB/s ETA 00:01:23           \n",
      "|\n",
      "| [0/1 files][214.2 MiB/496.9 MiB]  43% Done   3.2 MiB/s ETA 00:01:27           \n",
      "/\n",
      "-\n",
      "- [0/1 files][217.8 MiB/496.9 MiB]  43% Done   3.2 MiB/s ETA 00:01:27           \n",
      "\\\n",
      "|\n",
      "| [0/1 files][222.8 MiB/496.9 MiB]  44% Done   3.5 MiB/s ETA 00:01:19           \n",
      "/\n",
      "/ [0/1 files][227.1 MiB/496.9 MiB]  45% Done   3.6 MiB/s ETA 00:01:15           \n",
      "-\n",
      "\\\n",
      "\\ [0/1 files][231.8 MiB/496.9 MiB]  46% Done   4.0 MiB/s ETA 00:01:06           \n",
      "|\n",
      "| [0/1 files][236.4 MiB/496.9 MiB]  47% Done   4.3 MiB/s ETA 00:01:00           \n",
      "/\n",
      "-\n",
      "- [0/1 files][240.8 MiB/496.9 MiB]  48% Done   4.4 MiB/s ETA 00:00:58           \n",
      "\\\n",
      "\\ [0/1 files][244.4 MiB/496.9 MiB]  49% Done   4.3 MiB/s ETA 00:00:58           \n",
      "|\n",
      "/\n",
      "/ [0/1 files][248.5 MiB/496.9 MiB]  50% Done   4.1 MiB/s ETA 00:01:00           \n",
      "-\n",
      "\\\n",
      "\\ [0/1 files][252.7 MiB/496.9 MiB]  50% Done   4.0 MiB/s ETA 00:01:02           \n",
      "|\n",
      "| [0/1 files][257.3 MiB/496.9 MiB]  51% Done   4.0 MiB/s ETA 00:01:00           \n",
      "/\n",
      "-\n",
      "- [0/1 files][262.2 MiB/496.9 MiB]  52% Done   4.2 MiB/s ETA 00:00:56           \n",
      "\\\n",
      "\\ [0/1 files][266.3 MiB/496.9 MiB]  53% Done   4.2 MiB/s ETA 00:00:55           \n",
      "|\n",
      "/\n",
      "/ [0/1 files][269.4 MiB/496.9 MiB]  54% Done   4.0 MiB/s ETA 00:00:56           \n",
      "-\n",
      "\\\n",
      "\\ [0/1 files][273.5 MiB/496.9 MiB]  55% Done   4.0 MiB/s ETA 00:00:55           \n",
      "|\n",
      "| [0/1 files][277.9 MiB/496.9 MiB]  55% Done   3.9 MiB/s ETA 00:00:56           \n",
      "/\n",
      "-\n",
      "- [0/1 files][282.8 MiB/496.9 MiB]  56% Done   4.0 MiB/s ETA 00:00:54           \n",
      "\\\n",
      "|\n",
      "| [0/1 files][286.7 MiB/496.9 MiB]  57% Done   4.1 MiB/s ETA 00:00:51           \n",
      "/\n",
      "/ [0/1 files][290.8 MiB/496.9 MiB]  58% Done   4.1 MiB/s ETA 00:00:50           \n",
      "-\n",
      "\\\n",
      "\\ [0/1 files][295.4 MiB/496.9 MiB]  59% Done   4.2 MiB/s ETA 00:00:48           \n",
      "|\n",
      "| [0/1 files][300.4 MiB/496.9 MiB]  60% Done   4.3 MiB/s ETA 00:00:46           \n",
      "/\n",
      "-\n",
      "- [0/1 files][305.1 MiB/496.9 MiB]  61% Done   4.3 MiB/s ETA 00:00:44           \n",
      "\\\n",
      "|\n",
      "| [0/1 files][309.8 MiB/496.9 MiB]  62% Done   4.5 MiB/s ETA 00:00:42           \n",
      "/\n",
      "/ [0/1 files][313.1 MiB/496.9 MiB]  63% Done   4.4 MiB/s ETA 00:00:42           \n",
      "-\n",
      "\\\n",
      "\\ [0/1 files][316.5 MiB/496.9 MiB]  63% Done   4.0 MiB/s ETA 00:00:45           \n",
      "|\n",
      "/\n",
      "/ [0/1 files][319.8 MiB/496.9 MiB]  64% Done   3.8 MiB/s ETA 00:00:47           \n",
      "-\n",
      "- [0/1 files][323.2 MiB/496.9 MiB]  65% Done   3.4 MiB/s ETA 00:00:51           \n",
      "\\\n",
      "|\n",
      "| [0/1 files][326.5 MiB/496.9 MiB]  65% Done   3.2 MiB/s ETA 00:00:54           \n",
      "/\n",
      "-\n",
      "- [0/1 files][329.1 MiB/496.9 MiB]  66% Done   3.0 MiB/s ETA 00:00:56           \n",
      "\\\n",
      "\\ [0/1 files][332.2 MiB/496.9 MiB]  66% Done   3.0 MiB/s ETA 00:00:55           \n",
      "|\n",
      "/"
     ]
    }
   ],
   "source": [
    "if option == \"1\":\n",
    "    download_data(src_list, dst_list)\n",
    "elif option == \"2\":\n",
    "    for (src_file, dst_file) in zip(src_list, dst_list): \n",
    "        print(src_file, dst_file)\n",
    "        !gsutil -m cp {'gs://quickdraw_dataset/' + src_file} dst_file\n",
    "elif option == \"3\":\n",
    "    print('Type the following in the terminal to download the files manually:')\n",
    "    for (src_file, dst_file) in zip(src_list, dst_list):\n",
    "        print(\"gsutil -m cp \" + \"gs://quickdraw_dataset/\" + \"{}\".format(src_file) + \" \" + \"{}\".format(dst_file))"
   ]
  },
  {
   "cell_type": "code",
   "execution_count": 15,
   "metadata": {},
   "outputs": [
    {
     "name": "stderr",
     "output_type": "stream",
     "text": [
      "\n",
      "/ [0/1 files][335.3 MiB/496.9 MiB]  67% Done   2.8 MiB/s ETA 00:00:57           \n",
      "-\n",
      "- [0/1 files][338.4 MiB/496.9 MiB]  68% Done   2.8 MiB/s ETA 00:00:56           \n",
      "\\\n",
      "|\n",
      "| [0/1 files][341.5 MiB/496.9 MiB]  68% Done   2.9 MiB/s ETA 00:00:53           \n",
      "/\n",
      "-\n",
      "- [0/1 files][345.1 MiB/496.9 MiB]  69% Done   3.1 MiB/s ETA 00:00:49           \n",
      "\\\n",
      "\\ [0/1 files][348.7 MiB/496.9 MiB]  70% Done   3.2 MiB/s ETA 00:00:46           \n",
      "|\n",
      "/\n",
      "/ [0/1 files][352.0 MiB/496.9 MiB]  70% Done   3.2 MiB/s ETA 00:00:45           \n",
      "-\n",
      "- [0/1 files][353.8 MiB/496.9 MiB]  71% Done   2.9 MiB/s ETA 00:00:50           \n",
      "\\\n",
      "|\n",
      "| [0/1 files][357.2 MiB/496.9 MiB]  71% Done   3.0 MiB/s ETA 00:00:47           \n",
      "/\n",
      "/ [0/1 files][360.3 MiB/496.9 MiB]  72% Done   2.8 MiB/s ETA 00:00:48           \n",
      "-\n",
      "\\\n",
      "\\ [0/1 files][363.3 MiB/496.9 MiB]  73% Done   2.7 MiB/s ETA 00:00:50           \n",
      "|\n",
      "/\n",
      "/ [0/1 files][364.3 MiB/496.9 MiB]  73% Done   2.3 MiB/s ETA 00:00:58           \n",
      "-\n",
      "- [0/1 files][366.9 MiB/496.9 MiB]  73% Done   2.4 MiB/s ETA 00:00:54           \n",
      "\\\n",
      "|\n",
      "| [0/1 files][370.5 MiB/496.9 MiB]  74% Done   2.6 MiB/s ETA 00:00:50           \n",
      "/\n",
      "-\n",
      "- [0/1 files][374.1 MiB/496.9 MiB]  75% Done   2.7 MiB/s ETA 00:00:46           \n",
      "\\\n",
      "\\ [0/1 files][377.4 MiB/496.9 MiB]  75% Done   2.9 MiB/s ETA 00:00:42           \n",
      "|\n",
      "/\n",
      "/ [0/1 files][381.0 MiB/496.9 MiB]  76% Done   3.3 MiB/s ETA 00:00:35           \n",
      "-\n",
      "- [0/1 files][384.9 MiB/496.9 MiB]  77% Done   3.5 MiB/s ETA 00:00:32           \n",
      "\\\n",
      "|\n",
      "| [0/1 files][388.5 MiB/496.9 MiB]  78% Done   3.5 MiB/s ETA 00:00:31           \n",
      "/\n",
      "-\n",
      "- [0/1 files][391.9 MiB/496.9 MiB]  78% Done   3.4 MiB/s ETA 00:00:31           \n",
      "\\\n",
      "\\ [0/1 files][394.5 MiB/496.9 MiB]  79% Done   3.3 MiB/s ETA 00:00:31           \n",
      "|\n",
      "| [0/1 files][397.0 MiB/496.9 MiB]  79% Done   3.0 MiB/s ETA 00:00:33           \n",
      "/\n",
      "-\n",
      "- [0/1 files][399.4 MiB/496.9 MiB]  80% Done   2.7 MiB/s ETA 00:00:37           \n",
      "\\\n",
      "|\n",
      "| [0/1 files][401.9 MiB/496.9 MiB]  80% Done   2.5 MiB/s ETA 00:00:38           \n",
      "/\n",
      "/ [0/1 files][407.6 MiB/496.9 MiB]  82% Done   3.0 MiB/s ETA 00:00:30           \n",
      "-\n",
      "\\\n",
      "\\ [0/1 files][413.0 MiB/496.9 MiB]  83% Done   3.5 MiB/s ETA 00:00:24           \n",
      "|\n",
      "/\n",
      "/ [0/1 files][418.2 MiB/496.9 MiB]  84% Done   4.2 MiB/s ETA 00:00:19           \n",
      "-\n",
      "- [0/1 files][421.5 MiB/496.9 MiB]  84% Done   4.4 MiB/s ETA 00:00:17           \n",
      "\\\n",
      "|\n",
      "| [0/1 files][423.6 MiB/496.9 MiB]  85% Done   4.2 MiB/s ETA 00:00:18           \n",
      "/\n",
      "/ [0/1 files][425.1 MiB/496.9 MiB]  85% Done   3.2 MiB/s ETA 00:00:22           \n",
      "-\n",
      "\\\n",
      "\\ [0/1 files][428.2 MiB/496.9 MiB]  86% Done   2.8 MiB/s ETA 00:00:25           \n",
      "|\n",
      "| [0/1 files][430.8 MiB/496.9 MiB]  86% Done   2.3 MiB/s ETA 00:00:29           \n",
      "/\n",
      "-\n",
      "- [0/1 files][433.6 MiB/496.9 MiB]  87% Done   2.4 MiB/s ETA 00:00:27           \n",
      "\\\n",
      "|\n",
      "| [0/1 files][437.0 MiB/496.9 MiB]  87% Done   2.6 MiB/s ETA 00:00:23           \n",
      "/\n",
      "/ [0/1 files][440.9 MiB/496.9 MiB]  88% Done   3.1 MiB/s ETA 00:00:18           \n",
      "-\n",
      "\\\n",
      "\\ [0/1 files][444.7 MiB/496.9 MiB]  89% Done   3.2 MiB/s ETA 00:00:16           \n",
      "|\n",
      "/\n",
      "/ [0/1 files][449.1 MiB/496.9 MiB]  90% Done   3.7 MiB/s ETA 00:00:13           \n",
      "-\n",
      "- [0/1 files][453.8 MiB/496.9 MiB]  91% Done   3.9 MiB/s ETA 00:00:11           \n",
      "\\\n",
      "|\n",
      "| [0/1 files][457.9 MiB/496.9 MiB]  92% Done   4.0 MiB/s ETA 00:00:10           \n",
      "/\n",
      "/ [0/1 files][459.9 MiB/496.9 MiB]  92% Done   3.7 MiB/s ETA 00:00:10           \n",
      "-\n",
      "\\\n",
      "\\ [0/1 files][463.8 MiB/496.9 MiB]  93% Done   3.7 MiB/s ETA 00:00:09           \n",
      "|\n",
      "| [0/1 files][467.7 MiB/496.9 MiB]  94% Done   3.6 MiB/s ETA 00:00:08           \n",
      "/\n",
      "-\n",
      "- [0/1 files][471.3 MiB/496.9 MiB]  94% Done   3.3 MiB/s ETA 00:00:08           \n",
      "\\\n",
      "\\ [0/1 files][474.4 MiB/496.9 MiB]  95% Done   3.7 MiB/s ETA 00:00:06           \n",
      "|\n",
      "/\n",
      "/ [0/1 files][478.2 MiB/496.9 MiB]  96% Done   3.5 MiB/s ETA 00:00:05           \n",
      "-\n",
      "\\\n",
      "\\ [0/1 files][481.6 MiB/496.9 MiB]  96% Done   3.0 MiB/s ETA 00:00:05           \n",
      "|\n",
      "/\n",
      "/ [0/1 files][485.2 MiB/496.9 MiB]  97% Done   3.0 MiB/s ETA 00:00:04           \n",
      "-\n",
      "\\\n",
      "\\ [0/1 files][488.6 MiB/496.9 MiB]  98% Done   3.0 MiB/s ETA 00:00:03           \n",
      "|\n",
      "| [0/1 files][492.2 MiB/496.9 MiB]  99% Done   3.0 MiB/s ETA 00:00:02           \n",
      "/\n",
      "-\n",
      "- [0/1 files][495.8 MiB/496.9 MiB]  99% Done   3.0 MiB/s ETA 00:00:00           \n",
      "\\\n",
      "\\ [1/1 files][496.9 MiB/496.9 MiB] 100% Done   3.4 MiB/s ETA 00:00:00           \n",
      "\n",
      "Operation completed over 1 objects/496.9 MiB.                                    \n"
     ]
    }
   ],
   "source": [
    "model_path = os.path.join(paths_dict['input_path'], category, category)"
   ]
  },
  {
   "cell_type": "code",
   "execution_count": 16,
   "metadata": {},
   "outputs": [],
   "source": [
    "npy_data = np.load(paths_dict['base_input'] + '.npy', allow_pickle=True)"
   ]
  },
  {
   "cell_type": "code",
   "execution_count": 17,
   "metadata": {},
   "outputs": [],
   "source": [
    "# load from file-like objects\n",
    "with open(paths_dict['base_raw'] + '.ndjson') as f:\n",
    "    ndjson_data = ndjson.load(f)"
   ]
  },
  {
   "cell_type": "code",
   "execution_count": 18,
   "metadata": {},
   "outputs": [],
   "source": [
    "def plot_bitmap():\n",
    "    print(\"Bitmap image:\")\n",
    "    plt.imshow(npy_data[int(index)].reshape(28,28))"
   ]
  },
  {
   "cell_type": "code",
   "execution_count": 19,
   "metadata": {},
   "outputs": [],
   "source": [
    "def plot_raw():\n",
    "    print(\"Raw image:\")\n",
    "    i = 0\n",
    "    for stroke in ndjson_data[int(index)]['drawing']:\n",
    "        stroke = np.array(stroke)\n",
    "        plt.plot(stroke[0], stroke[1]*-1)\n",
    "        i += 1\n",
    "    print('There are', i, 'number of strokes in this raw image file!')"
   ]
  },
  {
   "cell_type": "code",
   "execution_count": 33,
   "metadata": {},
   "outputs": [
    {
     "name": "stdout",
     "output_type": "stream",
     "text": [
      "There are  123203  images in selected category cat\n",
      "Select an index value from 0 to 123202 to display and compare bitmap and raw images:\n",
      "Bitmap image:\n"
     ]
    },
    {
     "data": {
      "image/png": "[encoded data removed]",
      "text/plain": [
       "<Figure size 432x288 with 1 Axes>"
      ]
     },
     "metadata": {
      "needs_background": "light"
     },
     "output_type": "display_data"
    },
    {
     "name": "stdout",
     "output_type": "stream",
     "text": [
      "Raw image:\n",
      "There are 10 number of strokes in this raw image file!\n"
     ]
    },
    {
     "data": {
      "image/png": "[encoded data removed]",
      "text/plain": [
       "<Figure size 432x288 with 1 Axes>"
      ]
     },
     "metadata": {
      "needs_background": "light"
     },
     "output_type": "display_data"
    }
   ],
   "source": [
    "print('There are ', len(npy_data)+1, ' images in selected category', categories[category])\n",
    "print(\"Select an index value from 0 to\", len(npy_data), \"to display and compare bitmap and raw images:\")\n",
    "#index=input()\n",
    "index = '1'\n",
    "plot_bitmap()\n",
    "plt.show()\n",
    "plot_raw()"
   ]
  },
  {
   "cell_type": "code",
   "execution_count": 21,
   "metadata": {},
   "outputs": [],
   "source": [
    "# TRAIN TEST SPLIT\n",
    "filepath = paths_dict['input_path']\n",
    "x_train, x_test, y_train, y_test = split_data(filepath, categories[category], shuffle=False)"
   ]
  },
  {
   "cell_type": "code",
   "execution_count": 22,
   "metadata": {},
   "outputs": [
    {
     "data": {
      "text/plain": [
       "DRAW(\n",
       "  (encoder): LSTMCell(306, 256)\n",
       "  (mu_linear): Linear(in_features=256, out_features=10, bias=True)\n",
       "  (sigma_linear): Linear(in_features=256, out_features=10, bias=True)\n",
       "  (decoder): LSTMCell(10, 256)\n",
       "  (dec_linear): Linear(in_features=256, out_features=5, bias=True)\n",
       "  (dec_w_linear): Linear(in_features=256, out_features=25, bias=True)\n",
       "  (sigmoid): Sigmoid()\n",
       ")"
      ]
     },
     "execution_count": 22,
     "metadata": {},
     "output_type": "execute_result"
    }
   ],
   "source": [
    "DRAW(model_path, category)"
   ]
  },
  {
   "cell_type": "code",
   "execution_count": 23,
   "metadata": {},
   "outputs": [],
   "source": [
    "train_data = Dataset(x_train)\n",
    "test_data = Dataset(x_test)"
   ]
  },
  {
   "cell_type": "code",
   "execution_count": 24,
   "metadata": {},
   "outputs": [],
   "source": [
    "model = DRAW(category)"
   ]
  },
  {
   "cell_type": "code",
   "execution_count": null,
   "metadata": {},
   "outputs": [],
   "source": [
    "# TRAINING AND TESTING\n",
    "print(\"training...\")\n",
    "model.start(phase='train') "
   ]
  },
  {
   "cell_type": "markdown",
   "metadata": {},
   "source": [
    "## Generating Images"
   ]
  },
  {
   "cell_type": "code",
   "execution_count": 34,
   "metadata": {},
   "outputs": [],
   "source": [
    "category = 'cat'"
   ]
  },
  {
   "cell_type": "code",
   "execution_count": 35,
   "metadata": {},
   "outputs": [],
   "source": [
    "test_model = Test(category)"
   ]
  },
  {
   "cell_type": "code",
   "execution_count": 36,
   "metadata": {},
   "outputs": [],
   "source": [
    "dataloader = test_model.dataloaders['train']"
   ]
  },
  {
   "cell_type": "code",
   "execution_count": 37,
   "metadata": {},
   "outputs": [],
   "source": [
    "data = dataloader.next_batch(test_model.batch_size)"
   ]
  },
  {
   "cell_type": "code",
   "execution_count": 38,
   "metadata": {},
   "outputs": [
    {
     "data": {
      "text/plain": [
       "(64, 784)"
      ]
     },
     "execution_count": 38,
     "metadata": {},
     "output_type": "execute_result"
    }
   ],
   "source": [
    "data.shape"
   ]
  },
  {
   "cell_type": "code",
   "execution_count": 39,
   "metadata": {},
   "outputs": [
    {
     "data": {
      "text/plain": [
       "<matplotlib.image.AxesImage at 0x1da3d0bfcc8>"
      ]
     },
     "execution_count": 39,
     "metadata": {},
     "output_type": "execute_result"
    },
    {
     "data": {
      "image/png": "[encoded data removed]",
      "text/plain": [
       "<Figure size 432x288 with 1 Axes>"
      ]
     },
     "metadata": {
      "needs_background": "light"
     },
     "output_type": "display_data"
    }
   ],
   "source": [
    "plt.imshow(npy_data[int(index)].reshape(28,28))"
   ]
  },
  {
   "cell_type": "code",
   "execution_count": 40,
   "metadata": {},
   "outputs": [
    {
     "name": "stdout",
     "output_type": "stream",
     "text": [
      "reconstructing images...\n",
      "C:\\Users\\ozgur\\Desktop\\sandbox\\sliver-maestro\\src\\data\\output\\images\\cat\\cat_test_0.png\n",
      "C:\\Users\\ozgur\\Desktop\\sandbox\\sliver-maestro\\src\\data\\output\\images\\cat\\cat_test_1.png\n",
      "C:\\Users\\ozgur\\Desktop\\sandbox\\sliver-maestro\\src\\data\\output\\images\\cat\\cat_test_2.png\n",
      "C:\\Users\\ozgur\\Desktop\\sandbox\\sliver-maestro\\src\\data\\output\\images\\cat\\cat_test_3.png\n",
      "C:\\Users\\ozgur\\Desktop\\sandbox\\sliver-maestro\\src\\data\\output\\images\\cat\\cat_test_4.png\n",
      "C:\\Users\\ozgur\\Desktop\\sandbox\\sliver-maestro\\src\\data\\output\\images\\cat\\cat_test_5.png\n",
      "C:\\Users\\ozgur\\Desktop\\sandbox\\sliver-maestro\\src\\data\\output\\images\\cat\\cat_test_6.png\n",
      "C:\\Users\\ozgur\\Desktop\\sandbox\\sliver-maestro\\src\\data\\output\\images\\cat\\cat_test_7.png\n",
      "C:\\Users\\ozgur\\Desktop\\sandbox\\sliver-maestro\\src\\data\\output\\images\\cat\\cat_test_8.png\n",
      "C:\\Users\\ozgur\\Desktop\\sandbox\\sliver-maestro\\src\\data\\output\\images\\cat\\cat_test_9.png\n"
     ]
    },
    {
     "data": {
      "text/plain": [
       "array([[5.00000000e-01, 5.00000000e-01, 5.00000000e-01, 5.00000000e-01,\n",
       "        5.00000000e-01, 5.00000000e-01, 5.00000000e-01, 5.00000000e-01,\n",
       "        5.00000000e-01, 5.00000000e-01, 5.00000000e-01, 5.00000000e-01,\n",
       "        5.00000000e-01, 5.00000000e-01, 5.00000000e-01, 5.00000000e-01,\n",
       "        5.00000000e-01, 5.00000000e-01, 5.00000000e-01, 5.00000000e-01,\n",
       "        5.00000000e-01, 5.00000000e-01, 5.00000000e-01, 5.00000000e-01,\n",
       "        5.00000000e-01, 5.00000000e-01, 5.00000000e-01, 5.00000000e-01,\n",
       "        5.00000000e-01, 5.00000000e-01],\n",
       "       [5.00000000e-01, 0.00000000e+00, 0.00000000e+00, 0.00000000e+00,\n",
       "        0.00000000e+00, 0.00000000e+00, 0.00000000e+00, 0.00000000e+00,\n",
       "        0.00000000e+00, 0.00000000e+00, 0.00000000e+00, 0.00000000e+00,\n",
       "        0.00000000e+00, 0.00000000e+00, 0.00000000e+00, 0.00000000e+00,\n",
       "        0.00000000e+00, 0.00000000e+00, 0.00000000e+00, 1.97320774e-38,\n",
       "        5.01339469e-39, 0.00000000e+00, 0.00000000e+00, 0.00000000e+00,\n",
       "        0.00000000e+00, 0.00000000e+00, 0.00000000e+00, 0.00000000e+00,\n",
       "        0.00000000e+00, 5.00000000e-01],\n",
       "       [5.00000000e-01, 0.00000000e+00, 0.00000000e+00, 0.00000000e+00,\n",
       "        0.00000000e+00, 2.41921651e-34, 8.76859353e-31, 8.09566097e-29,\n",
       "        7.83788198e-28, 1.94738288e-27, 2.17199850e-27, 1.62011904e-27,\n",
       "        1.20264368e-27, 1.39707228e-27, 3.82756736e-27, 2.93036989e-26,\n",
       "        4.99561847e-25, 1.03074002e-23, 1.16548961e-22, 3.60976263e-22,\n",
       "        2.11613667e-22, 2.43826935e-23, 8.07131663e-25, 1.33195266e-26,\n",
       "        1.81020852e-28, 2.53269304e-30, 2.79122515e-32, 9.41865480e-35,\n",
       "        1.61237857e-38, 5.00000000e-01],\n",
       "       [5.00000000e-01, 0.00000000e+00, 0.00000000e+00, 1.34376828e-32,\n",
       "        4.44090541e-26, 3.44720705e-22, 7.47602283e-20, 1.85140040e-18,\n",
       "        1.27906210e-17, 4.28834616e-17, 9.19778453e-17, 1.41829619e-16,\n",
       "        1.76728779e-16, 2.21634575e-16, 3.75930269e-16, 1.06649421e-15,\n",
       "        4.83452440e-15, 2.52362862e-14, 9.66450430e-14, 1.89412816e-13,\n",
       "        1.66207244e-13, 7.24185929e-14, 2.02168316e-14, 4.78606311e-15,\n",
       "        1.14517256e-15, 2.60855628e-16, 3.68393257e-17, 1.27107478e-18,\n",
       "        2.23136413e-21, 5.00000000e-01],\n",
       "       [5.00000000e-01, 0.00000000e+00, 9.34880061e-31, 2.70622741e-23,\n",
       "        6.72269329e-19, 3.47868358e-16, 1.78788309e-14, 2.22522752e-13,\n",
       "        1.27882134e-12, 5.15488910e-12, 1.67451886e-11, 4.28485164e-11,\n",
       "        8.38656436e-11, 1.32950900e-10, 2.09442588e-10, 4.21795654e-10,\n",
       "        1.14843735e-09, 3.41325412e-09, 8.20407209e-09, 1.32767326e-08,\n",
       "        1.44999879e-08, 1.23259705e-08, 9.75434666e-09, 8.08279754e-09,\n",
       "        6.97902003e-09, 5.22774224e-09, 2.17967955e-09, 2.24885582e-10,\n",
       "        1.56810047e-12, 5.00000000e-01],\n",
       "       [5.00000000e-01, 4.39213289e-33, 9.28730440e-24, 1.43475036e-18,\n",
       "        1.75920379e-15, 1.56353310e-13, 2.70012766e-12, 1.72774971e-11,\n",
       "        7.92477611e-11, 3.85916632e-10, 1.86210769e-09, 7.43398987e-09,\n",
       "        2.24917134e-08, 4.83538969e-08, 8.58757048e-08, 1.85706924e-07,\n",
       "        5.70859868e-07, 1.90992318e-06, 4.97367000e-06, 8.89469356e-06,\n",
       "        1.18189482e-05, 1.40731272e-05, 1.77945312e-05, 2.51183810e-05,\n",
       "        3.62006067e-05, 4.23647762e-05, 2.66151528e-05, 4.53042003e-06,\n",
       "        7.22492501e-08, 5.00000000e-01],\n",
       "       [5.00000000e-01, 1.40079248e-26, 8.05316032e-20, 3.57263515e-16,\n",
       "        4.36353427e-14, 7.11478077e-13, 2.87957180e-12, 5.73579639e-12,\n",
       "        1.60117475e-11, 9.99512487e-11, 8.16582024e-10, 5.34210765e-09,\n",
       "        2.60989559e-08, 8.05769602e-08, 1.81166101e-07, 6.08665459e-07,\n",
       "        4.12746340e-06, 3.28515525e-05, 1.68783547e-04, 4.74978791e-04,\n",
       "        8.34469392e-04, 1.18987483e-03, 1.75169355e-03, 2.86696502e-03,\n",
       "        4.71744454e-03, 6.16679108e-03, 4.35623527e-03, 9.13913711e-04,\n",
       "        2.32156435e-05, 5.00000000e-01],\n",
       "       [5.00000000e-01, 2.06213087e-22, 2.28068799e-17, 7.25288648e-15,\n",
       "        1.15976266e-13, 2.96791346e-13, 1.81124457e-13, 6.84818142e-14,\n",
       "        8.97315466e-14, 7.31094981e-13, 1.07776999e-11, 1.14721295e-10,\n",
       "        8.96321739e-10, 3.96122646e-09, 1.17655619e-08, 7.98820778e-08,\n",
       "        2.02504680e-06, 6.94947303e-05, 1.11598335e-03, 6.38578460e-03,\n",
       "        1.57821830e-02, 2.46030223e-02, 3.49442773e-02, 5.30029014e-02,\n",
       "        8.06811079e-02, 9.99838412e-02, 7.16020092e-02, 1.64783876e-02,\n",
       "        5.15614753e-04, 5.00000000e-01],\n",
       "       [5.00000000e-01, 2.08192610e-19, 1.70175177e-15, 8.22132957e-14,\n",
       "        2.69115974e-13, 1.53276832e-13, 2.11017202e-14, 2.33784122e-15,\n",
       "        1.82290172e-15, 1.76593173e-14, 3.60125178e-13, 4.80429845e-12,\n",
       "        4.79865037e-11, 2.60247157e-10, 9.34125333e-10, 1.12145786e-08,\n",
       "        8.61198373e-07, 1.04258259e-04, 4.48344462e-03, 4.46311645e-02,\n",
       "        1.29899979e-01, 1.91909894e-01, 2.33559161e-01, 2.90194839e-01,\n",
       "        3.62837970e-01, 3.96541685e-01, 2.94572175e-01, 7.70041943e-02,\n",
       "        2.49763043e-03, 5.00000000e-01],\n",
       "       [5.00000000e-01, 6.57672048e-17, 1.16014308e-13, 1.94787329e-12,\n",
       "        2.94196655e-12, 1.03407560e-12, 1.26663220e-13, 1.70999096e-14,\n",
       "        1.70660876e-14, 1.73401075e-13, 3.08880525e-12, 3.48480897e-11,\n",
       "        3.13694737e-10, 1.69543612e-09, 6.25814867e-09, 7.01991496e-08,\n",
       "        4.73011778e-06, 5.42773865e-04, 2.35775169e-02, 2.02837899e-01,\n",
       "        4.39440042e-01, 5.35603225e-01, 5.72097719e-01, 6.18570805e-01,\n",
       "        6.73337460e-01, 6.81775630e-01, 5.40653110e-01, 1.62999570e-01,\n",
       "        4.78100684e-03, 5.00000000e-01],\n",
       "       [5.00000000e-01, 1.38559869e-14, 1.20713491e-11, 1.50902749e-10,\n",
       "        2.39720716e-10, 1.41279252e-10, 5.22242527e-11, 2.76772199e-11,\n",
       "        6.51465409e-11, 6.79299728e-10, 8.58928750e-09, 6.82387196e-08,\n",
       "        4.48277405e-07, 2.19119966e-06, 7.45212446e-06, 3.78833975e-05,\n",
       "        5.12323575e-04, 1.11741889e-02, 1.40653968e-01, 4.82464254e-01,\n",
       "        6.80495143e-01, 7.37393677e-01, 7.63763607e-01, 8.00830483e-01,\n",
       "        8.34865034e-01, 8.26643348e-01, 6.83144987e-01, 2.14171290e-01,\n",
       "        4.94178245e-03, 5.00000000e-01],\n",
       "       [5.00000000e-01, 2.38882937e-12, 1.67779757e-09, 2.40864022e-08,\n",
       "        5.92439804e-08, 7.87030388e-08, 1.02217108e-07, 2.13464602e-07,\n",
       "        1.12078521e-06, 1.20328978e-05, 1.14726528e-04, 6.43016072e-04,\n",
       "        2.79614981e-03, 1.09161008e-02, 2.96504311e-02, 5.21323234e-02,\n",
       "        8.78964290e-02, 1.95903584e-01, 4.35280174e-01, 6.59839988e-01,\n",
       "        7.57929564e-01, 7.94302583e-01, 8.28837991e-01, 8.71017992e-01,\n",
       "        8.97510827e-01, 8.81178498e-01, 7.26876795e-01, 1.98840782e-01,\n",
       "        3.24981357e-03, 5.00000000e-01],\n",
       "       [5.00000000e-01, 3.02796205e-10, 1.97946207e-07, 3.42312478e-06,\n",
       "        1.19130982e-05, 2.60293418e-05, 6.55029799e-05, 2.61771434e-04,\n",
       "        1.81557122e-03, 1.58680864e-02, 9.18610692e-02, 2.53028065e-01,\n",
       "        4.47461158e-01, 6.55201137e-01, 7.73275852e-01, 7.51571894e-01,\n",
       "        6.26836419e-01, 5.47747016e-01, 6.01327002e-01, 7.00364172e-01,\n",
       "        7.63391256e-01, 8.02496850e-01, 8.47801089e-01, 8.92130435e-01,\n",
       "        9.11667585e-01, 8.81784201e-01, 6.77117527e-01, 1.29264012e-01,\n",
       "        1.49922515e-03, 5.00000000e-01],\n",
       "       [5.00000000e-01, 2.37519053e-08, 1.34118636e-05, 2.37899148e-04,\n",
       "        8.88016366e-04, 2.07306864e-03, 5.53430105e-03, 2.14456394e-02,\n",
       "        1.03469156e-01, 3.49923730e-01, 5.86933553e-01, 6.69416785e-01,\n",
       "        6.91557586e-01, 7.17066407e-01, 7.22736776e-01, 6.64367139e-01,\n",
       "        5.54511905e-01, 4.90811467e-01, 5.39287150e-01, 6.53512418e-01,\n",
       "        7.46324480e-01, 8.03134799e-01, 8.47420096e-01, 8.79958212e-01,\n",
       "        8.82778883e-01, 8.12888920e-01, 4.95915025e-01, 5.51345162e-02,\n",
       "        5.25511161e-04, 5.00000000e-01],\n",
       "       [5.00000000e-01, 1.03642355e-06, 4.40580014e-04, 6.73178351e-03,\n",
       "        2.14595199e-02, 4.03205045e-02, 7.98480436e-02, 1.91627160e-01,\n",
       "        4.05760556e-01, 5.56630373e-01, 5.26413560e-01, 3.90936881e-01,\n",
       "        2.78823256e-01, 2.06438214e-01, 1.58688203e-01, 1.51283368e-01,\n",
       "        1.87176391e-01, 2.60826319e-01, 3.91413331e-01, 5.75694561e-01,\n",
       "        7.20937014e-01, 7.88458467e-01, 8.09939027e-01, 8.03017080e-01,\n",
       "        7.49179423e-01, 5.72516978e-01, 2.10172832e-01, 1.52782286e-02,\n",
       "        1.51550616e-04, 5.00000000e-01],\n",
       "       [5.00000000e-01, 2.41859143e-05, 6.87458739e-03, 7.73147121e-02,\n",
       "        1.76383540e-01, 2.33554319e-01, 3.02179903e-01, 4.25524414e-01,\n",
       "        5.39353430e-01, 5.13807178e-01, 3.26069385e-01, 1.56916529e-01,\n",
       "        8.80708322e-02, 5.78188226e-02, 4.35061119e-02, 5.28524183e-02,\n",
       "        1.03437856e-01, 2.10904896e-01, 3.70158404e-01, 5.54212272e-01,\n",
       "        6.79216266e-01, 7.07936466e-01, 6.57746434e-01, 5.42768121e-01,\n",
       "        3.74022603e-01, 1.79898709e-01, 4.19210233e-02, 3.00429459e-03,\n",
       "        3.87237596e-05, 5.00000000e-01],\n",
       "       [5.00000000e-01, 2.98107072e-04, 5.09106033e-02, 3.30752164e-01,\n",
       "        4.97033656e-01, 5.11496603e-01, 5.08671761e-01, 5.42185545e-01,\n",
       "        5.68822801e-01, 5.07581413e-01, 3.51767808e-01, 2.16295108e-01,\n",
       "        1.52944669e-01, 1.23224564e-01, 1.13400646e-01, 1.46580175e-01,\n",
       "        2.53061980e-01, 4.12085742e-01, 5.44598162e-01, 6.09038889e-01,\n",
       "        5.88773966e-01, 4.77018446e-01, 3.05739969e-01, 1.52615726e-01,\n",
       "        6.34579882e-02, 2.21858881e-02, 5.14711905e-03, 4.82679694e-04,\n",
       "        9.18144997e-06, 5.00000000e-01],\n",
       "       [5.00000000e-01, 1.93711882e-03, 1.76250502e-01, 6.00649536e-01,\n",
       "        7.08519042e-01, 6.70125306e-01, 6.02954686e-01, 5.71811318e-01,\n",
       "        5.76916814e-01, 5.85350394e-01, 5.80964684e-01, 5.61030805e-01,\n",
       "        5.24808228e-01, 4.92080301e-01, 4.95860100e-01, 5.52148640e-01,\n",
       "        6.48121953e-01, 7.33579159e-01, 7.51661599e-01, 6.59020424e-01,\n",
       "        4.27105218e-01, 1.83354288e-01, 6.14799224e-02, 1.92178134e-02,\n",
       "        6.13744976e-03, 2.04224000e-03, 5.59800828e-04, 7.21754914e-05,\n",
       "        1.98361499e-06, 5.00000000e-01],\n",
       "       [5.00000000e-01, 6.73002983e-03, 3.17656636e-01, 7.18528986e-01,\n",
       "        7.77841449e-01, 7.14275241e-01, 6.11200809e-01, 5.46087623e-01,\n",
       "        5.56059420e-01, 6.34571135e-01, 7.35364437e-01, 7.90221334e-01,\n",
       "        7.80366242e-01, 7.43528664e-01, 7.34665692e-01, 7.61400461e-01,\n",
       "        8.06588709e-01, 8.42718959e-01, 8.19023252e-01, 6.38497174e-01,\n",
       "        2.63384759e-01, 5.58521263e-02, 1.10470019e-02, 2.51223892e-03,\n",
       "        6.73490867e-04, 2.16927190e-04, 6.66021006e-05, 1.04941355e-05,\n",
       "        3.48312028e-07, 5.00000000e-01],\n",
       "       [5.00000000e-01, 1.28832227e-02, 3.71757239e-01, 7.22554028e-01,\n",
       "        7.59691536e-01, 6.75043106e-01, 5.49400330e-01, 4.71753627e-01,\n",
       "        4.83648121e-01, 5.76441407e-01, 6.91240489e-01, 7.46262550e-01,\n",
       "        7.17332482e-01, 6.44360244e-01, 6.07541621e-01, 6.44726157e-01,\n",
       "        7.32450128e-01, 8.01853895e-01, 7.78559148e-01, 5.53728044e-01,\n",
       "        1.69122607e-01, 2.40894649e-02, 3.17901233e-03, 4.98369569e-04,\n",
       "        1.02348153e-04, 2.89697273e-05, 8.67032304e-06, 1.35535981e-06,\n",
       "        4.07618153e-08, 5.00000000e-01],\n",
       "       [5.00000000e-01, 1.38149960e-02, 3.15582663e-01, 6.26784801e-01,\n",
       "        6.48372293e-01, 5.38564682e-01, 4.08396542e-01, 3.42399567e-01,\n",
       "        3.51343662e-01, 4.05923367e-01, 4.57464248e-01, 4.58998263e-01,\n",
       "        3.96463782e-01, 3.10119539e-01, 2.69980133e-01, 3.25258881e-01,\n",
       "        4.89415437e-01, 6.48166776e-01, 6.50070488e-01, 4.18470174e-01,\n",
       "        1.10004894e-01, 1.31690754e-02, 1.22732029e-03, 1.24442915e-04,\n",
       "        1.79838789e-05, 4.09766017e-06, 1.04546609e-06, 1.30532356e-07,\n",
       "        2.59536947e-09, 5.00000000e-01],\n",
       "       [5.00000000e-01, 7.70798652e-03, 1.75382957e-01, 4.01981771e-01,\n",
       "        4.03716624e-01, 2.94683605e-01, 2.02476099e-01, 1.66979358e-01,\n",
       "        1.70988530e-01, 1.81848750e-01, 1.71216190e-01, 1.43522561e-01,\n",
       "        1.13774456e-01, 8.68260488e-02, 7.56253153e-02, 1.03193849e-01,\n",
       "        2.08598986e-01, 3.60682696e-01, 3.72207731e-01, 1.95500731e-01,\n",
       "        4.34689485e-02, 4.79415897e-03, 3.54739575e-04, 2.55353243e-05,\n",
       "        2.71972340e-06, 4.91210358e-07, 9.74988623e-08, 8.13985501e-09,\n",
       "        8.13039705e-11, 5.00000000e-01],\n",
       "       [5.00000000e-01, 1.67898391e-03, 4.37783077e-02, 1.20282024e-01,\n",
       "        1.15463726e-01, 7.25955814e-02, 4.49105203e-02, 3.50123383e-02,\n",
       "        3.36755179e-02, 3.19269486e-02, 2.57537495e-02, 1.96008533e-02,\n",
       "        1.58926416e-02, 1.30250985e-02, 1.16678756e-02, 1.55390156e-02,\n",
       "        3.10374200e-02, 5.55007383e-02, 5.23651540e-02, 2.23971084e-02,\n",
       "        4.83876932e-03, 5.87301096e-04, 4.45958067e-05, 2.97759971e-06,\n",
       "        2.78792641e-07, 4.20323971e-08, 6.19466078e-09, 3.08413989e-10,\n",
       "        1.29553540e-12, 5.00000000e-01],\n",
       "       [5.00000000e-01, 7.23380363e-05, 2.42983550e-03, 7.79534178e-03,\n",
       "        7.51275662e-03, 4.36612638e-03, 2.40227813e-03, 1.57041231e-03,\n",
       "        1.19790761e-03, 9.03136504e-04, 6.20450126e-04, 4.32597037e-04,\n",
       "        3.30301642e-04, 2.55343388e-04, 2.11934457e-04, 2.46304466e-04,\n",
       "        4.05580562e-04, 6.11880096e-04, 5.36856358e-04, 2.51336984e-04,\n",
       "        7.16583963e-05, 1.27835719e-05, 1.41758744e-06, 1.24826698e-07,\n",
       "        1.31461020e-08, 1.85498961e-09, 2.09083362e-10, 6.20530623e-12,\n",
       "        1.08983435e-14, 5.00000000e-01],\n",
       "       [5.00000000e-01, 1.59557445e-07, 8.74064244e-06, 3.74192132e-05,\n",
       "        4.06645886e-05, 2.29047782e-05, 1.04529036e-05, 4.81502775e-06,\n",
       "        2.29506531e-06, 1.07349399e-06, 4.98357508e-07, 2.47229679e-07,\n",
       "        1.30468024e-07, 7.00659228e-08, 4.53065176e-08, 4.81049724e-08,\n",
       "        8.28615043e-08, 1.45863993e-07, 1.66692516e-07, 1.16209328e-07,\n",
       "        5.74709880e-08, 2.02280024e-08, 4.58007943e-09, 7.38056727e-10,\n",
       "        1.13624186e-10, 1.81380813e-11, 1.83591250e-12, 3.92731027e-14,\n",
       "        3.77569932e-17, 5.00000000e-01],\n",
       "       [5.00000000e-01, 1.58391182e-12, 2.12584242e-10, 1.76047110e-09,\n",
       "        2.79310042e-09, 1.70486936e-09, 6.26772634e-10, 1.77288420e-10,\n",
       "        4.25979391e-11, 9.33582985e-12, 2.06329008e-12, 4.81161389e-13,\n",
       "        1.12706041e-13, 2.87258010e-14, 1.22662924e-14, 1.42941875e-14,\n",
       "        4.26640636e-14, 1.64552793e-13, 4.23035793e-13, 6.42612482e-13,\n",
       "        7.12923427e-13, 6.08710402e-13, 3.42251076e-13, 1.22473619e-13,\n",
       "        3.35350881e-14, 7.54454194e-15, 9.14789124e-16, 2.15899086e-17,\n",
       "        2.18459515e-20, 5.00000000e-01],\n",
       "       [5.00000000e-01, 1.21355575e-21, 8.28019632e-19, 2.84957964e-17,\n",
       "        1.23352574e-16, 1.23466500e-16, 4.48464307e-17, 8.11874545e-18,\n",
       "        9.15217032e-19, 7.85833150e-20, 6.05821547e-21, 4.32361763e-22,\n",
       "        2.84408685e-23, 2.43652943e-24, 6.34947536e-25, 1.07691416e-24,\n",
       "        1.00881986e-23, 1.74819945e-22, 1.89669102e-21, 9.49284749e-21,\n",
       "        2.84618599e-20, 6.00035136e-20, 7.79334159e-20, 5.68557101e-20,\n",
       "        2.69208418e-20, 9.43094627e-21, 1.87523036e-21, 9.31398983e-23,\n",
       "        3.08479866e-25, 5.00000000e-01],\n",
       "       [5.00000000e-01, 1.12232505e-37, 1.53163038e-33, 9.84699299e-31,\n",
       "        4.36901421e-29, 1.95739170e-28, 1.35832529e-28, 2.26779078e-29,\n",
       "        1.38597075e-30, 4.48000939e-32, 9.64220088e-34, 1.46945116e-35,\n",
       "        1.89457122e-37, 4.52922365e-39, 0.00000000e+00, 2.98355641e-39,\n",
       "        1.67358690e-37, 2.73772462e-35, 2.43643465e-33, 6.09455030e-32,\n",
       "        5.29627208e-31, 2.12152731e-30, 3.91646167e-30, 3.32730842e-30,\n",
       "        1.68697000e-30, 7.24455946e-31, 2.82625165e-31, 6.64181874e-32,\n",
       "        3.96593317e-33, 5.00000000e-01],\n",
       "       [5.00000000e-01, 0.00000000e+00, 0.00000000e+00, 0.00000000e+00,\n",
       "        0.00000000e+00, 0.00000000e+00, 0.00000000e+00, 0.00000000e+00,\n",
       "        0.00000000e+00, 0.00000000e+00, 0.00000000e+00, 0.00000000e+00,\n",
       "        0.00000000e+00, 0.00000000e+00, 0.00000000e+00, 0.00000000e+00,\n",
       "        0.00000000e+00, 0.00000000e+00, 0.00000000e+00, 0.00000000e+00,\n",
       "        0.00000000e+00, 0.00000000e+00, 0.00000000e+00, 0.00000000e+00,\n",
       "        0.00000000e+00, 0.00000000e+00, 0.00000000e+00, 0.00000000e+00,\n",
       "        0.00000000e+00, 5.00000000e-01],\n",
       "       [5.00000000e-01, 5.00000000e-01, 5.00000000e-01, 5.00000000e-01,\n",
       "        5.00000000e-01, 5.00000000e-01, 5.00000000e-01, 5.00000000e-01,\n",
       "        5.00000000e-01, 5.00000000e-01, 5.00000000e-01, 5.00000000e-01,\n",
       "        5.00000000e-01, 5.00000000e-01, 5.00000000e-01, 5.00000000e-01,\n",
       "        5.00000000e-01, 5.00000000e-01, 5.00000000e-01, 5.00000000e-01,\n",
       "        5.00000000e-01, 5.00000000e-01, 5.00000000e-01, 5.00000000e-01,\n",
       "        5.00000000e-01, 5.00000000e-01, 5.00000000e-01, 5.00000000e-01,\n",
       "        5.00000000e-01, 5.00000000e-01]])"
      ]
     },
     "execution_count": 40,
     "metadata": {},
     "output_type": "execute_result"
    },
    {
     "data": {
      "image/png": "[encoded data removed]",
      "text/plain": [
       "<Figure size 288x288 with 1 Axes>"
      ]
     },
     "metadata": {
      "needs_background": "light"
     },
     "output_type": "display_data"
    },
    {
     "data": {
      "image/png": "[encoded data removed]",
      "text/plain": [
       "<Figure size 288x288 with 1 Axes>"
      ]
     },
     "metadata": {
      "needs_background": "light"
     },
     "output_type": "display_data"
    },
    {
     "data": {
      "image/png": "[encoded data removed]",
      "text/plain": [
       "<Figure size 288x288 with 1 Axes>"
      ]
     },
     "metadata": {
      "needs_background": "light"
     },
     "output_type": "display_data"
    },
    {
     "data": {
      "image/png": "[encoded data removed]",
      "text/plain": [
       "<Figure size 288x288 with 1 Axes>"
      ]
     },
     "metadata": {
      "needs_background": "light"
     },
     "output_type": "display_data"
    },
    {
     "data": {
      "image/png": "[encoded data removed]",
      "text/plain": [
       "<Figure size 288x288 with 1 Axes>"
      ]
     },
     "metadata": {
      "needs_background": "light"
     },
     "output_type": "display_data"
    },
    {
     "data": {
      "image/png": "[encoded data removed]",
      "text/plain": [
       "<Figure size 288x288 with 1 Axes>"
      ]
     },
     "metadata": {
      "needs_background": "light"
     },
     "output_type": "display_data"
    },
    {
     "data": {
      "image/png": "[encoded data removed]",
      "text/plain": [
       "<Figure size 288x288 with 1 Axes>"
      ]
     },
     "metadata": {
      "needs_background": "light"
     },
     "output_type": "display_data"
    },
    {
     "data": {
      "image/png": "[encoded data removed]",
      "text/plain": [
       "<Figure size 288x288 with 1 Axes>"
      ]
     },
     "metadata": {
      "needs_background": "light"
     },
     "output_type": "display_data"
    },
    {
     "data": {
      "image/png": "[encoded data removed]",
      "text/plain": [
       "<Figure size 288x288 with 1 Axes>"
      ]
     },
     "metadata": {
      "needs_background": "light"
     },
     "output_type": "display_data"
    },
    {
     "data": {
      "image/png": "[encoded data removed]",
      "text/plain": [
       "<Figure size 288x288 with 1 Axes>"
      ]
     },
     "metadata": {
      "needs_background": "light"
     },
     "output_type": "display_data"
    }
   ],
   "source": [
    "print(\"reconstructing images...\")\n",
    "test_model.xrecons_grid(int(index), data)"
   ]
  },
  {
   "cell_type": "code",
   "execution_count": null,
   "metadata": {},
   "outputs": [],
   "source": []
  },
  {
   "cell_type": "code",
   "execution_count": null,
   "metadata": {},
   "outputs": [],
   "source": []
  }
 ],
 "metadata": {
  "kernelspec": {
   "display_name": "Python 3",
   "language": "python",
   "name": "python3"
  },
  "language_info": {
   "codemirror_mode": {
    "name": "ipython",
    "version": 3
   },
   "file_extension": ".py",
   "mimetype": "text/x-python",
   "name": "python",
   "nbconvert_exporter": "python",
   "pygments_lexer": "ipython3",
   "version": "3.7.7"
  }
 },
 "nbformat": 4,
 "nbformat_minor": 4
}
