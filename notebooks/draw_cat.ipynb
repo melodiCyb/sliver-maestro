{
 "cells": [
  {
   "cell_type": "code",
   "execution_count": 1,
   "metadata": {},
   "outputs": [],
   "source": [
    "import csv\n",
    "import ndjson\n",
    "import os\n",
    "import sys"
   ]
  },
  {
   "cell_type": "code",
   "execution_count": 2,
   "metadata": {},
   "outputs": [
    {
     "name": "stdout",
     "output_type": "stream",
     "text": [
      "root_path: /Users/melodi/sliver-maestro\n"
     ]
    }
   ],
   "source": [
    "base_path = os.getcwd().split('sliver-maestro')[0]\n",
    "root_path = os.path.join(base_path, \"sliver-maestro\")\n",
    "print(\"root_path: {}\".format(root_path))"
   ]
  },
  {
   "cell_type": "code",
   "execution_count": 3,
   "metadata": {},
   "outputs": [],
   "source": [
    "sys.path.insert(1, root_path)\n",
    "from src.utils.model_utils import *\n",
    "from src.draw_model import *\n",
    "from src.generate_images import *"
   ]
  },
  {
   "cell_type": "code",
   "execution_count": 4,
   "metadata": {},
   "outputs": [],
   "source": [
    "categories_file = os.path.join(root_path, \"src\", \"data\", \"categories.csv\")"
   ]
  },
  {
   "cell_type": "code",
   "execution_count": 5,
   "metadata": {},
   "outputs": [],
   "source": [
    "with open(categories_file, newline='') as f:\n",
    "    reader = csv.reader(f)\n",
    "    categories = {rows[0]:rows[0] for rows in reader}"
   ]
  },
  {
   "cell_type": "markdown",
   "metadata": {},
   "source": [
    "#### Select a category to download images from "
   ]
  },
  {
   "cell_type": "code",
   "execution_count": 6,
   "metadata": {},
   "outputs": [
    {
     "name": "stdout",
     "output_type": "stream",
     "text": [
      "Number of categories: 345\n"
     ]
    }
   ],
   "source": [
    "print('Number of categories: %d' % len(categories))"
   ]
  },
  {
   "cell_type": "code",
   "execution_count": 7,
   "metadata": {},
   "outputs": [
    {
     "data": {
      "text/plain": [
       "['aircraft carrier',\n",
       " 'airplane',\n",
       " 'alarm clock',\n",
       " 'ambulance',\n",
       " 'angel',\n",
       " 'animal migration',\n",
       " 'ant',\n",
       " 'anvil',\n",
       " 'apple',\n",
       " 'arm']"
      ]
     },
     "execution_count": 7,
     "metadata": {},
     "output_type": "execute_result"
    }
   ],
   "source": [
    "list(categories.keys())[:10]"
   ]
  },
  {
   "cell_type": "code",
   "execution_count": 8,
   "metadata": {},
   "outputs": [
    {
     "name": "stdout",
     "output_type": "stream",
     "text": [
      "Selected category from the list above: cat\n"
     ]
    }
   ],
   "source": [
    "category = input(\"Selected category from the list above: \") or 'cat'\n",
    "# Checking to see if the entered category is in the categories dictionary\n",
    "assert categories.get(category)"
   ]
  },
  {
   "cell_type": "code",
   "execution_count": 9,
   "metadata": {},
   "outputs": [
    {
     "name": "stdout",
     "output_type": "stream",
     "text": [
      "Creating directories to save images, weights and the model ...\n",
      "folders are created...\n"
     ]
    }
   ],
   "source": [
    "print(\"Creating directories to save images, weights and the model ...\")\n",
    "src_list, dst_list, paths_dict = create_folders(root_path, category)"
   ]
  },
  {
   "cell_type": "code",
   "execution_count": 43,
   "metadata": {},
   "outputs": [
    {
     "name": "stdout",
     "output_type": "stream",
     "text": [
      "Select a download method ... \n",
      " 1. Use Google Cloud credentials stored in a json file \n",
      " 2. Use gsutil in the notebook \n",
      " 3. Use gsutil in the terminal \n",
      "2\n"
     ]
    }
   ],
   "source": [
    "option = input(\"Select a download method ... \\n 1. Use Google Cloud credentials stored in a json file \\n 2. Use gsutil in the notebook \\n 3. Use gsutil in the terminal \\n\")"
   ]
  },
  {
   "cell_type": "code",
   "execution_count": null,
   "metadata": {},
   "outputs": [],
   "source": [
    "if option == \"1\":\n",
    "    download_data(src_list, dst_list)\n",
    "elif option == \"2\":\n",
    "    for (src_file, dst_file) in zip(src_list, dst_list): \n",
    "        print(src_file, dst_file)\n",
    "        !gsutil -m cp 'gs://quickdraw_dataset/' + src_file dst_file\n",
    "elif option == \"3\":\n",
    "    print('Type the following in the terminal to download the files manually:')\n",
    "    for (src_file, dst_file) in zip(src_list, dst_list):\n",
    "        print(\"gsutil -m cp \" + \"gs://quickdraw_dataset/\" + \"{}\".format(src_file) + \" \" + \"{}\".format(dst_file))"
   ]
  },
  {
   "cell_type": "code",
   "execution_count": 10,
   "metadata": {},
   "outputs": [],
   "source": [
    "model_path = os.path.join(paths_dict['input_path'], category, category)"
   ]
  },
  {
   "cell_type": "code",
   "execution_count": 11,
   "metadata": {},
   "outputs": [],
   "source": [
    "npy_data = np.load(paths_dict['base_input'] + '.npy', allow_pickle=True)"
   ]
  },
  {
   "cell_type": "code",
   "execution_count": null,
   "metadata": {},
   "outputs": [],
   "source": [
    "# load from file-like objects\n",
    "with open(paths_dict['base_raw'] + '.ndjson') as f:\n",
    "    ndjson_data = ndjson.load(f)"
   ]
  },
  {
   "cell_type": "code",
   "execution_count": 10,
   "metadata": {},
   "outputs": [],
   "source": [
    "def plot_bitmap():\n",
    "    print(\"Bitmap image:\")\n",
    "    plt.imshow(npy_data[int(index)].reshape(28,28))"
   ]
  },
  {
   "cell_type": "code",
   "execution_count": null,
   "metadata": {},
   "outputs": [],
   "source": [
    "def plot_raw():\n",
    "    print(\"Raw image:\")\n",
    "    i = 0\n",
    "    for stroke in ndjson_data[int(index)]['drawing']:\n",
    "        stroke = np.array(stroke)\n",
    "        plt.plot(stroke[0], stroke[1]*-1)\n",
    "        i += 1\n",
    "    print('There are', i, 'number of strokes in this raw image file!')"
   ]
  },
  {
   "cell_type": "code",
   "execution_count": 57,
   "metadata": {},
   "outputs": [
    {
     "name": "stdout",
     "output_type": "stream",
     "text": [
      "There are  123203  images in selected category cat\n",
      "Select an index value from 0 to 123202 to display and compare bitmap and raw images:\n",
      "Bitmap image:\n"
     ]
    },
    {
     "data": {
      "image/png": "[encoded data removed]",
      "text/plain": [
       "<Figure size 432x288 with 1 Axes>"
      ]
     },
     "metadata": {
      "needs_background": "light"
     },
     "output_type": "display_data"
    },
    {
     "name": "stdout",
     "output_type": "stream",
     "text": [
      "Raw image:\n",
      "There are 9 number of strokes in this raw image file!\n"
     ]
    },
    {
     "data": {
      "image/png": "[encoded data removed]",
      "text/plain": [
       "<Figure size 432x288 with 1 Axes>"
      ]
     },
     "metadata": {
      "needs_background": "light"
     },
     "output_type": "display_data"
    }
   ],
   "source": [
    "print('There are ', len(npy_data)+1, ' images in selected category', categories[category])\n",
    "print(\"Select an index value from 0 to\", len(npy_data), \"to display and compare bitmap and raw images:\")\n",
    "#index=input()\n",
    "index = '0'\n",
    "plot_bitmap()\n",
    "plt.show()\n",
    "plot_raw()"
   ]
  },
  {
   "cell_type": "code",
   "execution_count": 12,
   "metadata": {},
   "outputs": [],
   "source": [
    "# TRAIN TEST SPLIT\n",
    "filepath = paths_dict['input_path']\n",
    "x_train, x_test, y_train, y_test = split_data(filepath, categories[category], shuffle=False)"
   ]
  },
  {
   "cell_type": "code",
   "execution_count": 13,
   "metadata": {},
   "outputs": [
    {
     "data": {
      "text/plain": [
       "DRAW(\n",
       "  (encoder): LSTMCell(306, 256)\n",
       "  (mu_linear): Linear(in_features=256, out_features=10, bias=True)\n",
       "  (sigma_linear): Linear(in_features=256, out_features=10, bias=True)\n",
       "  (decoder): LSTMCell(10, 256)\n",
       "  (dec_linear): Linear(in_features=256, out_features=5, bias=True)\n",
       "  (dec_w_linear): Linear(in_features=256, out_features=25, bias=True)\n",
       "  (sigmoid): Sigmoid()\n",
       ")"
      ]
     },
     "execution_count": 13,
     "metadata": {},
     "output_type": "execute_result"
    }
   ],
   "source": [
    "DRAW(model_path, category)"
   ]
  },
  {
   "cell_type": "code",
   "execution_count": 14,
   "metadata": {},
   "outputs": [],
   "source": [
    "train_data = Dataset(x_train)\n",
    "test_data = Dataset(x_test)"
   ]
  },
  {
   "cell_type": "code",
   "execution_count": 15,
   "metadata": {},
   "outputs": [],
   "source": [
    "model = DRAW(category)"
   ]
  },
  {
   "cell_type": "code",
   "execution_count": null,
   "metadata": {},
   "outputs": [],
   "source": [
    "# TRAINING AND TESTING\n",
    "print(\"training...\")\n",
    "model.start(phase='train') "
   ]
  },
  {
   "cell_type": "markdown",
   "metadata": {},
   "source": [
    "## Generating Images"
   ]
  },
  {
   "cell_type": "code",
   "execution_count": 16,
   "metadata": {},
   "outputs": [],
   "source": [
    "category = 'cat'"
   ]
  },
  {
   "cell_type": "code",
   "execution_count": 17,
   "metadata": {},
   "outputs": [],
   "source": [
    "test_model = Test(category)"
   ]
  },
  {
   "cell_type": "code",
   "execution_count": 18,
   "metadata": {},
   "outputs": [],
   "source": [
    "dataloader = test_model.dataloaders['train']"
   ]
  },
  {
   "cell_type": "code",
   "execution_count": 19,
   "metadata": {},
   "outputs": [],
   "source": [
    "data = dataloader.next_batch(test_model.batch_size)"
   ]
  },
  {
   "cell_type": "code",
   "execution_count": 20,
   "metadata": {},
   "outputs": [
    {
     "data": {
      "text/plain": [
       "(64, 784)"
      ]
     },
     "execution_count": 20,
     "metadata": {},
     "output_type": "execute_result"
    }
   ],
   "source": [
    "data.shape"
   ]
  },
  {
   "cell_type": "code",
   "execution_count": 24,
   "metadata": {},
   "outputs": [
    {
     "data": {
      "text/plain": [
       "<matplotlib.image.AxesImage at 0x14db1fba8>"
      ]
     },
     "execution_count": 24,
     "metadata": {},
     "output_type": "execute_result"
    },
    {
     "data": {
      "image/png": "[encoded data removed]",
      "text/plain": [
       "<Figure size 432x288 with 1 Axes>"
      ]
     },
     "metadata": {
      "needs_background": "light"
     },
     "output_type": "display_data"
    }
   ],
   "source": [
    "plt.imshow(npy_data[1].reshape(28,28))"
   ]
  },
  {
   "cell_type": "code",
   "execution_count": 21,
   "metadata": {},
   "outputs": [
    {
     "name": "stdout",
     "output_type": "stream",
     "text": [
      "reconstructing images...\n",
      "/Users/melodi/sliver-maestro/src/data/output/images/cat/cat_test_0.png\n",
      "/Users/melodi/sliver-maestro/src/data/output/images/cat/cat_test_1.png\n",
      "/Users/melodi/sliver-maestro/src/data/output/images/cat/cat_test_2.png\n",
      "/Users/melodi/sliver-maestro/src/data/output/images/cat/cat_test_3.png\n",
      "/Users/melodi/sliver-maestro/src/data/output/images/cat/cat_test_4.png\n",
      "/Users/melodi/sliver-maestro/src/data/output/images/cat/cat_test_5.png\n",
      "/Users/melodi/sliver-maestro/src/data/output/images/cat/cat_test_6.png\n",
      "/Users/melodi/sliver-maestro/src/data/output/images/cat/cat_test_7.png\n",
      "/Users/melodi/sliver-maestro/src/data/output/images/cat/cat_test_8.png\n",
      "/Users/melodi/sliver-maestro/src/data/output/images/cat/cat_test_9.png\n"
     ]
    },
    {
     "data": {
      "text/plain": [
       "array([[5.00000000e-01, 5.00000000e-01, 5.00000000e-01, 5.00000000e-01,\n",
       "        5.00000000e-01, 5.00000000e-01, 5.00000000e-01, 5.00000000e-01,\n",
       "        5.00000000e-01, 5.00000000e-01, 5.00000000e-01, 5.00000000e-01,\n",
       "        5.00000000e-01, 5.00000000e-01, 5.00000000e-01, 5.00000000e-01,\n",
       "        5.00000000e-01, 5.00000000e-01, 5.00000000e-01, 5.00000000e-01,\n",
       "        5.00000000e-01, 5.00000000e-01, 5.00000000e-01, 5.00000000e-01,\n",
       "        5.00000000e-01, 5.00000000e-01, 5.00000000e-01, 5.00000000e-01,\n",
       "        5.00000000e-01, 5.00000000e-01],\n",
       "       [5.00000000e-01, 0.00000000e+00, 0.00000000e+00, 0.00000000e+00,\n",
       "        0.00000000e+00, 0.00000000e+00, 0.00000000e+00, 0.00000000e+00,\n",
       "        0.00000000e+00, 0.00000000e+00, 0.00000000e+00, 0.00000000e+00,\n",
       "        0.00000000e+00, 0.00000000e+00, 0.00000000e+00, 0.00000000e+00,\n",
       "        0.00000000e+00, 0.00000000e+00, 0.00000000e+00, 1.97328299e-38,\n",
       "        5.01354743e-39, 0.00000000e+00, 0.00000000e+00, 0.00000000e+00,\n",
       "        0.00000000e+00, 0.00000000e+00, 0.00000000e+00, 0.00000000e+00,\n",
       "        0.00000000e+00, 5.00000000e-01],\n",
       "       [5.00000000e-01, 0.00000000e+00, 0.00000000e+00, 0.00000000e+00,\n",
       "        0.00000000e+00, 2.41910561e-34, 8.76832551e-31, 8.09559897e-29,\n",
       "        7.83779243e-28, 1.94736054e-27, 2.17194053e-27, 1.62006357e-27,\n",
       "        1.20258869e-27, 1.39701893e-27, 3.82736322e-27, 2.93023585e-26,\n",
       "        4.99537047e-25, 1.03069671e-23, 1.16544960e-22, 3.60962530e-22,\n",
       "        2.11606409e-22, 2.43820434e-23, 8.07100848e-25, 1.33189164e-26,\n",
       "        1.81011872e-28, 2.53251907e-30, 2.79099093e-32, 9.41772152e-35,\n",
       "        1.61218169e-38, 5.00000000e-01],\n",
       "       [5.00000000e-01, 0.00000000e+00, 0.00000000e+00, 1.34379899e-32,\n",
       "        4.44105763e-26, 3.44727268e-22, 7.47622252e-20, 1.85145707e-18,\n",
       "        1.27909626e-17, 4.28847686e-17, 9.19802937e-17, 1.41832861e-16,\n",
       "        1.76732154e-16, 2.21637950e-16, 3.75933154e-16, 1.06650638e-15,\n",
       "        4.83457988e-15, 2.52366233e-14, 9.66463305e-14, 1.89415364e-13,\n",
       "        1.66209142e-13, 7.24196975e-14, 2.02171399e-14, 4.78613638e-15,\n",
       "        1.14518992e-15, 2.60858619e-16, 3.68397426e-17, 1.27108450e-18,\n",
       "        2.23135565e-21, 5.00000000e-01],\n",
       "       [5.00000000e-01, 0.00000000e+00, 9.34865861e-31, 2.70624824e-23,\n",
       "        6.72276981e-19, 3.47871032e-16, 1.78790698e-14, 2.22526126e-13,\n",
       "        1.27883598e-12, 5.15496760e-12, 1.67454141e-11, 4.28489223e-11,\n",
       "        8.38662820e-11, 1.32951913e-10, 2.09443782e-10, 4.21799679e-10,\n",
       "        1.14844612e-09, 3.41328654e-09, 8.20413515e-09, 1.32768330e-08,\n",
       "        1.45000705e-08, 1.23260646e-08, 9.75442127e-09, 8.08284373e-09,\n",
       "        6.97906000e-09, 5.22779198e-09, 2.17969620e-09, 2.24886471e-10,\n",
       "        1.56809743e-12, 5.00000000e-01],\n",
       "       [5.00000000e-01, 4.39213289e-33, 9.28716320e-24, 1.43475036e-18,\n",
       "        1.75921035e-15, 1.56352714e-13, 2.70013309e-12, 1.72776272e-11,\n",
       "        7.92483648e-11, 3.85918825e-10, 1.86211835e-09, 7.43401829e-09,\n",
       "        2.24918004e-08, 4.83539928e-08, 8.58757048e-08, 1.85707449e-07,\n",
       "        5.70860379e-07, 1.90992682e-06, 4.97368410e-06, 8.89470994e-06,\n",
       "        1.18189491e-05, 1.40731408e-05, 1.77945458e-05, 2.51184047e-05,\n",
       "        3.62006067e-05, 4.23648598e-05, 2.66151528e-05, 4.53041139e-06,\n",
       "        7.22488309e-08, 5.00000000e-01],\n",
       "       [5.00000000e-01, 1.40078185e-26, 8.05303753e-20, 3.57262139e-16,\n",
       "        4.36354274e-14, 7.11478077e-13, 2.87957722e-12, 5.73585103e-12,\n",
       "        1.60118082e-11, 9.99520050e-11, 8.16585133e-10, 5.34210765e-09,\n",
       "        2.60989079e-08, 8.05769602e-08, 1.81165760e-07, 6.08666596e-07,\n",
       "        4.12746749e-06, 3.28516762e-05, 1.68784187e-04, 4.74980596e-04,\n",
       "        8.34470964e-04, 1.18987821e-03, 1.75169692e-03, 2.86697061e-03,\n",
       "        4.71745338e-03, 6.16681157e-03, 4.35624551e-03, 9.13913711e-04,\n",
       "        2.32155999e-05, 5.00000000e-01],\n",
       "       [5.00000000e-01, 2.06212292e-22, 2.28065308e-17, 7.25283142e-15,\n",
       "        1.15975602e-13, 2.96790804e-13, 1.81124457e-13, 6.84819429e-14,\n",
       "        8.97315466e-14, 7.31097799e-13, 1.07776999e-11, 1.14720851e-10,\n",
       "        8.96321739e-10, 3.96119670e-09, 1.17654722e-08, 7.98817652e-08,\n",
       "        2.02504293e-06, 6.94946648e-05, 1.11598452e-03, 6.38579717e-03,\n",
       "        1.57821905e-02, 2.46030334e-02, 3.49442847e-02, 5.30028678e-02,\n",
       "        8.06810558e-02, 9.99839902e-02, 7.16020390e-02, 1.64783653e-02,\n",
       "        5.15614054e-04, 5.00000000e-01],\n",
       "       [5.00000000e-01, 2.08191007e-19, 1.70172572e-15, 8.22128213e-14,\n",
       "        2.69113914e-13, 1.53275653e-13, 2.11015186e-14, 2.33782322e-15,\n",
       "        1.82288775e-15, 1.76591140e-14, 3.60120381e-13, 4.80421605e-12,\n",
       "        4.79856779e-11, 2.60242189e-10, 9.34107569e-10, 1.12143859e-08,\n",
       "        8.61190131e-07, 1.04257757e-04, 4.48343577e-03, 4.46311943e-02,\n",
       "        1.29900023e-01, 1.91909865e-01, 2.33559117e-01, 2.90194780e-01,\n",
       "        3.62837911e-01, 3.96541953e-01, 2.94572234e-01, 7.70040751e-02,\n",
       "        2.49762228e-03, 5.00000000e-01],\n",
       "       [5.00000000e-01, 6.57669534e-17, 1.16012763e-13, 1.94785832e-12,\n",
       "        2.94195549e-12, 1.03406183e-12, 1.26661770e-13, 1.70996809e-14,\n",
       "        1.70657640e-14, 1.73397429e-13, 3.08874063e-12, 3.48472258e-11,\n",
       "        3.13687548e-10, 1.69538750e-09, 6.25798124e-09, 7.01974088e-08,\n",
       "        4.73002774e-06, 5.42768743e-04, 2.35773996e-02, 2.02837706e-01,\n",
       "        4.39439803e-01, 5.35602987e-01, 5.72097480e-01, 6.18570507e-01,\n",
       "        6.73337281e-01, 6.81775749e-01, 5.40653169e-01, 1.62999377e-01,\n",
       "        4.78099752e-03, 5.00000000e-01],\n",
       "       [5.00000000e-01, 1.38559081e-14, 1.20712338e-11, 1.50902166e-10,\n",
       "        2.39718911e-10, 1.41277642e-10, 5.22235553e-11, 2.76769545e-11,\n",
       "        6.51452919e-11, 6.79285461e-10, 8.58912319e-09, 6.82370214e-08,\n",
       "        4.48266263e-07, 2.19113895e-06, 7.45191119e-06, 3.78824225e-05,\n",
       "        5.12315019e-04, 1.11740846e-02, 1.40653327e-01, 4.82463807e-01,\n",
       "        6.80494905e-01, 7.37393618e-01, 7.63763428e-01, 8.00830483e-01,\n",
       "        8.34864974e-01, 8.26643527e-01, 6.83144987e-01, 2.14170977e-01,\n",
       "        4.94176615e-03, 5.00000000e-01],\n",
       "       [5.00000000e-01, 2.38882503e-12, 1.67778480e-09, 2.40863098e-08,\n",
       "        5.92436429e-08, 7.87024348e-08, 1.02216333e-07, 2.13462371e-07,\n",
       "        1.12077339e-06, 1.20327486e-05, 1.14724899e-04, 6.43006875e-04,\n",
       "        2.79610977e-03, 1.09159257e-02, 2.96499450e-02, 5.21316081e-02,\n",
       "        8.78955275e-02, 1.95902511e-01, 4.35279280e-01, 6.59839690e-01,\n",
       "        7.57929265e-01, 7.94302523e-01, 8.28837991e-01, 8.71017992e-01,\n",
       "        8.97510886e-01, 8.81178677e-01, 7.26877034e-01, 1.98840678e-01,\n",
       "        3.24980589e-03, 5.00000000e-01],\n",
       "       [5.00000000e-01, 3.02796205e-10, 1.97944900e-07, 3.42311478e-06,\n",
       "        1.19130764e-05, 2.60292163e-05, 6.55026670e-05, 2.61770212e-04,\n",
       "        1.81556179e-03, 1.58680193e-02, 9.18608382e-02, 2.53027618e-01,\n",
       "        4.47460979e-01, 6.55201137e-01, 7.73275852e-01, 7.51571774e-01,\n",
       "        6.26836002e-01, 5.47746599e-01, 6.01326644e-01, 7.00363994e-01,\n",
       "        7.63391018e-01, 8.02496731e-01, 8.47801089e-01, 8.92130554e-01,\n",
       "        9.11667645e-01, 8.81784499e-01, 6.77117884e-01, 1.29264042e-01,\n",
       "        1.49922085e-03, 5.00000000e-01],\n",
       "       [5.00000000e-01, 2.37519515e-08, 1.34117745e-05, 2.37898930e-04,\n",
       "        8.88014736e-04, 2.07306375e-03, 5.53428521e-03, 2.14456152e-02,\n",
       "        1.03469022e-01, 3.49923968e-01, 5.86934209e-01, 6.69417858e-01,\n",
       "        6.91558838e-01, 7.17067957e-01, 7.22738445e-01, 6.64368868e-01,\n",
       "        5.54512739e-01, 4.90811884e-01, 5.39287269e-01, 6.53512418e-01,\n",
       "        7.46324420e-01, 8.03134620e-01, 8.47420156e-01, 8.79958212e-01,\n",
       "        8.82779062e-01, 8.12889457e-01, 4.95915681e-01, 5.51345907e-02,\n",
       "        5.25510928e-04, 5.00000000e-01],\n",
       "       [5.00000000e-01, 1.03642355e-06, 4.40577685e-04, 6.73177652e-03,\n",
       "        2.14594956e-02, 4.03204113e-02, 7.98478872e-02, 1.91626936e-01,\n",
       "        4.05760497e-01, 5.56630731e-01, 5.26414275e-01, 3.90937835e-01,\n",
       "        2.78824121e-01, 2.06438974e-01, 1.58688933e-01, 1.51283935e-01,\n",
       "        1.87176824e-01, 2.60826588e-01, 3.91413391e-01, 5.75694680e-01,\n",
       "        7.20937014e-01, 7.88458347e-01, 8.09939027e-01, 8.03017139e-01,\n",
       "        7.49179721e-01, 5.72517812e-01, 2.10173205e-01, 1.52782360e-02,\n",
       "        1.51550339e-04, 5.00000000e-01],\n",
       "       [5.00000000e-01, 2.41859379e-05, 6.87455805e-03, 7.73146525e-02,\n",
       "        1.76383510e-01, 2.33553961e-01, 3.02179664e-01, 4.25524235e-01,\n",
       "        5.39353311e-01, 5.13807118e-01, 3.26069236e-01, 1.56916350e-01,\n",
       "        8.80706757e-02, 5.78186996e-02, 4.35060412e-02, 5.28523326e-02,\n",
       "        1.03437647e-01, 2.10904613e-01, 3.70158106e-01, 5.54212213e-01,\n",
       "        6.79216325e-01, 7.07936525e-01, 6.57746673e-01, 5.42768419e-01,\n",
       "        3.74022931e-01, 1.79899246e-01, 4.19211388e-02, 3.00429738e-03,\n",
       "        3.87237960e-05, 5.00000000e-01],\n",
       "       [5.00000000e-01, 2.98107916e-04, 5.09104580e-02, 3.30752194e-01,\n",
       "        4.97033715e-01, 5.11496246e-01, 5.08671582e-01, 5.42185307e-01,\n",
       "        5.68822622e-01, 5.07581115e-01, 3.51767182e-01, 2.16294438e-01,\n",
       "        1.52943984e-01, 1.23223975e-01, 1.13400027e-01, 1.46579489e-01,\n",
       "        2.53061116e-01, 4.12085056e-01, 5.44597745e-01, 6.09038711e-01,\n",
       "        5.88774085e-01, 4.77018565e-01, 3.05740088e-01, 1.52615830e-01,\n",
       "        6.34580255e-02, 2.21859347e-02, 5.14713116e-03, 4.82680131e-04,\n",
       "        9.18145906e-06, 5.00000000e-01],\n",
       "       [5.00000000e-01, 1.93712255e-03, 1.76250100e-01, 6.00649536e-01,\n",
       "        7.08519101e-01, 6.70125127e-01, 6.02954507e-01, 5.71811259e-01,\n",
       "        5.76916754e-01, 5.85350275e-01, 5.80964327e-01, 5.61030269e-01,\n",
       "        5.24807453e-01, 4.92079318e-01, 4.95859146e-01, 5.52147865e-01,\n",
       "        6.48121417e-01, 7.33578861e-01, 7.51661479e-01, 6.59020364e-01,\n",
       "        4.27105218e-01, 1.83354363e-01, 6.14799522e-02, 1.92178190e-02,\n",
       "        6.13744697e-03, 2.04224489e-03, 5.59801643e-04, 7.21755569e-05,\n",
       "        1.98361704e-06, 5.00000000e-01],\n",
       "       [5.00000000e-01, 6.73003960e-03, 3.17656219e-01, 7.18529165e-01,\n",
       "        7.77841628e-01, 7.14275241e-01, 6.11200869e-01, 5.46087742e-01,\n",
       "        5.56059718e-01, 6.34571612e-01, 7.35364795e-01, 7.90221691e-01,\n",
       "        7.80366540e-01, 7.43528962e-01, 7.34665930e-01, 7.61400819e-01,\n",
       "        8.06588948e-01, 8.42719197e-01, 8.19023490e-01, 6.38497412e-01,\n",
       "        2.63384700e-01, 5.58521263e-02, 1.10469973e-02, 2.51224125e-03,\n",
       "        6.73490809e-04, 2.16927394e-04, 6.66022315e-05, 1.04941246e-05,\n",
       "        3.48312028e-07, 5.00000000e-01],\n",
       "       [5.00000000e-01, 1.28832478e-02, 3.71756822e-01, 7.22554207e-01,\n",
       "        7.59691656e-01, 6.75043106e-01, 5.49400449e-01, 4.71753955e-01,\n",
       "        4.83648568e-01, 5.76442122e-01, 6.91241384e-01, 7.46263444e-01,\n",
       "        7.17333436e-01, 6.44361198e-01, 6.07542574e-01, 6.44726992e-01,\n",
       "        7.32450783e-01, 8.01854432e-01, 7.78559566e-01, 5.53728223e-01,\n",
       "        1.69122651e-01, 2.40894556e-02, 3.17901233e-03, 4.98369336e-04,\n",
       "        1.02348058e-04, 2.89697564e-05, 8.67034032e-06, 1.35535993e-06,\n",
       "        4.07618153e-08, 5.00000000e-01],\n",
       "       [5.00000000e-01, 1.38150221e-02, 3.15582335e-01, 6.26785159e-01,\n",
       "        6.48372650e-01, 5.38564801e-01, 4.08396751e-01, 3.42399925e-01,\n",
       "        3.51344138e-01, 4.05924141e-01, 4.57465351e-01, 4.58999455e-01,\n",
       "        3.96464854e-01, 3.10120463e-01, 2.69980907e-01, 3.25259775e-01,\n",
       "        4.89416361e-01, 6.48167491e-01, 6.50071025e-01, 4.18470502e-01,\n",
       "        1.10004984e-01, 1.31690800e-02, 1.22732087e-03, 1.24443031e-04,\n",
       "        1.79838971e-05, 4.09766426e-06, 1.04546712e-06, 1.30532612e-07,\n",
       "        2.59537436e-09, 5.00000000e-01],\n",
       "       [5.00000000e-01, 7.70800095e-03, 1.75382689e-01, 4.01982039e-01,\n",
       "        4.03716922e-01, 2.94683784e-01, 2.02476308e-01, 1.66979641e-01,\n",
       "        1.70988873e-01, 1.81849226e-01, 1.71216637e-01, 1.43522948e-01,\n",
       "        1.13774769e-01, 8.68262723e-02, 7.56255165e-02, 1.03194155e-01,\n",
       "        2.08599478e-01, 3.60683322e-01, 3.72208357e-01, 1.95501119e-01,\n",
       "        4.34690416e-02, 4.79417061e-03, 3.54740070e-04, 2.55353953e-05,\n",
       "        2.71972067e-06, 4.91212688e-07, 9.74992389e-08, 8.13985501e-09,\n",
       "        8.13039705e-11, 5.00000000e-01],\n",
       "       [5.00000000e-01, 1.67898799e-03, 4.37782779e-02, 1.20282315e-01,\n",
       "        1.15464069e-01, 7.25957304e-02, 4.49106656e-02, 3.50124799e-02,\n",
       "        3.36756669e-02, 3.19270976e-02, 2.57538594e-02, 1.96009409e-02,\n",
       "        1.58927012e-02, 1.30251478e-02, 1.16679203e-02, 1.55390818e-02,\n",
       "        3.10375635e-02, 5.55010028e-02, 5.23653924e-02, 2.23972015e-02,\n",
       "        4.83878795e-03, 5.87303948e-04, 4.45959340e-05, 2.97760835e-06,\n",
       "        2.78793152e-07, 4.20325605e-08, 6.19467277e-09, 3.08413989e-10,\n",
       "        1.29553551e-12, 5.00000000e-01],\n",
       "       [5.00000000e-01, 7.23378980e-05, 2.42982386e-03, 7.79533805e-03,\n",
       "        7.51276361e-03, 4.36612638e-03, 2.40228279e-03, 1.57041836e-03,\n",
       "        1.19791157e-03, 9.03139473e-04, 6.20452163e-04, 4.32598259e-04,\n",
       "        3.30302573e-04, 2.55344115e-04, 2.11934850e-04, 2.46305164e-04,\n",
       "        4.05582105e-04, 6.11882773e-04, 5.36858162e-04, 2.51337944e-04,\n",
       "        7.16586001e-05, 1.27836092e-05, 1.41759278e-06, 1.24826812e-07,\n",
       "        1.31460771e-08, 1.85498961e-09, 2.09083362e-10, 6.20528238e-12,\n",
       "        1.08983020e-14, 5.00000000e-01],\n",
       "       [5.00000000e-01, 1.59557729e-07, 8.74062516e-06, 3.74192859e-05,\n",
       "        4.06647050e-05, 2.29048219e-05, 1.04529445e-05, 4.81505094e-06,\n",
       "        2.29507850e-06, 1.07350115e-06, 4.98360350e-07, 2.47230616e-07,\n",
       "        1.30468393e-07, 7.00663136e-08, 4.53066065e-08, 4.81050648e-08,\n",
       "        8.28616606e-08, 1.45864277e-07, 1.66692985e-07, 1.16209762e-07,\n",
       "        5.74710910e-08, 2.02280788e-08, 4.58009675e-09, 7.38058115e-10,\n",
       "        1.13623978e-10, 1.81380813e-11, 1.83591250e-12, 3.92731027e-14,\n",
       "        3.77567054e-17, 5.00000000e-01],\n",
       "       [5.00000000e-01, 1.58396018e-12, 2.12589529e-10, 1.76051818e-09,\n",
       "        2.79316970e-09, 1.70490189e-09, 6.26788177e-10, 1.77292472e-10,\n",
       "        4.25989140e-11, 9.33604322e-12, 2.06333366e-12, 4.81171472e-13,\n",
       "        1.12708183e-13, 2.87263499e-14, 1.22664796e-14, 1.42944603e-14,\n",
       "        4.26648768e-14, 1.64555923e-13, 4.23042216e-13, 6.42622240e-13,\n",
       "        7.12931667e-13, 6.08719726e-13, 3.42256307e-13, 1.22475950e-13,\n",
       "        3.35356641e-14, 7.54465714e-15, 9.14803100e-16, 2.15900724e-17,\n",
       "        2.18459515e-20, 5.00000000e-01],\n",
       "       [5.00000000e-01, 1.21357887e-21, 8.28029041e-19, 2.84961239e-17,\n",
       "        1.23353977e-16, 1.23467903e-16, 4.48471156e-17, 8.11886953e-18,\n",
       "        9.15230990e-19, 7.85845105e-20, 6.05828454e-21, 4.32365095e-22,\n",
       "        2.84410862e-23, 2.43653851e-24, 6.34947487e-25, 1.07691416e-24,\n",
       "        1.00881599e-23, 1.74819945e-22, 1.89669829e-21, 9.49284749e-21,\n",
       "        2.84618599e-20, 6.00037398e-20, 7.79337132e-20, 5.68559298e-20,\n",
       "        2.69208418e-20, 9.43094708e-21, 1.87523036e-21, 9.31384784e-23,\n",
       "        3.08472816e-25, 5.00000000e-01],\n",
       "       [5.00000000e-01, 1.12236788e-37, 1.53166547e-33, 9.84721868e-31,\n",
       "        4.36908101e-29, 1.95742901e-28, 1.35835634e-28, 2.26784285e-29,\n",
       "        1.38599182e-30, 4.48011195e-32, 9.64234782e-34, 1.46948489e-35,\n",
       "        1.89457122e-37, 4.52922505e-39, 0.00000000e+00, 2.98351017e-39,\n",
       "        1.67358690e-37, 2.73770367e-35, 2.43643465e-33, 6.09450328e-32,\n",
       "        5.29627208e-31, 2.12152731e-30, 3.91643158e-30, 3.32733400e-30,\n",
       "        1.68697000e-30, 7.24455946e-31, 2.82625188e-31, 6.64171764e-32,\n",
       "        3.96581231e-33, 5.00000000e-01],\n",
       "       [5.00000000e-01, 0.00000000e+00, 0.00000000e+00, 0.00000000e+00,\n",
       "        0.00000000e+00, 0.00000000e+00, 0.00000000e+00, 0.00000000e+00,\n",
       "        0.00000000e+00, 0.00000000e+00, 0.00000000e+00, 0.00000000e+00,\n",
       "        0.00000000e+00, 0.00000000e+00, 0.00000000e+00, 0.00000000e+00,\n",
       "        0.00000000e+00, 0.00000000e+00, 0.00000000e+00, 0.00000000e+00,\n",
       "        0.00000000e+00, 0.00000000e+00, 0.00000000e+00, 0.00000000e+00,\n",
       "        0.00000000e+00, 0.00000000e+00, 0.00000000e+00, 0.00000000e+00,\n",
       "        0.00000000e+00, 5.00000000e-01],\n",
       "       [5.00000000e-01, 5.00000000e-01, 5.00000000e-01, 5.00000000e-01,\n",
       "        5.00000000e-01, 5.00000000e-01, 5.00000000e-01, 5.00000000e-01,\n",
       "        5.00000000e-01, 5.00000000e-01, 5.00000000e-01, 5.00000000e-01,\n",
       "        5.00000000e-01, 5.00000000e-01, 5.00000000e-01, 5.00000000e-01,\n",
       "        5.00000000e-01, 5.00000000e-01, 5.00000000e-01, 5.00000000e-01,\n",
       "        5.00000000e-01, 5.00000000e-01, 5.00000000e-01, 5.00000000e-01,\n",
       "        5.00000000e-01, 5.00000000e-01, 5.00000000e-01, 5.00000000e-01,\n",
       "        5.00000000e-01, 5.00000000e-01]])"
      ]
     },
     "execution_count": 21,
     "metadata": {},
     "output_type": "execute_result"
    },
    {
     "data": {
      "image/png": "[encoded data removed]",
      "text/plain": [
       "<Figure size 288x288 with 1 Axes>"
      ]
     },
     "metadata": {
      "needs_background": "light"
     },
     "output_type": "display_data"
    },
    {
     "data": {
      "image/png": "[encoded data removed]",
      "text/plain": [
       "<Figure size 288x288 with 1 Axes>"
      ]
     },
     "metadata": {
      "needs_background": "light"
     },
     "output_type": "display_data"
    },
    {
     "data": {
      "image/png": "[encoded data removed]",
      "text/plain": [
       "<Figure size 288x288 with 1 Axes>"
      ]
     },
     "metadata": {
      "needs_background": "light"
     },
     "output_type": "display_data"
    },
    {
     "data": {
      "image/png": "[encoded data removed]",
      "text/plain": [
       "<Figure size 288x288 with 1 Axes>"
      ]
     },
     "metadata": {
      "needs_background": "light"
     },
     "output_type": "display_data"
    },
    {
     "data": {
      "image/png": "[encoded data removed]",
      "text/plain": [
       "<Figure size 288x288 with 1 Axes>"
      ]
     },
     "metadata": {
      "needs_background": "light"
     },
     "output_type": "display_data"
    },
    {
     "data": {
      "image/png": "[encoded data removed]",
      "text/plain": [
       "<Figure size 288x288 with 1 Axes>"
      ]
     },
     "metadata": {
      "needs_background": "light"
     },
     "output_type": "display_data"
    },
    {
     "data": {
      "image/png": "[encoded data removed]",
      "text/plain": [
       "<Figure size 288x288 with 1 Axes>"
      ]
     },
     "metadata": {
      "needs_background": "light"
     },
     "output_type": "display_data"
    },
    {
     "data": {
      "image/png": "[encoded data removed]",
      "text/plain": [
       "<Figure size 288x288 with 1 Axes>"
      ]
     },
     "metadata": {
      "needs_background": "light"
     },
     "output_type": "display_data"
    },
    {
     "data": {
      "image/png": "[encoded data removed]",
      "text/plain": [
       "<Figure size 288x288 with 1 Axes>"
      ]
     },
     "metadata": {
      "needs_background": "light"
     },
     "output_type": "display_data"
    },
    {
     "data": {
      "image/png": "[encoded data removed]",
      "text/plain": [
       "<Figure size 288x288 with 1 Axes>"
      ]
     },
     "metadata": {
      "needs_background": "light"
     },
     "output_type": "display_data"
    }
   ],
   "source": [
    "img_loc = {'startr': 0, 'endr': 30, 'startc': 30, 'endc':60}\n",
    "\n",
    "print(\"reconstructing images...\")\n",
    "test_model.xrecons_grid(img_loc, data)"
   ]
  }
 ],
 "metadata": {
  "kernelspec": {
   "display_name": "Python 3",
   "language": "python",
   "name": "python3"
  },
  "language_info": {
   "codemirror_mode": {
    "name": "ipython",
    "version": 3
   },
   "file_extension": ".py",
   "mimetype": "text/x-python",
   "name": "python",
   "nbconvert_exporter": "python",
   "pygments_lexer": "ipython3",
   "version": "3.6.12"
  }
 },
 "nbformat": 4,
 "nbformat_minor": 4
}
