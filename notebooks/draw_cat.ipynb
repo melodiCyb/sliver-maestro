{
 "cells": [
  {
   "cell_type": "code",
   "execution_count": null,
   "metadata": {},
   "outputs": [],
   "source": [
    "import csv\n",
    "import ndjson\n",
    "import os\n",
    "import sys"
   ]
  },
  {
   "cell_type": "code",
   "execution_count": null,
   "metadata": {},
   "outputs": [],
   "source": [
    "base_path = os.getcwd().split('sliver-maestro')[0]\n",
    "root_path = os.path.join(base_path, \"sliver-maestro\")\n",
    "print(\"root_path: {}\".format(root_path))"
   ]
  },
  {
   "cell_type": "code",
   "execution_count": null,
   "metadata": {},
   "outputs": [],
   "source": [
    "sys.path.insert(1, root_path)\n",
    "from src.utils.model_utils import *\n",
    "from src.draw_model import *\n",
    "from src.generate_images import *"
   ]
  },
  {
   "cell_type": "code",
   "execution_count": null,
   "metadata": {},
   "outputs": [],
   "source": [
    "categories_file = os.path.join(root_path, \"src\", \"data\", \"categories.csv\")"
   ]
  },
  {
   "cell_type": "code",
   "execution_count": null,
   "metadata": {},
   "outputs": [],
   "source": [
    "with open(categories_file, newline='') as f:\n",
    "    reader = csv.reader(f)\n",
    "    categories = {rows[0]:rows[0] for rows in reader}"
   ]
  },
  {
   "cell_type": "markdown",
   "metadata": {},
   "source": [
    "#### Select a category to download images from "
   ]
  },
  {
   "cell_type": "code",
   "execution_count": null,
   "metadata": {},
   "outputs": [],
   "source": [
    "for key, value in categories.items():\n",
    "    #print(key)\n",
    "    pass"
   ]
  },
  {
   "cell_type": "code",
   "execution_count": null,
   "metadata": {},
   "outputs": [],
   "source": [
    "print(\"Selected category from the list above:\")\n",
    "#category=input()\n",
    "category='cat'\n",
    "# Checking to see if the entered category is in the categories dictionary\n",
    "category=categories[category]\n",
    "print(category)"
   ]
  },
  {
   "cell_type": "code",
   "execution_count": null,
   "metadata": {},
   "outputs": [],
   "source": [
    "print(\"Creating directories to save images, weights and the model ...\")\n",
    "src_list, dst_list, paths_dict = create_folders(root_path, category)"
   ]
  },
  {
   "cell_type": "code",
   "execution_count": null,
   "metadata": {},
   "outputs": [],
   "source": [
    "print(\"Select a download method ...\")\n",
    "print(\"1. Use Google Cloud credentials stored in a json file\")\n",
    "print(\"2. Use gsutil in the notebook\")\n",
    "print(\"3. Use gsutil in the terminal\")\n",
    "option = input()"
   ]
  },
  {
   "cell_type": "code",
   "execution_count": null,
   "metadata": {},
   "outputs": [],
   "source": [
    "if option == \"1\":\n",
    "    download_data(src_list, dst_list)\n",
    "elif option == \"2\":\n",
    "    for (src_file, dst_file) in zip(src_list, dst_list): \n",
    "        !gsutil -m cp {'gs://quickdraw_dataset/' + src_file} {dst_file}\n",
    "elif option == \"3\":\n",
    "    print('Type the following in the terminal to download the files manually:')\n",
    "    for (src_file, dst_file) in zip(src_list, dst_list):\n",
    "        print(\"gsutil -m cp \" + \"gs://quickdraw_dataset/\" + \"{}\".format(src_file) + \" \" + \"{}\".format(dst_file))"
   ]
  },
  {
   "cell_type": "code",
   "execution_count": null,
   "metadata": {},
   "outputs": [],
   "source": [
    "model_path = os.path.join(paths_dict['input_path'], category, category)"
   ]
  },
  {
   "cell_type": "code",
   "execution_count": null,
   "metadata": {},
   "outputs": [],
   "source": [
    "npy_data = np.load(paths_dict['base_input'] + '.npy', allow_pickle=True)"
   ]
  },
  {
   "cell_type": "code",
   "execution_count": null,
   "metadata": {},
   "outputs": [],
   "source": [
    "# load from file-like objects\n",
    "with open(paths_dict['base_raw'] + '.ndjson') as f:\n",
    "    ndjson_data = ndjson.load(f)"
   ]
  },
  {
   "cell_type": "code",
   "execution_count": null,
   "metadata": {},
   "outputs": [],
   "source": [
    "def plot_bitmap():\n",
    "    print(\"Bitmap image:\")\n",
    "    plt.imshow(npy_data[int(index)].reshape(28,28))"
   ]
  },
  {
   "cell_type": "code",
   "execution_count": null,
   "metadata": {},
   "outputs": [],
   "source": [
    "def plot_raw():\n",
    "    print(\"Raw image:\")\n",
    "    i = 0\n",
    "    for stroke in ndjson_data[int(index)]['drawing']:\n",
    "        stroke = np.array(stroke)\n",
    "        plt.plot(stroke[0], stroke[1]*-1)\n",
    "        i += 1\n",
    "    print('There are', i, 'number of strokes in this raw image file!')"
   ]
  },
  {
   "cell_type": "code",
   "execution_count": null,
   "metadata": {},
   "outputs": [],
   "source": [
    "print('There are ', len(npy_data)+1, ' images in selected category', categories[category])\n",
    "print(\"Select an index value from 0 to\", len(npy_data), \"to display and compare bitmap and raw images:\")\n",
    "#index=input()\n",
    "index='0'\n",
    "plot_bitmap()\n",
    "plt.show()\n",
    "plot_raw()"
   ]
  },
  {
   "cell_type": "code",
   "execution_count": null,
   "metadata": {},
   "outputs": [],
   "source": [
    "# TRAIN TEST SPLIT\n",
    "filepath = paths_dict['input_path']\n",
    "x_train, x_test, y_train, y_test = split_data(filepath, categories[category], shuffle=False)"
   ]
  },
  {
   "cell_type": "code",
   "execution_count": null,
   "metadata": {},
   "outputs": [],
   "source": [
    "DRAW(model_path, category)"
   ]
  },
  {
   "cell_type": "code",
   "execution_count": null,
   "metadata": {},
   "outputs": [],
   "source": [
    "# TRAINING AND TESTING\n",
    "\n",
    "#train_data = Dataset(x_train)\n",
    "#test_data = Dataset(x_test)\n",
    "\n",
    "\n",
    "\n",
    "model = DRAW(category)\n",
    "print(\"training...\")\n",
    "model.start(phase='train') \n",
    "\n"
   ]
  },
  {
   "cell_type": "markdown",
   "metadata": {},
   "source": [
    "## Generating Images"
   ]
  },
  {
   "cell_type": "code",
   "execution_count": null,
   "metadata": {},
   "outputs": [],
   "source": [
    "test_model = Test(category)"
   ]
  },
  {
   "cell_type": "code",
   "execution_count": null,
   "metadata": {},
   "outputs": [],
   "source": [
    "img_loc = {'startr': 0, 'endr': 30, 'startc': 0, 'endc': 30}\n",
    "\n",
    "print(\"reconstructing images...\")\n",
    "test_model.xrecons_grid(img_loc)"
   ]
  },
  {
   "cell_type": "code",
   "execution_count": null,
   "metadata": {},
   "outputs": [],
   "source": []
  }
 ],
 "metadata": {
  "kernelspec": {
   "display_name": "Python 3",
   "language": "python",
   "name": "python3"
  },
  "language_info": {
   "codemirror_mode": {
    "name": "ipython",
    "version": 3
   },
   "file_extension": ".py",
   "mimetype": "text/x-python",
   "name": "python",
   "nbconvert_exporter": "python",
   "pygments_lexer": "ipython3",
   "version": "3.7.7"
  }
 },
 "nbformat": 4,
 "nbformat_minor": 4
}
