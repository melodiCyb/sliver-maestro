{
 "cells": [
  {
   "cell_type": "code",
   "execution_count": 1,
   "metadata": {},
   "outputs": [],
   "source": [
    "import csv\n",
    "import ndjson\n",
    "import os\n",
    "import sys"
   ]
  },
  {
   "cell_type": "code",
   "execution_count": 2,
   "metadata": {},
   "outputs": [
    {
     "name": "stdout",
     "output_type": "stream",
     "text": [
      "root_path: C:\\Users\\ozgur\\Desktop\\sandbox\\sliver-maestro\n"
     ]
    }
   ],
   "source": [
    "base_path = os.getcwd().split('sliver-maestro')[0]\n",
    "root_path = os.path.join(base_path, \"sliver-maestro\")\n",
    "print(\"root_path: {}\".format(root_path))"
   ]
  },
  {
   "cell_type": "code",
   "execution_count": 3,
   "metadata": {},
   "outputs": [],
   "source": [
    "sys.path.insert(1, root_path)\n",
    "from src.utils.model_utils import *\n",
    "from src.draw_model import *\n",
    "from src.generate_images import *"
   ]
  },
  {
   "cell_type": "code",
   "execution_count": 4,
   "metadata": {},
   "outputs": [],
   "source": [
    "categories_file = os.path.join(root_path, \"src\", \"data\", \"categories.csv\")"
   ]
  },
  {
   "cell_type": "code",
   "execution_count": 5,
   "metadata": {},
   "outputs": [],
   "source": [
    "with open(categories_file, newline='') as f:\n",
    "    reader = csv.reader(f)\n",
    "    categories = {rows[0]:rows[0] for rows in reader}"
   ]
  },
  {
   "cell_type": "markdown",
   "metadata": {},
   "source": [
    "#### Select a category to download images from "
   ]
  },
  {
   "cell_type": "code",
   "execution_count": 6,
   "metadata": {},
   "outputs": [],
   "source": [
    "for key, value in categories.items():\n",
    "    #print(key)\n",
    "    pass"
   ]
  },
  {
   "cell_type": "code",
   "execution_count": 7,
   "metadata": {},
   "outputs": [
    {
     "name": "stdout",
     "output_type": "stream",
     "text": [
      "Selected category from the list above:\n",
      "cat\n"
     ]
    }
   ],
   "source": [
    "print(\"Selected category from the list above:\")\n",
    "#category=input()\n",
    "category='cat'\n",
    "print(category)"
   ]
  },
  {
   "cell_type": "code",
   "execution_count": 8,
   "metadata": {},
   "outputs": [
    {
     "name": "stdout",
     "output_type": "stream",
     "text": [
      "Creating directories to save images, weights and the model ...\n",
      "C:\\Users\\ozgur\\Desktop\\sandbox\\sliver-maestro\\src\\data folder exists...\n",
      "C:\\Users\\ozgur\\Desktop\\sandbox\\sliver-maestro\\src\\save folder exists...\n",
      "C:\\Users\\ozgur\\Desktop\\sandbox\\sliver-maestro\\src\\data\\input folder exists...\n",
      "C:\\Users\\ozgur\\Desktop\\sandbox\\sliver-maestro\\src\\data\\output folder exists...\n",
      "C:\\Users\\ozgur\\Desktop\\sandbox\\sliver-maestro\\src\\data\\output\\images folder exists...\n",
      "C:\\Users\\ozgur\\Desktop\\sandbox\\sliver-maestro\\src\\data\\output\\positions folder exists...\n",
      "C:\\Users\\ozgur\\Desktop\\sandbox\\sliver-maestro\\src\\data\\raw folder exists...\n",
      "C:\\Users\\ozgur\\Desktop\\sandbox\\sliver-maestro\\src\\save\\cat folder exists...\n",
      "C:\\Users\\ozgur\\Desktop\\sandbox\\sliver-maestro\\src\\data\\input\\cat folder exists...\n",
      "C:\\Users\\ozgur\\Desktop\\sandbox\\sliver-maestro\\src\\data\\raw\\cat folder exists...\n",
      "C:\\Users\\ozgur\\Desktop\\sandbox\\sliver-maestro\\src\\data\\output\\images\\cat folder exists...\n",
      "src_file: gs://quickdraw_dataset/full/numpy_bitmap/cat.npy, dst_file: C:\\Users\\ozgur\\Desktop\\sandbox\\sliver-maestro\\src\\data\\input\\cat\\cat.npy\n",
      "src_file: gs://quickdraw_dataset/full/raw/cat.ndjson, dst_file: C:\\Users\\ozgur\\Desktop\\sandbox\\sliver-maestro\\src\\data\\raw\\cat\\cat.ndjson\n"
     ]
    }
   ],
   "source": [
    "print(\"Creating directories to save images, weights and the model ...\")\n",
    "src_list, dst_list, paths_dict = create_folders(root_path, categories, category)\n",
    "\n",
    "for (src_file, dst_file) in zip(src_list, dst_list): \n",
    "    print('src_file: {}, dst_file: {}'.format(src_file, dst_file))"
   ]
  },
  {
   "cell_type": "code",
   "execution_count": 9,
   "metadata": {},
   "outputs": [
    {
     "name": "stderr",
     "output_type": "stream",
     "text": [
      "Copying gs://quickdraw_dataset/full/numpy_bitmap/cat.npy...\n",
      "/ [0/1 files][    0.0 B/ 92.1 MiB]   0% Done                                    \n",
      "-\n",
      "- [0/1 files][  5.4 MiB/ 92.1 MiB]   5% Done                                    \n",
      "\\\n",
      "|\n",
      "| [0/1 files][ 13.7 MiB/ 92.1 MiB]  14% Done                                    \n",
      "/\n",
      "/ [0/1 files][ 21.4 MiB/ 92.1 MiB]  23% Done                                    \n",
      "-\n",
      "\\\n",
      "\\ [0/1 files][ 29.1 MiB/ 92.1 MiB]  31% Done                                    \n",
      "|\n",
      "/\n",
      "/ [0/1 files][ 36.6 MiB/ 92.1 MiB]  39% Done                                    \n",
      "-\n",
      "- [0/1 files][ 44.6 MiB/ 92.1 MiB]  48% Done                                    \n",
      "\\\n",
      "|\n",
      "| [0/1 files][ 52.1 MiB/ 92.1 MiB]  56% Done                                    \n",
      "/\n",
      "-\n",
      "- [0/1 files][ 60.8 MiB/ 92.1 MiB]  66% Done                                    \n",
      "\\\n",
      "\\ [0/1 files][ 69.9 MiB/ 92.1 MiB]  75% Done                                    \n",
      "|\n",
      "/\n",
      "/ [0/1 files][ 78.9 MiB/ 92.1 MiB]  85% Done                                    \n",
      "-\n",
      "\\\n",
      "\\ [0/1 files][ 85.6 MiB/ 92.1 MiB]  92% Done   8.0 MiB/s ETA 00:00:01           \n",
      "|\n",
      "| [1/1 files][ 92.1 MiB/ 92.1 MiB] 100% Done   8.2 MiB/s ETA 00:00:00           \n",
      "\n",
      "Operation completed over 1 objects/92.1 MiB.                                     \n",
      "Copying gs://quickdraw_dataset/full/raw/cat.ndjson...\n",
      "/ [0/1 files][    0.0 B/496.9 MiB]   0% Done                                    \n",
      "/ [0/1 files][    0.0 B/496.9 MiB]   0% Done                                    \n",
      "-\n",
      "\\\n",
      "\\ [0/1 files][  3.9 MiB/496.9 MiB]   0% Done                                    \n",
      "|\n",
      "/\n",
      "/ [0/1 files][ 11.1 MiB/496.9 MiB]   2% Done                                    \n",
      "-\n",
      "- [0/1 files][ 18.0 MiB/496.9 MiB]   3% Done                                    \n",
      "\\\n",
      "|\n",
      "| [0/1 files][ 24.2 MiB/496.9 MiB]   4% Done                                    \n",
      "/\n",
      "-\n",
      "- [0/1 files][ 30.4 MiB/496.9 MiB]   6% Done                                    \n",
      "\\\n",
      "\\ [0/1 files][ 36.9 MiB/496.9 MiB]   7% Done                                    \n",
      "|\n",
      "/\n",
      "/ [0/1 files][ 42.8 MiB/496.9 MiB]   8% Done                                    \n",
      "-\n",
      "- [0/1 files][ 49.2 MiB/496.9 MiB]   9% Done   6.2 MiB/s ETA 00:01:12           \n",
      "\\\n",
      "|\n",
      "| [0/1 files][ 56.7 MiB/496.9 MiB]  11% Done   6.4 MiB/s ETA 00:01:09           \n",
      "/\n",
      "-\n",
      "- [0/1 files][ 65.0 MiB/496.9 MiB]  13% Done   6.8 MiB/s ETA 00:01:04           \n",
      "\\\n",
      "\\ [0/1 files][ 71.9 MiB/496.9 MiB]  14% Done   6.8 MiB/s ETA 00:01:02           \n",
      "|\n",
      "/\n",
      "/ [0/1 files][ 79.4 MiB/496.9 MiB]  15% Done   7.1 MiB/s ETA 00:00:59           \n",
      "-\n",
      "- [0/1 files][ 86.9 MiB/496.9 MiB]  17% Done   7.3 MiB/s ETA 00:00:56           \n",
      "\\\n",
      "|\n",
      "| [0/1 files][ 94.1 MiB/496.9 MiB]  18% Done   7.2 MiB/s ETA 00:00:56           \n",
      "/\n",
      "-\n",
      "- [0/1 files][101.3 MiB/496.9 MiB]  20% Done   7.0 MiB/s ETA 00:00:57           \n",
      "\\\n",
      "\\ [0/1 files][108.8 MiB/496.9 MiB]  21% Done   7.1 MiB/s ETA 00:00:54           \n",
      "|\n",
      "/\n",
      "/ [0/1 files][116.0 MiB/496.9 MiB]  23% Done   7.1 MiB/s ETA 00:00:54           \n",
      "-\n",
      "\\\n",
      "\\ [0/1 files][123.2 MiB/496.9 MiB]  24% Done   7.1 MiB/s ETA 00:00:53           \n",
      "|\n",
      "| [0/1 files][130.4 MiB/496.9 MiB]  26% Done   7.1 MiB/s ETA 00:00:51           \n",
      "/\n",
      "-\n",
      "- [0/1 files][136.6 MiB/496.9 MiB]  27% Done   6.9 MiB/s ETA 00:00:52           \n",
      "\\\n",
      "\\ [0/1 files][142.8 MiB/496.9 MiB]  28% Done   6.7 MiB/s ETA 00:00:53           \n",
      "|\n",
      "/\n",
      "/ [0/1 files][151.1 MiB/496.9 MiB]  30% Done   6.9 MiB/s ETA 00:00:50           \n",
      "-\n",
      "\\\n",
      "\\ [0/1 files][158.0 MiB/496.9 MiB]  31% Done   6.8 MiB/s ETA 00:00:50           \n",
      "|\n",
      "| [0/1 files][165.3 MiB/496.9 MiB]  33% Done   6.9 MiB/s ETA 00:00:48           \n",
      "/\n",
      "-\n",
      "- [0/1 files][172.7 MiB/496.9 MiB]  34% Done   7.1 MiB/s ETA 00:00:45           \n",
      "\\\n",
      "|\n",
      "| [0/1 files][179.7 MiB/496.9 MiB]  36% Done   7.3 MiB/s ETA 00:00:43           \n",
      "/\n",
      "/ [0/1 files][186.9 MiB/496.9 MiB]  37% Done   7.1 MiB/s ETA 00:00:44           \n",
      "-\n",
      "\\\n",
      "\\ [0/1 files][193.9 MiB/496.9 MiB]  39% Done   7.1 MiB/s ETA 00:00:43           \n",
      "|\n",
      "/\n",
      "/ [0/1 files][201.1 MiB/496.9 MiB]  40% Done   7.1 MiB/s ETA 00:00:42           \n",
      "-\n",
      "- [0/1 files][208.8 MiB/496.9 MiB]  42% Done   7.2 MiB/s ETA 00:00:40           \n",
      "\\\n",
      "|\n",
      "| [0/1 files][214.8 MiB/496.9 MiB]  43% Done   6.9 MiB/s ETA 00:00:41           \n",
      "/\n",
      "/ [0/1 files][222.2 MiB/496.9 MiB]  44% Done   7.0 MiB/s ETA 00:00:39           \n",
      "-\n",
      "\\\n",
      "\\ [0/1 files][230.2 MiB/496.9 MiB]  46% Done   7.1 MiB/s ETA 00:00:37           \n",
      "|\n",
      "/\n",
      "/ [0/1 files][238.0 MiB/496.9 MiB]  47% Done   7.2 MiB/s ETA 00:00:36           \n",
      "-\n",
      "- [0/1 files][245.7 MiB/496.9 MiB]  49% Done   7.2 MiB/s ETA 00:00:35           \n",
      "\\\n",
      "|\n",
      "| [0/1 files][253.2 MiB/496.9 MiB]  50% Done   7.5 MiB/s ETA 00:00:32           \n",
      "/\n",
      "-\n",
      "- [0/1 files][260.6 MiB/496.9 MiB]  52% Done   7.5 MiB/s ETA 00:00:31           \n",
      "\\\n",
      "\\ [0/1 files][267.9 MiB/496.9 MiB]  53% Done   7.3 MiB/s ETA 00:00:31           \n",
      "|\n",
      "/\n",
      "/ [0/1 files][275.9 MiB/496.9 MiB]  55% Done   7.3 MiB/s ETA 00:00:30           \n",
      "-\n",
      "\\\n",
      "\\ [0/1 files][283.3 MiB/496.9 MiB]  57% Done   7.4 MiB/s ETA 00:00:29           \n",
      "|\n",
      "| [0/1 files][290.0 MiB/496.9 MiB]  58% Done   7.2 MiB/s ETA 00:00:29           \n",
      "/\n",
      "-\n",
      "- [0/1 files][297.1 MiB/496.9 MiB]  59% Done   7.1 MiB/s ETA 00:00:28           \n",
      "\\\n",
      "|\n",
      "| [0/1 files][303.3 MiB/496.9 MiB]  61% Done   7.0 MiB/s ETA 00:00:28           \n",
      "/\n",
      "/ [0/1 files][312.3 MiB/496.9 MiB]  62% Done   7.1 MiB/s ETA 00:00:26           \n",
      "-\n",
      "\\\n",
      "\\ [0/1 files][321.9 MiB/496.9 MiB]  64% Done   7.6 MiB/s ETA 00:00:23           \n",
      "|\n",
      "/\n",
      "/ [0/1 files][331.9 MiB/496.9 MiB]  66% Done   8.3 MiB/s ETA 00:00:20           \n",
      "-\n",
      "- [0/1 files][340.7 MiB/496.9 MiB]  68% Done   8.7 MiB/s ETA 00:00:18           \n",
      "\\\n",
      "|\n",
      "| [0/1 files][349.7 MiB/496.9 MiB]  70% Done   9.1 MiB/s ETA 00:00:16           \n",
      "/\n",
      "/ [0/1 files][356.7 MiB/496.9 MiB]  71% Done   8.7 MiB/s ETA 00:00:16           \n",
      "-\n",
      "\\\n",
      "\\ [0/1 files][364.9 MiB/496.9 MiB]  73% Done   8.5 MiB/s ETA 00:00:16           \n",
      "|\n",
      "/\n",
      "/ [0/1 files][373.2 MiB/496.9 MiB]  75% Done   8.0 MiB/s ETA 00:00:15           \n",
      "-\n",
      "- [0/1 files][380.4 MiB/496.9 MiB]  76% Done   7.7 MiB/s ETA 00:00:15           \n",
      "\\\n",
      "|\n",
      "| [0/1 files][387.4 MiB/496.9 MiB]  77% Done   7.4 MiB/s ETA 00:00:15           \n",
      "/\n",
      "-\n",
      "- [0/1 files][394.8 MiB/496.9 MiB]  79% Done   7.5 MiB/s ETA 00:00:14           \n",
      "\\\n",
      "\\ [0/1 files][402.8 MiB/496.9 MiB]  81% Done   7.4 MiB/s ETA 00:00:13           \n",
      "|\n",
      "/\n",
      "/ [0/1 files][411.6 MiB/496.9 MiB]  82% Done   7.6 MiB/s ETA 00:00:11           \n",
      "-\n",
      "\\\n",
      "\\ [0/1 files][420.1 MiB/496.9 MiB]  84% Done   7.8 MiB/s ETA 00:00:10           \n",
      "|\n",
      "| [0/1 files][428.1 MiB/496.9 MiB]  86% Done   8.0 MiB/s ETA 00:00:09           \n",
      "/\n",
      "-\n",
      "- [0/1 files][435.6 MiB/496.9 MiB]  87% Done   8.0 MiB/s ETA 00:00:08           \n",
      "\\\n",
      "\\ [0/1 files][444.1 MiB/496.9 MiB]  89% Done   8.1 MiB/s ETA 00:00:07           \n",
      "|\n",
      "/\n",
      "/ [0/1 files][450.7 MiB/496.9 MiB]  90% Done   7.7 MiB/s ETA 00:00:06           \n",
      "-\n",
      "\\\n",
      "\\ [0/1 files][460.5 MiB/496.9 MiB]  92% Done   7.9 MiB/s ETA 00:00:05           \n",
      "|\n",
      "| [0/1 files][470.0 MiB/496.9 MiB]  94% Done   8.2 MiB/s ETA 00:00:03           \n",
      "/\n",
      "-\n",
      "- [0/1 files][479.3 MiB/496.9 MiB]  96% Done   8.6 MiB/s ETA 00:00:02           \n",
      "\\\n",
      "|\n",
      "| [0/1 files][489.6 MiB/496.9 MiB]  98% Done   8.9 MiB/s ETA 00:00:01           \n",
      "/\n",
      "/ [1/1 files][496.9 MiB/496.9 MiB] 100% Done   9.6 MiB/s ETA 00:00:00           \n",
      "\n",
      "Operation completed over 1 objects/496.9 MiB.                                    \n"
     ]
    }
   ],
   "source": [
    "for (src_file, dst_file) in zip(src_list, dst_list): \n",
    "    !gsutil -m cp {src_file} {dst_file}"
   ]
  },
  {
   "cell_type": "code",
   "execution_count": 10,
   "metadata": {},
   "outputs": [],
   "source": [
    "model_path = os.path.join(paths_dict['input_path'], category, category)"
   ]
  },
  {
   "cell_type": "code",
   "execution_count": 11,
   "metadata": {},
   "outputs": [],
   "source": [
    "npy_data = np.load(paths_dict['base_input'] + '.npy', allow_pickle=True)"
   ]
  },
  {
   "cell_type": "code",
   "execution_count": 12,
   "metadata": {},
   "outputs": [],
   "source": [
    "# load from file-like objects\n",
    "with open(paths_dict['base_raw'] + '.ndjson') as f:\n",
    "    ndjson_data = ndjson.load(f)"
   ]
  },
  {
   "cell_type": "code",
   "execution_count": 13,
   "metadata": {},
   "outputs": [],
   "source": [
    "def plot_bitmap():\n",
    "    print(\"Bitmap image:\")\n",
    "    plt.imshow(npy_data[int(index)].reshape(28,28))"
   ]
  },
  {
   "cell_type": "code",
   "execution_count": 14,
   "metadata": {},
   "outputs": [],
   "source": [
    "def plot_raw():\n",
    "    print(\"Raw image:\")\n",
    "    i = 0\n",
    "    for stroke in ndjson_data[int(index)]['drawing']:\n",
    "        stroke = np.array(stroke)\n",
    "        plt.plot(stroke[0], stroke[1]*-1)\n",
    "        i += 1\n",
    "    print('There are', i, 'number of strokes in this raw image file!')"
   ]
  },
  {
   "cell_type": "code",
   "execution_count": 15,
   "metadata": {},
   "outputs": [
    {
     "name": "stdout",
     "output_type": "stream",
     "text": [
      "There are  123203  images in selected category cat\n",
      "Select an index value from 0 to 123202 to display and compare bitmap and raw images:\n",
      "Bitmap image:\n"
     ]
    },
    {
     "data": {
      "image/png": "[encoded data removed]",
      "text/plain": [
       "<Figure size 432x288 with 1 Axes>"
      ]
     },
     "metadata": {
      "needs_background": "light"
     },
     "output_type": "display_data"
    },
    {
     "name": "stdout",
     "output_type": "stream",
     "text": [
      "Raw image:\n",
      "There are 9 number of strokes in this raw image file!\n"
     ]
    },
    {
     "data": {
      "image/png": "[encoded data removed]",
      "text/plain": [
       "<Figure size 432x288 with 1 Axes>"
      ]
     },
     "metadata": {
      "needs_background": "light"
     },
     "output_type": "display_data"
    }
   ],
   "source": [
    "print('There are ', len(npy_data)+1, ' images in selected category', categories[category])\n",
    "print(\"Select an index value from 0 to\", len(npy_data), \"to display and compare bitmap and raw images:\")\n",
    "#index=input()\n",
    "index='0'\n",
    "plot_bitmap()\n",
    "plt.show()\n",
    "plot_raw()"
   ]
  },
  {
   "cell_type": "code",
   "execution_count": 16,
   "metadata": {},
   "outputs": [],
   "source": [
    "# TRAIN TEST SPLIT\n",
    "filepath = paths_dict['input_path']\n",
    "x_train, x_test, y_train, y_test = split_data(filepath, categories[category], shuffle=False)"
   ]
  },
  {
   "cell_type": "code",
   "execution_count": 17,
   "metadata": {},
   "outputs": [
    {
     "data": {
      "text/plain": [
       "DRAW(\n",
       "  (encoder): LSTMCell(306, 256)\n",
       "  (mu_linear): Linear(in_features=256, out_features=10, bias=True)\n",
       "  (sigma_linear): Linear(in_features=256, out_features=10, bias=True)\n",
       "  (decoder): LSTMCell(10, 256)\n",
       "  (dec_linear): Linear(in_features=256, out_features=5, bias=True)\n",
       "  (dec_w_linear): Linear(in_features=256, out_features=25, bias=True)\n",
       "  (sigmoid): Sigmoid()\n",
       ")"
      ]
     },
     "execution_count": 17,
     "metadata": {},
     "output_type": "execute_result"
    }
   ],
   "source": [
    "DRAW(model_path, category)"
   ]
  },
  {
   "cell_type": "code",
   "execution_count": 18,
   "metadata": {},
   "outputs": [
    {
     "name": "stdout",
     "output_type": "stream",
     "text": [
      "training...\n"
     ]
    },
    {
     "name": "stderr",
     "output_type": "stream",
     "text": [
      "C:\\Users\\ozgur\\Desktop\\sandbox\\sliver-maestro\\src\\draw_model.py:210: UserWarning: torch.nn.utils.clip_grad_norm is now deprecated in favor of torch.nn.utils.clip_grad_norm_.\n",
      "  torch.nn.utils.clip_grad_norm(self.parameters(), self.clip)\n"
     ]
    },
    {
     "name": "stdout",
     "output_type": "stream",
     "text": [
      "Phase: train | Epoch: 0 | Count: 100 \\ Start Time: 12:20:47 | Loss: 354\n",
      "Phase: train | Epoch: 0 | Count: 200 \\ Start Time: 12:21:21 | Loss: 327\n",
      "Phase: train | Epoch: 0 | Count: 300 \\ Start Time: 12:21:56 | Loss: 319\n",
      "Phase: train | Epoch: 0 | Count: 400 \\ Start Time: 12:22:34 | Loss: 309\n",
      "Phase: train | Epoch: 0 | Count: 500 \\ Start Time: 12:23:11 | Loss: 307\n",
      "Phase: train | Epoch: 0 | Count: 600 \\ Start Time: 12:23:49 | Loss: 308\n",
      "Phase: train | Epoch: 0 | Count: 700 \\ Start Time: 12:24:27 | Loss: 305\n",
      "Phase: train | Epoch: 0 | Count: 800 \\ Start Time: 12:25:04 | Loss: 300\n",
      "Phase: train | Epoch: 0 | Count: 900 \\ Start Time: 12:25:41 | Loss: 300\n",
      "Phase: train | Epoch: 0 | Count: 1000 \\ Start Time: 12:26:20 | Loss: 294\n",
      "Phase: train | Epoch: 0 | Count: 1100 \\ Start Time: 12:26:55 | Loss: 294\n",
      "Phase: train | Epoch: 0 | Count: 1200 \\ Start Time: 12:27:31 | Loss: 291\n",
      "Phase: train | Epoch: 0 | Count: 1300 \\ Start Time: 12:28:05 | Loss: 291\n",
      "Phase: train | Epoch: 0 | Count: 1400 \\ Start Time: 12:28:39 | Loss: 289\n",
      "Phase: train | Epoch: 0 | Count: 1500 \\ Start Time: 12:29:13 | Loss: 286\n",
      "Phase: train | Epoch: 1 | Count: 1600 \\ Start Time: 12:29:47 | Loss: 284\n",
      "Phase: train | Epoch: 1 | Count: 1700 \\ Start Time: 12:30:20 | Loss: 283\n",
      "Phase: train | Epoch: 1 | Count: 1800 \\ Start Time: 12:30:52 | Loss: 283\n",
      "Phase: train | Epoch: 1 | Count: 1900 \\ Start Time: 12:31:25 | Loss: 282\n",
      "Phase: train | Epoch: 1 | Count: 2000 \\ Start Time: 12:31:57 | Loss: 279\n",
      "Phase: train | Epoch: 1 | Count: 2100 \\ Start Time: 12:32:30 | Loss: 279\n",
      "Phase: train | Epoch: 1 | Count: 2200 \\ Start Time: 12:33:02 | Loss: 275\n",
      "Phase: train | Epoch: 1 | Count: 2300 \\ Start Time: 12:33:35 | Loss: 276\n",
      "Phase: train | Epoch: 1 | Count: 2400 \\ Start Time: 12:34:07 | Loss: 274\n",
      "Phase: train | Epoch: 1 | Count: 2500 \\ Start Time: 12:34:40 | Loss: 274\n",
      "Phase: train | Epoch: 1 | Count: 2600 \\ Start Time: 12:35:12 | Loss: 272\n",
      "Phase: train | Epoch: 1 | Count: 2700 \\ Start Time: 12:35:45 | Loss: 271\n",
      "Phase: train | Epoch: 1 | Count: 2800 \\ Start Time: 12:36:18 | Loss: 271\n",
      "Phase: train | Epoch: 1 | Count: 2900 \\ Start Time: 12:36:49 | Loss: 272\n",
      "Phase: train | Epoch: 1 | Count: 3000 \\ Start Time: 12:37:21 | Loss: 268\n",
      "Phase: train | Epoch: 2 | Count: 3100 \\ Start Time: 12:37:52 | Loss: 268\n",
      "Phase: train | Epoch: 2 | Count: 3200 \\ Start Time: 12:38:23 | Loss: 267\n",
      "Phase: train | Epoch: 2 | Count: 3300 \\ Start Time: 12:38:55 | Loss: 270\n",
      "Phase: train | Epoch: 2 | Count: 3400 \\ Start Time: 12:39:26 | Loss: 266\n",
      "Phase: train | Epoch: 2 | Count: 3500 \\ Start Time: 12:39:58 | Loss: 265\n",
      "Phase: train | Epoch: 2 | Count: 3600 \\ Start Time: 12:40:29 | Loss: 265\n",
      "Phase: train | Epoch: 2 | Count: 3700 \\ Start Time: 12:41:02 | Loss: 264\n",
      "Phase: train | Epoch: 2 | Count: 3800 \\ Start Time: 12:41:34 | Loss: 264\n",
      "Phase: train | Epoch: 2 | Count: 3900 \\ Start Time: 12:42:09 | Loss: 262\n",
      "Phase: train | Epoch: 2 | Count: 4000 \\ Start Time: 12:42:46 | Loss: 262\n",
      "Phase: train | Epoch: 2 | Count: 4100 \\ Start Time: 12:43:19 | Loss: 260\n",
      "Phase: train | Epoch: 2 | Count: 4200 \\ Start Time: 12:43:52 | Loss: 260\n",
      "Phase: train | Epoch: 2 | Count: 4300 \\ Start Time: 12:44:29 | Loss: 260\n",
      "Phase: train | Epoch: 2 | Count: 4400 \\ Start Time: 12:45:01 | Loss: 260\n",
      "Phase: train | Epoch: 2 | Count: 4500 \\ Start Time: 12:45:33 | Loss: 259\n",
      "Phase: train | Epoch: 2 | Count: 4600 \\ Start Time: 12:46:04 | Loss: 257\n",
      "Phase: train | Epoch: 3 | Count: 4700 \\ Start Time: 12:46:36 | Loss: 257\n",
      "Phase: train | Epoch: 3 | Count: 4800 \\ Start Time: 12:47:07 | Loss: 256\n",
      "Phase: train | Epoch: 3 | Count: 4900 \\ Start Time: 12:47:38 | Loss: 257\n",
      "Phase: train | Epoch: 3 | Count: 5000 \\ Start Time: 12:48:10 | Loss: 257\n",
      "Phase: train | Epoch: 3 | Count: 5100 \\ Start Time: 12:48:43 | Loss: 256\n",
      "Phase: train | Epoch: 3 | Count: 5200 \\ Start Time: 12:49:15 | Loss: 256\n",
      "Phase: train | Epoch: 3 | Count: 5300 \\ Start Time: 12:49:53 | Loss: 255\n",
      "Phase: train | Epoch: 3 | Count: 5400 \\ Start Time: 12:50:29 | Loss: 255\n",
      "Phase: train | Epoch: 3 | Count: 5500 \\ Start Time: 12:51:04 | Loss: 255\n",
      "Phase: train | Epoch: 3 | Count: 5600 \\ Start Time: 12:51:40 | Loss: 253\n",
      "Phase: train | Epoch: 3 | Count: 5700 \\ Start Time: 12:52:17 | Loss: 253\n",
      "Phase: train | Epoch: 3 | Count: 5800 \\ Start Time: 12:52:55 | Loss: 253\n",
      "Phase: train | Epoch: 3 | Count: 5900 \\ Start Time: 12:53:32 | Loss: 254\n",
      "Phase: train | Epoch: 3 | Count: 6000 \\ Start Time: 12:54:10 | Loss: 253\n",
      "Phase: train | Epoch: 3 | Count: 6100 \\ Start Time: 12:54:47 | Loss: 252\n",
      "Phase: train | Epoch: 4 | Count: 6200 \\ Start Time: 12:55:25 | Loss: 252\n",
      "Phase: train | Epoch: 4 | Count: 6300 \\ Start Time: 12:56:02 | Loss: 251\n",
      "Phase: train | Epoch: 4 | Count: 6400 \\ Start Time: 12:56:39 | Loss: 253\n",
      "Phase: train | Epoch: 4 | Count: 6500 \\ Start Time: 12:57:16 | Loss: 251\n",
      "Phase: train | Epoch: 4 | Count: 6600 \\ Start Time: 12:57:55 | Loss: 249\n",
      "Phase: train | Epoch: 4 | Count: 6700 \\ Start Time: 12:58:33 | Loss: 251\n",
      "Phase: train | Epoch: 4 | Count: 6800 \\ Start Time: 12:59:10 | Loss: 251\n",
      "Phase: train | Epoch: 4 | Count: 6900 \\ Start Time: 12:59:47 | Loss: 250\n",
      "Phase: train | Epoch: 4 | Count: 7000 \\ Start Time: 13:00:29 | Loss: 250\n",
      "Phase: train | Epoch: 4 | Count: 7100 \\ Start Time: 13:01:09 | Loss: 250\n",
      "Phase: train | Epoch: 4 | Count: 7200 \\ Start Time: 13:01:47 | Loss: 248\n",
      "Phase: train | Epoch: 4 | Count: 7300 \\ Start Time: 13:02:27 | Loss: 249\n",
      "Phase: train | Epoch: 4 | Count: 7400 \\ Start Time: 13:03:05 | Loss: 249\n",
      "Phase: train | Epoch: 4 | Count: 7500 \\ Start Time: 13:03:42 | Loss: 249\n",
      "Phase: train | Epoch: 4 | Count: 7600 \\ Start Time: 13:04:19 | Loss: 247\n",
      "Phase: train | Epoch: 4 | Count: 7700 \\ Start Time: 13:04:56 | Loss: 248\n",
      "Phase: train | Epoch: 5 | Count: 7800 \\ Start Time: 13:05:33 | Loss: 248\n",
      "Phase: train | Epoch: 5 | Count: 7900 \\ Start Time: 13:06:10 | Loss: 247\n",
      "Phase: train | Epoch: 5 | Count: 8000 \\ Start Time: 13:06:46 | Loss: 249\n",
      "Phase: train | Epoch: 5 | Count: 8100 \\ Start Time: 13:07:24 | Loss: 248\n",
      "Phase: train | Epoch: 5 | Count: 8200 \\ Start Time: 13:08:04 | Loss: 248\n",
      "Phase: train | Epoch: 5 | Count: 8300 \\ Start Time: 13:08:41 | Loss: 248\n",
      "Phase: train | Epoch: 5 | Count: 8400 \\ Start Time: 13:09:19 | Loss: 247\n",
      "Phase: train | Epoch: 5 | Count: 8500 \\ Start Time: 13:09:59 | Loss: 246\n",
      "Phase: train | Epoch: 5 | Count: 8600 \\ Start Time: 13:10:36 | Loss: 246\n",
      "Phase: train | Epoch: 5 | Count: 8700 \\ Start Time: 13:11:13 | Loss: 245\n",
      "Phase: train | Epoch: 5 | Count: 8800 \\ Start Time: 13:11:49 | Loss: 245\n",
      "Phase: train | Epoch: 5 | Count: 8900 \\ Start Time: 13:12:25 | Loss: 246\n",
      "Phase: train | Epoch: 5 | Count: 9000 \\ Start Time: 13:13:02 | Loss: 246\n",
      "Phase: train | Epoch: 5 | Count: 9100 \\ Start Time: 13:13:39 | Loss: 246\n",
      "Phase: train | Epoch: 5 | Count: 9200 \\ Start Time: 13:14:17 | Loss: 245\n",
      "Phase: train | Epoch: 6 | Count: 9300 \\ Start Time: 13:14:55 | Loss: 245\n",
      "Phase: train | Epoch: 6 | Count: 9400 \\ Start Time: 13:15:32 | Loss: 245\n",
      "Phase: train | Epoch: 6 | Count: 9500 \\ Start Time: 13:16:08 | Loss: 246\n",
      "Phase: train | Epoch: 6 | Count: 9600 \\ Start Time: 13:16:44 | Loss: 245\n",
      "Phase: train | Epoch: 6 | Count: 9700 \\ Start Time: 13:17:21 | Loss: 244\n",
      "Phase: train | Epoch: 6 | Count: 9800 \\ Start Time: 13:17:57 | Loss: 245\n",
      "Phase: train | Epoch: 6 | Count: 9900 \\ Start Time: 13:18:35 | Loss: 244\n",
      "Phase: train | Epoch: 6 | Count: 10000 \\ Start Time: 13:19:11 | Loss: 245\n",
      "Phase: train | Epoch: 6 | Count: 10100 \\ Start Time: 13:19:47 | Loss: 244\n",
      "Phase: train | Epoch: 6 | Count: 10200 \\ Start Time: 13:20:23 | Loss: 243\n",
      "Phase: train | Epoch: 6 | Count: 10300 \\ Start Time: 13:21:01 | Loss: 243\n",
      "Phase: train | Epoch: 6 | Count: 10400 \\ Start Time: 13:21:38 | Loss: 243\n",
      "Phase: train | Epoch: 6 | Count: 10500 \\ Start Time: 13:22:13 | Loss: 244\n",
      "Phase: train | Epoch: 6 | Count: 10600 \\ Start Time: 13:22:49 | Loss: 244\n",
      "Phase: train | Epoch: 6 | Count: 10700 \\ Start Time: 13:23:25 | Loss: 243\n",
      "Phase: train | Epoch: 7 | Count: 10800 \\ Start Time: 13:24:03 | Loss: 243\n",
      "Phase: train | Epoch: 7 | Count: 10900 \\ Start Time: 13:24:40 | Loss: 242\n",
      "Phase: train | Epoch: 7 | Count: 11000 \\ Start Time: 13:25:16 | Loss: 243\n",
      "Phase: train | Epoch: 7 | Count: 11100 \\ Start Time: 13:25:52 | Loss: 243\n",
      "Phase: train | Epoch: 7 | Count: 11200 \\ Start Time: 13:26:29 | Loss: 242\n",
      "Phase: train | Epoch: 7 | Count: 11300 \\ Start Time: 13:27:06 | Loss: 243\n"
     ]
    },
    {
     "name": "stdout",
     "output_type": "stream",
     "text": [
      "Phase: train | Epoch: 7 | Count: 11400 \\ Start Time: 13:27:41 | Loss: 243\n",
      "Phase: train | Epoch: 7 | Count: 11500 \\ Start Time: 13:28:16 | Loss: 242\n",
      "Phase: train | Epoch: 7 | Count: 11600 \\ Start Time: 13:28:51 | Loss: 242\n",
      "Phase: train | Epoch: 7 | Count: 11700 \\ Start Time: 13:29:28 | Loss: 241\n",
      "Phase: train | Epoch: 7 | Count: 11800 \\ Start Time: 13:30:03 | Loss: 241\n",
      "Phase: train | Epoch: 7 | Count: 11900 \\ Start Time: 13:30:39 | Loss: 241\n",
      "Phase: train | Epoch: 7 | Count: 12000 \\ Start Time: 13:31:16 | Loss: 241\n",
      "Phase: train | Epoch: 7 | Count: 12100 \\ Start Time: 13:31:52 | Loss: 242\n",
      "Phase: train | Epoch: 7 | Count: 12200 \\ Start Time: 13:32:28 | Loss: 240\n",
      "Phase: train | Epoch: 7 | Count: 12300 \\ Start Time: 13:33:05 | Loss: 241\n",
      "Phase: train | Epoch: 8 | Count: 12400 \\ Start Time: 13:33:42 | Loss: 240\n",
      "Phase: train | Epoch: 8 | Count: 12500 \\ Start Time: 13:34:18 | Loss: 240\n",
      "Phase: train | Epoch: 8 | Count: 12600 \\ Start Time: 13:34:55 | Loss: 242\n",
      "Phase: train | Epoch: 8 | Count: 12700 \\ Start Time: 13:35:32 | Loss: 241\n",
      "Phase: train | Epoch: 8 | Count: 12800 \\ Start Time: 13:36:10 | Loss: 240\n",
      "Phase: train | Epoch: 8 | Count: 12900 \\ Start Time: 13:36:46 | Loss: 241\n",
      "Phase: train | Epoch: 8 | Count: 13000 \\ Start Time: 13:37:24 | Loss: 240\n",
      "Phase: train | Epoch: 8 | Count: 13100 \\ Start Time: 13:38:01 | Loss: 241\n",
      "Phase: train | Epoch: 8 | Count: 13200 \\ Start Time: 13:38:38 | Loss: 240\n",
      "Phase: train | Epoch: 8 | Count: 13300 \\ Start Time: 13:39:14 | Loss: 239\n",
      "Phase: train | Epoch: 8 | Count: 13400 \\ Start Time: 13:39:52 | Loss: 240\n",
      "Phase: train | Epoch: 8 | Count: 13500 \\ Start Time: 13:40:29 | Loss: 240\n",
      "Phase: train | Epoch: 8 | Count: 13600 \\ Start Time: 13:41:07 | Loss: 240\n",
      "Phase: train | Epoch: 8 | Count: 13700 \\ Start Time: 13:41:44 | Loss: 240\n",
      "Phase: train | Epoch: 8 | Count: 13800 \\ Start Time: 13:42:23 | Loss: 239\n",
      "Phase: train | Epoch: 9 | Count: 13900 \\ Start Time: 13:42:59 | Loss: 239\n",
      "Phase: train | Epoch: 9 | Count: 14000 \\ Start Time: 13:43:36 | Loss: 239\n",
      "Phase: train | Epoch: 9 | Count: 14100 \\ Start Time: 13:44:11 | Loss: 239\n",
      "Phase: train | Epoch: 9 | Count: 14200 \\ Start Time: 13:44:47 | Loss: 240\n",
      "Phase: train | Epoch: 9 | Count: 14300 \\ Start Time: 13:45:23 | Loss: 238\n",
      "Phase: train | Epoch: 9 | Count: 14400 \\ Start Time: 13:45:58 | Loss: 240\n",
      "Phase: train | Epoch: 9 | Count: 14500 \\ Start Time: 13:46:34 | Loss: 239\n",
      "Phase: train | Epoch: 9 | Count: 14600 \\ Start Time: 13:47:09 | Loss: 239\n",
      "Phase: train | Epoch: 9 | Count: 14700 \\ Start Time: 13:47:45 | Loss: 238\n",
      "Phase: train | Epoch: 9 | Count: 14800 \\ Start Time: 13:48:20 | Loss: 239\n",
      "Phase: train | Epoch: 9 | Count: 14900 \\ Start Time: 13:48:55 | Loss: 237\n",
      "Phase: train | Epoch: 9 | Count: 15000 \\ Start Time: 13:49:31 | Loss: 238\n",
      "Phase: train | Epoch: 9 | Count: 15100 \\ Start Time: 13:50:07 | Loss: 238\n",
      "Phase: train | Epoch: 9 | Count: 15200 \\ Start Time: 13:50:43 | Loss: 239\n",
      "Phase: train | Epoch: 9 | Count: 15300 \\ Start Time: 13:51:18 | Loss: 238\n",
      "Phase: train | Epoch: 9 | Count: 15400 \\ Start Time: 13:51:54 | Loss: 238\n"
     ]
    }
   ],
   "source": [
    "# TRAINING AND TESTING\n",
    "\n",
    "#train_data = Dataset(x_train)\n",
    "#test_data = Dataset(x_test)\n",
    "\n",
    "\n",
    "\n",
    "model = DRAW(category)\n",
    "print(\"training...\")\n",
    "model.start(phase='train') \n",
    "\n"
   ]
  },
  {
   "cell_type": "markdown",
   "metadata": {},
   "source": [
    "## Generating Images"
   ]
  },
  {
   "cell_type": "code",
   "execution_count": 19,
   "metadata": {},
   "outputs": [],
   "source": [
    "test_model = Test(category)"
   ]
  },
  {
   "cell_type": "code",
   "execution_count": 20,
   "metadata": {},
   "outputs": [
    {
     "name": "stdout",
     "output_type": "stream",
     "text": [
      "reconstructing images...\n",
      "C:\\Users\\ozgur\\Desktop\\sandbox\\sliver-maestro\\src\\data\\output\\images\\cat\\cat_test_0.png\n",
      "C:\\Users\\ozgur\\Desktop\\sandbox\\sliver-maestro\\src\\data\\output\\images\\cat\\cat_test_1.png\n",
      "C:\\Users\\ozgur\\Desktop\\sandbox\\sliver-maestro\\src\\data\\output\\images\\cat\\cat_test_2.png\n",
      "C:\\Users\\ozgur\\Desktop\\sandbox\\sliver-maestro\\src\\data\\output\\images\\cat\\cat_test_3.png\n",
      "C:\\Users\\ozgur\\Desktop\\sandbox\\sliver-maestro\\src\\data\\output\\images\\cat\\cat_test_4.png\n",
      "C:\\Users\\ozgur\\Desktop\\sandbox\\sliver-maestro\\src\\data\\output\\images\\cat\\cat_test_5.png\n",
      "C:\\Users\\ozgur\\Desktop\\sandbox\\sliver-maestro\\src\\data\\output\\images\\cat\\cat_test_6.png\n",
      "C:\\Users\\ozgur\\Desktop\\sandbox\\sliver-maestro\\src\\data\\output\\images\\cat\\cat_test_7.png\n",
      "C:\\Users\\ozgur\\Desktop\\sandbox\\sliver-maestro\\src\\data\\output\\images\\cat\\cat_test_8.png\n",
      "C:\\Users\\ozgur\\Desktop\\sandbox\\sliver-maestro\\src\\data\\output\\images\\cat\\cat_test_9.png\n"
     ]
    },
    {
     "data": {
      "text/plain": [
       "array([[5.00000000e-01, 5.00000000e-01, 5.00000000e-01, 5.00000000e-01,\n",
       "        5.00000000e-01, 5.00000000e-01, 5.00000000e-01, 5.00000000e-01,\n",
       "        5.00000000e-01, 5.00000000e-01, 5.00000000e-01, 5.00000000e-01,\n",
       "        5.00000000e-01, 5.00000000e-01, 5.00000000e-01, 5.00000000e-01,\n",
       "        5.00000000e-01, 5.00000000e-01, 5.00000000e-01, 5.00000000e-01,\n",
       "        5.00000000e-01, 5.00000000e-01, 5.00000000e-01, 5.00000000e-01,\n",
       "        5.00000000e-01, 5.00000000e-01, 5.00000000e-01, 5.00000000e-01,\n",
       "        5.00000000e-01, 5.00000000e-01],\n",
       "       [5.00000000e-01, 0.00000000e+00, 0.00000000e+00, 2.99491997e-35,\n",
       "        4.95218724e-25, 1.11129699e-19, 4.50202379e-17, 1.12594779e-16,\n",
       "        3.25144164e-18, 2.78022088e-21, 2.10996700e-25, 4.20970745e-30,\n",
       "        9.23887821e-35, 1.99675670e-38, 0.00000000e+00, 8.09234589e-39,\n",
       "        3.62142087e-35, 4.35458591e-30, 9.69998160e-25, 6.14205968e-20,\n",
       "        3.62470412e-16, 8.30557276e-14, 3.62135127e-13, 2.66451730e-14,\n",
       "        6.69638837e-17, 1.70743068e-20, 6.48058799e-25, 3.61245988e-31,\n",
       "        0.00000000e+00, 5.00000000e-01],\n",
       "       [5.00000000e-01, 0.00000000e+00, 6.75332679e-28, 1.48023375e-16,\n",
       "        1.29036963e-11, 4.12166434e-09, 7.39463673e-08, 1.26706112e-07,\n",
       "        3.13026227e-08, 2.29333863e-09, 8.01134298e-11, 1.23151597e-12,\n",
       "        8.37695510e-15, 7.07784304e-17, 5.35193508e-18, 1.54840931e-17,\n",
       "        1.11438122e-15, 2.99896609e-13, 5.58538840e-11, 4.32982761e-09,\n",
       "        1.68299607e-07, 3.09453094e-06, 1.67514936e-05, 2.00461891e-05,\n",
       "        7.18369938e-06, 1.25539452e-06, 7.21951139e-08, 6.74801534e-11,\n",
       "        9.67421266e-20, 5.00000000e-01],\n",
       "       [5.00000000e-01, 2.85624665e-35, 4.09874809e-17, 8.44958881e-10,\n",
       "        1.30356125e-06, 5.26302865e-05, 3.17884667e-04, 4.04112274e-04,\n",
       "        1.68707600e-04, 4.81005300e-05, 1.28132797e-05, 1.98273574e-06,\n",
       "        1.05830992e-07, 3.51951401e-09, 4.28095698e-10, 8.00172539e-10,\n",
       "        1.57000706e-08, 5.57753992e-07, 9.15889632e-06, 6.64397739e-05,\n",
       "        3.97783588e-04, 2.47615529e-03, 1.10819805e-02, 2.53358688e-02,\n",
       "        3.36821526e-02, 3.34602222e-02, 1.48727009e-02, 2.05317541e-04,\n",
       "        4.98711385e-11, 5.00000000e-01],\n",
       "       [5.00000000e-01, 2.39737196e-25, 2.07037816e-12, 7.35970502e-07,\n",
       "        2.57488893e-04, 4.68607945e-03, 1.64089724e-02, 1.66012328e-02,\n",
       "        7.96480197e-03, 3.56715661e-03, 1.90239248e-03, 7.05260027e-04,\n",
       "        9.65100771e-05, 7.12740120e-06, 1.29124282e-06, 2.07450512e-06,\n",
       "        2.15211221e-05, 3.12738062e-04, 2.03253212e-03, 6.18537283e-03,\n",
       "        1.65192038e-02, 5.10727763e-02, 1.40531346e-01, 2.65041083e-01,\n",
       "        3.74264538e-01, 4.51159149e-01, 3.61155629e-01, 2.36711260e-02,\n",
       "        2.45006902e-07, 5.00000000e-01],\n",
       "       [5.00000000e-01, 1.24654154e-19, 9.52980028e-10, 3.50419286e-05,\n",
       "        5.45707438e-03, 5.74045070e-02, 1.28874451e-01, 1.14665918e-01,\n",
       "        6.37685955e-02, 3.69161330e-02, 2.71508880e-02, 1.66710746e-02,\n",
       "        4.97912429e-03, 8.82187218e-04, 2.73115060e-04, 3.81807156e-04,\n",
       "        1.95375993e-03, 1.22136772e-02, 4.08956334e-02, 7.60931447e-02,\n",
       "        1.21959120e-01, 2.07498118e-01, 3.36871713e-01, 4.69118178e-01,\n",
       "        5.79101086e-01, 6.52106822e-01, 5.81549227e-01, 1.01069495e-01,\n",
       "        1.62694978e-05, 5.00000000e-01],\n",
       "       [5.00000000e-01, 7.00815420e-16, 6.14965785e-08, 4.58808150e-04,\n",
       "        3.59022133e-02, 2.13813841e-01, 3.34911734e-01, 2.96754360e-01,\n",
       "        2.04938769e-01, 1.50762513e-01, 1.38734937e-01, 1.29194915e-01,\n",
       "        8.79395455e-02, 4.37687859e-02, 2.60990914e-02, 3.07227056e-02,\n",
       "        6.52691945e-02, 1.44307926e-01, 2.29872033e-01, 2.79078960e-01,\n",
       "        3.11869740e-01, 3.57090205e-01, 4.21362191e-01, 5.00162065e-01,\n",
       "        5.86954415e-01, 6.52259827e-01, 5.93101382e-01, 1.54735297e-01,\n",
       "        1.55158777e-04, 5.00000000e-01],\n",
       "       [5.00000000e-01, 2.21806189e-13, 1.15228192e-06, 2.56091589e-03,\n",
       "        1.04729481e-01, 3.80073965e-01, 4.93781209e-01, 4.62129235e-01,\n",
       "        3.86031359e-01, 3.39482039e-01, 3.47948909e-01, 3.91591161e-01,\n",
       "        4.28657413e-01, 4.36407208e-01, 4.30161893e-01, 4.35910881e-01,\n",
       "        4.58670199e-01, 4.82575774e-01, 4.91885185e-01, 4.81765687e-01,\n",
       "        4.56645459e-01, 4.30919945e-01, 4.26055998e-01, 4.59098697e-01,\n",
       "        5.29285371e-01, 5.97598433e-01, 5.54913998e-01, 1.76389068e-01,\n",
       "        4.94704582e-04, 5.00000000e-01],\n",
       "       [5.00000000e-01, 8.73059524e-12, 8.60621549e-06, 7.72170816e-03,\n",
       "        1.80731848e-01, 4.80182528e-01, 5.86313546e-01, 5.83280087e-01,\n",
       "        5.48061013e-01, 5.21741688e-01, 5.27165592e-01, 5.67423940e-01,\n",
       "        6.27295017e-01, 6.81455970e-01, 7.08095193e-01, 7.00140178e-01,\n",
       "        6.67952001e-01, 6.33006096e-01, 6.07423782e-01, 5.79649985e-01,\n",
       "        5.30689836e-01, 4.65313166e-01, 4.18210983e-01, 4.21643347e-01,\n",
       "        4.79833245e-01, 5.52692652e-01, 5.26587725e-01, 1.83745340e-01,\n",
       "        7.30611966e-04, 5.00000000e-01],\n",
       "       [5.00000000e-01, 8.63443345e-11, 3.59930673e-05, 1.63357668e-02,\n",
       "        2.41651580e-01, 5.34828901e-01, 6.44040167e-01, 6.67757452e-01,\n",
       "        6.59507811e-01, 6.34324133e-01, 6.00458205e-01, 5.63811302e-01,\n",
       "        5.25205493e-01, 4.87186223e-01, 4.60752368e-01, 4.59016949e-01,\n",
       "        4.85427916e-01, 5.28752446e-01, 5.67164540e-01, 5.77121556e-01,\n",
       "        5.44251561e-01, 4.79328215e-01, 4.23579454e-01, 4.17543322e-01,\n",
       "        4.70770985e-01, 5.44880271e-01, 5.22983551e-01, 1.79326147e-01,\n",
       "        5.70174132e-04, 5.00000000e-01],\n",
       "       [5.00000000e-01, 4.13700518e-10, 1.18116703e-04, 3.08655482e-02,\n",
       "        2.98716962e-01, 5.69503069e-01, 6.72633052e-01, 7.00423539e-01,\n",
       "        6.89767003e-01, 6.45384967e-01, 5.62060833e-01, 4.28020328e-01,\n",
       "        2.59865791e-01, 1.33646220e-01, 8.36194530e-02, 8.94914418e-02,\n",
       "        1.52955681e-01, 2.79756457e-01, 4.08489972e-01, 4.74598914e-01,\n",
       "        4.78732198e-01, 4.49654371e-01, 4.24171954e-01, 4.35713887e-01,\n",
       "        4.95719731e-01, 5.67913353e-01, 5.33281267e-01, 1.58481151e-01,\n",
       "        2.59118242e-04, 5.00000000e-01],\n",
       "       [5.00000000e-01, 1.59119062e-09, 3.77513934e-04, 5.86467050e-02,\n",
       "        3.62053484e-01, 5.86354733e-01, 6.58516824e-01, 6.56839728e-01,\n",
       "        6.09481215e-01, 5.29875755e-01, 4.17082131e-01, 2.53412753e-01,\n",
       "        9.47185680e-02, 2.60538533e-02, 1.09581044e-02, 1.27143012e-02,\n",
       "        3.51047441e-02, 1.10537969e-01, 2.23245576e-01, 2.94549584e-01,\n",
       "        3.25316787e-01, 3.51193041e-01, 3.88681650e-01, 4.46978301e-01,\n",
       "        5.28881311e-01, 5.98863602e-01, 5.38318038e-01, 1.22689515e-01,\n",
       "        7.97748871e-05, 5.00000000e-01],\n",
       "       [5.00000000e-01, 6.56496679e-09, 1.22282491e-03, 1.08372733e-01,\n",
       "        4.21197116e-01, 5.76989114e-01, 5.93632400e-01, 5.28667033e-01,\n",
       "        4.20866489e-01, 3.22960526e-01, 2.42876649e-01, 1.41006455e-01,\n",
       "        4.54341583e-02, 9.93960444e-03, 3.56175425e-03, 4.29719221e-03,\n",
       "        1.43671688e-02, 5.36812544e-02, 1.13273263e-01, 1.45201057e-01,\n",
       "        1.69184715e-01, 2.23736972e-01, 3.17418188e-01, 4.32286859e-01,\n",
       "        5.44407189e-01, 6.12722695e-01, 5.18596590e-01, 8.18020031e-02,\n",
       "        2.04532953e-05, 5.00000000e-01],\n",
       "       [5.00000000e-01, 3.15925703e-08, 3.64853954e-03, 1.74744561e-01,\n",
       "        4.54876363e-01, 5.38461983e-01, 4.92725372e-01, 3.66681755e-01,\n",
       "        2.36730874e-01, 1.66506186e-01, 1.37818575e-01, 9.61439908e-02,\n",
       "        3.70782018e-02, 9.13130492e-03, 3.43101891e-03, 4.12331661e-03,\n",
       "        1.29530188e-02, 4.21578102e-02, 7.36870766e-02, 7.98561573e-02,\n",
       "        8.99869427e-02, 1.38296887e-01, 2.46595994e-01, 3.95102799e-01,\n",
       "        5.27937889e-01, 5.89640498e-01, 4.56158638e-01, 4.63550538e-02,\n",
       "        5.29860472e-06, 5.00000000e-01],\n",
       "       [5.00000000e-01, 1.74487624e-07, 9.10774339e-03, 2.34786287e-01,\n",
       "        4.56285387e-01, 4.80508119e-01, 3.90531749e-01, 2.47396454e-01,\n",
       "        1.41336411e-01, 1.02027990e-01, 1.00254014e-01, 9.01072398e-02,\n",
       "        4.71361391e-02, 1.55548817e-02, 6.88665314e-03, 7.99730234e-03,\n",
       "        2.05047335e-02, 5.11686653e-02, 7.09970519e-02, 6.48763701e-02,\n",
       "        6.67993352e-02, 1.04119301e-01, 2.02745736e-01, 3.52035493e-01,\n",
       "        4.82643247e-01, 5.24303019e-01, 3.49593192e-01, 2.23174617e-02,\n",
       "        1.57052727e-06, 5.00000000e-01],\n",
       "       [5.00000000e-01, 1.10984888e-06, 1.95561461e-02, 2.83532858e-01,\n",
       "        4.47640419e-01, 4.27809387e-01, 3.17434758e-01, 1.89267427e-01,\n",
       "        1.12548321e-01, 9.24068764e-02, 1.06185630e-01, 1.15276292e-01,\n",
       "        8.02384093e-02, 3.73966098e-02, 2.05310099e-02, 2.25739405e-02,\n",
       "        4.42164876e-02, 8.26355293e-02, 9.62091163e-02, 7.95330554e-02,\n",
       "        7.37168789e-02, 1.03032455e-01, 1.88305497e-01, 3.21642697e-01,\n",
       "        4.32872921e-01, 4.40144569e-01, 2.33875543e-01, 9.61659849e-03,\n",
       "        5.68333974e-07, 5.00000000e-01],\n",
       "       [5.00000000e-01, 8.17597811e-06, 4.02069986e-02, 3.44496310e-01,\n",
       "        4.63779896e-01, 4.08381552e-01, 2.88112044e-01, 1.82017162e-01,\n",
       "        1.30996794e-01, 1.30664811e-01, 1.64734647e-01, 1.92593783e-01,\n",
       "        1.67352289e-01, 1.12590373e-01, 8.00468102e-02, 8.20352435e-02,\n",
       "        1.15803190e-01, 1.59037471e-01, 1.63574934e-01, 1.31726861e-01,\n",
       "        1.11605301e-01, 1.30481571e-01, 2.02944130e-01, 3.19640309e-01,\n",
       "        4.09038931e-01, 3.75105321e-01, 1.48591354e-01, 4.08692658e-03,\n",
       "        2.60078508e-07, 5.00000000e-01],\n",
       "       [5.00000000e-01, 6.16643010e-05, 8.00844431e-02, 4.28606421e-01,\n",
       "        5.15833080e-01, 4.33141679e-01, 3.05939019e-01, 2.22137064e-01,\n",
       "        2.05708370e-01, 2.44310319e-01, 3.07449192e-01, 3.49058419e-01,\n",
       "        3.49323839e-01, 3.24955553e-01, 3.00005645e-01, 2.89666027e-01,\n",
       "        2.97108918e-01, 3.06819350e-01, 2.89810956e-01, 2.40916207e-01,\n",
       "        1.97053209e-01, 1.95560709e-01, 2.52821803e-01, 3.54940116e-01,\n",
       "        4.21114087e-01, 3.38999778e-01, 9.57145542e-02, 1.81689044e-03,\n",
       "        1.48101122e-07, 5.00000000e-01],\n",
       "       [5.00000000e-01, 3.51246679e-04, 1.34291738e-01, 5.03339469e-01,\n",
       "        5.76570868e-01, 4.88971084e-01, 3.66174281e-01, 3.06811959e-01,\n",
       "        3.35043252e-01, 4.17068213e-01, 4.86621320e-01, 5.18464684e-01,\n",
       "        5.46079338e-01, 5.88905573e-01, 6.14507616e-01, 5.88604093e-01,\n",
       "        5.25488615e-01, 4.68223095e-01, 4.25800532e-01, 3.75022680e-01,\n",
       "        3.19793433e-01, 2.99545139e-01, 3.41591209e-01, 4.23574656e-01,\n",
       "        4.50951636e-01, 3.06682825e-01, 5.91018200e-02, 8.07935779e-04,\n",
       "        9.22563856e-08, 5.00000000e-01],\n",
       "       [5.00000000e-01, 1.04266009e-03, 1.64253235e-01, 5.24919927e-01,\n",
       "        6.10422790e-01, 5.49415886e-01, 4.52930391e-01, 4.14846927e-01,\n",
       "        4.60763961e-01, 5.38613856e-01, 5.80860376e-01, 5.91533482e-01,\n",
       "        6.26297712e-01, 6.96877897e-01, 7.42775917e-01, 7.17523038e-01,\n",
       "        6.29420757e-01, 5.38844347e-01, 4.86427456e-01, 4.51779872e-01,\n",
       "        4.19770926e-01, 4.13768828e-01, 4.53063816e-01, 5.01077592e-01,\n",
       "        4.62472737e-01, 2.46014148e-01, 3.06663867e-02, 3.15961224e-04,\n",
       "        4.76720210e-08, 5.00000000e-01],\n",
       "       [5.00000000e-01, 1.21493824e-03, 1.39768273e-01, 4.80984420e-01,\n",
       "        6.04362607e-01, 5.92121124e-01, 5.38696229e-01, 5.13308764e-01,\n",
       "        5.37269175e-01, 5.72675884e-01, 5.78038275e-01, 5.67389667e-01,\n",
       "        5.93175411e-01, 6.63615108e-01, 7.13700771e-01, 6.90800428e-01,\n",
       "        6.03742719e-01, 5.16777158e-01, 4.75592762e-01, 4.68080908e-01,\n",
       "        4.78941023e-01, 5.11084735e-01, 5.51443696e-01, 5.46344280e-01,\n",
       "        4.15874720e-01, 1.51627973e-01, 1.18644238e-02, 9.26534776e-05,\n",
       "        1.36799567e-08, 5.00000000e-01],\n",
       "       [5.00000000e-01, 4.83342214e-04, 8.23475122e-02, 3.85575622e-01,\n",
       "        5.58873534e-01, 6.01691186e-01, 5.93062818e-01, 5.77634275e-01,\n",
       "        5.71630299e-01, 5.62719762e-01, 5.35676479e-01, 5.04725993e-01,\n",
       "        5.06717980e-01, 5.50046802e-01, 5.88003159e-01, 5.72447538e-01,\n",
       "        5.14553726e-01, 4.68627006e-01, 4.64407176e-01, 4.93033260e-01,\n",
       "        5.40700972e-01, 5.90951025e-01, 6.03912473e-01, 5.17979860e-01,\n",
       "        2.87846923e-01, 6.23292550e-02, 3.18724918e-03, 1.74490269e-05,\n",
       "        1.38903167e-09, 5.00000000e-01],\n",
       "       [5.00000000e-01, 6.42481900e-05, 3.36902328e-02, 2.63889521e-01,\n",
       "        4.70419616e-01, 5.61348140e-01, 5.91957986e-01, 5.92412233e-01,\n",
       "        5.76170921e-01, 5.47733486e-01, 5.08646548e-01, 4.68445867e-01,\n",
       "        4.45760876e-01, 4.48617220e-01, 4.59658474e-01, 4.57291275e-01,\n",
       "        4.49212998e-01, 4.62586731e-01, 5.07127523e-01, 5.67357898e-01,\n",
       "        6.20746791e-01, 6.40973747e-01, 5.83020151e-01, 3.87417316e-01,\n",
       "        1.29186898e-01, 1.64698586e-02, 5.92402474e-04, 1.87402543e-06,\n",
       "        3.37269379e-11, 5.00000000e-01],\n",
       "       [5.00000000e-01, 3.03368211e-06, 9.45234019e-03, 1.42319813e-01,\n",
       "        3.28644127e-01, 4.45211053e-01, 5.11290967e-01, 5.42571902e-01,\n",
       "        5.48734188e-01, 5.39247096e-01, 5.20469844e-01, 4.96245056e-01,\n",
       "        4.72334296e-01, 4.56053019e-01, 4.50805664e-01, 4.57151085e-01,\n",
       "        4.80196267e-01, 5.26802540e-01, 5.90017557e-01, 6.44108236e-01,\n",
       "        6.60429716e-01, 6.09852016e-01, 4.45896745e-01, 1.87997371e-01,\n",
       "        3.52775156e-02, 3.06882733e-03, 7.84399890e-05, 1.04435351e-07,\n",
       "        1.52353445e-13, 5.00000000e-01],\n",
       "       [5.00000000e-01, 5.67501992e-08, 1.59926177e-03, 4.76602353e-02,\n",
       "        1.44409701e-01, 2.32265353e-01, 3.14180225e-01, 3.90930623e-01,\n",
       "        4.56509113e-01, 5.06236732e-01, 5.39733946e-01, 5.60764015e-01,\n",
       "        5.72868407e-01, 5.78407228e-01, 5.81381559e-01, 5.86424649e-01,\n",
       "        5.96561253e-01, 6.13293946e-01, 6.30215704e-01, 6.23751044e-01,\n",
       "        5.57581007e-01, 4.00020212e-01, 1.84291631e-01, 4.39147279e-02,\n",
       "        5.57868974e-03, 3.76659620e-04, 6.25753410e-06, 2.39524334e-09,\n",
       "        1.11486953e-16, 5.00000000e-01],\n",
       "       [5.00000000e-01, 4.48140969e-10, 1.00276346e-04, 5.21106087e-03,\n",
       "        1.91161726e-02, 3.66203040e-02, 6.50410354e-02, 1.17256358e-01,\n",
       "        2.02612028e-01, 3.06610674e-01, 3.98085833e-01, 4.68324721e-01,\n",
       "        5.25186241e-01, 5.68396509e-01, 5.91563821e-01, 5.90778232e-01,\n",
       "        5.65288007e-01, 5.17531395e-01, 4.45858866e-01, 3.35017622e-01,\n",
       "        1.88690200e-01, 6.98590875e-02, 1.68563686e-02, 2.70517543e-03,\n",
       "        2.80668202e-04, 1.48562231e-05, 1.35595684e-07, 1.09131497e-11,\n",
       "        1.03076511e-20, 5.00000000e-01],\n",
       "       [5.00000000e-01, 9.82502057e-13, 4.70009780e-07, 3.08148337e-05,\n",
       "        1.26956569e-04, 2.81158835e-04, 6.53649506e-04, 1.83917640e-03,\n",
       "        5.59679139e-03, 1.40528409e-02, 2.37408523e-02, 2.78413575e-02,\n",
       "        2.69160550e-02, 2.49692891e-02, 2.42656935e-02, 2.53445469e-02,\n",
       "        2.70074327e-02, 2.60343663e-02, 1.92240346e-02, 9.01447609e-03,\n",
       "        2.43094633e-03, 4.21576493e-04, 5.83605142e-05, 6.90677780e-06,\n",
       "        5.86387102e-07, 2.13923474e-08, 8.38835598e-11, 1.24951495e-15,\n",
       "        3.99691569e-26, 5.00000000e-01],\n",
       "       [5.00000000e-01, 5.11143488e-17, 1.09205158e-12, 4.85091099e-11,\n",
       "        2.70067135e-10, 8.34237623e-10, 2.78626322e-09, 1.31198759e-08,\n",
       "        7.06198975e-08, 2.26705041e-07, 2.26850375e-07, 6.12426874e-08,\n",
       "        7.20415683e-09, 8.92170227e-10, 2.92515567e-10, 4.26740809e-10,\n",
       "        2.23781349e-09, 1.75750969e-08, 6.90677240e-08, 6.12927025e-08,\n",
       "        1.09289138e-08, 7.10094983e-10, 3.87918586e-11, 2.64488409e-12,\n",
       "        1.58319809e-13, 3.07058507e-15, 3.55502623e-18, 1.12331821e-23,\n",
       "        1.09248310e-34, 5.00000000e-01],\n",
       "       [5.00000000e-01, 9.91625891e-27, 8.70827136e-28, 9.95996982e-27,\n",
       "        1.80859613e-25, 1.52792595e-24, 1.02984000e-23, 1.14640536e-22,\n",
       "        1.47715010e-21, 4.03362509e-21, 3.07690589e-22, 2.91729958e-25,\n",
       "        1.36338612e-29, 9.19426682e-34, 4.72958581e-36, 2.09229098e-35,\n",
       "        4.00676506e-32, 9.83038073e-28, 3.83398864e-24, 1.19018726e-22,\n",
       "        2.14202746e-23, 1.79489127e-25, 1.14773705e-27, 2.52352283e-29,\n",
       "        1.00048073e-30, 8.87458562e-33, 2.05154741e-36, 0.00000000e+00,\n",
       "        0.00000000e+00, 5.00000000e-01],\n",
       "       [5.00000000e-01, 5.00000000e-01, 5.00000000e-01, 5.00000000e-01,\n",
       "        5.00000000e-01, 5.00000000e-01, 5.00000000e-01, 5.00000000e-01,\n",
       "        5.00000000e-01, 5.00000000e-01, 5.00000000e-01, 5.00000000e-01,\n",
       "        5.00000000e-01, 5.00000000e-01, 5.00000000e-01, 5.00000000e-01,\n",
       "        5.00000000e-01, 5.00000000e-01, 5.00000000e-01, 5.00000000e-01,\n",
       "        5.00000000e-01, 5.00000000e-01, 5.00000000e-01, 5.00000000e-01,\n",
       "        5.00000000e-01, 5.00000000e-01, 5.00000000e-01, 5.00000000e-01,\n",
       "        5.00000000e-01, 5.00000000e-01]])"
      ]
     },
     "execution_count": 20,
     "metadata": {},
     "output_type": "execute_result"
    },
    {
     "data": {
      "image/png": "[encoded data removed]",
      "text/plain": [
       "<Figure size 288x288 with 1 Axes>"
      ]
     },
     "metadata": {
      "needs_background": "light"
     },
     "output_type": "display_data"
    },
    {
     "data": {
      "image/png": "[encoded data removed]",
      "text/plain": [
       "<Figure size 288x288 with 1 Axes>"
      ]
     },
     "metadata": {
      "needs_background": "light"
     },
     "output_type": "display_data"
    },
    {
     "data": {
      "image/png": "[encoded data removed]",
      "text/plain": [
       "<Figure size 288x288 with 1 Axes>"
      ]
     },
     "metadata": {
      "needs_background": "light"
     },
     "output_type": "display_data"
    },
    {
     "data": {
      "image/png": "[encoded data removed]",
      "text/plain": [
       "<Figure size 288x288 with 1 Axes>"
      ]
     },
     "metadata": {
      "needs_background": "light"
     },
     "output_type": "display_data"
    },
    {
     "data": {
      "image/png": "[encoded data removed]",
      "text/plain": [
       "<Figure size 288x288 with 1 Axes>"
      ]
     },
     "metadata": {
      "needs_background": "light"
     },
     "output_type": "display_data"
    },
    {
     "data": {
      "image/png": "[encoded data removed]",
      "text/plain": [
       "<Figure size 288x288 with 1 Axes>"
      ]
     },
     "metadata": {
      "needs_background": "light"
     },
     "output_type": "display_data"
    },
    {
     "data": {
      "image/png": "[encoded data removed]",
      "text/plain": [
       "<Figure size 288x288 with 1 Axes>"
      ]
     },
     "metadata": {
      "needs_background": "light"
     },
     "output_type": "display_data"
    },
    {
     "data": {
      "image/png": "[encoded data removed]",
      "text/plain": [
       "<Figure size 288x288 with 1 Axes>"
      ]
     },
     "metadata": {
      "needs_background": "light"
     },
     "output_type": "display_data"
    },
    {
     "data": {
      "image/png": "[encoded data removed]",
      "text/plain": [
       "<Figure size 288x288 with 1 Axes>"
      ]
     },
     "metadata": {
      "needs_background": "light"
     },
     "output_type": "display_data"
    },
    {
     "data": {
      "image/png": "[encoded data removed]",
      "text/plain": [
       "<Figure size 288x288 with 1 Axes>"
      ]
     },
     "metadata": {
      "needs_background": "light"
     },
     "output_type": "display_data"
    }
   ],
   "source": [
    "img_loc = {'startr': 0, 'endr': 30, 'startc': 0, 'endc': 30}\n",
    "## MC: Check the remaining shuffling operations\n",
    "print(\"reconstructing images...\")\n",
    "test_model.xrecons_grid(img_loc)"
   ]
  },
  {
   "cell_type": "code",
   "execution_count": null,
   "metadata": {},
   "outputs": [],
   "source": []
  }
 ],
 "metadata": {
  "kernelspec": {
   "display_name": "Python 3",
   "language": "python",
   "name": "python3"
  },
  "language_info": {
   "codemirror_mode": {
    "name": "ipython",
    "version": 3
   },
   "file_extension": ".py",
   "mimetype": "text/x-python",
   "name": "python",
   "nbconvert_exporter": "python",
   "pygments_lexer": "ipython3",
   "version": "3.7.7"
  }
 },
 "nbformat": 4,
 "nbformat_minor": 4
}
