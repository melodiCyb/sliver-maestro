{
 "cells": [
  {
   "cell_type": "code",
   "execution_count": 1,
   "metadata": {},
   "outputs": [],
   "source": [
    "import csv\n",
    "import ndjson\n",
    "import os\n",
    "import sys"
   ]
  },
  {
   "cell_type": "code",
   "execution_count": 2,
   "metadata": {},
   "outputs": [
    {
     "name": "stdout",
     "output_type": "stream",
     "text": [
      "root_path: /Users/melodi/sliver-maestro\n"
     ]
    }
   ],
   "source": [
    "base_path = os.getcwd().split('sliver-maestro')[0]\n",
    "root_path = os.path.join(base_path, \"sliver-maestro\")\n",
    "print(\"root_path: {}\".format(root_path))"
   ]
  },
  {
   "cell_type": "code",
   "execution_count": 3,
   "metadata": {},
   "outputs": [],
   "source": [
    "sys.path.insert(1, root_path)\n",
    "from src.utils.model_utils import *\n",
    "from src.draw_model import *\n",
    "from src.generate_images import *"
   ]
  },
  {
   "cell_type": "code",
   "execution_count": 4,
   "metadata": {},
   "outputs": [],
   "source": [
    "model_path = os.path.join(root_path, 'src/data/input')"
   ]
  },
  {
   "cell_type": "code",
   "execution_count": 5,
   "metadata": {},
   "outputs": [],
   "source": [
    "categories_file = os.path.join(root_path, \"src\", \"data\", \"categories.csv\")"
   ]
  },
  {
   "cell_type": "code",
   "execution_count": 6,
   "metadata": {},
   "outputs": [],
   "source": [
    "with open(categories_file, newline='') as f:\n",
    "    reader = csv.reader(f)\n",
    "    categories = {rows[0]:rows[0] for rows in reader}"
   ]
  },
  {
   "cell_type": "markdown",
   "metadata": {},
   "source": [
    "#### Select a category to download images from "
   ]
  },
  {
   "cell_type": "code",
   "execution_count": 7,
   "metadata": {},
   "outputs": [],
   "source": [
    "for key, value in categories.items():\n",
    "    #print(key)\n",
    "    pass"
   ]
  },
  {
   "cell_type": "code",
   "execution_count": 6,
   "metadata": {},
   "outputs": [
    {
     "name": "stdout",
     "output_type": "stream",
     "text": [
      "Selected category from the list above:\n",
      "cat\n"
     ]
    }
   ],
   "source": [
    "print(\"Selected category from the list above:\")\n",
    "#category=input()\n",
    "category='cat'\n",
    "print(category)"
   ]
  },
  {
   "cell_type": "code",
   "execution_count": 9,
   "metadata": {},
   "outputs": [
    {
     "name": "stdout",
     "output_type": "stream",
     "text": [
      "Creating directories to save images, weights and the model ...\n",
      "/Users/melodi/sliver-maestro/src/data folder exists...\n",
      "/Users/melodi/sliver-maestro/src/save folder exists...\n",
      "/Users/melodi/sliver-maestro/src/data/input folder exists...\n",
      "/Users/melodi/sliver-maestro/src/data/output folder exists...\n",
      "/Users/melodi/sliver-maestro/src/data/output/images folder exists...\n",
      "/Users/melodi/sliver-maestro/src/data/output/positions folder exists...\n",
      "/Users/melodi/sliver-maestro/src/data/raw folder is created...\n",
      "/Users/melodi/sliver-maestro/src/save/cat folder exists...\n",
      "/Users/melodi/sliver-maestro/src/data/input/cat folder exists...\n",
      "/Users/melodi/sliver-maestro/src/data/raw/cat folder is created...\n",
      "/Users/melodi/sliver-maestro/src/data/output/images/cat folder exists...\n",
      "src_file: gs://quickdraw_dataset/full/numpy_bitmap/cat.npy, dst_file: /Users/melodi/sliver-maestro/src/data/input/cat/cat.npy\n",
      "src_file: gs://quickdraw_dataset/full/raw/cat.ndjson, dst_file: /Users/melodi/sliver-maestro/src/data/raw/cat/cat.ndjson\n"
     ]
    }
   ],
   "source": [
    "print(\"Creating directories to save images, weights and the model ...\")\n",
    "src_list, dst_list, paths_dict = create_folders(root_path, categories, category)\n",
    "\n",
    "for (src_file, dst_file) in zip(src_list, dst_list): \n",
    "    print('src_file: {}, dst_file: {}'.format(src_file, dst_file))"
   ]
  },
  {
   "cell_type": "code",
   "execution_count": 11,
   "metadata": {},
   "outputs": [
    {
     "name": "stdout",
     "output_type": "stream",
     "text": [
      "Copying gs://quickdraw_dataset/full/numpy_bitmap/cat.npy...\n",
      "- [1/1 files][ 92.1 MiB/ 92.1 MiB] 100% Done   3.7 MiB/s ETA 00:00:00           \n",
      "Operation completed over 1 objects/92.1 MiB.                                     \n",
      "Copying gs://quickdraw_dataset/full/raw/cat.ndjson...\n",
      "/ [1/1 files][496.9 MiB/496.9 MiB] 100% Done   3.8 MiB/s ETA 00:00:00           \n",
      "Operation completed over 1 objects/496.9 MiB.                                    \n"
     ]
    }
   ],
   "source": [
    "for (src_file, dst_file) in zip(src_list, dst_list): \n",
    "    !gsutil -m cp {src_file} {dst_file}"
   ]
  },
  {
   "cell_type": "code",
   "execution_count": 12,
   "metadata": {},
   "outputs": [],
   "source": [
    "npy_data = np.load(paths_dict['base_input'] + '.npy', allow_pickle=True)"
   ]
  },
  {
   "cell_type": "code",
   "execution_count": 13,
   "metadata": {},
   "outputs": [],
   "source": [
    "# load from file-like objects\n",
    "with open(paths_dict['base_raw'] + '.ndjson') as f:\n",
    "    ndjson_data = ndjson.load(f)"
   ]
  },
  {
   "cell_type": "code",
   "execution_count": 13,
   "metadata": {},
   "outputs": [],
   "source": [
    "def plot_bitmap():\n",
    "    print(\"Bitmap image:\")\n",
    "    plt.imshow(npy_data[int(index)].reshape(28,28))"
   ]
  },
  {
   "cell_type": "code",
   "execution_count": 14,
   "metadata": {},
   "outputs": [],
   "source": [
    "def plot_raw():\n",
    "    print(\"Raw image:\")\n",
    "    i = 0\n",
    "    for stroke in ndjson_data[int(index)]['drawing']:\n",
    "        stroke = np.array(stroke)\n",
    "        plt.plot(stroke[0], stroke[1]*-1)\n",
    "        i += 1\n",
    "    print('There are', i, 'number of strokes in this raw image file!')"
   ]
  },
  {
   "cell_type": "code",
   "execution_count": 15,
   "metadata": {},
   "outputs": [
    {
     "name": "stdout",
     "output_type": "stream",
     "text": [
      "There are  123203  images in selected category cat\n",
      "Select an index value from 0 to 123202 to display and compare bitmap and raw images:\n",
      "Bitmap image:\n"
     ]
    },
    {
     "data": {
      "image/png": "[encoded data removed]",
      "text/plain": [
       "<Figure size 432x288 with 1 Axes>"
      ]
     },
     "metadata": {
      "needs_background": "light"
     },
     "output_type": "display_data"
    },
    {
     "name": "stdout",
     "output_type": "stream",
     "text": [
      "Raw image:\n",
      "There are 9 number of strokes in this raw image file!\n"
     ]
    },
    {
     "data": {
      "image/png": "[encoded data removed]",
      "text/plain": [
       "<Figure size 432x288 with 1 Axes>"
      ]
     },
     "metadata": {
      "needs_background": "light"
     },
     "output_type": "display_data"
    }
   ],
   "source": [
    "print('There are ', len(npy_data)+1, ' images in selected category', categories[category])\n",
    "print(\"Select an index value from 0 to\", len(npy_data), \"to display and compare bitmap and raw images:\")\n",
    "#index=input()\n",
    "index='0'\n",
    "plot_bitmap()\n",
    "plt.show()\n",
    "plot_raw()"
   ]
  },
  {
   "cell_type": "code",
   "execution_count": 14,
   "metadata": {},
   "outputs": [],
   "source": [
    "# TRAIN TEST SPLIT\n",
    "filepath = paths_dict['input_path']\n",
    "x_train, x_test, y_train, y_test = split_data(filepath, categories[category], shuffle=False)"
   ]
  },
  {
   "cell_type": "code",
   "execution_count": 7,
   "metadata": {},
   "outputs": [
    {
     "data": {
      "text/plain": [
       "DRAW(\n",
       "  (encoder): LSTMCell(306, 256)\n",
       "  (mu_linear): Linear(in_features=256, out_features=10, bias=True)\n",
       "  (sigma_linear): Linear(in_features=256, out_features=10, bias=True)\n",
       "  (decoder): LSTMCell(10, 256)\n",
       "  (dec_linear): Linear(in_features=256, out_features=5, bias=True)\n",
       "  (dec_w_linear): Linear(in_features=256, out_features=25, bias=True)\n",
       "  (sigmoid): Sigmoid()\n",
       ")"
      ]
     },
     "execution_count": 7,
     "metadata": {},
     "output_type": "execute_result"
    }
   ],
   "source": [
    "DRAW(model_path, category)"
   ]
  },
  {
   "cell_type": "code",
   "execution_count": 9,
   "metadata": {},
   "outputs": [
    {
     "name": "stdout",
     "output_type": "stream",
     "text": [
      "training...\n"
     ]
    },
    {
     "name": "stderr",
     "output_type": "stream",
     "text": [
      "/Users/melodi/sliver-maestro/src/draw_model.py:210: UserWarning: torch.nn.utils.clip_grad_norm is now deprecated in favor of torch.nn.utils.clip_grad_norm_.\n",
      "  torch.nn.utils.clip_grad_norm(self.parameters(), self.clip)\n"
     ]
    },
    {
     "ename": "KeyboardInterrupt",
     "evalue": "",
     "output_type": "error",
     "traceback": [
      "\u001b[0;31m---------------------------------------------------------------------------\u001b[0m",
      "\u001b[0;31mKeyboardInterrupt\u001b[0m                         Traceback (most recent call last)",
      "\u001b[0;32m<ipython-input-9-f98971b6a233>\u001b[0m in \u001b[0;36m<module>\u001b[0;34m\u001b[0m\n\u001b[1;32m      8\u001b[0m \u001b[0mmodel\u001b[0m \u001b[0;34m=\u001b[0m \u001b[0mDRAW\u001b[0m\u001b[0;34m(\u001b[0m\u001b[0mcategory\u001b[0m\u001b[0;34m)\u001b[0m\u001b[0;34m\u001b[0m\u001b[0;34m\u001b[0m\u001b[0m\n\u001b[1;32m      9\u001b[0m \u001b[0mprint\u001b[0m\u001b[0;34m(\u001b[0m\u001b[0;34m\"training...\"\u001b[0m\u001b[0;34m)\u001b[0m\u001b[0;34m\u001b[0m\u001b[0;34m\u001b[0m\u001b[0m\n\u001b[0;32m---> 10\u001b[0;31m \u001b[0mmodel\u001b[0m\u001b[0;34m.\u001b[0m\u001b[0mstart\u001b[0m\u001b[0;34m(\u001b[0m\u001b[0mphase\u001b[0m\u001b[0;34m=\u001b[0m\u001b[0;34m'train'\u001b[0m\u001b[0;34m)\u001b[0m\u001b[0;34m\u001b[0m\u001b[0;34m\u001b[0m\u001b[0m\n\u001b[0m\u001b[1;32m     11\u001b[0m \u001b[0;34m\u001b[0m\u001b[0m\n",
      "\u001b[0;32m~/sliver-maestro/src/draw_model.py\u001b[0m in \u001b[0;36mstart\u001b[0;34m(self, phase)\u001b[0m\n\u001b[1;32m    203\u001b[0m                 \u001b[0mbs\u001b[0m \u001b[0;34m=\u001b[0m \u001b[0mdata\u001b[0m\u001b[0;34m.\u001b[0m\u001b[0msize\u001b[0m\u001b[0;34m(\u001b[0m\u001b[0;34m)\u001b[0m\u001b[0;34m[\u001b[0m\u001b[0;36m0\u001b[0m\u001b[0;34m]\u001b[0m\u001b[0;34m\u001b[0m\u001b[0;34m\u001b[0m\u001b[0m\n\u001b[1;32m    204\u001b[0m                 \u001b[0mdata\u001b[0m \u001b[0;34m=\u001b[0m \u001b[0mVariable\u001b[0m\u001b[0;34m(\u001b[0m\u001b[0mdata\u001b[0m\u001b[0;34m)\u001b[0m\u001b[0;34m.\u001b[0m\u001b[0mview\u001b[0m\u001b[0;34m(\u001b[0m\u001b[0mbs\u001b[0m\u001b[0;34m,\u001b[0m \u001b[0;34m-\u001b[0m\u001b[0;36m1\u001b[0m\u001b[0;34m)\u001b[0m\u001b[0;34m\u001b[0m\u001b[0;34m\u001b[0m\u001b[0m\n\u001b[0;32m--> 205\u001b[0;31m                 \u001b[0mloss\u001b[0m \u001b[0;34m=\u001b[0m \u001b[0mself\u001b[0m\u001b[0;34m.\u001b[0m\u001b[0mloss\u001b[0m\u001b[0;34m(\u001b[0m\u001b[0mdata\u001b[0m\u001b[0;34m)\u001b[0m\u001b[0;34m\u001b[0m\u001b[0;34m\u001b[0m\u001b[0m\n\u001b[0m\u001b[1;32m    206\u001b[0m                 \u001b[0mavg_loss\u001b[0m \u001b[0;34m+=\u001b[0m \u001b[0mloss\u001b[0m\u001b[0;34m.\u001b[0m\u001b[0mcpu\u001b[0m\u001b[0;34m(\u001b[0m\u001b[0;34m)\u001b[0m\u001b[0;34m.\u001b[0m\u001b[0mdata\u001b[0m\u001b[0;34m.\u001b[0m\u001b[0mnumpy\u001b[0m\u001b[0;34m(\u001b[0m\u001b[0;34m)\u001b[0m\u001b[0;34m\u001b[0m\u001b[0;34m\u001b[0m\u001b[0m\n\u001b[1;32m    207\u001b[0m                 \u001b[0;32mif\u001b[0m \u001b[0mphase\u001b[0m \u001b[0;34m==\u001b[0m \u001b[0;34m\"train\"\u001b[0m\u001b[0;34m:\u001b[0m\u001b[0;34m\u001b[0m\u001b[0;34m\u001b[0m\u001b[0m\n",
      "\u001b[0;32m~/sliver-maestro/src/draw_model.py\u001b[0m in \u001b[0;36mloss\u001b[0;34m(self, x)\u001b[0m\n\u001b[1;32m    121\u001b[0m \u001b[0;34m\u001b[0m\u001b[0m\n\u001b[1;32m    122\u001b[0m     \u001b[0;32mdef\u001b[0m \u001b[0mloss\u001b[0m\u001b[0;34m(\u001b[0m\u001b[0mself\u001b[0m\u001b[0;34m,\u001b[0m \u001b[0mx\u001b[0m\u001b[0;34m)\u001b[0m\u001b[0;34m:\u001b[0m\u001b[0;34m\u001b[0m\u001b[0;34m\u001b[0m\u001b[0m\n\u001b[0;32m--> 123\u001b[0;31m         \u001b[0mself\u001b[0m\u001b[0;34m.\u001b[0m\u001b[0mforward\u001b[0m\u001b[0;34m(\u001b[0m\u001b[0mx\u001b[0m\u001b[0;34m)\u001b[0m\u001b[0;34m\u001b[0m\u001b[0;34m\u001b[0m\u001b[0m\n\u001b[0m\u001b[1;32m    124\u001b[0m         \u001b[0mcriterion\u001b[0m \u001b[0;34m=\u001b[0m \u001b[0mnn\u001b[0m\u001b[0;34m.\u001b[0m\u001b[0mBCELoss\u001b[0m\u001b[0;34m(\u001b[0m\u001b[0;34m)\u001b[0m\u001b[0;34m\u001b[0m\u001b[0;34m\u001b[0m\u001b[0m\n\u001b[1;32m    125\u001b[0m         \u001b[0mx_recons\u001b[0m \u001b[0;34m=\u001b[0m \u001b[0mself\u001b[0m\u001b[0;34m.\u001b[0m\u001b[0msigmoid\u001b[0m\u001b[0;34m(\u001b[0m\u001b[0mself\u001b[0m\u001b[0;34m.\u001b[0m\u001b[0mcs\u001b[0m\u001b[0;34m[\u001b[0m\u001b[0;34m-\u001b[0m\u001b[0;36m1\u001b[0m\u001b[0;34m]\u001b[0m\u001b[0;34m)\u001b[0m\u001b[0;34m\u001b[0m\u001b[0;34m\u001b[0m\u001b[0m\n",
      "\u001b[0;32m~/sliver-maestro/src/draw_model.py\u001b[0m in \u001b[0;36mforward\u001b[0;34m(self, x)\u001b[0m\n\u001b[1;32m    114\u001b[0m             \u001b[0mx_hat\u001b[0m \u001b[0;34m=\u001b[0m \u001b[0mx\u001b[0m \u001b[0;34m-\u001b[0m \u001b[0mself\u001b[0m\u001b[0;34m.\u001b[0m\u001b[0msigmoid\u001b[0m\u001b[0;34m(\u001b[0m\u001b[0mc_prev\u001b[0m\u001b[0;34m)\u001b[0m\u001b[0;34m\u001b[0m\u001b[0;34m\u001b[0m\u001b[0m\n\u001b[1;32m    115\u001b[0m             \u001b[0mr_t\u001b[0m \u001b[0;34m=\u001b[0m \u001b[0mself\u001b[0m\u001b[0;34m.\u001b[0m\u001b[0mread\u001b[0m\u001b[0;34m(\u001b[0m\u001b[0mx\u001b[0m\u001b[0;34m,\u001b[0m \u001b[0mx_hat\u001b[0m\u001b[0;34m,\u001b[0m \u001b[0mh_dec_prev\u001b[0m\u001b[0;34m)\u001b[0m\u001b[0;34m\u001b[0m\u001b[0;34m\u001b[0m\u001b[0m\n\u001b[0;32m--> 116\u001b[0;31m             \u001b[0mh_enc_prev\u001b[0m\u001b[0;34m,\u001b[0m \u001b[0menc_state\u001b[0m \u001b[0;34m=\u001b[0m \u001b[0mself\u001b[0m\u001b[0;34m.\u001b[0m\u001b[0mencoder\u001b[0m\u001b[0;34m(\u001b[0m\u001b[0mtorch\u001b[0m\u001b[0;34m.\u001b[0m\u001b[0mcat\u001b[0m\u001b[0;34m(\u001b[0m\u001b[0;34m(\u001b[0m\u001b[0mr_t\u001b[0m\u001b[0;34m,\u001b[0m \u001b[0mh_dec_prev\u001b[0m\u001b[0;34m)\u001b[0m\u001b[0;34m,\u001b[0m \u001b[0;36m1\u001b[0m\u001b[0;34m)\u001b[0m\u001b[0;34m,\u001b[0m \u001b[0;34m(\u001b[0m\u001b[0mh_enc_prev\u001b[0m\u001b[0;34m,\u001b[0m \u001b[0menc_state\u001b[0m\u001b[0;34m)\u001b[0m\u001b[0;34m)\u001b[0m\u001b[0;34m\u001b[0m\u001b[0;34m\u001b[0m\u001b[0m\n\u001b[0m\u001b[1;32m    117\u001b[0m             \u001b[0mz\u001b[0m\u001b[0;34m,\u001b[0m \u001b[0mself\u001b[0m\u001b[0;34m.\u001b[0m\u001b[0mmus\u001b[0m\u001b[0;34m[\u001b[0m\u001b[0mt\u001b[0m\u001b[0;34m]\u001b[0m\u001b[0;34m,\u001b[0m \u001b[0mself\u001b[0m\u001b[0;34m.\u001b[0m\u001b[0mlogsigmas\u001b[0m\u001b[0;34m[\u001b[0m\u001b[0mt\u001b[0m\u001b[0;34m]\u001b[0m\u001b[0;34m,\u001b[0m \u001b[0mself\u001b[0m\u001b[0;34m.\u001b[0m\u001b[0msigmas\u001b[0m\u001b[0;34m[\u001b[0m\u001b[0mt\u001b[0m\u001b[0;34m]\u001b[0m \u001b[0;34m=\u001b[0m \u001b[0mself\u001b[0m\u001b[0;34m.\u001b[0m\u001b[0msampleQ\u001b[0m\u001b[0;34m(\u001b[0m\u001b[0mh_enc_prev\u001b[0m\u001b[0;34m)\u001b[0m\u001b[0;34m\u001b[0m\u001b[0;34m\u001b[0m\u001b[0m\n\u001b[1;32m    118\u001b[0m             \u001b[0mh_dec\u001b[0m\u001b[0;34m,\u001b[0m \u001b[0mdec_state\u001b[0m \u001b[0;34m=\u001b[0m \u001b[0mself\u001b[0m\u001b[0;34m.\u001b[0m\u001b[0mdecoder\u001b[0m\u001b[0;34m(\u001b[0m\u001b[0mz\u001b[0m\u001b[0;34m,\u001b[0m \u001b[0;34m(\u001b[0m\u001b[0mh_dec_prev\u001b[0m\u001b[0;34m,\u001b[0m \u001b[0mdec_state\u001b[0m\u001b[0;34m)\u001b[0m\u001b[0;34m)\u001b[0m\u001b[0;34m\u001b[0m\u001b[0;34m\u001b[0m\u001b[0m\n",
      "\u001b[0;32m~/opt/anaconda3/lib/python3.7/site-packages/torch/nn/modules/module.py\u001b[0m in \u001b[0;36m__call__\u001b[0;34m(self, *input, **kwargs)\u001b[0m\n\u001b[1;32m    539\u001b[0m             \u001b[0mresult\u001b[0m \u001b[0;34m=\u001b[0m \u001b[0mself\u001b[0m\u001b[0;34m.\u001b[0m\u001b[0m_slow_forward\u001b[0m\u001b[0;34m(\u001b[0m\u001b[0;34m*\u001b[0m\u001b[0minput\u001b[0m\u001b[0;34m,\u001b[0m \u001b[0;34m**\u001b[0m\u001b[0mkwargs\u001b[0m\u001b[0;34m)\u001b[0m\u001b[0;34m\u001b[0m\u001b[0;34m\u001b[0m\u001b[0m\n\u001b[1;32m    540\u001b[0m         \u001b[0;32melse\u001b[0m\u001b[0;34m:\u001b[0m\u001b[0;34m\u001b[0m\u001b[0;34m\u001b[0m\u001b[0m\n\u001b[0;32m--> 541\u001b[0;31m             \u001b[0mresult\u001b[0m \u001b[0;34m=\u001b[0m \u001b[0mself\u001b[0m\u001b[0;34m.\u001b[0m\u001b[0mforward\u001b[0m\u001b[0;34m(\u001b[0m\u001b[0;34m*\u001b[0m\u001b[0minput\u001b[0m\u001b[0;34m,\u001b[0m \u001b[0;34m**\u001b[0m\u001b[0mkwargs\u001b[0m\u001b[0;34m)\u001b[0m\u001b[0;34m\u001b[0m\u001b[0;34m\u001b[0m\u001b[0m\n\u001b[0m\u001b[1;32m    542\u001b[0m         \u001b[0;32mfor\u001b[0m \u001b[0mhook\u001b[0m \u001b[0;32min\u001b[0m \u001b[0mself\u001b[0m\u001b[0;34m.\u001b[0m\u001b[0m_forward_hooks\u001b[0m\u001b[0;34m.\u001b[0m\u001b[0mvalues\u001b[0m\u001b[0;34m(\u001b[0m\u001b[0;34m)\u001b[0m\u001b[0;34m:\u001b[0m\u001b[0;34m\u001b[0m\u001b[0;34m\u001b[0m\u001b[0m\n\u001b[1;32m    543\u001b[0m             \u001b[0mhook_result\u001b[0m \u001b[0;34m=\u001b[0m \u001b[0mhook\u001b[0m\u001b[0;34m(\u001b[0m\u001b[0mself\u001b[0m\u001b[0;34m,\u001b[0m \u001b[0minput\u001b[0m\u001b[0;34m,\u001b[0m \u001b[0mresult\u001b[0m\u001b[0;34m)\u001b[0m\u001b[0;34m\u001b[0m\u001b[0;34m\u001b[0m\u001b[0m\n",
      "\u001b[0;32m~/opt/anaconda3/lib/python3.7/site-packages/torch/nn/modules/rnn.py\u001b[0m in \u001b[0;36mforward\u001b[0;34m(self, input, hx)\u001b[0m\n\u001b[1;32m    943\u001b[0m             \u001b[0minput\u001b[0m\u001b[0;34m,\u001b[0m \u001b[0mhx\u001b[0m\u001b[0;34m,\u001b[0m\u001b[0;34m\u001b[0m\u001b[0;34m\u001b[0m\u001b[0m\n\u001b[1;32m    944\u001b[0m             \u001b[0mself\u001b[0m\u001b[0;34m.\u001b[0m\u001b[0mweight_ih\u001b[0m\u001b[0;34m,\u001b[0m \u001b[0mself\u001b[0m\u001b[0;34m.\u001b[0m\u001b[0mweight_hh\u001b[0m\u001b[0;34m,\u001b[0m\u001b[0;34m\u001b[0m\u001b[0;34m\u001b[0m\u001b[0m\n\u001b[0;32m--> 945\u001b[0;31m             \u001b[0mself\u001b[0m\u001b[0;34m.\u001b[0m\u001b[0mbias_ih\u001b[0m\u001b[0;34m,\u001b[0m \u001b[0mself\u001b[0m\u001b[0;34m.\u001b[0m\u001b[0mbias_hh\u001b[0m\u001b[0;34m,\u001b[0m\u001b[0;34m\u001b[0m\u001b[0;34m\u001b[0m\u001b[0m\n\u001b[0m\u001b[1;32m    946\u001b[0m         )\n\u001b[1;32m    947\u001b[0m \u001b[0;34m\u001b[0m\u001b[0m\n",
      "\u001b[0;31mKeyboardInterrupt\u001b[0m: "
     ]
    }
   ],
   "source": [
    "# TRAINING AND TESTING\n",
    "\n",
    "#train_data = Dataset(x_train)\n",
    "#test_data = Dataset(x_test)\n",
    "\n",
    "\n",
    "\n",
    "model = DRAW(category)\n",
    "print(\"training...\")\n",
    "model.start(phase='train') \n",
    "\n"
   ]
  },
  {
   "cell_type": "markdown",
   "metadata": {},
   "source": [
    "## Generating Images"
   ]
  },
  {
   "cell_type": "code",
   "execution_count": 10,
   "metadata": {},
   "outputs": [],
   "source": [
    "test_model = Test(category)"
   ]
  },
  {
   "cell_type": "code",
   "execution_count": 11,
   "metadata": {},
   "outputs": [
    {
     "name": "stdout",
     "output_type": "stream",
     "text": [
      "reconstructing images...\n",
      "/Users/melodi/sliver-maestro/src/data/output/images/cat/cat_test_0.png\n",
      "/Users/melodi/sliver-maestro/src/data/output/images/cat/cat_test_1.png\n",
      "/Users/melodi/sliver-maestro/src/data/output/images/cat/cat_test_2.png\n",
      "/Users/melodi/sliver-maestro/src/data/output/images/cat/cat_test_3.png\n",
      "/Users/melodi/sliver-maestro/src/data/output/images/cat/cat_test_4.png\n",
      "/Users/melodi/sliver-maestro/src/data/output/images/cat/cat_test_5.png\n",
      "/Users/melodi/sliver-maestro/src/data/output/images/cat/cat_test_6.png\n",
      "/Users/melodi/sliver-maestro/src/data/output/images/cat/cat_test_7.png\n",
      "/Users/melodi/sliver-maestro/src/data/output/images/cat/cat_test_8.png\n",
      "/Users/melodi/sliver-maestro/src/data/output/images/cat/cat_test_9.png\n"
     ]
    },
    {
     "data": {
      "text/plain": [
       "array([[5.00000000e-01, 5.00000000e-01, 5.00000000e-01, 5.00000000e-01,\n",
       "        5.00000000e-01, 5.00000000e-01, 5.00000000e-01, 5.00000000e-01,\n",
       "        5.00000000e-01, 5.00000000e-01, 5.00000000e-01, 5.00000000e-01,\n",
       "        5.00000000e-01, 5.00000000e-01, 5.00000000e-01, 5.00000000e-01,\n",
       "        5.00000000e-01, 5.00000000e-01, 5.00000000e-01, 5.00000000e-01,\n",
       "        5.00000000e-01, 5.00000000e-01, 5.00000000e-01, 5.00000000e-01,\n",
       "        5.00000000e-01, 5.00000000e-01, 5.00000000e-01, 5.00000000e-01,\n",
       "        5.00000000e-01, 5.00000000e-01],\n",
       "       [5.00000000e-01, 0.00000000e+00, 7.56414222e-29, 2.74208864e-16,\n",
       "        6.73699763e-10, 1.47392541e-06, 9.90025146e-05, 9.45399283e-04,\n",
       "        2.52119638e-03, 2.99023185e-03, 2.34671426e-03, 1.54615461e-03,\n",
       "        9.46159766e-04, 6.30821567e-04, 6.10506802e-04, 9.83907608e-04,\n",
       "        2.00363365e-03, 3.16884252e-03, 2.82050110e-03, 1.28043629e-03,\n",
       "        2.83168367e-04, 2.69919419e-05, 8.81993685e-07, 6.32207042e-09,\n",
       "        2.85459698e-12, 3.37913330e-18, 2.25865676e-29, 0.00000000e+00,\n",
       "        0.00000000e+00, 5.00000000e-01],\n",
       "       [5.00000000e-01, 3.51835515e-34, 1.98524774e-18, 3.18573945e-10,\n",
       "        4.96400344e-06, 7.64650118e-04, 1.17367944e-02, 4.51449566e-02,\n",
       "        6.96366206e-02, 6.91929534e-02, 6.46107569e-02, 5.97028509e-02,\n",
       "        4.47659828e-02, 2.73338202e-02, 2.10892018e-02, 2.95500718e-02,\n",
       "        5.60904890e-02, 7.95811266e-02, 6.60821870e-02, 3.42885554e-02,\n",
       "        1.14169279e-02, 1.98931014e-03, 1.33847148e-04, 2.90148159e-06,\n",
       "        1.25995374e-08, 1.51449296e-12, 7.02446688e-20, 2.28294117e-33,\n",
       "        0.00000000e+00, 5.00000000e-01],\n",
       "       [5.00000000e-01, 4.76376456e-24, 5.24989449e-13, 3.43001574e-07,\n",
       "        3.37341073e-04, 1.31410938e-02, 9.62096751e-02, 2.27196276e-01,\n",
       "        2.67084986e-01, 2.42841437e-01, 2.35126600e-01, 2.34861866e-01,\n",
       "        1.76499769e-01, 9.13459212e-02, 5.77102005e-02, 8.03859681e-02,\n",
       "        1.72438353e-01, 2.68151939e-01, 2.52121806e-01, 1.61298037e-01,\n",
       "        7.01831579e-02, 1.54132592e-02, 1.19609875e-03, 3.50645241e-05,\n",
       "        4.38591883e-07, 6.80049073e-10, 4.51477201e-15, 1.12223836e-24,\n",
       "        0.00000000e+00, 5.00000000e-01],\n",
       "       [5.00000000e-01, 3.60793891e-18, 5.79326143e-10, 1.36655517e-05,\n",
       "        2.67650536e-03, 4.84715998e-02, 2.30571926e-01, 4.23135877e-01,\n",
       "        4.64665323e-01, 4.27270293e-01, 4.08590108e-01, 3.89948219e-01,\n",
       "        2.78163880e-01, 1.28761709e-01, 7.17916340e-02, 1.00361690e-01,\n",
       "        2.39014581e-01, 4.08267677e-01, 4.38105702e-01, 3.44233274e-01,\n",
       "        1.87637359e-01, 4.80083749e-02, 3.83757171e-03, 1.21145007e-04,\n",
       "        2.45604929e-06, 1.55115654e-08, 1.99922977e-12, 1.18220252e-19,\n",
       "        6.31936829e-32, 5.00000000e-01],\n",
       "       [5.00000000e-01, 2.86673456e-14, 5.03536128e-08, 1.21738951e-04,\n",
       "        8.37176014e-03, 9.43262205e-02, 3.41220975e-01, 5.51238537e-01,\n",
       "        6.04589581e-01, 5.77775836e-01, 5.45415401e-01, 4.93116260e-01,\n",
       "        3.42413396e-01, 1.57973573e-01, 8.62827152e-02, 1.16301373e-01,\n",
       "        2.73933828e-01, 4.81679380e-01, 5.57159007e-01, 5.00486314e-01,\n",
       "        3.29354972e-01, 1.03222929e-01, 9.35867894e-03, 3.24418215e-04,\n",
       "        8.22840229e-06, 1.09932692e-07, 9.57815841e-11, 2.65146512e-16,\n",
       "        1.20791405e-25, 5.00000000e-01],\n",
       "       [5.00000000e-01, 2.09671898e-11, 1.25010433e-06, 5.54432860e-04,\n",
       "        1.80739090e-02, 1.44190714e-01, 4.18681830e-01, 6.14022851e-01,\n",
       "        6.65161371e-01, 6.43451512e-01, 6.04723990e-01, 5.42741358e-01,\n",
       "        3.99718136e-01, 2.17636421e-01, 1.34289980e-01, 1.67775258e-01,\n",
       "        3.27645093e-01, 5.17913699e-01, 5.94377577e-01, 5.60513437e-01,\n",
       "        4.17502612e-01, 1.68948948e-01, 2.07992215e-02, 9.08754591e-04,\n",
       "        2.74640188e-05, 5.55918689e-07, 1.75591730e-09, 8.79513408e-14,\n",
       "        7.63368475e-21, 5.00000000e-01],\n",
       "       [5.00000000e-01, 3.07366488e-09, 1.55127691e-05, 2.00938480e-03,\n",
       "        3.75835299e-02, 2.15052366e-01, 4.84975457e-01, 6.32469714e-01,\n",
       "        6.54962540e-01, 6.19907141e-01, 5.83560467e-01, 5.51115096e-01,\n",
       "        4.77054358e-01, 3.59011680e-01, 2.86877215e-01, 3.23361009e-01,\n",
       "        4.46604818e-01, 5.49441218e-01, 5.68898082e-01, 5.25953829e-01,\n",
       "        4.24132168e-01, 2.27129757e-01, 4.62393314e-02, 3.22123175e-03,\n",
       "        1.30606917e-04, 3.49237757e-06, 2.48756002e-08, 9.84291988e-12,\n",
       "        4.59446222e-17, 5.00000000e-01],\n",
       "       [5.00000000e-01, 1.18180836e-07, 1.19436518e-04, 6.80681551e-03,\n",
       "        8.12741369e-02, 3.18788141e-01, 5.49033523e-01, 6.32953048e-01,\n",
       "        6.13174379e-01, 5.56601346e-01, 5.29822171e-01, 5.45984089e-01,\n",
       "        5.62988222e-01, 5.54397047e-01, 5.46102405e-01, 5.69476426e-01,\n",
       "        6.01521134e-01, 5.92507780e-01, 5.35453022e-01, 4.70417708e-01,\n",
       "        4.08831328e-01, 2.88052946e-01, 1.03886113e-01, 1.37781836e-02,\n",
       "        8.70975491e-04, 3.03695851e-05, 3.51783882e-07, 5.30768485e-10,\n",
       "        3.99042744e-14, 5.00000000e-01],\n",
       "       [5.00000000e-01, 1.38353471e-06, 5.86760114e-04, 1.99353509e-02,\n",
       "        1.57370090e-01, 4.25457090e-01, 5.99100173e-01, 6.35238528e-01,\n",
       "        5.86480200e-01, 5.17043412e-01, 4.96350199e-01, 5.39752781e-01,\n",
       "        6.06162190e-01, 6.57194495e-01, 6.88130975e-01, 7.02137709e-01,\n",
       "        6.87149882e-01, 6.26346946e-01, 5.34368753e-01, 4.65684623e-01,\n",
       "        4.35775101e-01, 3.74732196e-01, 2.10559204e-01, 5.18185385e-02,\n",
       "        5.35792112e-03, 2.55795370e-04, 4.32821344e-06, 1.56999800e-08,\n",
       "        7.12185866e-12, 5.00000000e-01],\n",
       "       [5.00000000e-01, 5.89309548e-06, 1.81975856e-03, 4.52639610e-02,\n",
       "        2.46329054e-01, 5.02194583e-01, 6.32101893e-01, 6.47100031e-01,\n",
       "        5.90083420e-01, 5.15827835e-01, 4.88126278e-01, 5.20657420e-01,\n",
       "        5.74963927e-01, 6.16714776e-01, 6.44980371e-01, 6.64437532e-01,\n",
       "        6.60266817e-01, 6.14790201e-01, 5.45232475e-01, 5.04454315e-01,\n",
       "        5.06656885e-01, 4.85325187e-01, 3.49986374e-01, 1.33741900e-01,\n",
       "        2.13566404e-02, 1.46470894e-03, 3.80037818e-05, 2.75998019e-07,\n",
       "        3.93805211e-10, 5.00000000e-01],\n",
       "       [5.00000000e-01, 1.14237500e-05, 3.65661201e-03, 7.79504552e-02,\n",
       "        3.21801305e-01, 5.50305426e-01, 6.55253053e-01, 6.63702726e-01,\n",
       "        6.04434371e-01, 5.22294283e-01, 4.76075530e-01, 4.74366486e-01,\n",
       "        4.75666225e-01, 4.57193077e-01, 4.48384672e-01, 4.79382545e-01,\n",
       "        5.25206387e-01, 5.37426889e-01, 5.20323575e-01, 5.26544929e-01,\n",
       "        5.70172191e-01, 5.84250867e-01, 4.79971737e-01, 2.40693569e-01,\n",
       "        5.45888320e-02, 5.50838048e-03, 2.34714724e-04, 3.23351901e-06,\n",
       "        9.96716931e-09, 5.00000000e-01],\n",
       "       [5.00000000e-01, 1.25400256e-05, 4.94309608e-03, 1.03517033e-01,\n",
       "        3.68852913e-01, 5.76751530e-01, 6.69292152e-01, 6.73298419e-01,\n",
       "        6.05849028e-01, 5.08198559e-01, 4.40661758e-01, 4.04275924e-01,\n",
       "        3.49231154e-01, 2.70008445e-01, 2.25996926e-01, 2.54506081e-01,\n",
       "        3.38737011e-01, 4.09405053e-01, 4.40741956e-01, 4.90147382e-01,\n",
       "        5.80927253e-01, 6.37679935e-01, 5.72854459e-01, 3.48992527e-01,\n",
       "        1.08816691e-01, 1.63918193e-02, 1.15491194e-03, 2.82769470e-05,\n",
       "        1.52165271e-07, 5.00000000e-01],\n",
       "       [5.00000000e-01, 9.06244622e-06, 4.49758535e-03, 1.04129381e-01,\n",
       "        3.71517748e-01, 5.75424910e-01, 6.67218745e-01, 6.67333245e-01,\n",
       "        5.86419165e-01, 4.70344156e-01, 3.86642247e-01, 3.28092545e-01,\n",
       "        2.41112977e-01, 1.44390360e-01, 9.95044783e-02, 1.16041549e-01,\n",
       "        1.91091761e-01, 2.79044330e-01, 3.30848694e-01, 3.99503708e-01,\n",
       "        5.28809011e-01, 6.36602700e-01, 6.21571362e-01, 4.47163969e-01,\n",
       "        1.92426071e-01, 4.39082980e-02, 4.87446506e-03, 1.91292813e-04,\n",
       "        1.60162836e-06, 5.00000000e-01],\n",
       "       [5.00000000e-01, 4.47150342e-06, 2.58058263e-03, 7.21167699e-02,\n",
       "        3.07691693e-01, 5.28286517e-01, 6.40490532e-01, 6.45679474e-01,\n",
       "        5.54616630e-01, 4.24477428e-01, 3.31135422e-01, 2.60680705e-01,\n",
       "        1.63739473e-01, 7.71526322e-02, 4.43186797e-02, 5.22423163e-02,\n",
       "        1.02777466e-01, 1.78788334e-01, 2.28538379e-01, 2.90404737e-01,\n",
       "        4.30926919e-01, 5.88071883e-01, 6.29402876e-01, 5.18228769e-01,\n",
       "        2.94274956e-01, 9.88920107e-02, 1.62521843e-02, 9.37300734e-04,\n",
       "        1.18837215e-05, 5.00000000e-01],\n",
       "       [5.00000000e-01, 1.40370537e-06, 8.52455385e-04, 3.01143602e-02,\n",
       "        1.84821844e-01, 4.22907412e-01, 5.87443471e-01, 6.18385911e-01,\n",
       "        5.30240953e-01, 3.94055218e-01, 2.92794079e-01, 2.12238714e-01,\n",
       "        1.14840753e-01, 4.44672406e-02, 2.20385585e-02, 2.55690143e-02,\n",
       "        5.66817634e-02, 1.14535607e-01, 1.57549039e-01, 2.05881029e-01,\n",
       "        3.32178503e-01, 5.16885877e-01, 6.09529674e-01, 5.52887082e-01,\n",
       "        3.74954969e-01, 1.66174158e-01, 3.74292731e-02, 3.04470258e-03,\n",
       "        6.06792892e-05, 5.00000000e-01],\n",
       "       [5.00000000e-01, 2.52164028e-07, 1.60312382e-04, 7.50388438e-03,\n",
       "        7.52158985e-02, 2.85059869e-01, 5.20448327e-01, 6.01956904e-01,\n",
       "        5.34708440e-01, 4.00746256e-01, 2.87561774e-01, 1.91822454e-01,\n",
       "        9.32962894e-02, 3.31092663e-02, 1.53810484e-02, 1.69238131e-02,\n",
       "        3.77233773e-02, 8.29467624e-02, 1.24430887e-01, 1.68508112e-01,\n",
       "        2.79105842e-01, 4.64567095e-01, 5.86142659e-01, 5.63700140e-01,\n",
       "        4.16472018e-01, 2.12094069e-01, 5.88186458e-02, 6.51301397e-03,\n",
       "        2.10206723e-04, 5.00000000e-01],\n",
       "       [5.00000000e-01, 2.38707631e-08, 1.92756361e-05, 1.34189974e-03,\n",
       "        2.35418435e-02, 1.66676790e-01, 4.53283757e-01, 6.02223158e-01,\n",
       "        5.71023166e-01, 4.47832525e-01, 3.18288296e-01, 2.00261950e-01,\n",
       "        9.49381664e-02, 3.58228236e-02, 1.74162388e-02, 1.75931770e-02,\n",
       "        3.44208628e-02, 7.46379197e-02, 1.22221552e-01, 1.75427988e-01,\n",
       "        2.83917844e-01, 4.57796991e-01, 5.79534233e-01, 5.67410111e-01,\n",
       "        4.29683119e-01, 2.27857530e-01, 7.01962560e-02, 9.88313556e-03,\n",
       "        4.91821906e-04, 5.00000000e-01],\n",
       "       [5.00000000e-01, 1.08286480e-09, 1.68956217e-06, 2.11743973e-04,\n",
       "        6.76716445e-03, 8.83708522e-02, 3.82283181e-01, 6.04910970e-01,\n",
       "        6.17979825e-01, 5.13195217e-01, 3.69913429e-01, 2.29470044e-01,\n",
       "        1.15310267e-01, 5.17864600e-02, 2.86132861e-02, 2.63678003e-02,\n",
       "        4.15093042e-02, 8.12312439e-02, 1.41388029e-01, 2.17524543e-01,\n",
       "        3.38277578e-01, 4.95484203e-01, 5.92093527e-01, 5.65896869e-01,\n",
       "        4.20510650e-01, 2.19860762e-01, 7.01359510e-02, 1.13832392e-02,\n",
       "        7.54982466e-04, 5.00000000e-01],\n",
       "       [5.00000000e-01, 1.98378241e-11, 1.04915514e-07, 2.95962418e-05,\n",
       "        1.76298793e-03, 4.00158949e-02, 2.89320320e-01, 5.86397171e-01,\n",
       "        6.53406620e-01, 5.74969649e-01, 4.27666366e-01, 2.71340638e-01,\n",
       "        1.50640041e-01, 8.28277767e-02, 5.31242713e-02, 4.54832986e-02,\n",
       "        5.71812242e-02, 9.72031280e-02, 1.74185008e-01, 2.85479218e-01,\n",
       "        4.27133858e-01, 5.59708714e-01, 6.11460507e-01, 5.48333585e-01,\n",
       "        3.82609487e-01, 1.90211162e-01, 5.98998591e-02, 1.00209005e-02,\n",
       "        7.19183707e-04, 5.00000000e-01],\n",
       "       [5.00000000e-01, 1.27263299e-13, 3.94678423e-09, 3.03662591e-06,\n",
       "        3.43310472e-04, 1.31593104e-02, 1.71178252e-01, 5.23202896e-01,\n",
       "        6.68488681e-01, 6.32635295e-01, 4.96126980e-01, 3.24386090e-01,\n",
       "        1.89603776e-01, 1.15392216e-01, 8.01172778e-02, 6.60790503e-02,\n",
       "        7.32035488e-02, 1.15108959e-01, 2.13042408e-01, 3.64546120e-01,\n",
       "        5.21704376e-01, 6.19327724e-01, 6.15475655e-01, 4.98222321e-01,\n",
       "        3.09518129e-01, 1.41728520e-01, 4.24996987e-02, 6.60110032e-03,\n",
       "        4.13440837e-04, 5.00000000e-01],\n",
       "       [5.00000000e-01, 3.39804843e-16, 9.17436890e-11, 2.15812022e-07,\n",
       "        4.63344259e-05, 2.96145165e-03, 7.05949143e-02, 3.98204625e-01,\n",
       "        6.50626719e-01, 6.79593980e-01, 5.74177146e-01, 3.87285829e-01,\n",
       "        2.18136311e-01, 1.24007374e-01, 8.25746357e-02, 6.88884556e-02,\n",
       "        7.96179250e-02, 1.31641194e-01, 2.55146563e-01, 4.36245024e-01,\n",
       "        5.87176800e-01, 6.42216563e-01, 5.78479528e-01, 4.02517796e-01,\n",
       "        2.11688086e-01, 8.84493813e-02, 2.49274205e-02, 3.33947688e-03,\n",
       "        1.53485249e-04, 5.00000000e-01],\n",
       "       [5.00000000e-01, 7.27035097e-19, 1.99140509e-12, 1.47159467e-08,\n",
       "        5.74750993e-06, 5.68877615e-04, 2.18988732e-02, 2.32854024e-01,\n",
       "        5.68056762e-01, 6.82764053e-01, 6.28220201e-01, 4.51945633e-01,\n",
       "        2.51241624e-01, 1.29783511e-01, 8.08150843e-02, 7.14189112e-02,\n",
       "        9.36352611e-02, 1.65973917e-01, 3.12674820e-01, 4.91060168e-01,\n",
       "        6.05514467e-01, 6.09032512e-01, 4.82742667e-01, 2.73663074e-01,\n",
       "        1.21306635e-01, 4.78942655e-02, 1.28712999e-02, 1.43497309e-03,\n",
       "        4.34530921e-05, 5.00000000e-01],\n",
       "       [5.00000000e-01, 3.14669178e-21, 7.36050557e-14, 1.58192159e-09,\n",
       "        1.01985427e-06, 1.32412169e-04, 6.44951686e-03, 1.01243787e-01,\n",
       "        3.99849117e-01, 6.08513653e-01, 6.26970887e-01, 5.08889019e-01,\n",
       "        3.27895552e-01, 1.89481884e-01, 1.27138928e-01, 1.21163867e-01,\n",
       "        1.62954271e-01, 2.60496587e-01, 4.02708113e-01, 5.27671993e-01,\n",
       "        5.73254764e-01, 5.09670973e-01, 3.34476292e-01, 1.52166262e-01,\n",
       "        6.06754012e-02, 2.40260549e-02, 6.30092714e-03, 5.78783394e-04,\n",
       "        1.10447991e-05, 5.00000000e-01],\n",
       "       [5.00000000e-01, 5.61191167e-23, 6.37944262e-15, 3.18837762e-10,\n",
       "        2.98812040e-07, 4.29506763e-05, 2.09678174e-03, 3.62701826e-02,\n",
       "        2.06301928e-01, 4.48650658e-01, 5.63279748e-01, 5.45541167e-01,\n",
       "        4.56987321e-01, 3.60448807e-01, 3.04828644e-01, 3.09074521e-01,\n",
       "        3.63797158e-01, 4.41818267e-01, 5.09867191e-01, 5.33137560e-01,\n",
       "        4.82153684e-01, 3.47352922e-01, 1.78120553e-01, 6.88723102e-02,\n",
       "        2.69481279e-02, 1.10735651e-02, 2.82399007e-03, 2.10546918e-04,\n",
       "        2.48061519e-06, 5.00000000e-01],\n",
       "       [5.00000000e-01, 4.25190821e-24, 9.87546925e-16, 8.13681969e-11,\n",
       "        1.02529135e-07, 1.58046132e-05, 7.04833714e-04, 1.12479441e-02,\n",
       "        7.42422789e-02, 2.36011565e-01, 4.16895390e-01, 5.20045757e-01,\n",
       "        5.59983909e-01, 5.72981715e-01, 5.84261239e-01, 6.05986774e-01,\n",
       "        6.23350859e-01, 6.13102317e-01, 5.63348651e-01, 4.62762922e-01,\n",
       "        3.13519269e-01, 1.64193988e-01, 6.73386157e-02, 2.47327182e-02,\n",
       "        9.92766954e-03, 4.01975308e-03, 9.08125774e-04, 5.02503281e-05,\n",
       "        3.30789135e-07, 5.00000000e-01],\n",
       "       [5.00000000e-01, 4.95290510e-25, 1.03449365e-16, 1.04024827e-11,\n",
       "        1.88158786e-08, 3.72964018e-06, 1.67092425e-04, 2.34170142e-03,\n",
       "        1.50429960e-02, 6.17948100e-02, 1.73948482e-01, 3.31734627e-01,\n",
       "        4.72647697e-01, 5.68240523e-01, 6.26809239e-01, 6.58864737e-01,\n",
       "        6.51753783e-01, 5.80377996e-01, 4.32018638e-01, 2.43307889e-01,\n",
       "        1.01942085e-01, 3.70713733e-02, 1.36340968e-02, 5.29897120e-03,\n",
       "        2.14548991e-03, 7.34648085e-04, 1.17740543e-04, 3.74956153e-06,\n",
       "        9.65667990e-09, 5.00000000e-01],\n",
       "       [5.00000000e-01, 6.58755940e-27, 9.61777167e-19, 1.24281824e-13,\n",
       "        4.53714177e-10, 1.75919723e-07, 1.04676883e-05, 1.39517753e-04,\n",
       "        8.20173242e-04, 3.76925990e-03, 1.49073368e-02, 4.06507887e-02,\n",
       "        6.57241717e-02, 7.00741112e-02, 6.64197132e-02, 7.27028847e-02,\n",
       "        8.86185169e-02, 8.99146348e-02, 5.70050068e-02, 2.03312188e-02,\n",
       "        5.04788756e-03, 1.33891380e-03, 4.97761415e-04, 2.34810068e-04,\n",
       "        1.00432997e-04, 2.55022278e-05, 2.10136409e-06, 2.25988313e-08,\n",
       "        9.60872961e-12, 5.00000000e-01],\n",
       "       [5.00000000e-01, 5.09937913e-32, 1.07286353e-23, 4.29558035e-18,\n",
       "        8.77372177e-14, 1.57775640e-10, 2.01095176e-08, 2.90810590e-07,\n",
       "        1.57022328e-06, 7.90376635e-06, 3.40758634e-05, 5.71644232e-05,\n",
       "        2.14460924e-05, 2.77212484e-06, 4.70762529e-07, 3.71855890e-07,\n",
       "        1.52864015e-06, 1.03394832e-05, 2.65512408e-05, 1.31831366e-05,\n",
       "        2.15039245e-06, 3.87290811e-07, 1.78579143e-07, 1.71586123e-07,\n",
       "        1.30593506e-07, 2.88167090e-08, 8.13589252e-10, 1.08514153e-12,\n",
       "        1.47508091e-17, 5.00000000e-01],\n",
       "       [5.00000000e-01, 5.00000000e-01, 5.00000000e-01, 5.00000000e-01,\n",
       "        5.00000000e-01, 5.00000000e-01, 5.00000000e-01, 5.00000000e-01,\n",
       "        5.00000000e-01, 5.00000000e-01, 5.00000000e-01, 5.00000000e-01,\n",
       "        5.00000000e-01, 5.00000000e-01, 5.00000000e-01, 5.00000000e-01,\n",
       "        5.00000000e-01, 5.00000000e-01, 5.00000000e-01, 5.00000000e-01,\n",
       "        5.00000000e-01, 5.00000000e-01, 5.00000000e-01, 5.00000000e-01,\n",
       "        5.00000000e-01, 5.00000000e-01, 5.00000000e-01, 5.00000000e-01,\n",
       "        5.00000000e-01, 5.00000000e-01]])"
      ]
     },
     "execution_count": 11,
     "metadata": {},
     "output_type": "execute_result"
    },
    {
     "data": {
      "image/png": "[encoded data removed]",
      "text/plain": [
       "<Figure size 288x288 with 1 Axes>"
      ]
     },
     "metadata": {
      "needs_background": "light"
     },
     "output_type": "display_data"
    },
    {
     "data": {
      "image/png": "[encoded data removed]",
      "text/plain": [
       "<Figure size 288x288 with 1 Axes>"
      ]
     },
     "metadata": {
      "needs_background": "light"
     },
     "output_type": "display_data"
    },
    {
     "data": {
      "image/png": "[encoded data removed]",
      "text/plain": [
       "<Figure size 288x288 with 1 Axes>"
      ]
     },
     "metadata": {
      "needs_background": "light"
     },
     "output_type": "display_data"
    },
    {
     "data": {
      "image/png": "[encoded data removed]",
      "text/plain": [
       "<Figure size 288x288 with 1 Axes>"
      ]
     },
     "metadata": {
      "needs_background": "light"
     },
     "output_type": "display_data"
    },
    {
     "data": {
      "image/png": "[encoded data removed]",
      "text/plain": [
       "<Figure size 288x288 with 1 Axes>"
      ]
     },
     "metadata": {
      "needs_background": "light"
     },
     "output_type": "display_data"
    },
    {
     "data": {
      "image/png": "[encoded data removed]",
      "text/plain": [
       "<Figure size 288x288 with 1 Axes>"
      ]
     },
     "metadata": {
      "needs_background": "light"
     },
     "output_type": "display_data"
    },
    {
     "data": {
      "image/png": "[encoded data removed]",
      "text/plain": [
       "<Figure size 288x288 with 1 Axes>"
      ]
     },
     "metadata": {
      "needs_background": "light"
     },
     "output_type": "display_data"
    },
    {
     "data": {
      "image/png": "[encoded data removed]",
      "text/plain": [
       "<Figure size 288x288 with 1 Axes>"
      ]
     },
     "metadata": {
      "needs_background": "light"
     },
     "output_type": "display_data"
    },
    {
     "data": {
      "image/png": "[encoded data removed]",
      "text/plain": [
       "<Figure size 288x288 with 1 Axes>"
      ]
     },
     "metadata": {
      "needs_background": "light"
     },
     "output_type": "display_data"
    },
    {
     "data": {
      "image/png": "[encoded data removed]",
      "text/plain": [
       "<Figure size 288x288 with 1 Axes>"
      ]
     },
     "metadata": {
      "needs_background": "light"
     },
     "output_type": "display_data"
    }
   ],
   "source": [
    "img_loc = {'startr': 0, 'endr': 30, 'startc': 0, 'endc': 30}\n",
    "## MC: Check the remaining shuffling operations\n",
    "print(\"reconstructing images...\")\n",
    "test_model.xrecons_grid(img_loc)"
   ]
  }
 ],
 "metadata": {
  "kernelspec": {
   "display_name": "Python 3",
   "language": "python",
   "name": "python3"
  },
  "language_info": {
   "codemirror_mode": {
    "name": "ipython",
    "version": 3
   },
   "file_extension": ".py",
   "mimetype": "text/x-python",
   "name": "python",
   "nbconvert_exporter": "python",
   "pygments_lexer": "ipython3",
   "version": "3.7.4"
  }
 },
 "nbformat": 4,
 "nbformat_minor": 4
}
