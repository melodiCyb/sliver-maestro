{
 "cells": [
  {
   "cell_type": "code",
   "execution_count": 1,
   "metadata": {},
   "outputs": [],
   "source": [
    "import csv\n",
    "import ndjson\n",
    "import os\n",
    "import sys"
   ]
  },
  {
   "cell_type": "code",
   "execution_count": 2,
   "metadata": {},
   "outputs": [
    {
     "name": "stdout",
     "output_type": "stream",
     "text": [
      "root_path: C:\\Users\\ozgur\\Desktop\\sandbox\\sliver-maestro\n"
     ]
    }
   ],
   "source": [
    "base_path = os.getcwd().split('sliver-maestro')[0]\n",
    "root_path = os.path.join(base_path, \"sliver-maestro\")\n",
    "print(\"root_path: {}\".format(root_path))"
   ]
  },
  {
   "cell_type": "code",
   "execution_count": 3,
   "metadata": {},
   "outputs": [],
   "source": [
    "sys.path.insert(1, root_path)\n",
    "from src.utils.model_utils import *\n",
    "from src.draw_model import *\n",
    "from src.generate_images import *"
   ]
  },
  {
   "cell_type": "code",
   "execution_count": 4,
   "metadata": {},
   "outputs": [],
   "source": [
    "categories_file = os.path.join(root_path, \"src\", \"data\", \"categories.csv\")"
   ]
  },
  {
   "cell_type": "code",
   "execution_count": 5,
   "metadata": {},
   "outputs": [],
   "source": [
    "with open(categories_file, newline='') as f:\n",
    "    reader = csv.reader(f)\n",
    "    categories = {rows[0]:rows[0] for rows in reader}"
   ]
  },
  {
   "cell_type": "markdown",
   "metadata": {},
   "source": [
    "#### Select a category to download images from "
   ]
  },
  {
   "cell_type": "code",
   "execution_count": 6,
   "metadata": {},
   "outputs": [
    {
     "name": "stdout",
     "output_type": "stream",
     "text": [
      "Number of categories: 345\n"
     ]
    }
   ],
   "source": [
    "print('Number of categories: %d' % len(categories))"
   ]
  },
  {
   "cell_type": "code",
   "execution_count": 7,
   "metadata": {},
   "outputs": [
    {
     "data": {
      "text/plain": [
       "['aircraft carrier',\n",
       " 'airplane',\n",
       " 'alarm clock',\n",
       " 'ambulance',\n",
       " 'angel',\n",
       " 'animal migration',\n",
       " 'ant',\n",
       " 'anvil',\n",
       " 'apple',\n",
       " 'arm']"
      ]
     },
     "execution_count": 7,
     "metadata": {},
     "output_type": "execute_result"
    }
   ],
   "source": [
    "list(categories.keys())[:10]"
   ]
  },
  {
   "cell_type": "code",
   "execution_count": 8,
   "metadata": {},
   "outputs": [
    {
     "name": "stdout",
     "output_type": "stream",
     "text": [
      "Selected category from the list above: cat\n"
     ]
    }
   ],
   "source": [
    "category = input(\"Selected category from the list above: \") or 'cat'\n",
    "# Checking to see if the entered category is in the categories dictionary\n",
    "assert categories.get(category)"
   ]
  },
  {
   "cell_type": "code",
   "execution_count": 9,
   "metadata": {},
   "outputs": [
    {
     "name": "stdout",
     "output_type": "stream",
     "text": [
      "Creating directories to save images, weights and the model ...\n",
      "folders are created...\n"
     ]
    }
   ],
   "source": [
    "print(\"Creating directories to save images, weights and the model ...\")\n",
    "src_list, dst_list, paths_dict = create_folders(root_path, category)"
   ]
  },
  {
   "cell_type": "code",
   "execution_count": 10,
   "metadata": {},
   "outputs": [
    {
     "name": "stdout",
     "output_type": "stream",
     "text": [
      "Select a download method ... \n",
      " 1. Use Google Cloud credentials stored in a json file \n",
      " 2. Use gsutil in the notebook \n",
      " 3. Use gsutil in the terminal \n",
      "3\n"
     ]
    }
   ],
   "source": [
    "option = input(\"Select a download method ... \\n 1. Use Google Cloud credentials stored in a json file \\n 2. Use gsutil in the notebook \\n 3. Use gsutil in the terminal \\n\")"
   ]
  },
  {
   "cell_type": "code",
   "execution_count": 11,
   "metadata": {},
   "outputs": [
    {
     "name": "stdout",
     "output_type": "stream",
     "text": [
      "Type the following in the terminal to download the files manually:\n",
      "gsutil -m cp gs://quickdraw_dataset/full/numpy_bitmap/cat.npy C:\\Users\\ozgur\\Desktop\\sandbox\\sliver-maestro\\src\\data\\input\\cat\\cat.npy\n",
      "gsutil -m cp gs://quickdraw_dataset/full/raw/cat.ndjson C:\\Users\\ozgur\\Desktop\\sandbox\\sliver-maestro\\src\\data\\raw\\cat\\cat.ndjson\n"
     ]
    }
   ],
   "source": [
    "if option == \"1\":\n",
    "    download_data(src_list, dst_list)\n",
    "elif option == \"2\":\n",
    "    for (src_file, dst_file) in zip(src_list, dst_list): \n",
    "        print('gs://quickdraw_dataset/' + src_file, dst_file)\n",
    "        !gsutil -m cp {'gs://quickdraw_dataset/' + src_file} {dst_file}\n",
    "elif option == \"3\":\n",
    "    print('Type the following in the terminal to download the files manually:')\n",
    "    for (src_file, dst_file) in zip(src_list, dst_list):\n",
    "        print(\"gsutil -m cp \" + \"gs://quickdraw_dataset/\" + \"{}\".format(src_file) + \" \" + \"{}\".format(dst_file))"
   ]
  },
  {
   "cell_type": "code",
   "execution_count": 12,
   "metadata": {},
   "outputs": [],
   "source": [
    "model_path = os.path.join(paths_dict['input_path'], category, category)"
   ]
  },
  {
   "cell_type": "code",
   "execution_count": 13,
   "metadata": {},
   "outputs": [],
   "source": [
    "npy_data = np.load(paths_dict['base_input'] + '.npy', allow_pickle=True)"
   ]
  },
  {
   "cell_type": "code",
   "execution_count": 14,
   "metadata": {},
   "outputs": [],
   "source": [
    "# load from file-like objects\n",
    "with open(paths_dict['base_raw'] + '.ndjson') as f:\n",
    "    ndjson_data = ndjson.load(f)"
   ]
  },
  {
   "cell_type": "code",
   "execution_count": 15,
   "metadata": {},
   "outputs": [],
   "source": [
    "def plot_bitmap(index):\n",
    "    print(\"Bitmap image:\")\n",
    "    plt.imshow(npy_data[index].reshape(28,28))"
   ]
  },
  {
   "cell_type": "code",
   "execution_count": 16,
   "metadata": {},
   "outputs": [],
   "source": [
    "def plot_raw(index):\n",
    "    print(\"Raw image:\")\n",
    "    i = 0\n",
    "    for stroke in ndjson_data[index]['drawing']:\n",
    "        stroke = np.array(stroke)\n",
    "        plt.plot(stroke[0], stroke[1]*-1)\n",
    "        i += 1\n",
    "    print('There are', i, 'number of strokes in this raw image file!')"
   ]
  },
  {
   "cell_type": "code",
   "execution_count": 93,
   "metadata": {},
   "outputs": [
    {
     "name": "stdout",
     "output_type": "stream",
     "text": [
      "There are  123203  images in selected category cat\n",
      "Select an index value from 0 to 98561 to display and compare bitmap and raw images:1300\n",
      "Selected index: 1300\n",
      "Bitmap image:\n"
     ]
    },
    {
     "data": {
      "image/png": "[encoded data removed]",
      "text/plain": [
       "<Figure size 432x288 with 1 Axes>"
      ]
     },
     "metadata": {
      "needs_background": "light"
     },
     "output_type": "display_data"
    },
    {
     "name": "stdout",
     "output_type": "stream",
     "text": [
      "Raw image:\n",
      "There are 9 number of strokes in this raw image file!\n"
     ]
    },
    {
     "data": {
      "image/png": "[encoded data removed]",
      "text/plain": [
       "<Figure size 432x288 with 1 Axes>"
      ]
     },
     "metadata": {
      "needs_background": "light"
     },
     "output_type": "display_data"
    }
   ],
   "source": [
    "print('There are ', len(npy_data)+1, ' images in selected category', categories[category])\n",
    "index=int(input(\"Select an index value from 0 to \" + str((len(npy_data)*8)//10) + \" to display and compare bitmap and raw images:\"))\n",
    "print(\"Selected index: {}\".format(index))\n",
    "plot_bitmap(index)\n",
    "plt.show()\n",
    "plot_raw(index)"
   ]
  },
  {
   "cell_type": "code",
   "execution_count": 94,
   "metadata": {},
   "outputs": [],
   "source": [
    "# TRAIN TEST SPLIT\n",
    "filepath = paths_dict['input_path']\n",
    "x_train, x_test, y_train, y_test = split_data(filepath, categories[category], shuffle=False)"
   ]
  },
  {
   "cell_type": "code",
   "execution_count": 95,
   "metadata": {},
   "outputs": [
    {
     "data": {
      "text/plain": [
       "DRAW(\n",
       "  (encoder): LSTMCell(306, 256)\n",
       "  (mu_linear): Linear(in_features=256, out_features=10, bias=True)\n",
       "  (sigma_linear): Linear(in_features=256, out_features=10, bias=True)\n",
       "  (decoder): LSTMCell(10, 256)\n",
       "  (dec_linear): Linear(in_features=256, out_features=5, bias=True)\n",
       "  (dec_w_linear): Linear(in_features=256, out_features=25, bias=True)\n",
       "  (sigmoid): Sigmoid()\n",
       ")"
      ]
     },
     "execution_count": 95,
     "metadata": {},
     "output_type": "execute_result"
    }
   ],
   "source": [
    "DRAW(model_path, category)"
   ]
  },
  {
   "cell_type": "code",
   "execution_count": 96,
   "metadata": {},
   "outputs": [],
   "source": [
    "train_data = Dataset(x_train)\n",
    "test_data = Dataset(x_test)"
   ]
  },
  {
   "cell_type": "code",
   "execution_count": 97,
   "metadata": {},
   "outputs": [],
   "source": [
    "model = DRAW(category)"
   ]
  },
  {
   "cell_type": "code",
   "execution_count": null,
   "metadata": {},
   "outputs": [],
   "source": [
    "# TRAINING AND TESTING\n",
    "print(\"training...\")\n",
    "model.start(phase='train') "
   ]
  },
  {
   "cell_type": "markdown",
   "metadata": {},
   "source": [
    "## Generating Images"
   ]
  },
  {
   "cell_type": "code",
   "execution_count": 98,
   "metadata": {},
   "outputs": [],
   "source": [
    "test_model = Test(category)"
   ]
  },
  {
   "cell_type": "code",
   "execution_count": 99,
   "metadata": {},
   "outputs": [],
   "source": [
    "dataloader = test_model.dataloaders['train']"
   ]
  },
  {
   "cell_type": "code",
   "execution_count": 100,
   "metadata": {},
   "outputs": [
    {
     "name": "stdout",
     "output_type": "stream",
     "text": [
      "(98561, 784)\n"
     ]
    }
   ],
   "source": [
    "print(dataloader.data.shape)"
   ]
  },
  {
   "cell_type": "code",
   "execution_count": 142,
   "metadata": {},
   "outputs": [],
   "source": [
    "for i in range((index//64)+1):\n",
    "    data = dataloader.next_batch(test_model.batch_size)"
   ]
  },
  {
   "cell_type": "code",
   "execution_count": 102,
   "metadata": {},
   "outputs": [
    {
     "data": {
      "text/plain": [
       "(64, 784)"
      ]
     },
     "execution_count": 102,
     "metadata": {},
     "output_type": "execute_result"
    }
   ],
   "source": [
    "data.shape"
   ]
  },
  {
   "cell_type": "code",
   "execution_count": 103,
   "metadata": {},
   "outputs": [
    {
     "name": "stdout",
     "output_type": "stream",
     "text": [
      "1300\n"
     ]
    }
   ],
   "source": [
    "print(index)"
   ]
  },
  {
   "cell_type": "code",
   "execution_count": 104,
   "metadata": {},
   "outputs": [
    {
     "data": {
      "text/plain": [
       "<matplotlib.image.AxesImage at 0x19b3f0fffc8>"
      ]
     },
     "execution_count": 104,
     "metadata": {},
     "output_type": "execute_result"
    },
    {
     "data": {
      "image/png": "[encoded data removed]",
      "text/plain": [
       "<Figure size 432x288 with 1 Axes>"
      ]
     },
     "metadata": {
      "needs_background": "light"
     },
     "output_type": "display_data"
    }
   ],
   "source": [
    "plt.imshow(npy_data[index].reshape(28,28))"
   ]
  },
  {
   "cell_type": "code",
   "execution_count": 105,
   "metadata": {},
   "outputs": [
    {
     "name": "stdout",
     "output_type": "stream",
     "text": [
      "{'startr': 60, 'endr': 90, 'startc': 120, 'endc': 150}\n"
     ]
    }
   ],
   "source": [
    "print(test_model.get_image_location(index%64))"
   ]
  },
  {
   "cell_type": "code",
   "execution_count": 106,
   "metadata": {},
   "outputs": [
    {
     "name": "stdout",
     "output_type": "stream",
     "text": [
      "20\n"
     ]
    }
   ],
   "source": [
    "print(index%64)"
   ]
  },
  {
   "cell_type": "code",
   "execution_count": 107,
   "metadata": {},
   "outputs": [
    {
     "name": "stdout",
     "output_type": "stream",
     "text": [
      "reconstructing images...\n",
      "C:\\Users\\ozgur\\Desktop\\sandbox\\sliver-maestro\\src\\data\\output\\images\\cat\\cat_test_0.png\n",
      "C:\\Users\\ozgur\\Desktop\\sandbox\\sliver-maestro\\src\\data\\output\\images\\cat\\cat_test_1.png\n",
      "C:\\Users\\ozgur\\Desktop\\sandbox\\sliver-maestro\\src\\data\\output\\images\\cat\\cat_test_2.png\n",
      "C:\\Users\\ozgur\\Desktop\\sandbox\\sliver-maestro\\src\\data\\output\\images\\cat\\cat_test_3.png\n",
      "C:\\Users\\ozgur\\Desktop\\sandbox\\sliver-maestro\\src\\data\\output\\images\\cat\\cat_test_4.png\n",
      "C:\\Users\\ozgur\\Desktop\\sandbox\\sliver-maestro\\src\\data\\output\\images\\cat\\cat_test_5.png\n",
      "C:\\Users\\ozgur\\Desktop\\sandbox\\sliver-maestro\\src\\data\\output\\images\\cat\\cat_test_6.png\n",
      "C:\\Users\\ozgur\\Desktop\\sandbox\\sliver-maestro\\src\\data\\output\\images\\cat\\cat_test_7.png\n",
      "C:\\Users\\ozgur\\Desktop\\sandbox\\sliver-maestro\\src\\data\\output\\images\\cat\\cat_test_8.png\n",
      "C:\\Users\\ozgur\\Desktop\\sandbox\\sliver-maestro\\src\\data\\output\\images\\cat\\cat_test_9.png\n",
      "C:\\Users\\ozgur\\Desktop\\sandbox\\sliver-maestro\\src\\data\\output\\images\\cat\\cat_test_10.png\n",
      "C:\\Users\\ozgur\\Desktop\\sandbox\\sliver-maestro\\src\\data\\output\\images\\cat\\cat_test_11.png\n",
      "C:\\Users\\ozgur\\Desktop\\sandbox\\sliver-maestro\\src\\data\\output\\images\\cat\\cat_test_12.png\n",
      "C:\\Users\\ozgur\\Desktop\\sandbox\\sliver-maestro\\src\\data\\output\\images\\cat\\cat_test_13.png\n",
      "C:\\Users\\ozgur\\Desktop\\sandbox\\sliver-maestro\\src\\data\\output\\images\\cat\\cat_test_14.png\n",
      "C:\\Users\\ozgur\\Desktop\\sandbox\\sliver-maestro\\src\\data\\output\\images\\cat\\cat_test_15.png\n",
      "C:\\Users\\ozgur\\Desktop\\sandbox\\sliver-maestro\\src\\data\\output\\images\\cat\\cat_test_16.png\n",
      "C:\\Users\\ozgur\\Desktop\\sandbox\\sliver-maestro\\src\\data\\output\\images\\cat\\cat_test_17.png\n",
      "C:\\Users\\ozgur\\Desktop\\sandbox\\sliver-maestro\\src\\data\\output\\images\\cat\\cat_test_18.png\n",
      "C:\\Users\\ozgur\\Desktop\\sandbox\\sliver-maestro\\src\\data\\output\\images\\cat\\cat_test_19.png\n"
     ]
    },
    {
     "data": {
      "text/plain": [
       "array([[5.00000000e-01, 5.00000000e-01, 5.00000000e-01, 5.00000000e-01,\n",
       "        5.00000000e-01, 5.00000000e-01, 5.00000000e-01, 5.00000000e-01,\n",
       "        5.00000000e-01, 5.00000000e-01, 5.00000000e-01, 5.00000000e-01,\n",
       "        5.00000000e-01, 5.00000000e-01, 5.00000000e-01, 5.00000000e-01,\n",
       "        5.00000000e-01, 5.00000000e-01, 5.00000000e-01, 5.00000000e-01,\n",
       "        5.00000000e-01, 5.00000000e-01, 5.00000000e-01, 5.00000000e-01,\n",
       "        5.00000000e-01, 5.00000000e-01, 5.00000000e-01, 5.00000000e-01,\n",
       "        5.00000000e-01, 5.00000000e-01],\n",
       "       [5.00000000e-01, 0.00000000e+00, 0.00000000e+00, 0.00000000e+00,\n",
       "        3.19273444e-29, 1.31110784e-18, 4.28252052e-12, 4.90661822e-09,\n",
       "        2.84066051e-08, 7.06747105e-09, 3.05887260e-10, 6.72290956e-12,\n",
       "        1.72813356e-13, 8.67047489e-15, 1.18711731e-15, 6.46082163e-16,\n",
       "        2.01346995e-15, 4.07838538e-14, 4.27586872e-12, 1.25303667e-09,\n",
       "        3.43772115e-07, 1.84284036e-05, 3.25758629e-05, 3.05227616e-07,\n",
       "        1.63680462e-12, 2.24720850e-22, 5.43207464e-39, 0.00000000e+00,\n",
       "        0.00000000e+00, 5.00000000e-01],\n",
       "       [5.00000000e-01, 0.00000000e+00, 9.70280850e-37, 3.23171038e-23,\n",
       "        1.68330332e-14, 9.07289088e-09, 1.80910793e-05, 5.07482211e-04,\n",
       "        8.50903278e-04, 2.42251786e-04, 2.11012702e-05, 8.28821953e-07,\n",
       "        2.33297186e-08, 9.79040848e-10, 1.55959801e-10, 1.89859101e-10,\n",
       "        1.80709359e-09, 7.50501385e-08, 6.31885132e-06, 5.06894838e-04,\n",
       "        1.76819265e-02, 1.20074496e-01, 1.03468187e-01, 5.03938319e-03,\n",
       "        3.43782062e-06, 5.87258974e-12, 1.26431224e-21, 0.00000000e+00,\n",
       "        0.00000000e+00, 5.00000000e-01],\n",
       "       [5.00000000e-01, 0.00000000e+00, 2.67659494e-25, 3.78666545e-15,\n",
       "        5.43107959e-09, 4.23875281e-05, 6.79465383e-03, 5.92411011e-02,\n",
       "        8.00328776e-02, 3.47582065e-02, 5.68081392e-03, 2.96718790e-04,\n",
       "        5.12970109e-06, 8.34174756e-08, 8.80643647e-09, 2.17367742e-08,\n",
       "        7.15076851e-07, 5.81935165e-05, 3.28310323e-03, 7.68320113e-02,\n",
       "        4.39867258e-01, 6.86228454e-01, 5.79240203e-01, 1.11204840e-01,\n",
       "        6.47319597e-04, 4.44156392e-08, 4.02887029e-15, 3.37388693e-28,\n",
       "        0.00000000e+00, 5.00000000e-01],\n",
       "       [5.00000000e-01, 7.49909792e-36, 1.23165720e-19, 2.12752489e-11,\n",
       "        1.44799299e-06, 1.49659917e-03, 7.44932219e-02, 3.31522435e-01,\n",
       "        4.15987313e-01, 2.82766730e-01, 7.51731172e-02, 3.04265972e-03,\n",
       "        1.43253264e-05, 4.45287114e-08, 2.54370969e-09, 1.72750845e-08,\n",
       "        3.17866761e-06, 7.95539236e-04, 4.59128842e-02, 4.00398105e-01,\n",
       "        7.53728390e-01, 8.31923723e-01, 7.18972147e-01, 2.43999019e-01,\n",
       "        4.57116403e-03, 1.92116340e-06, 2.82007035e-12, 2.48279613e-23,\n",
       "        0.00000000e+00, 5.00000000e-01],\n",
       "       [5.00000000e-01, 4.90082513e-33, 3.77692355e-17, 2.04297712e-09,\n",
       "        3.56614182e-05, 1.11145843e-02, 2.14884356e-01, 5.35593331e-01,\n",
       "        6.07940137e-01, 4.93833810e-01, 1.83534265e-01, 6.35971595e-03,\n",
       "        1.28229622e-05, 1.63248668e-08, 8.77183215e-10, 1.40527172e-08,\n",
       "        6.99985139e-06, 2.77276337e-03, 1.28032684e-01, 5.68750679e-01,\n",
       "        7.94109523e-01, 8.19261134e-01, 6.83003902e-01, 2.71058202e-01,\n",
       "        1.24906646e-02, 2.38903613e-05, 3.09916509e-10, 9.29848978e-20,\n",
       "        0.00000000e+00, 5.00000000e-01],\n",
       "       [5.00000000e-01, 3.98131671e-34, 1.68597183e-16, 2.78107706e-08,\n",
       "        3.52783332e-04, 4.75272983e-02, 3.61342698e-01, 5.90222597e-01,\n",
       "        6.16580307e-01, 5.27707517e-01, 2.66322702e-01, 1.86599605e-02,\n",
       "        9.37106888e-05, 3.31376725e-07, 3.47230760e-08, 4.76879450e-07,\n",
       "        9.63979546e-05, 1.26257157e-02, 2.17328116e-01, 5.66663802e-01,\n",
       "        7.08028436e-01, 6.92460835e-01, 5.33539534e-01, 2.40760773e-01,\n",
       "        2.82922387e-02, 2.64703063e-04, 3.03706926e-08, 3.05647789e-16,\n",
       "        4.67587532e-36, 5.00000000e-01],\n",
       "       [5.00000000e-01, 2.23191734e-36, 1.85294982e-16, 1.74250985e-07,\n",
       "        2.22529704e-03, 1.41664937e-01, 4.74255890e-01, 5.74527800e-01,\n",
       "        5.49595118e-01, 4.93574172e-01, 3.65606546e-01, 1.05639629e-01,\n",
       "        5.36808558e-03, 1.85229102e-04, 4.71760795e-05, 2.17449036e-04,\n",
       "        4.83642565e-03, 7.74077997e-02, 3.22787642e-01, 5.01574576e-01,\n",
       "        5.36686420e-01, 4.78670090e-01, 3.66195232e-01, 2.25233614e-01,\n",
       "        6.71460256e-02, 2.69079139e-03, 2.07894141e-06, 4.49291429e-13,\n",
       "        2.74463434e-29, 5.00000000e-01],\n",
       "       [5.00000000e-01, 3.63856047e-37, 6.21829068e-16, 1.22385757e-06,\n",
       "        1.09453108e-02, 2.90210038e-01, 5.36468089e-01, 5.25187194e-01,\n",
       "        4.58417118e-01, 4.39098030e-01, 4.51199055e-01, 3.79243404e-01,\n",
       "        1.79647297e-01, 5.33727109e-02, 2.72695199e-02, 4.22960743e-02,\n",
       "        1.23603895e-01, 2.95260727e-01, 4.23666388e-01, 4.35797572e-01,\n",
       "        3.83287758e-01, 3.25423777e-01, 2.94517130e-01, 2.74278492e-01,\n",
       "        1.71510562e-01, 2.07229219e-02, 6.00874009e-05, 1.02793739e-10,\n",
       "        5.87588962e-25, 5.00000000e-01],\n",
       "       [5.00000000e-01, 3.96650422e-35, 2.26984196e-14, 1.50753549e-05,\n",
       "        4.56774682e-02, 4.29292411e-01, 5.39930999e-01, 4.42445338e-01,\n",
       "        3.52802098e-01, 3.63794565e-01, 4.69057947e-01, 5.80304444e-01,\n",
       "        5.98208666e-01, 5.19899666e-01, 4.34238046e-01, 4.24373925e-01,\n",
       "        4.77219582e-01, 5.13042092e-01, 4.72980082e-01, 3.76171470e-01,\n",
       "        2.91910768e-01, 2.65977323e-01, 3.10980648e-01, 4.01350021e-01,\n",
       "        3.85065317e-01, 1.00219913e-01, 5.99265913e-04, 2.45730725e-09,\n",
       "        2.32235665e-23, 5.00000000e-01],\n",
       "       [5.00000000e-01, 1.03503895e-30, 5.52060828e-12, 2.75530154e-04,\n",
       "        1.52553618e-01, 5.22724152e-01, 5.00700295e-01, 3.40015143e-01,\n",
       "        2.47289389e-01, 2.76534975e-01, 4.24144268e-01, 6.00633264e-01,\n",
       "        6.75614238e-01, 6.40860617e-01, 5.66306174e-01, 5.41789114e-01,\n",
       "        5.64969599e-01, 5.48621833e-01, 4.42721307e-01, 3.05519462e-01,\n",
       "        2.29068860e-01, 2.40877032e-01, 3.57645184e-01, 5.48508525e-01,\n",
       "        6.14365518e-01, 2.67899305e-01, 2.27905274e-03, 8.23370083e-09,\n",
       "        7.57623197e-24, 5.00000000e-01],\n",
       "       [5.00000000e-01, 1.72609040e-25, 1.88402538e-09, 4.27938066e-03,\n",
       "        3.50954950e-01, 5.84612727e-01, 4.59384143e-01, 2.62066036e-01,\n",
       "        1.76719517e-01, 2.12780088e-01, 3.65745336e-01, 5.30566096e-01,\n",
       "        5.43284535e-01, 4.06163037e-01, 2.82321125e-01, 2.85580486e-01,\n",
       "        3.85460913e-01, 4.42985356e-01, 3.65820616e-01, 2.40513265e-01,\n",
       "        1.80714890e-01, 2.14159876e-01, 3.77618790e-01, 6.32505119e-01,\n",
       "        7.41081953e-01, 4.39522594e-01, 4.88061411e-03, 1.04492095e-08,\n",
       "        5.66710772e-25, 5.00000000e-01],\n",
       "       [5.00000000e-01, 8.76409007e-21, 2.55934083e-07, 3.46265212e-02,\n",
       "        5.36861122e-01, 6.20354295e-01, 4.36580509e-01, 2.29344666e-01,\n",
       "        1.53668270e-01, 1.96975082e-01, 3.48570645e-01, 4.67165470e-01,\n",
       "        3.71364027e-01, 1.64402455e-01, 7.69529641e-02, 8.90100673e-02,\n",
       "        1.97109953e-01, 3.37037265e-01, 3.28798711e-01, 2.22251564e-01,\n",
       "        1.60372764e-01, 1.87471285e-01, 3.49311382e-01, 6.30991995e-01,\n",
       "        7.77103543e-01, 5.60977638e-01, 1.01386923e-02, 1.94084198e-08,\n",
       "        4.24639487e-25, 5.00000000e-01],\n",
       "       [5.00000000e-01, 4.57079261e-17, 9.52794835e-06, 1.23538062e-01,\n",
       "        6.23407543e-01, 6.08105361e-01, 4.03537959e-01, 2.19841614e-01,\n",
       "        1.64535418e-01, 2.28827521e-01, 3.98151577e-01, 4.93627787e-01,\n",
       "        3.43030274e-01, 1.17999993e-01, 4.62288111e-02, 5.55996709e-02,\n",
       "        1.56925172e-01, 3.48699421e-01, 3.97289962e-01, 2.82687426e-01,\n",
       "        1.81395456e-01, 1.73640177e-01, 2.88979560e-01, 5.56628883e-01,\n",
       "        7.58510828e-01, 6.50908411e-01, 2.90044583e-02, 1.25792397e-07,\n",
       "        2.38544201e-23, 5.00000000e-01],\n",
       "       [5.00000000e-01, 1.58161888e-14, 9.68702152e-05, 2.25349739e-01,\n",
       "        6.29244745e-01, 5.43915153e-01, 3.40722144e-01, 2.07726181e-01,\n",
       "        1.89834222e-01, 2.93283969e-01, 4.97742236e-01, 6.07551634e-01,\n",
       "        4.81753826e-01, 2.12822214e-01, 9.05767530e-02, 9.72062051e-02,\n",
       "        2.36887738e-01, 4.87383038e-01, 5.68323195e-01, 4.32451785e-01,\n",
       "        2.49505371e-01, 1.78004295e-01, 2.31966242e-01, 4.52848732e-01,\n",
       "        7.16090024e-01, 7.27064252e-01, 1.03294201e-01, 2.47412277e-06,\n",
       "        4.88197409e-20, 5.00000000e-01],\n",
       "       [5.00000000e-01, 2.04147720e-13, 2.64164817e-04, 2.74943143e-01,\n",
       "        6.09803379e-01, 4.79186982e-01, 2.86248773e-01, 1.97609782e-01,\n",
       "        2.19244212e-01, 3.66890997e-01, 5.95230281e-01, 7.16659725e-01,\n",
       "        6.56979322e-01, 4.23593313e-01, 2.30196401e-01, 2.17624754e-01,\n",
       "        3.92947406e-01, 6.46650612e-01, 7.23012865e-01, 5.93700171e-01,\n",
       "        3.41722339e-01, 1.95307478e-01, 1.99877933e-01, 3.77727687e-01,\n",
       "        6.82222068e-01, 7.82964289e-01, 2.80531496e-01, 5.61478482e-05,\n",
       "        2.49347362e-16, 5.00000000e-01],\n",
       "       [5.00000000e-01, 1.16836838e-13, 2.24454023e-04, 2.69686997e-01,\n",
       "        6.11733735e-01, 4.69591200e-01, 2.71798015e-01, 1.97394520e-01,\n",
       "        2.44543523e-01, 4.24372286e-01, 6.52055323e-01, 7.62729764e-01,\n",
       "        7.32314467e-01, 5.63656747e-01, 3.72313857e-01, 3.38897198e-01,\n",
       "        4.99403119e-01, 7.14028478e-01, 7.78924406e-01, 6.66780889e-01,\n",
       "        3.97652447e-01, 2.05787703e-01, 1.83485463e-01, 3.39938402e-01,\n",
       "        6.62302732e-01, 8.00408483e-01, 4.11507070e-01, 4.12897469e-04,\n",
       "        9.85449922e-14, 5.00000000e-01],\n",
       "       [5.00000000e-01, 8.72891593e-15, 8.22041693e-05, 2.25894004e-01,\n",
       "        6.39511228e-01, 5.08571744e-01, 2.72314578e-01, 1.77863166e-01,\n",
       "        2.25679711e-01, 4.22147900e-01, 6.54062390e-01, 7.54569113e-01,\n",
       "        7.25878954e-01, 5.89228153e-01, 4.34508622e-01, 4.03029591e-01,\n",
       "        5.32128155e-01, 7.04979837e-01, 7.57826149e-01, 6.43728912e-01,\n",
       "        3.73839349e-01, 1.81708157e-01, 1.56647906e-01, 3.05217564e-01,\n",
       "        6.33040011e-01, 7.69179642e-01, 3.56420010e-01, 4.81983850e-04,\n",
       "        2.28771998e-13, 5.00000000e-01],\n",
       "       [5.00000000e-01, 2.06681505e-16, 1.53944875e-05, 1.51687190e-01,\n",
       "        6.64211571e-01, 5.52570581e-01, 2.45313302e-01, 1.16243511e-01,\n",
       "        1.38940871e-01, 3.18200856e-01, 5.82297027e-01, 7.03519583e-01,\n",
       "        6.85149074e-01, 5.88669956e-01, 4.97789890e-01, 4.93536592e-01,\n",
       "        5.86320341e-01, 6.90790951e-01, 7.00188577e-01, 5.49164116e-01,\n",
       "        2.78085411e-01, 1.25013575e-01, 1.15512192e-01, 2.62592405e-01,\n",
       "        5.92926264e-01, 7.03128695e-01, 2.17881039e-01, 1.41107608e-04,\n",
       "        3.52190730e-15, 5.00000000e-01],\n",
       "       [5.00000000e-01, 1.57411892e-18, 1.19461913e-06, 6.53683245e-02,\n",
       "        6.57235682e-01, 5.95407665e-01, 2.17397243e-01, 6.47895858e-02,\n",
       "        6.19542263e-02, 1.69106916e-01, 4.24984485e-01, 6.01197302e-01,\n",
       "        6.29734814e-01, 6.07693374e-01, 6.10640168e-01, 6.51778877e-01,\n",
       "        6.98430240e-01, 7.08469331e-01, 6.31429255e-01, 4.13622350e-01,\n",
       "        1.72928765e-01, 8.01258311e-02, 9.34532285e-02, 2.60272473e-01,\n",
       "        5.91148674e-01, 6.49709284e-01, 1.25349566e-01, 2.66704392e-05,\n",
       "        4.65363913e-18, 5.00000000e-01],\n",
       "       [5.00000000e-01, 2.40188047e-21, 2.37295374e-08, 1.21494653e-02,\n",
       "        5.84347308e-01, 6.70482099e-01, 2.71794707e-01, 5.79076335e-02,\n",
       "        3.55650820e-02, 8.06972906e-02, 2.41778702e-01, 4.36480194e-01,\n",
       "        5.38321495e-01, 6.09455407e-01, 6.98834479e-01, 7.67648757e-01,\n",
       "        7.74890065e-01, 7.03697026e-01, 5.27943432e-01, 2.78667659e-01,\n",
       "        1.15636393e-01, 7.44543076e-02, 1.26915455e-01, 3.68759692e-01,\n",
       "        6.63479328e-01, 6.25398993e-01, 7.03384802e-02, 4.62262597e-06,\n",
       "        1.12651684e-20, 5.00000000e-01],\n",
       "       [5.00000000e-01, 5.05026484e-25, 7.22971127e-11, 5.67218638e-04,\n",
       "        3.47895443e-01, 7.43138731e-01, 4.77059782e-01, 1.15421340e-01,\n",
       "        4.19509560e-02, 5.29580079e-02, 1.25789091e-01, 2.55374074e-01,\n",
       "        3.83934587e-01, 5.20101726e-01, 6.65755391e-01, 7.50249982e-01,\n",
       "        7.32469857e-01, 5.95743597e-01, 3.68171960e-01, 1.83382779e-01,\n",
       "        1.08725227e-01, 1.25590041e-01, 2.84335285e-01, 5.94270706e-01,\n",
       "        7.45141804e-01, 5.51177680e-01, 2.49353200e-02, 5.58885972e-07,\n",
       "        3.86082108e-22, 5.00000000e-01],\n",
       "       [5.00000000e-01, 1.43878176e-29, 2.43565425e-14, 3.64982270e-06,\n",
       "        4.91153747e-02, 6.88438475e-01, 7.05516756e-01, 3.27940643e-01,\n",
       "        9.99608636e-02, 6.44514263e-02, 8.80106688e-02, 1.43689200e-01,\n",
       "        2.15112939e-01, 3.11994612e-01, 4.37039196e-01, 5.24683535e-01,\n",
       "        5.04918337e-01, 3.76181722e-01, 2.26173729e-01, 1.47306815e-01,\n",
       "        1.56507179e-01, 2.97431827e-01, 5.88047802e-01, 7.70076275e-01,\n",
       "        7.34738529e-01, 2.96407133e-01, 3.03843594e-03, 3.00271701e-08,\n",
       "        2.03062528e-22, 5.00000000e-01],\n",
       "       [5.00000000e-01, 1.18628640e-34, 1.41406474e-18, 3.06784909e-09,\n",
       "        7.93482992e-04, 3.05006206e-01, 7.55446494e-01, 6.34818971e-01,\n",
       "        3.14361453e-01, 1.52625501e-01, 1.18140064e-01, 1.19278491e-01,\n",
       "        1.24627508e-01, 1.35851756e-01, 1.62296817e-01, 1.99709266e-01,\n",
       "        2.24747524e-01, 2.14591056e-01, 1.86430544e-01, 1.96545810e-01,\n",
       "        3.24962735e-01, 6.15221679e-01, 8.14524770e-01, 8.13035369e-01,\n",
       "        5.08801460e-01, 3.95972356e-02, 8.12751314e-05, 4.36749026e-10,\n",
       "        1.75794964e-22, 5.00000000e-01],\n",
       "       [5.00000000e-01, 0.00000000e+00, 7.76330134e-23, 1.14002232e-12,\n",
       "        2.92190202e-06, 1.63910501e-02, 4.90336269e-01, 7.30912149e-01,\n",
       "        6.30885601e-01, 4.34307337e-01, 2.95729250e-01, 2.10407183e-01,\n",
       "        1.42872825e-01, 9.84057337e-02, 8.33991691e-02, 9.80141684e-02,\n",
       "        1.47344843e-01, 2.23981306e-01, 3.05370033e-01, 4.25632119e-01,\n",
       "        6.43351853e-01, 8.31304073e-01, 8.63173127e-01, 6.33106589e-01,\n",
       "        7.95115903e-02, 7.00594974e-04, 3.30470357e-07, 9.05672455e-13,\n",
       "        5.87284501e-24, 5.00000000e-01],\n",
       "       [5.00000000e-01, 0.00000000e+00, 1.71848156e-26, 7.65703597e-16,\n",
       "        4.67747396e-09, 8.89755684e-05, 2.79390831e-02, 3.66587520e-01,\n",
       "        6.59793913e-01, 7.11066365e-01, 6.78805888e-01, 5.92806518e-01,\n",
       "        4.47650939e-01, 3.03894162e-01, 2.36010984e-01, 2.58040845e-01,\n",
       "        3.70661318e-01, 5.33132613e-01, 6.63873911e-01, 7.53702939e-01,\n",
       "        8.16760063e-01, 8.07063937e-01, 5.34073293e-01, 4.94951569e-02,\n",
       "        3.96411750e-04, 5.02082742e-07, 4.51069286e-11, 3.21080577e-17,\n",
       "        3.52845803e-29, 5.00000000e-01],\n",
       "       [5.00000000e-01, 0.00000000e+00, 1.76008311e-30, 2.50412645e-19,\n",
       "        1.02262697e-12, 1.66558340e-08, 1.43964608e-05, 2.26025144e-03,\n",
       "        8.12549815e-02, 4.98346567e-01, 8.11512530e-01, 9.00583088e-01,\n",
       "        9.17610407e-01, 9.14703310e-01, 9.13694263e-01, 9.18611526e-01,\n",
       "        9.20436323e-01, 9.09910500e-01, 8.76163304e-01, 7.87316144e-01,\n",
       "        5.24777293e-01, 9.84853879e-02, 2.08463357e-03, 6.07957008e-06,\n",
       "        2.64235189e-09, 1.52442105e-13, 5.90158367e-19, 1.09559668e-26,\n",
       "        0.00000000e+00, 5.00000000e-01],\n",
       "       [5.00000000e-01, 0.00000000e+00, 7.91846857e-39, 7.07392405e-26,\n",
       "        4.64818997e-19, 3.92000411e-15, 2.86125832e-12, 1.34745670e-09,\n",
       "        5.55947338e-07, 1.25797771e-04, 9.05666314e-03, 1.32876903e-01,\n",
       "        3.93773466e-01, 5.35568237e-01, 6.04535043e-01, 6.59506261e-01,\n",
       "        6.43587351e-01, 4.35100228e-01, 1.04090020e-01, 5.33667859e-03,\n",
       "        5.09822203e-05, 6.46415117e-08, 1.08956585e-11, 2.26287155e-16,\n",
       "        2.46387085e-22, 5.97736056e-30, 0.00000000e+00, 0.00000000e+00,\n",
       "        0.00000000e+00, 5.00000000e-01],\n",
       "       [5.00000000e-01, 0.00000000e+00, 0.00000000e+00, 0.00000000e+00,\n",
       "        2.50366925e-33, 2.81373309e-29, 2.35883115e-29, 2.09821905e-30,\n",
       "        7.04321308e-30, 3.17915028e-27, 1.31755154e-24, 1.52515335e-25,\n",
       "        3.27224802e-32, 0.00000000e+00, 0.00000000e+00, 0.00000000e+00,\n",
       "        0.00000000e+00, 2.06625229e-34, 8.86074823e-26, 7.19050758e-25,\n",
       "        7.08381578e-31, 0.00000000e+00, 0.00000000e+00, 0.00000000e+00,\n",
       "        0.00000000e+00, 0.00000000e+00, 0.00000000e+00, 0.00000000e+00,\n",
       "        0.00000000e+00, 5.00000000e-01],\n",
       "       [5.00000000e-01, 5.00000000e-01, 5.00000000e-01, 5.00000000e-01,\n",
       "        5.00000000e-01, 5.00000000e-01, 5.00000000e-01, 5.00000000e-01,\n",
       "        5.00000000e-01, 5.00000000e-01, 5.00000000e-01, 5.00000000e-01,\n",
       "        5.00000000e-01, 5.00000000e-01, 5.00000000e-01, 5.00000000e-01,\n",
       "        5.00000000e-01, 5.00000000e-01, 5.00000000e-01, 5.00000000e-01,\n",
       "        5.00000000e-01, 5.00000000e-01, 5.00000000e-01, 5.00000000e-01,\n",
       "        5.00000000e-01, 5.00000000e-01, 5.00000000e-01, 5.00000000e-01,\n",
       "        5.00000000e-01, 5.00000000e-01]])"
      ]
     },
     "execution_count": 107,
     "metadata": {},
     "output_type": "execute_result"
    },
    {
     "data": {
      "image/png": "[encoded data removed]",
      "text/plain": [
       "<Figure size 288x288 with 1 Axes>"
      ]
     },
     "metadata": {
      "needs_background": "light"
     },
     "output_type": "display_data"
    },
    {
     "data": {
      "image/png": "[encoded data removed]",
      "text/plain": [
       "<Figure size 288x288 with 1 Axes>"
      ]
     },
     "metadata": {
      "needs_background": "light"
     },
     "output_type": "display_data"
    },
    {
     "data": {
      "image/png": "[encoded data removed]",
      "text/plain": [
       "<Figure size 288x288 with 1 Axes>"
      ]
     },
     "metadata": {
      "needs_background": "light"
     },
     "output_type": "display_data"
    },
    {
     "data": {
      "image/png": "[encoded data removed]",
      "text/plain": [
       "<Figure size 288x288 with 1 Axes>"
      ]
     },
     "metadata": {
      "needs_background": "light"
     },
     "output_type": "display_data"
    },
    {
     "data": {
      "image/png": "[encoded data removed]",
      "text/plain": [
       "<Figure size 288x288 with 1 Axes>"
      ]
     },
     "metadata": {
      "needs_background": "light"
     },
     "output_type": "display_data"
    },
    {
     "data": {
      "image/png": "[encoded data removed]",
      "text/plain": [
       "<Figure size 288x288 with 1 Axes>"
      ]
     },
     "metadata": {
      "needs_background": "light"
     },
     "output_type": "display_data"
    },
    {
     "data": {
      "image/png": "[encoded data removed]",
      "text/plain": [
       "<Figure size 288x288 with 1 Axes>"
      ]
     },
     "metadata": {
      "needs_background": "light"
     },
     "output_type": "display_data"
    },
    {
     "data": {
      "image/png": "[encoded data removed]",
      "text/plain": [
       "<Figure size 288x288 with 1 Axes>"
      ]
     },
     "metadata": {
      "needs_background": "light"
     },
     "output_type": "display_data"
    },
    {
     "data": {
      "image/png": "[encoded data removed]",
      "text/plain": [
       "<Figure size 288x288 with 1 Axes>"
      ]
     },
     "metadata": {
      "needs_background": "light"
     },
     "output_type": "display_data"
    },
    {
     "data": {
      "image/png": "[encoded data removed]",
      "text/plain": [
       "<Figure size 288x288 with 1 Axes>"
      ]
     },
     "metadata": {
      "needs_background": "light"
     },
     "output_type": "display_data"
    },
    {
     "data": {
      "image/png": "[encoded data removed]",
      "text/plain": [
       "<Figure size 288x288 with 1 Axes>"
      ]
     },
     "metadata": {
      "needs_background": "light"
     },
     "output_type": "display_data"
    },
    {
     "data": {
      "image/png": "[encoded data removed]",
      "text/plain": [
       "<Figure size 288x288 with 1 Axes>"
      ]
     },
     "metadata": {
      "needs_background": "light"
     },
     "output_type": "display_data"
    },
    {
     "data": {
      "image/png": "[encoded data removed]",
      "text/plain": [
       "<Figure size 288x288 with 1 Axes>"
      ]
     },
     "metadata": {
      "needs_background": "light"
     },
     "output_type": "display_data"
    },
    {
     "data": {
      "image/png": "[encoded data removed]",
      "text/plain": [
       "<Figure size 288x288 with 1 Axes>"
      ]
     },
     "metadata": {
      "needs_background": "light"
     },
     "output_type": "display_data"
    },
    {
     "data": {
      "image/png": "[encoded data removed]",
      "text/plain": [
       "<Figure size 288x288 with 1 Axes>"
      ]
     },
     "metadata": {
      "needs_background": "light"
     },
     "output_type": "display_data"
    },
    {
     "data": {
      "image/png": "[encoded data removed]",
      "text/plain": [
       "<Figure size 288x288 with 1 Axes>"
      ]
     },
     "metadata": {
      "needs_background": "light"
     },
     "output_type": "display_data"
    },
    {
     "data": {
      "image/png": "[encoded data removed]",
      "text/plain": [
       "<Figure size 288x288 with 1 Axes>"
      ]
     },
     "metadata": {
      "needs_background": "light"
     },
     "output_type": "display_data"
    },
    {
     "data": {
      "image/png": "[encoded data removed]",
      "text/plain": [
       "<Figure size 288x288 with 1 Axes>"
      ]
     },
     "metadata": {
      "needs_background": "light"
     },
     "output_type": "display_data"
    },
    {
     "data": {
      "image/png": "[encoded data removed]",
      "text/plain": [
       "<Figure size 288x288 with 1 Axes>"
      ]
     },
     "metadata": {
      "needs_background": "light"
     },
     "output_type": "display_data"
    },
    {
     "data": {
      "image/png": "[encoded data removed]",
      "text/plain": [
       "<Figure size 288x288 with 1 Axes>"
      ]
     },
     "metadata": {
      "needs_background": "light"
     },
     "output_type": "display_data"
    }
   ],
   "source": [
    "print(\"reconstructing images...\")\n",
    "test_model.xrecons_grid(index%64, data)"
   ]
  },
  {
   "cell_type": "code",
   "execution_count": 168,
   "metadata": {},
   "outputs": [
    {
     "name": "stdout",
     "output_type": "stream",
     "text": [
      "Select an index value from 0 to 24641 to display and compare bitmap and raw images:1\n",
      "Bitmap image:\n"
     ]
    },
    {
     "data": {
      "image/png": "[encoded data removed]",
      "text/plain": [
       "<Figure size 432x288 with 1 Axes>"
      ]
     },
     "metadata": {
      "needs_background": "light"
     },
     "output_type": "display_data"
    },
    {
     "name": "stdout",
     "output_type": "stream",
     "text": [
      "Raw image:\n",
      "There are 12 number of strokes in this raw image file!\n"
     ]
    },
    {
     "data": {
      "image/png": "[encoded data removed]",
      "text/plain": [
       "<Figure size 432x288 with 1 Axes>"
      ]
     },
     "metadata": {
      "needs_background": "light"
     },
     "output_type": "display_data"
    }
   ],
   "source": [
    "index_test=int(input(\"Select an index value from 0 to \" + str((len(npy_data)-dataloader.data.shape[0])) + \" to display and compare bitmap and raw images:\"))\n",
    "index_raw=dataloader.data.shape[0] + (index_test%64)\n",
    "plot_bitmap(index_raw)\n",
    "plt.show()\n",
    "plot_raw(index_raw)"
   ]
  },
  {
   "cell_type": "code",
   "execution_count": 169,
   "metadata": {},
   "outputs": [],
   "source": [
    "test_model_test = Test(category)"
   ]
  },
  {
   "cell_type": "code",
   "execution_count": 170,
   "metadata": {},
   "outputs": [],
   "source": [
    "dataloader_test = test_model_test.dataloaders['test']"
   ]
  },
  {
   "cell_type": "code",
   "execution_count": 171,
   "metadata": {},
   "outputs": [
    {
     "name": "stdout",
     "output_type": "stream",
     "text": [
      "(24641, 784)\n"
     ]
    }
   ],
   "source": [
    "print(dataloader_test.data.shape)"
   ]
  },
  {
   "cell_type": "code",
   "execution_count": 172,
   "metadata": {},
   "outputs": [],
   "source": [
    "for i in range((index_test//64)+1):\n",
    "    data_test = dataloader_test.next_batch(test_model_test.batch_size)"
   ]
  },
  {
   "cell_type": "code",
   "execution_count": 173,
   "metadata": {},
   "outputs": [
    {
     "data": {
      "text/plain": [
       "(64, 784)"
      ]
     },
     "execution_count": 173,
     "metadata": {},
     "output_type": "execute_result"
    }
   ],
   "source": [
    "data_test.shape"
   ]
  },
  {
   "cell_type": "code",
   "execution_count": 174,
   "metadata": {},
   "outputs": [
    {
     "name": "stdout",
     "output_type": "stream",
     "text": [
      "1\n"
     ]
    }
   ],
   "source": [
    "print(index_test%64)"
   ]
  },
  {
   "cell_type": "code",
   "execution_count": 175,
   "metadata": {},
   "outputs": [
    {
     "name": "stdout",
     "output_type": "stream",
     "text": [
      "reconstructing images...\n",
      "C:\\Users\\ozgur\\Desktop\\sandbox\\sliver-maestro\\src\\data\\output\\images\\cat\\cat_test_0.png\n",
      "C:\\Users\\ozgur\\Desktop\\sandbox\\sliver-maestro\\src\\data\\output\\images\\cat\\cat_test_1.png\n",
      "C:\\Users\\ozgur\\Desktop\\sandbox\\sliver-maestro\\src\\data\\output\\images\\cat\\cat_test_2.png\n",
      "C:\\Users\\ozgur\\Desktop\\sandbox\\sliver-maestro\\src\\data\\output\\images\\cat\\cat_test_3.png\n",
      "C:\\Users\\ozgur\\Desktop\\sandbox\\sliver-maestro\\src\\data\\output\\images\\cat\\cat_test_4.png\n",
      "C:\\Users\\ozgur\\Desktop\\sandbox\\sliver-maestro\\src\\data\\output\\images\\cat\\cat_test_5.png\n",
      "C:\\Users\\ozgur\\Desktop\\sandbox\\sliver-maestro\\src\\data\\output\\images\\cat\\cat_test_6.png\n",
      "C:\\Users\\ozgur\\Desktop\\sandbox\\sliver-maestro\\src\\data\\output\\images\\cat\\cat_test_7.png\n",
      "C:\\Users\\ozgur\\Desktop\\sandbox\\sliver-maestro\\src\\data\\output\\images\\cat\\cat_test_8.png\n",
      "C:\\Users\\ozgur\\Desktop\\sandbox\\sliver-maestro\\src\\data\\output\\images\\cat\\cat_test_9.png\n",
      "C:\\Users\\ozgur\\Desktop\\sandbox\\sliver-maestro\\src\\data\\output\\images\\cat\\cat_test_10.png\n",
      "C:\\Users\\ozgur\\Desktop\\sandbox\\sliver-maestro\\src\\data\\output\\images\\cat\\cat_test_11.png\n",
      "C:\\Users\\ozgur\\Desktop\\sandbox\\sliver-maestro\\src\\data\\output\\images\\cat\\cat_test_12.png\n",
      "C:\\Users\\ozgur\\Desktop\\sandbox\\sliver-maestro\\src\\data\\output\\images\\cat\\cat_test_13.png\n",
      "C:\\Users\\ozgur\\Desktop\\sandbox\\sliver-maestro\\src\\data\\output\\images\\cat\\cat_test_14.png\n",
      "C:\\Users\\ozgur\\Desktop\\sandbox\\sliver-maestro\\src\\data\\output\\images\\cat\\cat_test_15.png\n",
      "C:\\Users\\ozgur\\Desktop\\sandbox\\sliver-maestro\\src\\data\\output\\images\\cat\\cat_test_16.png\n",
      "C:\\Users\\ozgur\\Desktop\\sandbox\\sliver-maestro\\src\\data\\output\\images\\cat\\cat_test_17.png\n",
      "C:\\Users\\ozgur\\Desktop\\sandbox\\sliver-maestro\\src\\data\\output\\images\\cat\\cat_test_18.png\n",
      "C:\\Users\\ozgur\\Desktop\\sandbox\\sliver-maestro\\src\\data\\output\\images\\cat\\cat_test_19.png\n"
     ]
    },
    {
     "data": {
      "text/plain": [
       "array([[5.00000000e-01, 5.00000000e-01, 5.00000000e-01, 5.00000000e-01,\n",
       "        5.00000000e-01, 5.00000000e-01, 5.00000000e-01, 5.00000000e-01,\n",
       "        5.00000000e-01, 5.00000000e-01, 5.00000000e-01, 5.00000000e-01,\n",
       "        5.00000000e-01, 5.00000000e-01, 5.00000000e-01, 5.00000000e-01,\n",
       "        5.00000000e-01, 5.00000000e-01, 5.00000000e-01, 5.00000000e-01,\n",
       "        5.00000000e-01, 5.00000000e-01, 5.00000000e-01, 5.00000000e-01,\n",
       "        5.00000000e-01, 5.00000000e-01, 5.00000000e-01, 5.00000000e-01,\n",
       "        5.00000000e-01, 5.00000000e-01],\n",
       "       [5.00000000e-01, 0.00000000e+00, 9.61389810e-31, 4.11477579e-24,\n",
       "        8.58065921e-20, 2.95994366e-16, 8.10309055e-14, 1.98973731e-13,\n",
       "        2.27292546e-15, 6.44289376e-19, 5.25233152e-23, 6.40989545e-27,\n",
       "        2.65397623e-30, 6.53911785e-33, 1.17957173e-34, 9.35116662e-36,\n",
       "        1.24900598e-36, 1.37309907e-37, 1.35150613e-38, 4.06316159e-39,\n",
       "        3.00025540e-38, 2.42254893e-35, 1.13543313e-30, 2.60185629e-25,\n",
       "        1.85151165e-20, 2.57123038e-17, 1.18564520e-17, 1.75950435e-24,\n",
       "        0.00000000e+00, 5.00000000e-01],\n",
       "       [5.00000000e-01, 4.29559242e-35, 3.71976498e-21, 1.24412497e-13,\n",
       "        2.64169686e-09, 6.61777108e-07, 3.47730952e-06, 3.93133234e-07,\n",
       "        1.73658599e-09, 1.08188664e-12, 3.69801403e-16, 1.77174022e-19,\n",
       "        2.25588344e-22, 1.49943111e-24, 9.22303938e-26, 5.02560572e-26,\n",
       "        1.14744046e-25, 4.68009531e-25, 2.60671533e-24, 3.15851008e-23,\n",
       "        1.60295425e-21, 3.72603171e-19, 2.03974586e-16, 1.03213418e-13,\n",
       "        2.00079484e-11, 3.79159676e-10, 4.59072710e-11, 1.38848896e-16,\n",
       "        1.17834726e-36, 5.00000000e-01],\n",
       "       [5.00000000e-01, 1.07847474e-27, 7.18495105e-15, 3.71834901e-08,\n",
       "        1.11927468e-04, 3.74127016e-03, 4.64604516e-03, 4.14088892e-04,\n",
       "        5.09019901e-06, 1.82020159e-08, 3.78282509e-11, 8.15649496e-14,\n",
       "        3.27867184e-16, 5.23997701e-18, 6.83351120e-19, 7.63523584e-19,\n",
       "        3.49850912e-18, 2.66781861e-17, 1.99930203e-16, 1.67166590e-15,\n",
       "        2.76351885e-14, 1.24016671e-12, 1.12186746e-10, 1.07986224e-08,\n",
       "        5.49618164e-07, 5.60347871e-06, 1.90139440e-06, 2.15331905e-10,\n",
       "        2.78045471e-28, 5.00000000e-01],\n",
       "       [5.00000000e-01, 8.95495588e-23, 3.04551627e-11, 1.74578836e-05,\n",
       "        9.73385666e-03, 1.03781529e-01, 1.06395848e-01, 2.14175042e-02,\n",
       "        1.11244631e-03, 2.07223711e-05, 1.65343891e-07, 7.04734326e-10,\n",
       "        2.78727930e-12, 3.20387976e-14, 3.89893120e-15, 5.47762782e-15,\n",
       "        2.98812759e-14, 2.52503097e-13, 1.85352970e-12, 1.03873342e-11,\n",
       "        8.19108600e-11, 1.66911251e-09, 8.08809091e-08, 5.08580752e-06,\n",
       "        1.94834880e-04, 2.00659153e-03, 1.61648833e-03, 1.67686642e-06,\n",
       "        3.30462732e-23, 5.00000000e-01],\n",
       "       [5.00000000e-01, 5.02270490e-21, 7.61644969e-10, 1.89656115e-04,\n",
       "        5.44990487e-02, 3.64219218e-01, 4.68147606e-01, 2.82663375e-01,\n",
       "        5.83233535e-02, 2.90137064e-03, 2.52970658e-05, 3.18544444e-08,\n",
       "        1.30536354e-11, 1.86219177e-14, 1.41334965e-15, 5.74775763e-15,\n",
       "        1.27318173e-13, 4.18453727e-12, 1.13696601e-10, 1.62941227e-09,\n",
       "        2.02953228e-08, 4.35288740e-07, 1.60392174e-05, 6.47009932e-04,\n",
       "        1.51852900e-02, 9.68328491e-02, 7.39745572e-02, 1.49011161e-04,\n",
       "        3.76543795e-20, 5.00000000e-01],\n",
       "       [5.00000000e-01, 5.17882009e-22, 5.40648859e-10, 2.69784796e-04,\n",
       "        9.66512188e-02, 5.86084127e-01, 7.79484808e-01, 7.52492428e-01,\n",
       "        4.79893804e-01, 5.32674491e-02, 2.13537467e-04, 2.72881611e-08,\n",
       "        5.52647392e-13, 1.02182150e-16, 9.70512318e-18, 2.78622674e-16,\n",
       "        5.51432001e-14, 1.31255380e-11, 2.26017938e-09, 1.37567838e-07,\n",
       "        3.94260269e-06, 9.89189939e-05, 2.31647701e-03, 4.16873097e-02,\n",
       "        3.19481999e-01, 6.19338751e-01, 4.19283241e-01, 1.50677620e-03,\n",
       "        2.85355011e-17, 5.00000000e-01],\n",
       "       [5.00000000e-01, 2.73853359e-24, 9.56813379e-11, 1.85709941e-04,\n",
       "        1.05878845e-01, 6.56648755e-01, 8.49182844e-01, 8.62268031e-01,\n",
       "        7.35858023e-01, 1.90549031e-01, 8.25589406e-04, 6.57499442e-08,\n",
       "        1.17419757e-12, 5.01249693e-16, 1.78604758e-16, 1.33522682e-14,\n",
       "        4.01651585e-12, 1.17951926e-09, 2.58684111e-07, 1.97333738e-05,\n",
       "        5.59773645e-04, 9.21083242e-03, 9.09267291e-02, 4.25587296e-01,\n",
       "        7.76794314e-01, 8.70286524e-01, 7.03914464e-01, 9.58194491e-03,\n",
       "        3.85082760e-14, 5.00000000e-01],\n",
       "       [5.00000000e-01, 3.30969397e-26, 2.80925977e-11, 1.45130471e-04,\n",
       "        9.46969762e-02, 5.92244565e-01, 7.77726531e-01, 7.91584909e-01,\n",
       "        7.07477450e-01, 3.32585931e-01, 9.04344954e-03, 1.06048410e-05,\n",
       "        6.99319802e-09, 8.44721584e-11, 9.96710214e-11, 2.21527174e-09,\n",
       "        8.28695690e-08, 3.37121173e-06, 1.36776958e-04, 2.82714469e-03,\n",
       "        2.67397501e-02, 1.38405830e-01, 3.86264712e-01, 6.55302882e-01,\n",
       "        8.22724164e-01, 8.76870155e-01, 7.88607180e-01, 5.26258275e-02,\n",
       "        5.75880576e-12, 5.00000000e-01],\n",
       "       [5.00000000e-01, 1.40378276e-26, 4.21215771e-11, 2.12973624e-04,\n",
       "        9.22995359e-02, 4.75289881e-01, 6.04745865e-01, 5.99551618e-01,\n",
       "        5.74289918e-01, 4.55382794e-01, 1.39176771e-01, 8.27640668e-03,\n",
       "        4.11373505e-04, 9.50129688e-05, 1.29627617e-04, 3.78779427e-04,\n",
       "        1.25535228e-03, 5.94213977e-03, 3.36999036e-02, 1.21937342e-01,\n",
       "        2.47239709e-01, 3.51904184e-01, 4.23106521e-01, 4.99601513e-01,\n",
       "        6.15596890e-01, 7.40638494e-01, 7.82473147e-01, 1.65258393e-01,\n",
       "        3.76576895e-12, 5.00000000e-01],\n",
       "       [5.00000000e-01, 5.72060481e-25, 4.37848341e-10, 7.02920253e-04,\n",
       "        1.21025480e-01, 3.96616846e-01, 4.33330148e-01, 4.01377022e-01,\n",
       "        4.28138137e-01, 4.93882567e-01, 4.92600322e-01, 3.89937758e-01,\n",
       "        2.88820565e-01, 2.57887781e-01, 2.54678696e-01, 2.36459509e-01,\n",
       "        2.46698514e-01, 3.49334687e-01, 4.97950345e-01, 5.52079022e-01,\n",
       "        4.84644234e-01, 3.51364255e-01, 2.35037789e-01, 1.89717397e-01,\n",
       "        2.41313130e-01, 4.60668176e-01, 7.46853471e-01, 2.56288946e-01,\n",
       "        1.23249689e-14, 5.00000000e-01],\n",
       "       [5.00000000e-01, 7.15522135e-22, 1.63375145e-08, 3.78108863e-03,\n",
       "        1.90884873e-01, 3.66620541e-01, 3.24220061e-01, 2.70023286e-01,\n",
       "        2.98552871e-01, 4.17283595e-01, 5.66673696e-01, 6.73512399e-01,\n",
       "        7.24666178e-01, 7.24985600e-01, 6.81414008e-01, 6.28465235e-01,\n",
       "        6.30059958e-01, 6.94574416e-01, 7.28194773e-01, 6.45178854e-01,\n",
       "        4.19563562e-01, 1.87973127e-01, 7.91135058e-02, 5.09083122e-02,\n",
       "        7.50925243e-02, 2.65125841e-01, 7.39374697e-01, 2.98308402e-01,\n",
       "        2.32203594e-17, 5.00000000e-01],\n",
       "       [5.00000000e-01, 2.34927173e-18, 7.08070957e-07, 1.96175147e-02,\n",
       "        2.90718079e-01, 3.61969143e-01, 2.61016458e-01, 1.86859235e-01,\n",
       "        1.90651432e-01, 2.75158733e-01, 4.06397581e-01, 4.79130536e-01,\n",
       "        4.31848288e-01, 3.14304680e-01, 2.40738943e-01, 2.50106186e-01,\n",
       "        3.35068673e-01, 4.66805041e-01, 5.23004115e-01, 4.00691241e-01,\n",
       "        1.84469670e-01, 6.23954348e-02, 2.54878830e-02, 1.95806958e-02,\n",
       "        4.05484289e-02, 2.27625549e-01, 7.88978934e-01, 4.04844224e-01,\n",
       "        7.79682826e-18, 5.00000000e-01],\n",
       "       [5.00000000e-01, 4.86007896e-15, 2.17591678e-05, 8.06519017e-02,\n",
       "        4.03634489e-01, 3.65221530e-01, 2.18051761e-01, 1.33655146e-01,\n",
       "        1.23485774e-01, 1.72867313e-01, 2.38779947e-01, 2.06108958e-01,\n",
       "        9.15219188e-02, 3.00711580e-02, 1.66057181e-02, 2.05353871e-02,\n",
       "        4.28118967e-02, 1.06327482e-01, 1.81176633e-01, 1.46515965e-01,\n",
       "        6.19767979e-02, 2.19978876e-02, 1.12677729e-02, 1.24746114e-02,\n",
       "        3.85627188e-02, 2.74893433e-01, 8.45837533e-01, 5.91541708e-01,\n",
       "        1.58960524e-15, 5.00000000e-01],\n",
       "       [5.00000000e-01, 9.06805013e-12, 6.22342632e-04, 2.66011655e-01,\n",
       "        5.17829776e-01, 3.58235180e-01, 1.82413727e-01, 1.10168375e-01,\n",
       "        1.11027308e-01, 1.67471781e-01, 2.18368039e-01, 1.48878008e-01,\n",
       "        4.70475852e-02, 1.23831779e-02, 5.93736721e-03, 6.13209419e-03,\n",
       "        1.20847439e-02, 3.92410122e-02, 1.00013688e-01, 9.98037457e-02,\n",
       "        4.23647054e-02, 1.39230900e-02, 7.26267463e-03, 9.88763850e-03,\n",
       "        4.03759964e-02, 3.12512726e-01, 8.56795490e-01, 7.00015247e-01,\n",
       "        2.71870070e-12, 5.00000000e-01],\n",
       "       [5.00000000e-01, 1.24028041e-08, 1.49657223e-02, 5.67630887e-01,\n",
       "        6.09286785e-01, 3.39386851e-01, 1.59036532e-01, 1.15231931e-01,\n",
       "        1.54435247e-01, 2.71828353e-01, 3.57374012e-01, 2.70722479e-01,\n",
       "        1.21915311e-01, 5.06738834e-02, 2.83730254e-02, 2.21588481e-02,\n",
       "        3.09818722e-02, 8.97055119e-02, 2.26512551e-01, 2.23731607e-01,\n",
       "        8.07234719e-02, 1.78930443e-02, 6.67743990e-03, 8.29819962e-03,\n",
       "        3.58911529e-02, 2.82100707e-01, 8.11986625e-01, 6.61202371e-01,\n",
       "        1.89805158e-10, 5.00000000e-01],\n",
       "       [5.00000000e-01, 2.35195489e-06, 1.30635023e-01, 7.54151464e-01,\n",
       "        6.62766635e-01, 3.39040816e-01, 1.65216580e-01, 1.48781180e-01,\n",
       "        2.45091692e-01, 4.38828588e-01, 5.58682203e-01, 5.12419045e-01,\n",
       "        3.90796065e-01, 3.11303318e-01, 2.66689718e-01, 2.25826308e-01,\n",
       "        2.55926520e-01, 4.49260384e-01, 6.47537649e-01, 5.72418213e-01,\n",
       "        2.15629220e-01, 3.51277776e-02, 9.25234705e-03, 9.27329995e-03,\n",
       "        3.47030647e-02, 2.39546061e-01, 7.30102897e-01, 4.87470686e-01,\n",
       "        6.03252101e-11, 5.00000000e-01],\n",
       "       [5.00000000e-01, 2.70289074e-05, 2.98979223e-01, 8.09932470e-01,\n",
       "        6.93944812e-01, 3.86486948e-01, 2.16637641e-01, 2.13632017e-01,\n",
       "        3.39442313e-01, 5.36820531e-01, 6.49736822e-01, 6.50412083e-01,\n",
       "        6.25338733e-01, 6.53478205e-01, 7.05948532e-01, 7.30615318e-01,\n",
       "        7.67758548e-01, 8.42499614e-01, 8.73017967e-01, 7.66802788e-01,\n",
       "        3.57790679e-01, 6.73464388e-02, 1.87304318e-02, 1.75823849e-02,\n",
       "        5.17125241e-02, 2.51035869e-01, 6.55925155e-01, 2.49786437e-01,\n",
       "        2.83328889e-13, 5.00000000e-01],\n",
       "       [5.00000000e-01, 4.94744199e-05, 3.44799221e-01, 8.15249860e-01,\n",
       "        7.20471740e-01, 4.61307943e-01, 2.87431628e-01, 2.67254740e-01,\n",
       "        3.62236947e-01, 5.10217249e-01, 6.07275426e-01, 6.31016016e-01,\n",
       "        6.50182962e-01, 7.27889478e-01, 8.23144853e-01, 8.76567245e-01,\n",
       "        8.98398757e-01, 9.05328751e-01, 8.75442863e-01, 7.13251412e-01,\n",
       "        3.26593429e-01, 9.26786736e-02, 4.33581248e-02, 4.97938879e-02,\n",
       "        1.15882166e-01, 3.32903862e-01, 5.99943936e-01, 8.34270269e-02,\n",
       "        3.61072411e-16, 5.00000000e-01],\n",
       "       [5.00000000e-01, 5.70404263e-05, 3.21560591e-01, 7.99997330e-01,\n",
       "        7.31198490e-01, 5.00025570e-01, 2.98096299e-01, 2.26034775e-01,\n",
       "        2.48328045e-01, 3.24590385e-01, 4.00705367e-01, 4.28469747e-01,\n",
       "        4.45831090e-01, 5.36936522e-01, 6.81762457e-01, 7.73619115e-01,\n",
       "        7.99313486e-01, 7.83945322e-01, 6.94316685e-01, 4.54023689e-01,\n",
       "        1.93898812e-01, 9.70525146e-02, 9.49134827e-02, 1.50315464e-01,\n",
       "        2.70792753e-01, 4.42300886e-01, 5.05606592e-01, 1.85572654e-02,\n",
       "        2.86967194e-18, 5.00000000e-01],\n",
       "       [5.00000000e-01, 7.37503942e-05, 2.60135621e-01, 7.48489738e-01,\n",
       "        7.09872663e-01, 5.04409611e-01, 2.80006886e-01, 1.59599915e-01,\n",
       "        1.20340846e-01, 1.24595404e-01, 1.50862366e-01, 1.57361701e-01,\n",
       "        1.44376695e-01, 1.68039292e-01, 2.39683390e-01, 2.88046509e-01,\n",
       "        3.00223798e-01, 3.33434552e-01, 3.31721067e-01, 2.27297977e-01,\n",
       "        1.31574586e-01, 1.27639845e-01, 2.25639671e-01, 3.81823570e-01,\n",
       "        4.74454403e-01, 4.71481591e-01, 2.84294069e-01, 2.38241162e-03,\n",
       "        9.29274966e-19, 5.00000000e-01],\n",
       "       [5.00000000e-01, 7.44405770e-05, 1.37515694e-01, 5.90844631e-01,\n",
       "        6.36227667e-01, 5.30604184e-01, 3.64008129e-01, 2.05227569e-01,\n",
       "        1.07251756e-01, 7.14342818e-02, 6.78501725e-02, 6.02276064e-02,\n",
       "        4.37301248e-02, 4.12105396e-02, 4.92696203e-02, 4.61468808e-02,\n",
       "        4.60999608e-02, 8.52948204e-02, 1.71665192e-01, 2.04822540e-01,\n",
       "        2.03533798e-01, 3.09291750e-01, 5.48965931e-01, 6.71268046e-01,\n",
       "        5.87126851e-01, 3.30374748e-01, 5.82244880e-02, 1.45057144e-04,\n",
       "        9.16482204e-18, 5.00000000e-01],\n",
       "       [5.00000000e-01, 3.06964575e-05, 3.08863502e-02, 2.61298269e-01,\n",
       "        4.35721725e-01, 5.14334202e-01, 5.26308715e-01, 4.33604270e-01,\n",
       "        2.59187669e-01, 1.44210100e-01, 1.06018610e-01, 7.80070126e-02,\n",
       "        4.92264442e-02, 4.17680889e-02, 4.59805876e-02, 3.99263278e-02,\n",
       "        4.19735387e-02, 1.01143509e-01, 2.72963971e-01, 4.12402958e-01,\n",
       "        4.98822540e-01, 6.67443812e-01, 8.06981385e-01, 7.80097127e-01,\n",
       "        4.85218555e-01, 9.56621692e-02, 3.84424697e-03, 5.01835166e-06,\n",
       "        4.00287151e-16, 5.00000000e-01],\n",
       "       [5.00000000e-01, 3.39139797e-06, 2.66139605e-03, 3.78642641e-02,\n",
       "        1.28828540e-01, 2.87088037e-01, 4.78693783e-01, 5.74158907e-01,\n",
       "        5.28261721e-01, 4.26846445e-01, 3.59123498e-01, 2.88594246e-01,\n",
       "        2.12764546e-01, 2.02429593e-01, 2.49196440e-01, 2.73097277e-01,\n",
       "        3.14119667e-01, 4.85216200e-01, 6.73083246e-01, 7.34668612e-01,\n",
       "        7.49830246e-01, 7.88445532e-01, 7.82287180e-01, 5.61517537e-01,\n",
       "        1.26128525e-01, 6.61529880e-03, 1.00844889e-04, 1.12216014e-07,\n",
       "        5.16443738e-15, 5.00000000e-01],\n",
       "       [5.00000000e-01, 4.49106601e-08, 7.29032690e-05, 1.70730089e-03,\n",
       "        8.94493517e-03, 3.26557606e-02, 1.05649017e-01, 2.53707260e-01,\n",
       "        4.04481053e-01, 5.01073897e-01, 5.59423029e-01, 5.70245802e-01,\n",
       "        5.49299002e-01, 5.76655269e-01, 6.64493024e-01, 7.34745026e-01,\n",
       "        7.76810944e-01, 8.08678329e-01, 7.98041165e-01, 7.14266777e-01,\n",
       "        5.76282382e-01, 4.16525394e-01, 1.99839428e-01, 3.44707407e-02,\n",
       "        1.95063825e-03, 4.82177384e-05, 4.22879566e-07, 4.20351587e-10,\n",
       "        4.08126070e-16, 5.00000000e-01],\n",
       "       [5.00000000e-01, 4.81947858e-12, 1.43195876e-07, 1.15500889e-05,\n",
       "        8.29377823e-05, 2.71411700e-04, 7.82066665e-04, 2.53248285e-03,\n",
       "        8.63527879e-03, 2.53309235e-02, 5.77010922e-02, 9.97172147e-02,\n",
       "        1.33575231e-01, 1.53955206e-01, 1.68200999e-01, 1.75429314e-01,\n",
       "        1.63781643e-01, 1.18603833e-01, 5.79956062e-02, 2.03807503e-02,\n",
       "        5.99067099e-03, 1.33246928e-03, 1.56435155e-04, 7.79758102e-06,\n",
       "        1.93352861e-07, 2.64444933e-09, 1.21020798e-11, 4.03039240e-15,\n",
       "        2.80195013e-22, 5.00000000e-01],\n",
       "       [5.00000000e-01, 1.39314970e-20, 4.87477083e-13, 9.25642230e-10,\n",
       "        1.52255648e-08, 2.98162917e-08, 2.68588991e-08, 2.79824217e-08,\n",
       "        4.60173624e-08, 9.52143395e-08, 2.12813134e-07, 5.06284209e-07,\n",
       "        1.04784976e-06, 1.37082259e-06, 1.05296567e-06, 5.99920838e-07,\n",
       "        2.89137262e-07, 1.05710349e-07, 3.11270476e-08, 9.20194587e-09,\n",
       "        2.29205299e-09, 2.50553328e-10, 7.34840747e-12, 8.02950439e-14,\n",
       "        7.09098079e-16, 4.88740161e-18, 6.44605897e-21, 7.36360610e-26,\n",
       "        1.17710226e-37, 5.00000000e-01],\n",
       "       [5.00000000e-01, 1.42483103e-38, 1.05531149e-24, 2.78125419e-18,\n",
       "        7.40533377e-16, 1.14619524e-15, 9.77005918e-17, 2.90509409e-18,\n",
       "        9.03295381e-20, 4.19810034e-21, 4.28084950e-22, 1.43057754e-22,\n",
       "        1.55950821e-22, 3.41075208e-22, 6.84560720e-22, 6.63405314e-22,\n",
       "        2.74213251e-22, 7.55003942e-23, 3.19893731e-23, 3.27576006e-23,\n",
       "        2.78392200e-23, 2.18412412e-24, 5.78156543e-27, 2.88770757e-30,\n",
       "        3.33377030e-33, 8.31291252e-36, 0.00000000e+00, 0.00000000e+00,\n",
       "        0.00000000e+00, 5.00000000e-01],\n",
       "       [5.00000000e-01, 0.00000000e+00, 0.00000000e+00, 0.00000000e+00,\n",
       "        6.01777229e-35, 8.56830822e-32, 2.08419961e-33, 2.39701771e-38,\n",
       "        0.00000000e+00, 0.00000000e+00, 0.00000000e+00, 0.00000000e+00,\n",
       "        0.00000000e+00, 0.00000000e+00, 0.00000000e+00, 0.00000000e+00,\n",
       "        0.00000000e+00, 0.00000000e+00, 0.00000000e+00, 0.00000000e+00,\n",
       "        0.00000000e+00, 0.00000000e+00, 0.00000000e+00, 0.00000000e+00,\n",
       "        0.00000000e+00, 0.00000000e+00, 0.00000000e+00, 0.00000000e+00,\n",
       "        0.00000000e+00, 5.00000000e-01],\n",
       "       [5.00000000e-01, 5.00000000e-01, 5.00000000e-01, 5.00000000e-01,\n",
       "        5.00000000e-01, 5.00000000e-01, 5.00000000e-01, 5.00000000e-01,\n",
       "        5.00000000e-01, 5.00000000e-01, 5.00000000e-01, 5.00000000e-01,\n",
       "        5.00000000e-01, 5.00000000e-01, 5.00000000e-01, 5.00000000e-01,\n",
       "        5.00000000e-01, 5.00000000e-01, 5.00000000e-01, 5.00000000e-01,\n",
       "        5.00000000e-01, 5.00000000e-01, 5.00000000e-01, 5.00000000e-01,\n",
       "        5.00000000e-01, 5.00000000e-01, 5.00000000e-01, 5.00000000e-01,\n",
       "        5.00000000e-01, 5.00000000e-01]])"
      ]
     },
     "execution_count": 175,
     "metadata": {},
     "output_type": "execute_result"
    },
    {
     "data": {
      "image/png": "[encoded data removed]",
      "text/plain": [
       "<Figure size 288x288 with 1 Axes>"
      ]
     },
     "metadata": {
      "needs_background": "light"
     },
     "output_type": "display_data"
    },
    {
     "data": {
      "image/png": "[encoded data removed]",
      "text/plain": [
       "<Figure size 288x288 with 1 Axes>"
      ]
     },
     "metadata": {
      "needs_background": "light"
     },
     "output_type": "display_data"
    },
    {
     "data": {
      "image/png": "[encoded data removed]",
      "text/plain": [
       "<Figure size 288x288 with 1 Axes>"
      ]
     },
     "metadata": {
      "needs_background": "light"
     },
     "output_type": "display_data"
    },
    {
     "data": {
      "image/png": "[encoded data removed]",
      "text/plain": [
       "<Figure size 288x288 with 1 Axes>"
      ]
     },
     "metadata": {
      "needs_background": "light"
     },
     "output_type": "display_data"
    },
    {
     "data": {
      "image/png": "[encoded data removed]",
      "text/plain": [
       "<Figure size 288x288 with 1 Axes>"
      ]
     },
     "metadata": {
      "needs_background": "light"
     },
     "output_type": "display_data"
    },
    {
     "data": {
      "image/png": "[encoded data removed]",
      "text/plain": [
       "<Figure size 288x288 with 1 Axes>"
      ]
     },
     "metadata": {
      "needs_background": "light"
     },
     "output_type": "display_data"
    },
    {
     "data": {
      "image/png": "[encoded data removed]",
      "text/plain": [
       "<Figure size 288x288 with 1 Axes>"
      ]
     },
     "metadata": {
      "needs_background": "light"
     },
     "output_type": "display_data"
    },
    {
     "data": {
      "image/png": "[encoded data removed]",
      "text/plain": [
       "<Figure size 288x288 with 1 Axes>"
      ]
     },
     "metadata": {
      "needs_background": "light"
     },
     "output_type": "display_data"
    },
    {
     "data": {
      "image/png": "[encoded data removed]",
      "text/plain": [
       "<Figure size 288x288 with 1 Axes>"
      ]
     },
     "metadata": {
      "needs_background": "light"
     },
     "output_type": "display_data"
    },
    {
     "data": {
      "image/png": "[encoded data removed]",
      "text/plain": [
       "<Figure size 288x288 with 1 Axes>"
      ]
     },
     "metadata": {
      "needs_background": "light"
     },
     "output_type": "display_data"
    },
    {
     "data": {
      "image/png": "[encoded data removed]",
      "text/plain": [
       "<Figure size 288x288 with 1 Axes>"
      ]
     },
     "metadata": {
      "needs_background": "light"
     },
     "output_type": "display_data"
    },
    {
     "data": {
      "image/png": "[encoded data removed]",
      "text/plain": [
       "<Figure size 288x288 with 1 Axes>"
      ]
     },
     "metadata": {
      "needs_background": "light"
     },
     "output_type": "display_data"
    },
    {
     "data": {
      "image/png": "[encoded data removed]",
      "text/plain": [
       "<Figure size 288x288 with 1 Axes>"
      ]
     },
     "metadata": {
      "needs_background": "light"
     },
     "output_type": "display_data"
    },
    {
     "data": {
      "image/png": "[encoded data removed]",
      "text/plain": [
       "<Figure size 288x288 with 1 Axes>"
      ]
     },
     "metadata": {
      "needs_background": "light"
     },
     "output_type": "display_data"
    },
    {
     "data": {
      "image/png": "[encoded data removed]",
      "text/plain": [
       "<Figure size 288x288 with 1 Axes>"
      ]
     },
     "metadata": {
      "needs_background": "light"
     },
     "output_type": "display_data"
    },
    {
     "data": {
      "image/png": "[encoded data removed]",
      "text/plain": [
       "<Figure size 288x288 with 1 Axes>"
      ]
     },
     "metadata": {
      "needs_background": "light"
     },
     "output_type": "display_data"
    },
    {
     "data": {
      "image/png": "[encoded data removed]",
      "text/plain": [
       "<Figure size 288x288 with 1 Axes>"
      ]
     },
     "metadata": {
      "needs_background": "light"
     },
     "output_type": "display_data"
    },
    {
     "data": {
      "image/png": "[encoded data removed]",
      "text/plain": [
       "<Figure size 288x288 with 1 Axes>"
      ]
     },
     "metadata": {
      "needs_background": "light"
     },
     "output_type": "display_data"
    },
    {
     "data": {
      "image/png": "[encoded data removed]",
      "text/plain": [
       "<Figure size 288x288 with 1 Axes>"
      ]
     },
     "metadata": {
      "needs_background": "light"
     },
     "output_type": "display_data"
    },
    {
     "data": {
      "image/png": "[encoded data removed]",
      "text/plain": [
       "<Figure size 288x288 with 1 Axes>"
      ]
     },
     "metadata": {
      "needs_background": "light"
     },
     "output_type": "display_data"
    }
   ],
   "source": [
    "print(\"reconstructing images...\")\n",
    "test_model_test.xrecons_grid(index_test%64, data_test)"
   ]
  },
  {
   "cell_type": "code",
   "execution_count": null,
   "metadata": {},
   "outputs": [],
   "source": []
  },
  {
   "cell_type": "code",
   "execution_count": null,
   "metadata": {},
   "outputs": [],
   "source": []
  }
 ],
 "metadata": {
  "kernelspec": {
   "display_name": "Python 3",
   "language": "python",
   "name": "python3"
  },
  "language_info": {
   "codemirror_mode": {
    "name": "ipython",
    "version": 3
   },
   "file_extension": ".py",
   "mimetype": "text/x-python",
   "name": "python",
   "nbconvert_exporter": "python",
   "pygments_lexer": "ipython3",
   "version": "3.7.7"
  }
 },
 "nbformat": 4,
 "nbformat_minor": 4
}
