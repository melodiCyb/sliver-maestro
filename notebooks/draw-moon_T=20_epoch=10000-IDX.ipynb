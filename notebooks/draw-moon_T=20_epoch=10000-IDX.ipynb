{
 "cells": [
  {
   "cell_type": "code",
   "execution_count": 1,
   "metadata": {},
   "outputs": [],
   "source": [
    "import os\n",
    "from os import walk, getcwd\n",
    "import sys\n",
    "import csv\n",
    "import ndjson\n",
    "import torch\n",
    "import torch.nn as nn\n",
    "import torch.functional as F\n",
    "import torch.optim as optim\n",
    "import torch.autograd as autograd\n",
    "from torchvision import datasets,transforms\n",
    "import torch.utils\n",
    "import torch.nn.utils\n",
    "import matplotlib.pyplot as plt\n",
    "import numpy as np\n",
    "from sklearn.model_selection import train_test_split"
   ]
  },
  {
   "cell_type": "code",
   "execution_count": 2,
   "metadata": {},
   "outputs": [
    {
     "data": {
      "text/plain": [
       "'/Users/melodi/sliver-maestro/'"
      ]
     },
     "execution_count": 2,
     "metadata": {},
     "output_type": "execute_result"
    }
   ],
   "source": [
    "root_path = os.getcwd().split('notebook')[0]\n",
    "root_path "
   ]
  },
  {
   "cell_type": "code",
   "execution_count": 3,
   "metadata": {},
   "outputs": [],
   "source": [
    "sys.path.insert(1, root_path)\n",
    "from src.utils.model_utils import *\n",
    "from src.utils.dataset import *\n",
    "from src.draw_model import *\n",
    "from src import draw_model"
   ]
  },
  {
   "cell_type": "code",
   "execution_count": 4,
   "metadata": {},
   "outputs": [],
   "source": [
    "categories_file = os.path.join(root_path, 'src/data/categories.csv')"
   ]
  },
  {
   "cell_type": "code",
   "execution_count": 12,
   "metadata": {},
   "outputs": [],
   "source": [
    "with open(categories_file, newline='') as f:\n",
    "    reader = csv.reader(f)\n",
    "    categories = {rows[0]:rows[0] for rows in reader}"
   ]
  },
  {
   "cell_type": "markdown",
   "metadata": {},
   "source": [
    "Select a category to download images from"
   ]
  },
  {
   "cell_type": "code",
   "execution_count": 3,
   "metadata": {},
   "outputs": [],
   "source": [
    "for key, value in categories.items():\n",
    "    #print(key)\n",
    "    pass"
   ]
  },
  {
   "cell_type": "code",
   "execution_count": 4,
   "metadata": {},
   "outputs": [
    {
     "name": "stdout",
     "output_type": "stream",
     "text": [
      "Select a category from the list above:\n"
     ]
    }
   ],
   "source": [
    "print(\"Select a category from the list above:\")\n",
    "#category=input()\n",
    "category='moon'"
   ]
  },
  {
   "cell_type": "code",
   "execution_count": 5,
   "metadata": {},
   "outputs": [
    {
     "name": "stdout",
     "output_type": "stream",
     "text": [
      "Enter destination directory or url for the data:\n"
     ]
    }
   ],
   "source": [
    "print(\"Enter destination directory or url for the data:\")\n",
    "#dst_url=input()\n",
    "dst_url='data'"
   ]
  },
  {
   "cell_type": "code",
   "execution_count": 6,
   "metadata": {},
   "outputs": [
    {
     "name": "stdout",
     "output_type": "stream",
     "text": [
      "creating directory moon in data ...\n",
      "data\\moon is created...\n"
     ]
    }
   ],
   "source": [
    "print(\"creating directory \" + categories[category] + \" in \" +  dst_url + \" ...\")\n",
    "\n",
    "if os.path.exists(dst_url):\n",
    "    if not os.path.exists(dst_url + \"\\\\\" + categories[category]):\n",
    "        os.mkdir(dst_url + \"\\\\\" + categories[category])\n",
    "else:\n",
    "    print(dst_url, 'does not exist!')\n",
    "    \n",
    "if os.path.exists(dst_url + \"\\\\\" + categories[category]):\n",
    "    print(dst_url + \"\\\\\" + categories[category] + \" is created...\")"
   ]
  },
  {
   "cell_type": "code",
   "execution_count": 7,
   "metadata": {},
   "outputs": [
    {
     "name": "stdout",
     "output_type": "stream",
     "text": [
      "gs://quickdraw_dataset/full/raw/moon.ndjson , data\\moon\\moon.ndjson\n",
      "gs://quickdraw_dataset/full/numpy_bitmap/moon.npy , data\\moon\\moon.npy\n"
     ]
    }
   ],
   "source": [
    "src_list = []\n",
    "dst_list = []\n",
    "\n",
    "src_file = \"gs://quickdraw_dataset/full/raw/\" + categories[category] + \".ndjson\"\n",
    "src_list.append(src_file)\n",
    "src_file = \"gs://quickdraw_dataset/full/numpy_bitmap/\" + categories[category] + \".npy\"\n",
    "src_list.append(src_file)\n",
    "\n",
    "dst_file = dst_url + \"\\\\\" + categories[category] + \"\\\\\" + categories[category]\n",
    "dst_list.append(dst_file + \".ndjson\")\n",
    "dst_list.append(dst_file + \".npy\")\n",
    "\n",
    "for (src_file, dst_file) in zip(src_list, dst_list): \n",
    "    print(src_file, \",\", dst_file)"
   ]
  },
  {
   "cell_type": "code",
   "execution_count": 8,
   "metadata": {},
   "outputs": [
    {
     "name": "stderr",
     "output_type": "stream",
     "text": [
      "Copying gs://quickdraw_dataset/full/raw/moon.ndjson...\n",
      "/ [0/1 files][    0.0 B/315.6 MiB]   0% Done                                    \n",
      "/ [0/1 files][    0.0 B/315.6 MiB]   0% Done                                    \n",
      "-\n",
      "\\\n",
      "\\ [0/1 files][  3.1 MiB/315.6 MiB]   0% Done                                    \n",
      "|\n",
      "/\n",
      "/ [0/1 files][  9.0 MiB/315.6 MiB]   2% Done                                    \n",
      "-\n",
      "- [0/1 files][ 14.7 MiB/315.6 MiB]   4% Done                                    \n",
      "\\\n",
      "|\n",
      "| [0/1 files][ 21.1 MiB/315.6 MiB]   6% Done                                    \n",
      "/\n",
      "-\n",
      "- [0/1 files][ 26.8 MiB/315.6 MiB]   8% Done                                    \n",
      "\\\n",
      "\\ [0/1 files][ 32.2 MiB/315.6 MiB]  10% Done                                    \n",
      "|\n",
      "/\n",
      "/ [0/1 files][ 38.2 MiB/315.6 MiB]  12% Done                                    \n",
      "-\n",
      "\\\n",
      "\\ [0/1 files][ 44.3 MiB/315.6 MiB]  14% Done                                    \n",
      "|\n",
      "| [0/1 files][ 50.3 MiB/315.6 MiB]  15% Done   5.6 MiB/s ETA 00:00:47           \n",
      "/\n",
      "-\n",
      "- [0/1 files][ 56.2 MiB/315.6 MiB]  17% Done   5.7 MiB/s ETA 00:00:46           \n",
      "\\\n",
      "|\n",
      "| [0/1 files][ 62.6 MiB/315.6 MiB]  19% Done   5.8 MiB/s ETA 00:00:44           \n",
      "/\n",
      "/ [0/1 files][ 68.8 MiB/315.6 MiB]  21% Done   5.9 MiB/s ETA 00:00:42           \n",
      "-\n",
      "\\\n",
      "\\ [0/1 files][ 74.8 MiB/315.6 MiB]  23% Done   5.9 MiB/s ETA 00:00:41           \n",
      "|\n",
      "/\n",
      "/ [0/1 files][ 81.2 MiB/315.6 MiB]  25% Done   5.9 MiB/s ETA 00:00:40           \n",
      "-\n",
      "- [0/1 files][ 88.4 MiB/315.6 MiB]  28% Done   6.3 MiB/s ETA 00:00:36           \n",
      "\\\n",
      "|\n",
      "| [0/1 files][ 95.9 MiB/315.6 MiB]  30% Done   6.5 MiB/s ETA 00:00:34           \n",
      "/\n",
      "-\n",
      "- [0/1 files][102.9 MiB/315.6 MiB]  32% Done   6.6 MiB/s ETA 00:00:32           \n",
      "\\\n",
      "\\ [0/1 files][110.1 MiB/315.6 MiB]  34% Done   7.0 MiB/s ETA 00:00:30           \n",
      "|\n",
      "/\n",
      "/ [0/1 files][116.0 MiB/315.6 MiB]  36% Done   6.8 MiB/s ETA 00:00:30           \n",
      "-\n",
      "\\\n",
      "\\ [0/1 files][119.6 MiB/315.6 MiB]  37% Done   5.7 MiB/s ETA 00:00:34           \n",
      "|\n",
      "/\n",
      "/ [0/1 files][123.8 MiB/315.6 MiB]  39% Done   5.1 MiB/s ETA 00:00:37           \n",
      "-\n",
      "- [0/1 files][129.9 MiB/315.6 MiB]  41% Done   4.9 MiB/s ETA 00:00:38           \n",
      "\\\n",
      "|\n",
      "| [0/1 files][135.9 MiB/315.6 MiB]  43% Done   4.8 MiB/s ETA 00:00:37           \n",
      "/\n",
      "/ [0/1 files][141.5 MiB/315.6 MiB]  44% Done   5.0 MiB/s ETA 00:00:34           \n",
      "-\n",
      "\\\n",
      "\\ [0/1 files][147.7 MiB/315.6 MiB]  46% Done   5.8 MiB/s ETA 00:00:29           \n",
      "|\n",
      "/\n",
      "/ [0/1 files][153.9 MiB/315.6 MiB]  48% Done   5.9 MiB/s ETA 00:00:27           \n",
      "-\n",
      "- [0/1 files][160.4 MiB/315.6 MiB]  50% Done   6.0 MiB/s ETA 00:00:26           \n",
      "\\\n",
      "|\n",
      "| [0/1 files][166.8 MiB/315.6 MiB]  52% Done   6.1 MiB/s ETA 00:00:24           \n",
      "/\n",
      "/ [0/1 files][173.0 MiB/315.6 MiB]  54% Done   6.2 MiB/s ETA 00:00:23           \n",
      "-\n",
      "\\\n",
      "\\ [0/1 files][178.2 MiB/315.6 MiB]  56% Done   5.9 MiB/s ETA 00:00:23           \n",
      "|\n",
      "/\n",
      "/ [0/1 files][184.3 MiB/315.6 MiB]  58% Done   5.9 MiB/s ETA 00:00:22           \n",
      "-\n",
      "- [0/1 files][190.5 MiB/315.6 MiB]  60% Done   5.8 MiB/s ETA 00:00:21           \n",
      "\\\n",
      "|\n",
      "| [0/1 files][197.0 MiB/315.6 MiB]  62% Done   5.8 MiB/s ETA 00:00:20           \n",
      "/\n",
      "-\n",
      "- [0/1 files][202.6 MiB/315.6 MiB]  64% Done   5.7 MiB/s ETA 00:00:20           \n",
      "\\\n",
      "\\ [0/1 files][208.0 MiB/315.6 MiB]  65% Done   5.8 MiB/s ETA 00:00:18           \n",
      "|\n",
      "/\n",
      "/ [0/1 files][214.0 MiB/315.6 MiB]  67% Done   5.8 MiB/s ETA 00:00:18           \n",
      "-\n",
      "\\\n",
      "\\ [0/1 files][220.7 MiB/315.6 MiB]  69% Done   5.8 MiB/s ETA 00:00:16           \n",
      "|\n",
      "| [0/1 files][226.9 MiB/315.6 MiB]  71% Done   5.8 MiB/s ETA 00:00:15           \n",
      "/\n",
      "-\n",
      "- [0/1 files][233.3 MiB/315.6 MiB]  73% Done   5.9 MiB/s ETA 00:00:14           \n",
      "\\\n",
      "\\ [0/1 files][239.0 MiB/315.6 MiB]  75% Done   6.0 MiB/s ETA 00:00:13           \n",
      "|\n",
      "/\n",
      "/ [0/1 files][244.2 MiB/315.6 MiB]  77% Done   5.8 MiB/s ETA 00:00:12           \n",
      "-\n",
      "\\\n",
      "\\ [0/1 files][248.6 MiB/315.6 MiB]  78% Done   5.4 MiB/s ETA 00:00:13           \n",
      "|\n",
      "| [0/1 files][253.7 MiB/315.6 MiB]  80% Done   5.1 MiB/s ETA 00:00:12           \n",
      "/\n",
      "-\n",
      "- [0/1 files][258.4 MiB/315.6 MiB]  81% Done   4.8 MiB/s ETA 00:00:12           \n",
      "\\\n",
      "|\n",
      "| [0/1 files][263.8 MiB/315.6 MiB]  83% Done   4.7 MiB/s ETA 00:00:11           \n",
      "/\n",
      "/ [0/1 files][268.2 MiB/315.6 MiB]  84% Done   4.7 MiB/s ETA 00:00:10           \n",
      "-\n",
      "\\\n",
      "\\ [0/1 files][271.5 MiB/315.6 MiB]  86% Done   4.4 MiB/s ETA 00:00:10           \n",
      "|\n",
      "/\n",
      "/ [0/1 files][275.9 MiB/315.6 MiB]  87% Done   4.3 MiB/s ETA 00:00:09           \n",
      "-\n",
      "- [0/1 files][279.8 MiB/315.6 MiB]  88% Done   4.1 MiB/s ETA 00:00:09           \n",
      "\\\n",
      "|\n",
      "| [0/1 files][283.4 MiB/315.6 MiB]  89% Done   3.8 MiB/s ETA 00:00:09           \n",
      "/\n",
      "/ [0/1 files][288.5 MiB/315.6 MiB]  91% Done   3.9 MiB/s ETA 00:00:07           \n",
      "-\n",
      "\\\n",
      "\\ [0/1 files][294.2 MiB/315.6 MiB]  93% Done   4.5 MiB/s ETA 00:00:05           \n",
      "|\n",
      "/\n",
      "/ [0/1 files][299.6 MiB/315.6 MiB]  94% Done   4.7 MiB/s ETA 00:00:03           \n",
      "-\n",
      "- [0/1 files][305.5 MiB/315.6 MiB]  96% Done   5.1 MiB/s ETA 00:00:02           \n",
      "\\\n",
      "|\n",
      "| [0/1 files][310.7 MiB/315.6 MiB]  98% Done   5.4 MiB/s ETA 00:00:01           \n",
      "/\n",
      "/ [1/1 files][315.6 MiB/315.6 MiB] 100% Done   5.5 MiB/s ETA 00:00:00           \n",
      "\n",
      "Operation completed over 1 objects/315.6 MiB.                                    \n",
      "Copying gs://quickdraw_dataset/full/numpy_bitmap/moon.npy...\n",
      "/ [0/1 files][    0.0 B/ 91.0 MiB]   0% Done                                    \n",
      "-\n",
      "- [0/1 files][  1.6 MiB/ 91.0 MiB]   1% Done                                    \n",
      "\\\n",
      "\\ [0/1 files][  8.2 MiB/ 91.0 MiB]   9% Done                                    \n",
      "|\n",
      "/\n",
      "/ [0/1 files][ 14.7 MiB/ 91.0 MiB]  16% Done                                    \n",
      "-\n",
      "- [0/1 files][ 20.6 MiB/ 91.0 MiB]  22% Done                                    \n",
      "\\\n",
      "|\n",
      "| [0/1 files][ 26.0 MiB/ 91.0 MiB]  28% Done                                    \n",
      "/\n",
      "-\n",
      "- [0/1 files][ 32.2 MiB/ 91.0 MiB]  35% Done                                    \n",
      "\\\n",
      "\\ [0/1 files][ 38.7 MiB/ 91.0 MiB]  42% Done                                    \n",
      "|\n",
      "/\n",
      "/ [0/1 files][ 45.1 MiB/ 91.0 MiB]  49% Done                                    \n",
      "-\n",
      "\\\n",
      "\\ [0/1 files][ 50.5 MiB/ 91.0 MiB]  55% Done                                    \n",
      "|\n",
      "| [0/1 files][ 57.0 MiB/ 91.0 MiB]  62% Done                                    \n",
      "/\n",
      "-\n",
      "- [0/1 files][ 62.1 MiB/ 91.0 MiB]  68% Done   5.9 MiB/s ETA 00:00:05           \n",
      "\\\n",
      "\\ [0/1 files][ 68.8 MiB/ 91.0 MiB]  75% Done   6.0 MiB/s ETA 00:00:04           \n",
      "|\n",
      "/\n",
      "/ [0/1 files][ 73.7 MiB/ 91.0 MiB]  81% Done   5.4 MiB/s ETA 00:00:03           \n",
      "-\n",
      "\\\n",
      "\\ [0/1 files][ 78.4 MiB/ 91.0 MiB]  86% Done   5.3 MiB/s ETA 00:00:02           \n",
      "|\n",
      "| [0/1 files][ 84.6 MiB/ 91.0 MiB]  92% Done   5.2 MiB/s ETA 00:00:01           \n",
      "/\n",
      "-\n",
      "- [0/1 files][ 89.5 MiB/ 91.0 MiB]  98% Done   5.1 MiB/s ETA 00:00:00           \n",
      "\\\n",
      "\\ [1/1 files][ 91.0 MiB/ 91.0 MiB] 100% Done   5.0 MiB/s ETA 00:00:00           \n",
      "\n",
      "Operation completed over 1 objects/91.0 MiB.                                     \n"
     ]
    }
   ],
   "source": [
    "for (src_file, dst_file) in zip(src_list, dst_list): \n",
    "    !gsutil -m cp {src_file} {dst_file}"
   ]
  },
  {
   "cell_type": "code",
   "execution_count": 9,
   "metadata": {},
   "outputs": [
    {
     "name": "stdout",
     "output_type": "stream",
     "text": [
      "filebase: data/moon/moon\n"
     ]
    }
   ],
   "source": [
    "filebase = dst_url + '/' + categories[category] + '/' + categories[category]\n",
    "print('filebase:', filebase)"
   ]
  },
  {
   "cell_type": "code",
   "execution_count": 10,
   "metadata": {},
   "outputs": [],
   "source": [
    "npy_data = np.load(filebase + '.npy', allow_pickle=True)"
   ]
  },
  {
   "cell_type": "code",
   "execution_count": 11,
   "metadata": {},
   "outputs": [],
   "source": [
    "# load from file-like objects\n",
    "with open(filebase + '.ndjson') as f:\n",
    "    ndjson_data = ndjson.load(f)"
   ]
  },
  {
   "cell_type": "code",
   "execution_count": 12,
   "metadata": {},
   "outputs": [],
   "source": [
    "def plot_bitmap():\n",
    "    print(\"Bitmap image:\")\n",
    "    plt.imshow(npy_data[int(index)].reshape(28,28))"
   ]
  },
  {
   "cell_type": "code",
   "execution_count": 13,
   "metadata": {},
   "outputs": [],
   "source": [
    "def plot_raw():\n",
    "    print(\"Raw image:\")\n",
    "    i = 0\n",
    "    for stroke in ndjson_data[int(index)]['drawing']:\n",
    "        stroke = np.array(stroke)\n",
    "        plt.plot(stroke[0], stroke[1]*-1)\n",
    "        i += 1\n",
    "    print('There are', i, 'number of strokes in this raw image file!')"
   ]
  },
  {
   "cell_type": "code",
   "execution_count": 156,
   "metadata": {
    "scrolled": true
   },
   "outputs": [
    {
     "name": "stdout",
     "output_type": "stream",
     "text": [
      "There are  121661  images in selected category moon\n",
      "Select an index value from 0 to 121660 to display and compare bitmap and raw images:\n",
      "Bitmap image:\n"
     ]
    },
    {
     "data": {
      "image/png": "[encoded data removed]",
      "text/plain": [
       "<Figure size 432x288 with 1 Axes>"
      ]
     },
     "metadata": {
      "needs_background": "light"
     },
     "output_type": "display_data"
    },
    {
     "name": "stdout",
     "output_type": "stream",
     "text": [
      "Raw image:\n"
     ]
    },
    {
     "data": {
      "image/png": "[encoded data removed]",
      "text/plain": [
       "<Figure size 432x288 with 1 Axes>"
      ]
     },
     "metadata": {
      "needs_background": "light"
     },
     "output_type": "display_data"
    },
    {
     "name": "stdout",
     "output_type": "stream",
     "text": [
      "There are 1 number of strokes in this raw image file!\n"
     ]
    }
   ],
   "source": [
    "print('There are ', len(npy_data), ' images in selected category', categories[category])\n",
    "print(\"Select an index value from 0 to\", len(npy_data)-1, \"to display and compare bitmap and raw images:\")\n",
    "#index=input()\n",
    "index='0'\n",
    "plot_bitmap()\n",
    "plt.show()\n",
    "plot_raw()"
   ]
  },
  {
   "cell_type": "code",
   "execution_count": 10,
   "metadata": {},
   "outputs": [],
   "source": [
    "# CONFIG\n",
    "T = 20\n",
    "batch_size = 64\n",
    "A = 28\n",
    "B = 28\n",
    "z_size = 10\n",
    "N = 5\n",
    "dec_size = 256\n",
    "enc_size = 256\n",
    "epoch_num = 10000\n",
    "learning_rate = 1e-3\n",
    "beta1 = 0.5\n",
    "USE_CUDA = False\n",
    "clip = 5.0\n",
    "path = os.path.join(root_path,'src/data/input')"
   ]
  },
  {
   "cell_type": "code",
   "execution_count": 7,
   "metadata": {},
   "outputs": [],
   "source": [
    "category = 'cat'"
   ]
  },
  {
   "cell_type": "code",
   "execution_count": 8,
   "metadata": {
    "scrolled": true
   },
   "outputs": [],
   "source": [
    "model = DRAW(T, A, B, batch_size, z_size, N, dec_size, enc_size, path, category)"
   ]
  },
  {
   "cell_type": "code",
   "execution_count": 11,
   "metadata": {},
   "outputs": [],
   "source": [
    "## TODO: test below"
   ]
  },
  {
   "cell_type": "code",
   "execution_count": 20,
   "metadata": {},
   "outputs": [
    {
     "name": "stdout",
     "output_type": "stream",
     "text": [
      "training data length: 1000\n",
      "test data length: 250\n"
     ]
    }
   ],
   "source": [
    "\n",
    "optimizer = optim.Adam(model.parameters(), lr=learning_rate, betas=(beta1,0.999))\n",
    "\n",
    "if USE_CUDA:\n",
    "    model.cuda()\n",
    "\n",
    "def train():\n",
    "    print(\"training...\")\n",
    "    model.start(phase='train')\n",
    "\n",
    "def test():    \n",
    "    print(\"testing...\")\n",
    "    model.start(phase='test')\n",
    "\n",
    "\n",
    "def generate_image(count):\n",
    "    x = model.generate(batch_size)\n",
    "    save_image(x,count)\n",
    "\n",
    "def generate():\n",
    "    x = model.generate(batch_size)\n",
    "    save_image(x)"
   ]
  },
  {
   "cell_type": "code",
   "execution_count": 21,
   "metadata": {},
   "outputs": [
    {
     "name": "stdout",
     "output_type": "stream",
     "text": [
      "Creating directories to save images, weights and the model ...\n"
     ]
    }
   ],
   "source": [
    "print(\"Creating directories to save images, weights and the model ...\")\n",
    "\n",
    "if not os.path.exists('image'):\n",
    "    os.mkdir('image')\n",
    "    if os.path.exists('image'):\n",
    "        print(\"image folder is created...\")\n",
    "\n",
    "if not os.path.exists('weights'):\n",
    "    os.mkdir('weights')\n",
    "    if os.path.exists('weights'):\n",
    "        print(\"weights folder is created...\")\n",
    "\n",
    "if not os.path.exists('model'):\n",
    "    os.mkdir('model')\n",
    "    if os.path.exists('model'):\n",
    "        print(\"model folder is created...\")    "
   ]
  },
  {
   "cell_type": "code",
   "execution_count": null,
   "metadata": {},
   "outputs": [],
   "source": [
    "# IDX VALIDATION"
   ]
  },
  {
   "cell_type": "code",
   "execution_count": 59,
   "metadata": {},
   "outputs": [
    {
     "data": {
      "text/plain": [
       "DrawModel(\n",
       "  (encoder): LSTMCell(306, 256)\n",
       "  (encoder_gru): GRUCell(306, 256)\n",
       "  (mu_linear): Linear(in_features=256, out_features=10, bias=True)\n",
       "  (sigma_linear): Linear(in_features=256, out_features=10, bias=True)\n",
       "  (decoder): LSTMCell(10, 256)\n",
       "  (decoder_gru): GRUCell(10, 256)\n",
       "  (dec_linear): Linear(in_features=256, out_features=5, bias=True)\n",
       "  (dec_w_linear): Linear(in_features=256, out_features=25, bias=True)\n",
       "  (sigmoid): Sigmoid()\n",
       ")"
      ]
     },
     "execution_count": 59,
     "metadata": {},
     "output_type": "execute_result"
    }
   ],
   "source": [
    "# LOADING MODEL\n",
    "torch.set_default_tensor_type('torch.FloatTensor')\n",
    "model = DRAW(T, A, B, z_size, N, dec_size, enc_size)\n",
    "model.load_state_dict(torch.load('model/draw.pth', map_location=torch.device('cpu')))\n",
    "model.eval()"
   ]
  },
  {
   "cell_type": "code",
   "execution_count": 172,
   "metadata": {},
   "outputs": [
    {
     "name": "stdout",
     "output_type": "stream",
     "text": [
      "There are  121661  images in selected database\n",
      "Enter image index from 0 to 121660 to display and compare bitmap and raw images:\n",
      "9\n"
     ]
    }
   ],
   "source": [
    "print('There are ', len(npy_data), ' images in selected database')\n",
    "print(\"Enter image index from 0 to\", len(npy_data)-1, \"to display and compare bitmap and raw images:\")\n",
    "index=int(input())"
   ]
  },
  {
   "cell_type": "code",
   "execution_count": 173,
   "metadata": {},
   "outputs": [],
   "source": [
    "def plot_bitmap():\n",
    "    print(\"Bitmap image:\")\n",
    "    plt.imshow(npy_data[int(index)].reshape(28,28))\n",
    "    plt.show()\n",
    "\n",
    "def plot_raw():\n",
    "    print(\"Raw image:\")\n",
    "    i = 0\n",
    "    for stroke in ndjson_data[int(index)]['drawing']:\n",
    "        stroke = np.array(stroke)\n",
    "        plt.plot(stroke[0], stroke[1]*-1)\n",
    "        i += 1\n",
    "    plt.show()\n",
    "    print('There are', i, 'number of strokes in this raw image file!')\n",
    "    print('Image key id:', ndjson_data[int(index)]['key_id'])"
   ]
  },
  {
   "cell_type": "code",
   "execution_count": 108,
   "metadata": {},
   "outputs": [
    {
     "name": "stdout",
     "output_type": "stream",
     "text": [
      "(64000, 784)\n",
      "(16000, 784)\n"
     ]
    }
   ],
   "source": [
    "print(x_train.shape)\n",
    "print(x_test.shape)"
   ]
  },
  {
   "cell_type": "code",
   "execution_count": 174,
   "metadata": {},
   "outputs": [
    {
     "name": "stdout",
     "output_type": "stream",
     "text": [
      "Bitmap image:\n"
     ]
    },
    {
     "data": {
      "image/png": "[encoded data removed]",
      "text/plain": [
       "<Figure size 432x288 with 1 Axes>"
      ]
     },
     "metadata": {
      "needs_background": "light"
     },
     "output_type": "display_data"
    }
   ],
   "source": [
    "plot_bitmap()"
   ]
  },
  {
   "cell_type": "code",
   "execution_count": 175,
   "metadata": {},
   "outputs": [
    {
     "name": "stdout",
     "output_type": "stream",
     "text": [
      "Raw image:\n"
     ]
    },
    {
     "data": {
      "image/png": "[encoded data removed]",
      "text/plain": [
       "<Figure size 432x288 with 1 Axes>"
      ]
     },
     "metadata": {
      "needs_background": "light"
     },
     "output_type": "display_data"
    },
    {
     "name": "stdout",
     "output_type": "stream",
     "text": [
      "There are 2 number of strokes in this raw image file!\n",
      "Image key id: 5873241388220416\n"
     ]
    }
   ],
   "source": [
    "plot_raw()"
   ]
  },
  {
   "cell_type": "code",
   "execution_count": 180,
   "metadata": {},
   "outputs": [],
   "source": [
    "def validate():    \n",
    "    print(\"validating...\")\n",
    "\n",
    "    avg_loss = 0\n",
    "    count = 0\n",
    "\n",
    "    data = npy_data[index:index+1]\n",
    "    data = np.reshape(data, (data.shape[0], 1, A, B))\n",
    "    data = torch.Tensor(data)\n",
    "    bs = data.size()[0]\n",
    "    data = Variable(data).view(bs, -1)\n",
    "    loss = model.loss(data)\n",
    "    avg_loss += loss.cpu().data.numpy()\n",
    "    generate_image(count)\n",
    "    \n",
    "def generate_image(count):\n",
    "    x = model.generate(batch_size)\n",
    "    save_image(x,count)\n",
    "\n",
    "def generate():\n",
    "    x = model.generate(batch_size)\n",
    "    save_image(x)"
   ]
  },
  {
   "cell_type": "code",
   "execution_count": 181,
   "metadata": {},
   "outputs": [
    {
     "name": "stdout",
     "output_type": "stream",
     "text": [
      "validating...\n",
      "loss: 208337.25;\n",
      "image/count_0_test_0.png\n",
      "image/count_0_test_1.png\n",
      "image/count_0_test_2.png\n",
      "image/count_0_test_3.png\n",
      "image/count_0_test_4.png\n",
      "image/count_0_test_5.png\n",
      "image/count_0_test_6.png\n",
      "image/count_0_test_7.png\n",
      "image/count_0_test_8.png\n",
      "image/count_0_test_9.png\n",
      "image/count_0_test_10.png\n",
      "image/count_0_test_11.png\n",
      "image/count_0_test_12.png\n",
      "image/count_0_test_13.png\n",
      "image/count_0_test_14.png\n",
      "image/count_0_test_15.png\n",
      "image/count_0_test_16.png\n",
      "image/count_0_test_17.png\n",
      "image/count_0_test_18.png\n",
      "image/count_0_test_19.png\n"
     ]
    },
    {
     "data": {
      "image/png": "[encoded data removed]",
      "text/plain": [
       "<Figure size 288x288 with 1 Axes>"
      ]
     },
     "metadata": {
      "needs_background": "light"
     },
     "output_type": "display_data"
    },
    {
     "data": {
      "image/png": "[encoded data removed]",
      "text/plain": [
       "<Figure size 288x288 with 1 Axes>"
      ]
     },
     "metadata": {
      "needs_background": "light"
     },
     "output_type": "display_data"
    },
    {
     "data": {
      "image/png": "[encoded data removed]",
      "text/plain": [
       "<Figure size 288x288 with 1 Axes>"
      ]
     },
     "metadata": {
      "needs_background": "light"
     },
     "output_type": "display_data"
    },
    {
     "data": {
      "image/png": "[encoded data removed]",
      "text/plain": [
       "<Figure size 288x288 with 1 Axes>"
      ]
     },
     "metadata": {
      "needs_background": "light"
     },
     "output_type": "display_data"
    },
    {
     "data": {
      "image/png": "[encoded data removed]",
      "text/plain": [
       "<Figure size 288x288 with 1 Axes>"
      ]
     },
     "metadata": {
      "needs_background": "light"
     },
     "output_type": "display_data"
    },
    {
     "data": {
      "image/png": "[encoded data removed]",
      "text/plain": [
       "<Figure size 288x288 with 1 Axes>"
      ]
     },
     "metadata": {
      "needs_background": "light"
     },
     "output_type": "display_data"
    },
    {
     "data": {
      "image/png": "[encoded data removed]",
      "text/plain": [
       "<Figure size 288x288 with 1 Axes>"
      ]
     },
     "metadata": {
      "needs_background": "light"
     },
     "output_type": "display_data"
    },
    {
     "data": {
      "image/png": "[encoded data removed]",
      "text/plain": [
       "<Figure size 288x288 with 1 Axes>"
      ]
     },
     "metadata": {
      "needs_background": "light"
     },
     "output_type": "display_data"
    },
    {
     "data": {
      "image/png": "[encoded data removed]",
      "text/plain": [
       "<Figure size 288x288 with 1 Axes>"
      ]
     },
     "metadata": {
      "needs_background": "light"
     },
     "output_type": "display_data"
    },
    {
     "data": {
      "image/png": "[encoded data removed]",
      "text/plain": [
       "<Figure size 288x288 with 1 Axes>"
      ]
     },
     "metadata": {
      "needs_background": "light"
     },
     "output_type": "display_data"
    },
    {
     "data": {
      "image/png": "[encoded data removed]",
      "text/plain": [
       "<Figure size 288x288 with 1 Axes>"
      ]
     },
     "metadata": {
      "needs_background": "light"
     },
     "output_type": "display_data"
    },
    {
     "data": {
      "image/png": "[encoded data removed]",
      "text/plain": [
       "<Figure size 288x288 with 1 Axes>"
      ]
     },
     "metadata": {
      "needs_background": "light"
     },
     "output_type": "display_data"
    },
    {
     "data": {
      "image/png": "[encoded data removed]",
      "text/plain": [
       "<Figure size 288x288 with 1 Axes>"
      ]
     },
     "metadata": {
      "needs_background": "light"
     },
     "output_type": "display_data"
    },
    {
     "data": {
      "image/png": "[encoded data removed]",
      "text/plain": [
       "<Figure size 288x288 with 1 Axes>"
      ]
     },
     "metadata": {
      "needs_background": "light"
     },
     "output_type": "display_data"
    },
    {
     "data": {
      "image/png": "[encoded data removed]",
      "text/plain": [
       "<Figure size 288x288 with 1 Axes>"
      ]
     },
     "metadata": {
      "needs_background": "light"
     },
     "output_type": "display_data"
    },
    {
     "data": {
      "image/png": "[encoded data removed]",
      "text/plain": [
       "<Figure size 288x288 with 1 Axes>"
      ]
     },
     "metadata": {
      "needs_background": "light"
     },
     "output_type": "display_data"
    },
    {
     "data": {
      "image/png": "[encoded data removed]",
      "text/plain": [
       "<Figure size 288x288 with 1 Axes>"
      ]
     },
     "metadata": {
      "needs_background": "light"
     },
     "output_type": "display_data"
    },
    {
     "data": {
      "image/png": "[encoded data removed]",
      "text/plain": [
       "<Figure size 288x288 with 1 Axes>"
      ]
     },
     "metadata": {
      "needs_background": "light"
     },
     "output_type": "display_data"
    },
    {
     "data": {
      "image/png": "[encoded data removed]",
      "text/plain": [
       "<Figure size 288x288 with 1 Axes>"
      ]
     },
     "metadata": {
      "needs_background": "light"
     },
     "output_type": "display_data"
    },
    {
     "data": {
      "image/png": "[encoded data removed]",
      "text/plain": [
       "<Figure size 288x288 with 1 Axes>"
      ]
     },
     "metadata": {
      "needs_background": "light"
     },
     "output_type": "display_data"
    }
   ],
   "source": [
    "validate()"
   ]
  }
 ],
 "metadata": {
  "kernelspec": {
   "display_name": "Python 3",
   "language": "python",
   "name": "python3"
  },
  "language_info": {
   "codemirror_mode": {
    "name": "ipython",
    "version": 3
   },
   "file_extension": ".py",
   "mimetype": "text/x-python",
   "name": "python",
   "nbconvert_exporter": "python",
   "pygments_lexer": "ipython3",
   "version": "3.7.7"
  }
 },
 "nbformat": 4,
 "nbformat_minor": 4
}
