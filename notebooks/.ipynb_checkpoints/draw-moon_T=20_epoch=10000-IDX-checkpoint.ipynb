{
 "cells": [
  {
   "cell_type": "code",
   "execution_count": null,
   "metadata": {},
   "outputs": [],
   "source": [
    "import os\n",
    "from os import walk, getcwd\n",
    "import sys\n",
    "import csv\n",
    "import ndjson\n",
    "import torch\n",
    "import torch.nn as nn\n",
    "import torch.functional as F\n",
    "import torch.optim as optim\n",
    "import torch.autograd as autograd\n",
    "from torchvision import datasets,transforms\n",
    "import torch.utils\n",
    "import torch.nn.utils\n",
    "import matplotlib.pyplot as plt\n",
    "import numpy as np\n",
    "from sklearn.model_selection import train_test_split"
   ]
  },
  {
   "cell_type": "code",
   "execution_count": null,
   "metadata": {},
   "outputs": [],
   "source": [
    "root_path = os.getcwd().split('notebook')[0]\n",
    "root_path"
   ]
  },
  {
   "cell_type": "code",
   "execution_count": null,
   "metadata": {},
   "outputs": [],
   "source": [
    "sys.path.insert(1, root_path)\n",
    "from src.utils.model_utils import *\n",
    "from src.draw_model import *\n",
    "from src import draw_model"
   ]
  },
  {
   "cell_type": "code",
   "execution_count": null,
   "metadata": {},
   "outputs": [],
   "source": [
    "config = ConfigParser()\n",
    "config_file = \"config.cfg\"\n",
    "config_path = root_path + \"src\" + \"\\\\\" + config_file\n",
    "config.read_file(open(config_path))"
   ]
  },
  {
   "cell_type": "code",
   "execution_count": null,
   "metadata": {},
   "outputs": [],
   "source": [
    "categories_file = os.path.join(root_path, 'src\\\\data\\\\categories.csv')"
   ]
  },
  {
   "cell_type": "code",
   "execution_count": null,
   "metadata": {},
   "outputs": [],
   "source": [
    "with open(categories_file, newline='') as f:\n",
    "    reader = csv.reader(f)\n",
    "    categories = {rows[0]:rows[0] for rows in reader}"
   ]
  },
  {
   "cell_type": "markdown",
   "metadata": {},
   "source": [
    "#### Select a category to download images from"
   ]
  },
  {
   "cell_type": "code",
   "execution_count": null,
   "metadata": {},
   "outputs": [],
   "source": [
    "for key, value in categories.items():\n",
    "    #print(key)\n",
    "    pass"
   ]
  },
  {
   "cell_type": "code",
   "execution_count": null,
   "metadata": {},
   "outputs": [],
   "source": [
    "print(\"Selected category from the list above:\")\n",
    "#category=input()\n",
    "category='moon'\n",
    "print(category)"
   ]
  },
  {
   "cell_type": "code",
   "execution_count": null,
   "metadata": {},
   "outputs": [],
   "source": [
    "print(\"Creating directories to save images, weights and the model ...\")\n",
    "src_list, dst_list, data_path, base_input, base_raw = create_folders(root_path, categories, category)\n",
    "\n",
    "for (src_file, dst_file) in zip(src_list, dst_list): \n",
    "    print('src_file: {}, dst_file: {}'.format(src_file, dst_file))"
   ]
  },
  {
   "cell_type": "code",
   "execution_count": null,
   "metadata": {},
   "outputs": [],
   "source": [
    "for (src_file, dst_file) in zip(src_list, dst_list): \n",
    "    !gsutil -m cp {src_file} {dst_file}"
   ]
  },
  {
   "cell_type": "code",
   "execution_count": null,
   "metadata": {},
   "outputs": [],
   "source": [
    "npy_data = np.load(base_input + '.npy', allow_pickle=True)"
   ]
  },
  {
   "cell_type": "code",
   "execution_count": null,
   "metadata": {},
   "outputs": [],
   "source": [
    "# load from file-like objects\n",
    "with open(base_raw + '.ndjson') as f:\n",
    "    ndjson_data = ndjson.load(f)"
   ]
  },
  {
   "cell_type": "code",
   "execution_count": null,
   "metadata": {},
   "outputs": [],
   "source": [
    "def plot_bitmap():\n",
    "    print(\"Bitmap image:\")\n",
    "    plt.imshow(npy_data[int(index)].reshape(28,28))"
   ]
  },
  {
   "cell_type": "code",
   "execution_count": null,
   "metadata": {},
   "outputs": [],
   "source": [
    "def plot_raw():\n",
    "    print(\"Raw image:\")\n",
    "    i = 0\n",
    "    for stroke in ndjson_data[int(index)]['drawing']:\n",
    "        stroke = np.array(stroke)\n",
    "        plt.plot(stroke[0], stroke[1]*-1)\n",
    "        i += 1\n",
    "    print('There are', i, 'number of strokes in this raw image file!')"
   ]
  },
  {
   "cell_type": "code",
   "execution_count": null,
   "metadata": {
    "scrolled": true
   },
   "outputs": [],
   "source": [
    "print('There are ', len(npy_data), ' images in selected category', categories[category])\n",
    "print(\"Select an index value from 0 to\", len(npy_data)-1, \"to display and compare bitmap and raw images:\")\n",
    "#index=input()\n",
    "index='0'\n",
    "plot_bitmap()\n",
    "plt.show()\n",
    "plot_raw()"
   ]
  },
  {
   "cell_type": "code",
   "execution_count": null,
   "metadata": {},
   "outputs": [],
   "source": [
    "# CONFIG\n",
    "T = 20\n",
    "batch_size = 64\n",
    "A = 28\n",
    "B = 28\n",
    "z_size = 10\n",
    "N = 5\n",
    "dec_size = 256\n",
    "enc_size = 256\n",
    "epoch_num = 10000\n",
    "learning_rate = 1e-3\n",
    "beta1 = 0.5\n",
    "USE_CUDA = False\n",
    "clip = 5.0\n",
    "path = os.path.join(root_path,'src\\\\data\\\\input')"
   ]
  },
  {
   "cell_type": "code",
   "execution_count": null,
   "metadata": {},
   "outputs": [],
   "source": [
    "category = 'moon'"
   ]
  },
  {
   "cell_type": "code",
   "execution_count": null,
   "metadata": {
    "scrolled": true
   },
   "outputs": [],
   "source": [
    "model = DRAW(T, A, B, batch_size, z_size, N, dec_size, enc_size, path, category)"
   ]
  },
  {
   "cell_type": "code",
   "execution_count": null,
   "metadata": {},
   "outputs": [],
   "source": [
    "## TODO: test below"
   ]
  },
  {
   "cell_type": "code",
   "execution_count": null,
   "metadata": {},
   "outputs": [],
   "source": [
    "optimizer = optim.Adam(model.parameters(), lr=learning_rate, betas=(beta1,0.999))\n",
    "\n",
    "if USE_CUDA:\n",
    "    model.cuda()\n",
    "\n",
    "def train():\n",
    "    print(\"training...\")\n",
    "    model.start(phase='train')\n",
    "\n",
    "def test():    \n",
    "    print(\"testing...\")\n",
    "    model.start(phase='test')\n",
    "\n",
    "\n",
    "def generate_image(count):\n",
    "    x = model.generate(batch_size)\n",
    "    save_image(x,count)\n",
    "\n",
    "def generate():\n",
    "    x = model.generate(batch_size)\n",
    "    save_image(x)"
   ]
  },
  {
   "cell_type": "code",
   "execution_count": null,
   "metadata": {},
   "outputs": [],
   "source": [
    "# IDX VALIDATION"
   ]
  },
  {
   "cell_type": "code",
   "execution_count": null,
   "metadata": {},
   "outputs": [],
   "source": [
    "# LOADING MODEL\n",
    "model_name = \"draw.pth\"\n",
    "model_folder_name = \"save\"\n",
    "model_path = root_path + \"src\" + \"\\\\\" + model_folder_name + \"\\\\\" + model_name\n",
    "torch.set_default_tensor_type('torch.FloatTensor')\n",
    "model = DRAW(T, A, B, batch_size, z_size, N, dec_size, enc_size, path, category)\n",
    "model.load_state_dict(torch.load(model_path, map_location=torch.device('cpu')))\n",
    "model.eval()"
   ]
  },
  {
   "cell_type": "code",
   "execution_count": null,
   "metadata": {},
   "outputs": [],
   "source": [
    "print('There are ', len(npy_data), ' images in selected database')\n",
    "print(\"Enter image index from 0 to\", len(npy_data)-1, \"to display and compare bitmap and raw images:\")\n",
    "index=int(input())"
   ]
  },
  {
   "cell_type": "code",
   "execution_count": null,
   "metadata": {},
   "outputs": [],
   "source": [
    "def plot_bitmap():\n",
    "    print(\"Bitmap image:\")\n",
    "    plt.imshow(npy_data[int(index)].reshape(28,28))\n",
    "    plt.show()\n",
    "\n",
    "def plot_raw():\n",
    "    print(\"Raw image:\")\n",
    "    i = 0\n",
    "    for stroke in ndjson_data[int(index)]['drawing']:\n",
    "        stroke = np.array(stroke)\n",
    "        plt.plot(stroke[0], stroke[1]*-1)\n",
    "        i += 1\n",
    "    plt.show()\n",
    "    print('There are', i, 'number of strokes in this raw image file!')\n",
    "    print('Image key id:', ndjson_data[int(index)]['key_id'])"
   ]
  },
  {
   "cell_type": "code",
   "execution_count": null,
   "metadata": {},
   "outputs": [],
   "source": [
    "print(x_train.shape)\n",
    "print(x_test.shape)"
   ]
  },
  {
   "cell_type": "code",
   "execution_count": null,
   "metadata": {},
   "outputs": [],
   "source": [
    "plot_bitmap()"
   ]
  },
  {
   "cell_type": "code",
   "execution_count": null,
   "metadata": {},
   "outputs": [],
   "source": [
    "plot_raw()"
   ]
  },
  {
   "cell_type": "code",
   "execution_count": null,
   "metadata": {},
   "outputs": [],
   "source": [
    "def validate():    \n",
    "    print(\"validating...\")\n",
    "\n",
    "    avg_loss = 0\n",
    "    count = 0\n",
    "\n",
    "    data = npy_data[index:index+1]\n",
    "    data = np.reshape(data, (data.shape[0], 1, A, B))\n",
    "    data = torch.Tensor(data)\n",
    "    bs = data.size()[0]\n",
    "    data = Variable(data).view(bs, -1)\n",
    "    loss = model.loss(data)\n",
    "    avg_loss += loss.cpu().data.numpy()\n",
    "    generate_image(count)\n",
    "    \n",
    "def generate_image(count):\n",
    "    x = model.generate(batch_size)\n",
    "    save_image(x,count)\n",
    "\n",
    "def generate():\n",
    "    x = model.generate(batch_size)\n",
    "    save_image(x)"
   ]
  },
  {
   "cell_type": "code",
   "execution_count": null,
   "metadata": {},
   "outputs": [],
   "source": [
    "validate()"
   ]
  }
 ],
 "metadata": {
  "kernelspec": {
   "display_name": "Python 3",
   "language": "python",
   "name": "python3"
  },
  "language_info": {
   "codemirror_mode": {
    "name": "ipython",
    "version": 3
   },
   "file_extension": ".py",
   "mimetype": "text/x-python",
   "name": "python",
   "nbconvert_exporter": "python",
   "pygments_lexer": "ipython3",
   "version": "3.7.7"
  }
 },
 "nbformat": 4,
 "nbformat_minor": 4
}
