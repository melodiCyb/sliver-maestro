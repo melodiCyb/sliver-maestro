{
 "cells": [
  {
   "cell_type": "code",
   "execution_count": 1,
   "metadata": {},
   "outputs": [],
   "source": [
    "import csv\n",
    "import ndjson\n",
    "import os\n",
    "import sys"
   ]
  },
  {
   "cell_type": "code",
   "execution_count": 2,
   "metadata": {},
   "outputs": [
    {
     "name": "stdout",
     "output_type": "stream",
     "text": [
      "root_path: C:\\Users\\ozgur\\Desktop\\sandbox\\sliver-maestro\n"
     ]
    }
   ],
   "source": [
    "base_path = os.getcwd().split('sliver-maestro')[0]\n",
    "root_path = os.path.join(base_path, \"sliver-maestro\")\n",
    "print(\"root_path: {}\".format(root_path))"
   ]
  },
  {
   "cell_type": "code",
   "execution_count": 3,
   "metadata": {},
   "outputs": [],
   "source": [
    "sys.path.insert(1, root_path)\n",
    "from src.utils.model_utils import *\n",
    "from src.draw_model import *\n",
    "from src.generate_images import *"
   ]
  },
  {
   "cell_type": "code",
   "execution_count": 4,
   "metadata": {},
   "outputs": [],
   "source": [
    "categories_file = os.path.join(root_path, \"src\", \"data\", \"categories.csv\")"
   ]
  },
  {
   "cell_type": "code",
   "execution_count": 5,
   "metadata": {},
   "outputs": [],
   "source": [
    "with open(categories_file, newline='') as f:\n",
    "    reader = csv.reader(f)\n",
    "    categories = {rows[0]:rows[0] for rows in reader}"
   ]
  },
  {
   "cell_type": "markdown",
   "metadata": {},
   "source": [
    "#### Select a category to download images from "
   ]
  },
  {
   "cell_type": "code",
   "execution_count": 6,
   "metadata": {},
   "outputs": [
    {
     "name": "stdout",
     "output_type": "stream",
     "text": [
      "Number of categories: 345\n"
     ]
    }
   ],
   "source": [
    "print('Number of categories: %d' % len(categories))"
   ]
  },
  {
   "cell_type": "code",
   "execution_count": 7,
   "metadata": {},
   "outputs": [
    {
     "data": {
      "text/plain": [
       "['aircraft carrier',\n",
       " 'airplane',\n",
       " 'alarm clock',\n",
       " 'ambulance',\n",
       " 'angel',\n",
       " 'animal migration',\n",
       " 'ant',\n",
       " 'anvil',\n",
       " 'apple',\n",
       " 'arm']"
      ]
     },
     "execution_count": 7,
     "metadata": {},
     "output_type": "execute_result"
    }
   ],
   "source": [
    "list(categories.keys())[:10]"
   ]
  },
  {
   "cell_type": "code",
   "execution_count": 8,
   "metadata": {},
   "outputs": [
    {
     "name": "stdout",
     "output_type": "stream",
     "text": [
      "Selected category from the list above: moon\n"
     ]
    }
   ],
   "source": [
    "category = input(\"Selected category from the list above: \") or 'cat'\n",
    "# Checking to see if the entered category is in the categories dictionary\n",
    "assert categories.get(category)"
   ]
  },
  {
   "cell_type": "code",
   "execution_count": 9,
   "metadata": {},
   "outputs": [
    {
     "name": "stdout",
     "output_type": "stream",
     "text": [
      "Creating directories to save images, weights and the model ...\n",
      "folders are created...\n"
     ]
    }
   ],
   "source": [
    "print(\"Creating directories to save images, weights and the model ...\")\n",
    "src_list, dst_list, paths_dict = create_folders(root_path, category)"
   ]
  },
  {
   "cell_type": "code",
   "execution_count": 10,
   "metadata": {},
   "outputs": [
    {
     "name": "stdout",
     "output_type": "stream",
     "text": [
      "Select a download method ... \n",
      " 1. Use Google Cloud credentials stored in a json file \n",
      " 2. Use gsutil in the notebook \n",
      " 3. Use gsutil in the terminal \n",
      "2\n"
     ]
    }
   ],
   "source": [
    "option = input(\"Select a download method ... \\n 1. Use Google Cloud credentials stored in a json file \\n 2. Use gsutil in the notebook \\n 3. Use gsutil in the terminal \\n\")"
   ]
  },
  {
   "cell_type": "code",
   "execution_count": 11,
   "metadata": {},
   "outputs": [
    {
     "name": "stdout",
     "output_type": "stream",
     "text": [
      "full/numpy_bitmap/moon.npy C:\\Users\\ozgur\\Desktop\\sandbox\\sliver-maestro\\src\\data\\input\\moon\\moon.npy\n",
      "full/raw/moon.ndjson C:\\Users\\ozgur\\Desktop\\sandbox\\sliver-maestro\\src\\data\\raw\\moon\\moon.ndjson\n"
     ]
    },
    {
     "name": "stderr",
     "output_type": "stream",
     "text": [
      "Copying gs://quickdraw_dataset/full/numpy_bitmap/moon.npy...\n",
      "/ [0/1 files][    0.0 B/ 91.0 MiB]   0% Done                                    \n",
      "-\n",
      "- [0/1 files][  1.0 MiB/ 91.0 MiB]   1% Done                                    \n",
      "\\\n",
      "\\ [0/1 files][  7.5 MiB/ 91.0 MiB]   8% Done                                    \n",
      "|\n",
      "/\n",
      "/ [0/1 files][ 12.6 MiB/ 91.0 MiB]  13% Done                                    \n",
      "-\n",
      "\\\n",
      "\\ [0/1 files][ 18.3 MiB/ 91.0 MiB]  20% Done                                    \n",
      "|\n",
      "| [0/1 files][ 23.7 MiB/ 91.0 MiB]  26% Done                                    \n",
      "/\n",
      "-\n",
      "- [0/1 files][ 29.1 MiB/ 91.0 MiB]  32% Done                                    \n",
      "\\\n",
      "|\n",
      "| [0/1 files][ 33.8 MiB/ 91.0 MiB]  37% Done                                    \n",
      "/\n",
      "/ [0/1 files][ 39.4 MiB/ 91.0 MiB]  43% Done                                    \n",
      "-\n",
      "\\\n",
      "\\ [0/1 files][ 44.9 MiB/ 91.0 MiB]  49% Done                                    \n",
      "|\n",
      "| [0/1 files][ 50.3 MiB/ 91.0 MiB]  55% Done                                    \n",
      "/\n",
      "-\n",
      "- [0/1 files][ 54.1 MiB/ 91.0 MiB]  59% Done   5.1 MiB/s ETA 00:00:07           \n",
      "\\\n",
      "|\n",
      "| [0/1 files][ 59.6 MiB/ 91.0 MiB]  65% Done   5.1 MiB/s ETA 00:00:06           \n",
      "/\n",
      "/ [0/1 files][ 65.0 MiB/ 91.0 MiB]  71% Done   5.0 MiB/s ETA 00:00:05           \n",
      "-\n",
      "\\\n",
      "\\ [0/1 files][ 71.2 MiB/ 91.0 MiB]  78% Done   5.1 MiB/s ETA 00:00:04           \n",
      "|\n",
      "/\n",
      "/ [0/1 files][ 77.1 MiB/ 91.0 MiB]  84% Done   5.2 MiB/s ETA 00:00:03           \n",
      "-\n",
      "- [0/1 files][ 83.0 MiB/ 91.0 MiB]  91% Done   5.6 MiB/s ETA 00:00:01           \n",
      "\\\n",
      "|\n",
      "| [0/1 files][ 88.7 MiB/ 91.0 MiB]  97% Done   5.7 MiB/s ETA 00:00:00           \n",
      "/\n",
      "/ [1/1 files][ 91.0 MiB/ 91.0 MiB] 100% Done   5.8 MiB/s ETA 00:00:00           \n",
      "\n",
      "Operation completed over 1 objects/91.0 MiB.                                     \n",
      "Copying gs://quickdraw_dataset/full/raw/moon.ndjson...\n",
      "/ [0/1 files][    0.0 B/315.6 MiB]   0% Done                                    \n",
      "/ [0/1 files][    0.0 B/315.6 MiB]   0% Done                                    \n",
      "-\n",
      "\\\n",
      "\\ [0/1 files][  2.1 MiB/315.6 MiB]   0% Done                                    \n",
      "|\n",
      "/\n",
      "/ [0/1 files][  7.7 MiB/315.6 MiB]   2% Done                                    \n",
      "-\n",
      "- [0/1 files][ 13.2 MiB/315.6 MiB]   4% Done                                    \n",
      "\\\n",
      "|\n",
      "| [0/1 files][ 19.8 MiB/315.6 MiB]   6% Done                                    \n",
      "/\n",
      "-\n",
      "- [0/1 files][ 26.0 MiB/315.6 MiB]   8% Done                                    \n",
      "\\\n",
      "\\ [0/1 files][ 31.7 MiB/315.6 MiB]  10% Done                                    \n",
      "|\n",
      "/\n",
      "/ [0/1 files][ 36.9 MiB/315.6 MiB]  11% Done                                    \n",
      "-\n",
      "- [0/1 files][ 42.5 MiB/315.6 MiB]  13% Done                                    \n",
      "\\\n",
      "|\n",
      "| [0/1 files][ 48.0 MiB/315.6 MiB]  15% Done   5.4 MiB/s ETA 00:00:49           \n",
      "/\n",
      "-\n",
      "- [0/1 files][ 52.3 MiB/315.6 MiB]  16% Done   5.2 MiB/s ETA 00:00:51           \n",
      "\\\n",
      "\\ [0/1 files][ 57.5 MiB/315.6 MiB]  18% Done   5.0 MiB/s ETA 00:00:51           \n",
      "|\n",
      "/\n",
      "/ [0/1 files][ 62.1 MiB/315.6 MiB]  19% Done   4.9 MiB/s ETA 00:00:52           \n",
      "-\n",
      "\\\n",
      "\\ [0/1 files][ 67.0 MiB/315.6 MiB]  21% Done   4.7 MiB/s ETA 00:00:53           \n",
      "|\n",
      "| [0/1 files][ 71.9 MiB/315.6 MiB]  22% Done   4.7 MiB/s ETA 00:00:52           \n",
      "/\n",
      "-\n",
      "- [0/1 files][ 76.8 MiB/315.6 MiB]  24% Done   4.7 MiB/s ETA 00:00:51           \n",
      "\\\n",
      "\\ [0/1 files][ 82.2 MiB/315.6 MiB]  26% Done   4.8 MiB/s ETA 00:00:49           \n",
      "|\n",
      "/\n",
      "/ [0/1 files][ 86.6 MiB/315.6 MiB]  27% Done   4.7 MiB/s ETA 00:00:48           \n",
      "-\n",
      "\\\n",
      "\\ [0/1 files][ 90.8 MiB/315.6 MiB]  28% Done   4.6 MiB/s ETA 00:00:49           \n",
      "|\n",
      "| [0/1 files][ 95.1 MiB/315.6 MiB]  30% Done   4.4 MiB/s ETA 00:00:49           \n",
      "/\n",
      "-\n",
      "- [0/1 files][ 99.8 MiB/315.6 MiB]  31% Done   4.4 MiB/s ETA 00:00:49           \n",
      "\\\n",
      "|\n",
      "| [0/1 files][106.0 MiB/315.6 MiB]  33% Done   4.6 MiB/s ETA 00:00:46           \n",
      "/\n",
      "/ [0/1 files][110.6 MiB/315.6 MiB]  35% Done   4.7 MiB/s ETA 00:00:43           \n",
      "-\n",
      "\\\n",
      "\\ [0/1 files][115.5 MiB/315.6 MiB]  36% Done   4.8 MiB/s ETA 00:00:42           \n",
      "|\n",
      "/\n",
      "/ [0/1 files][119.9 MiB/315.6 MiB]  37% Done   4.9 MiB/s ETA 00:00:40           \n",
      "-\n",
      "- [0/1 files][124.0 MiB/315.6 MiB]  39% Done   4.7 MiB/s ETA 00:00:41           \n",
      "\\\n",
      "|\n",
      "| [0/1 files][128.6 MiB/315.6 MiB]  40% Done   4.5 MiB/s ETA 00:00:41           \n",
      "/\n",
      "/ [0/1 files][132.8 MiB/315.6 MiB]  42% Done   4.2 MiB/s ETA 00:00:44           \n",
      "-\n",
      "\\\n",
      "\\ [0/1 files][137.2 MiB/315.6 MiB]  43% Done   4.2 MiB/s ETA 00:00:42           \n",
      "|\n",
      "/\n",
      "/ [0/1 files][143.3 MiB/315.6 MiB]  45% Done   4.5 MiB/s ETA 00:00:38           \n",
      "-\n",
      "- [0/1 files][147.5 MiB/315.6 MiB]  46% Done   4.5 MiB/s ETA 00:00:38           \n",
      "\\\n",
      "|\n",
      "| [0/1 files][151.3 MiB/315.6 MiB]  47% Done   4.3 MiB/s ETA 00:00:38           \n",
      "/\n",
      "-\n",
      "- [0/1 files][154.7 MiB/315.6 MiB]  49% Done   4.3 MiB/s ETA 00:00:38           \n",
      "\\\n",
      "\\ [0/1 files][159.3 MiB/315.6 MiB]  50% Done   4.1 MiB/s ETA 00:00:38           \n",
      "|\n",
      "/\n",
      "/ [0/1 files][164.2 MiB/315.6 MiB]  52% Done   4.0 MiB/s ETA 00:00:38           \n",
      "-\n",
      "- [0/1 files][167.8 MiB/315.6 MiB]  53% Done   3.9 MiB/s ETA 00:00:37           \n",
      "\\\n",
      "|\n",
      "| [0/1 files][171.7 MiB/315.6 MiB]  54% Done   3.9 MiB/s ETA 00:00:37           \n",
      "/\n",
      "-\n",
      "- [0/1 files][173.5 MiB/315.6 MiB]  54% Done   3.3 MiB/s ETA 00:00:43           \n",
      "\\\n",
      "|\n",
      "| [0/1 files][177.2 MiB/315.6 MiB]  56% Done   3.2 MiB/s ETA 00:00:43           \n",
      "/\n",
      "/ [0/1 files][181.0 MiB/315.6 MiB]  57% Done   3.1 MiB/s ETA 00:00:44           \n",
      "-\n",
      "\\\n",
      "\\ [0/1 files][185.1 MiB/315.6 MiB]  58% Done   3.2 MiB/s ETA 00:00:40           \n",
      "|\n",
      "| [0/1 files][188.8 MiB/315.6 MiB]  59% Done   3.4 MiB/s ETA 00:00:37           \n",
      "/\n",
      "-\n",
      "- [0/1 files][192.4 MiB/315.6 MiB]  60% Done   3.7 MiB/s ETA 00:00:33           \n",
      "\\\n",
      "|\n",
      "| [0/1 files][195.7 MiB/315.6 MiB]  62% Done   3.7 MiB/s ETA 00:00:33           \n",
      "/\n",
      "/ [0/1 files][199.8 MiB/315.6 MiB]  63% Done   3.7 MiB/s ETA 00:00:32           \n",
      "-\n",
      "\\\n",
      "\\ [0/1 files][203.7 MiB/315.6 MiB]  64% Done   3.6 MiB/s ETA 00:00:31           \n",
      "|\n",
      "| [0/1 files][207.0 MiB/315.6 MiB]  65% Done   3.5 MiB/s ETA 00:00:31           \n",
      "/\n",
      "-\n",
      "- [0/1 files][210.4 MiB/315.6 MiB]  66% Done   3.4 MiB/s ETA 00:00:31           \n",
      "\\\n",
      "|\n",
      "| [0/1 files][214.8 MiB/315.6 MiB]  68% Done   3.6 MiB/s ETA 00:00:28           \n",
      "/\n",
      "/ [0/1 files][219.7 MiB/315.6 MiB]  69% Done   3.8 MiB/s ETA 00:00:25           \n",
      "-\n",
      "\\\n",
      "\\ [0/1 files][224.3 MiB/315.6 MiB]  71% Done   3.9 MiB/s ETA 00:00:23           \n",
      "|\n",
      "/\n",
      "/ [0/1 files][228.2 MiB/315.6 MiB]  72% Done   4.1 MiB/s ETA 00:00:21           \n",
      "-\n",
      "- [0/1 files][231.8 MiB/315.6 MiB]  73% Done   4.1 MiB/s ETA 00:00:20           \n",
      "\\\n",
      "|\n",
      "| [0/1 files][235.2 MiB/315.6 MiB]  74% Done   3.9 MiB/s ETA 00:00:21           \n",
      "/\n",
      "-\n",
      "- [0/1 files][238.8 MiB/315.6 MiB]  75% Done   3.6 MiB/s ETA 00:00:22           \n",
      "\\\n",
      "\\ [0/1 files][242.1 MiB/315.6 MiB]  76% Done   3.4 MiB/s ETA 00:00:22           \n",
      "|\n",
      "/\n",
      "/ [0/1 files][245.5 MiB/315.6 MiB]  77% Done   3.4 MiB/s ETA 00:00:21           \n",
      "-\n",
      "- [0/1 files][248.0 MiB/315.6 MiB]  78% Done   3.1 MiB/s ETA 00:00:22           \n",
      "\\\n",
      "|\n",
      "| [0/1 files][251.1 MiB/315.6 MiB]  79% Done   3.1 MiB/s ETA 00:00:21           \n",
      "/\n",
      "/ [0/1 files][254.8 MiB/315.6 MiB]  80% Done   3.1 MiB/s ETA 00:00:20           \n",
      "-\n",
      "\\\n",
      "\\ [0/1 files][258.9 MiB/315.6 MiB]  82% Done   3.2 MiB/s ETA 00:00:17           \n",
      "|\n",
      "/\n",
      "/ [0/1 files][262.5 MiB/315.6 MiB]  83% Done   3.3 MiB/s ETA 00:00:16           \n",
      "-\n",
      "- [0/1 files][266.1 MiB/315.6 MiB]  84% Done   3.5 MiB/s ETA 00:00:14           \n",
      "\\\n",
      "|\n",
      "| [0/1 files][269.7 MiB/315.6 MiB]  85% Done   3.6 MiB/s ETA 00:00:13           \n",
      "/\n",
      "-\n",
      "- [0/1 files][273.3 MiB/315.6 MiB]  86% Done   3.6 MiB/s ETA 00:00:12           \n",
      "\\\n",
      "\\ [0/1 files][276.9 MiB/315.6 MiB]  87% Done   3.5 MiB/s ETA 00:00:11           \n",
      "|\n",
      "/\n",
      "/ [0/1 files][280.3 MiB/315.6 MiB]  88% Done   3.5 MiB/s ETA 00:00:10           \n",
      "-\n",
      "- [0/1 files][284.1 MiB/315.6 MiB]  90% Done   3.5 MiB/s ETA 00:00:09           \n",
      "\\\n",
      "|\n",
      "| [0/1 files][287.8 MiB/315.6 MiB]  91% Done   3.5 MiB/s ETA 00:00:08           \n",
      "/\n",
      "-\n",
      "- [0/1 files][291.4 MiB/315.6 MiB]  92% Done   3.5 MiB/s ETA 00:00:07           \n",
      "\\\n",
      "\\ [0/1 files][295.2 MiB/315.6 MiB]  93% Done   3.6 MiB/s ETA 00:00:06           \n",
      "|\n",
      "/\n",
      "/ [0/1 files][299.4 MiB/315.6 MiB]  94% Done   3.7 MiB/s ETA 00:00:04           \n",
      "-\n",
      "- [0/1 files][303.2 MiB/315.6 MiB]  96% Done   3.7 MiB/s ETA 00:00:03           \n",
      "\\\n",
      "|\n",
      "| [0/1 files][306.3 MiB/315.6 MiB]  97% Done   3.6 MiB/s ETA 00:00:03           \n",
      "/\n",
      "-\n",
      "- [0/1 files][311.0 MiB/315.6 MiB]  98% Done   3.8 MiB/s ETA 00:00:01           \n",
      "\\\n",
      "\\ [0/1 files][315.6 MiB/315.6 MiB]  99% Done   3.9 MiB/s ETA 00:00:00           \n",
      "|\n",
      "| [1/1 files][315.6 MiB/315.6 MiB] 100% Done   3.9 MiB/s ETA 00:00:00           \n",
      "\n",
      "Operation completed over 1 objects/315.6 MiB.                                    \n"
     ]
    }
   ],
   "source": [
    "if option == \"1\":\n",
    "    download_data(src_list, dst_list)\n",
    "elif option == \"2\":\n",
    "    for (src_file, dst_file) in zip(src_list, dst_list): \n",
    "        print(src_file, dst_file)\n",
    "        !gsutil -m cp {'gs://quickdraw_dataset/' + src_file} dst_file\n",
    "elif option == \"3\":\n",
    "    print('Type the following in the terminal to download the files manually:')\n",
    "    for (src_file, dst_file) in zip(src_list, dst_list):\n",
    "        print(\"gsutil -m cp \" + \"gs://quickdraw_dataset/\" + \"{}\".format(src_file) + \" \" + \"{}\".format(dst_file))"
   ]
  },
  {
   "cell_type": "code",
   "execution_count": 12,
   "metadata": {},
   "outputs": [],
   "source": [
    "model_path = os.path.join(paths_dict['input_path'], category, category)"
   ]
  },
  {
   "cell_type": "code",
   "execution_count": 13,
   "metadata": {},
   "outputs": [],
   "source": [
    "npy_data = np.load(paths_dict['base_input'] + '.npy', allow_pickle=True)"
   ]
  },
  {
   "cell_type": "code",
   "execution_count": 14,
   "metadata": {},
   "outputs": [],
   "source": [
    "# load from file-like objects\n",
    "with open(paths_dict['base_raw'] + '.ndjson') as f:\n",
    "    ndjson_data = ndjson.load(f)"
   ]
  },
  {
   "cell_type": "code",
   "execution_count": 15,
   "metadata": {},
   "outputs": [],
   "source": [
    "def plot_bitmap():\n",
    "    print(\"Bitmap image:\")\n",
    "    plt.imshow(npy_data[int(index)].reshape(28,28))"
   ]
  },
  {
   "cell_type": "code",
   "execution_count": 16,
   "metadata": {},
   "outputs": [],
   "source": [
    "def plot_raw():\n",
    "    print(\"Raw image:\")\n",
    "    i = 0\n",
    "    for stroke in ndjson_data[int(index)]['drawing']:\n",
    "        stroke = np.array(stroke)\n",
    "        plt.plot(stroke[0], stroke[1]*-1)\n",
    "        i += 1\n",
    "    print('There are', i, 'number of strokes in this raw image file!')"
   ]
  },
  {
   "cell_type": "code",
   "execution_count": 17,
   "metadata": {},
   "outputs": [
    {
     "name": "stdout",
     "output_type": "stream",
     "text": [
      "There are  121662  images in selected category moon\n",
      "Select an index value from 0 to 121661 to display and compare bitmap and raw images:\n",
      "Bitmap image:\n"
     ]
    },
    {
     "data": {
      "image/png": "[encoded data removed]",
      "text/plain": [
       "<Figure size 432x288 with 1 Axes>"
      ]
     },
     "metadata": {
      "needs_background": "light"
     },
     "output_type": "display_data"
    },
    {
     "name": "stdout",
     "output_type": "stream",
     "text": [
      "Raw image:\n",
      "There are 1 number of strokes in this raw image file!\n"
     ]
    },
    {
     "data": {
      "image/png": "[encoded data removed]",
      "text/plain": [
       "<Figure size 432x288 with 1 Axes>"
      ]
     },
     "metadata": {
      "needs_background": "light"
     },
     "output_type": "display_data"
    }
   ],
   "source": [
    "print('There are ', len(npy_data)+1, ' images in selected category', categories[category])\n",
    "print(\"Select an index value from 0 to\", len(npy_data), \"to display and compare bitmap and raw images:\")\n",
    "#index=input()\n",
    "index = '1'\n",
    "plot_bitmap()\n",
    "plt.show()\n",
    "plot_raw()"
   ]
  },
  {
   "cell_type": "code",
   "execution_count": 18,
   "metadata": {},
   "outputs": [],
   "source": [
    "# TRAIN TEST SPLIT\n",
    "filepath = paths_dict['input_path']\n",
    "x_train, x_test, y_train, y_test = split_data(filepath, categories[category], shuffle=False)"
   ]
  },
  {
   "cell_type": "code",
   "execution_count": 19,
   "metadata": {},
   "outputs": [
    {
     "data": {
      "text/plain": [
       "DRAW(\n",
       "  (encoder): LSTMCell(306, 256)\n",
       "  (mu_linear): Linear(in_features=256, out_features=10, bias=True)\n",
       "  (sigma_linear): Linear(in_features=256, out_features=10, bias=True)\n",
       "  (decoder): LSTMCell(10, 256)\n",
       "  (dec_linear): Linear(in_features=256, out_features=5, bias=True)\n",
       "  (dec_w_linear): Linear(in_features=256, out_features=25, bias=True)\n",
       "  (sigmoid): Sigmoid()\n",
       ")"
      ]
     },
     "execution_count": 19,
     "metadata": {},
     "output_type": "execute_result"
    }
   ],
   "source": [
    "DRAW(model_path, category)"
   ]
  },
  {
   "cell_type": "code",
   "execution_count": 20,
   "metadata": {},
   "outputs": [],
   "source": [
    "train_data = Dataset(x_train)\n",
    "test_data = Dataset(x_test)"
   ]
  },
  {
   "cell_type": "code",
   "execution_count": 21,
   "metadata": {},
   "outputs": [],
   "source": [
    "model = DRAW(category)"
   ]
  },
  {
   "cell_type": "code",
   "execution_count": null,
   "metadata": {},
   "outputs": [],
   "source": [
    "# TRAINING AND TESTING\n",
    "print(\"training...\")\n",
    "model.start(phase='train') "
   ]
  },
  {
   "cell_type": "markdown",
   "metadata": {},
   "source": [
    "## Generating Images"
   ]
  },
  {
   "cell_type": "code",
   "execution_count": 30,
   "metadata": {},
   "outputs": [],
   "source": [
    "category = 'moon'"
   ]
  },
  {
   "cell_type": "code",
   "execution_count": 31,
   "metadata": {},
   "outputs": [],
   "source": [
    "test_model = Test(category)"
   ]
  },
  {
   "cell_type": "code",
   "execution_count": 32,
   "metadata": {},
   "outputs": [],
   "source": [
    "dataloader = test_model.dataloaders['train']"
   ]
  },
  {
   "cell_type": "code",
   "execution_count": 33,
   "metadata": {},
   "outputs": [],
   "source": [
    "data = dataloader.next_batch(test_model.batch_size)"
   ]
  },
  {
   "cell_type": "code",
   "execution_count": 34,
   "metadata": {},
   "outputs": [
    {
     "data": {
      "text/plain": [
       "(64, 784)"
      ]
     },
     "execution_count": 34,
     "metadata": {},
     "output_type": "execute_result"
    }
   ],
   "source": [
    "data.shape"
   ]
  },
  {
   "cell_type": "code",
   "execution_count": 35,
   "metadata": {},
   "outputs": [
    {
     "data": {
      "text/plain": [
       "<matplotlib.image.AxesImage at 0x1be54a8ad88>"
      ]
     },
     "execution_count": 35,
     "metadata": {},
     "output_type": "execute_result"
    },
    {
     "data": {
      "image/png": "[encoded data removed]",
      "text/plain": [
       "<Figure size 432x288 with 1 Axes>"
      ]
     },
     "metadata": {
      "needs_background": "light"
     },
     "output_type": "display_data"
    }
   ],
   "source": [
    "plt.imshow(npy_data[int(index)].reshape(28,28))"
   ]
  },
  {
   "cell_type": "code",
   "execution_count": 36,
   "metadata": {},
   "outputs": [
    {
     "name": "stdout",
     "output_type": "stream",
     "text": [
      "reconstructing images...\n",
      "C:\\Users\\ozgur\\Desktop\\sandbox\\sliver-maestro\\src\\data\\output\\images\\moon\\moon_test_0.png\n",
      "C:\\Users\\ozgur\\Desktop\\sandbox\\sliver-maestro\\src\\data\\output\\images\\moon\\moon_test_1.png\n",
      "C:\\Users\\ozgur\\Desktop\\sandbox\\sliver-maestro\\src\\data\\output\\images\\moon\\moon_test_2.png\n",
      "C:\\Users\\ozgur\\Desktop\\sandbox\\sliver-maestro\\src\\data\\output\\images\\moon\\moon_test_3.png\n",
      "C:\\Users\\ozgur\\Desktop\\sandbox\\sliver-maestro\\src\\data\\output\\images\\moon\\moon_test_4.png\n",
      "C:\\Users\\ozgur\\Desktop\\sandbox\\sliver-maestro\\src\\data\\output\\images\\moon\\moon_test_5.png\n",
      "C:\\Users\\ozgur\\Desktop\\sandbox\\sliver-maestro\\src\\data\\output\\images\\moon\\moon_test_6.png\n",
      "C:\\Users\\ozgur\\Desktop\\sandbox\\sliver-maestro\\src\\data\\output\\images\\moon\\moon_test_7.png\n",
      "C:\\Users\\ozgur\\Desktop\\sandbox\\sliver-maestro\\src\\data\\output\\images\\moon\\moon_test_8.png\n",
      "C:\\Users\\ozgur\\Desktop\\sandbox\\sliver-maestro\\src\\data\\output\\images\\moon\\moon_test_9.png\n"
     ]
    },
    {
     "data": {
      "text/plain": [
       "array([[5.00000000e-01, 5.00000000e-01, 5.00000000e-01, 5.00000000e-01,\n",
       "        5.00000000e-01, 5.00000000e-01, 5.00000000e-01, 5.00000000e-01,\n",
       "        5.00000000e-01, 5.00000000e-01, 5.00000000e-01, 5.00000000e-01,\n",
       "        5.00000000e-01, 5.00000000e-01, 5.00000000e-01, 5.00000000e-01,\n",
       "        5.00000000e-01, 5.00000000e-01, 5.00000000e-01, 5.00000000e-01,\n",
       "        5.00000000e-01, 5.00000000e-01, 5.00000000e-01, 5.00000000e-01,\n",
       "        5.00000000e-01, 5.00000000e-01, 5.00000000e-01, 5.00000000e-01,\n",
       "        5.00000000e-01, 5.00000000e-01],\n",
       "       [5.00000000e-01, 0.00000000e+00, 0.00000000e+00, 0.00000000e+00,\n",
       "        0.00000000e+00, 9.45517721e-31, 5.19229106e-22, 1.10619246e-18,\n",
       "        3.51094247e-18, 9.77247202e-19, 3.10956011e-19, 3.93053738e-19,\n",
       "        2.30135564e-18, 3.35701061e-17, 4.35933712e-16, 1.70437630e-15,\n",
       "        8.74427634e-16, 4.15280964e-17, 2.24689500e-19, 2.55169139e-22,\n",
       "        1.13980602e-25, 2.23885790e-29, 7.54311648e-34, 0.00000000e+00,\n",
       "        0.00000000e+00, 0.00000000e+00, 0.00000000e+00, 0.00000000e+00,\n",
       "        0.00000000e+00, 5.00000000e-01],\n",
       "       [5.00000000e-01, 0.00000000e+00, 0.00000000e+00, 0.00000000e+00,\n",
       "        4.15816248e-27, 8.33506228e-17, 4.94830427e-11, 9.74014682e-08,\n",
       "        9.14230714e-06, 1.93242842e-04, 2.07601930e-03, 1.54678291e-02,\n",
       "        7.82714933e-02, 2.24330842e-01, 3.46484989e-01, 3.20633501e-01,\n",
       "        1.69236466e-01, 4.48476784e-02, 6.55321358e-03, 6.00365573e-04,\n",
       "        3.13340679e-05, 6.31984278e-07, 2.45783216e-09, 6.89675042e-13,\n",
       "        4.05281856e-18, 1.00406580e-25, 5.64868478e-37, 0.00000000e+00,\n",
       "        0.00000000e+00, 5.00000000e-01],\n",
       "       [5.00000000e-01, 0.00000000e+00, 0.00000000e+00, 1.07535781e-25,\n",
       "        4.83698029e-14, 7.05106089e-08, 1.89640923e-04, 1.67227741e-02,\n",
       "        1.88523397e-01, 5.26414812e-01, 7.42536843e-01, 8.35411787e-01,\n",
       "        8.73545825e-01, 8.88770878e-01, 8.93439770e-01, 8.91669691e-01,\n",
       "        8.83609533e-01, 8.67021382e-01, 8.35154295e-01, 7.65365064e-01,\n",
       "        5.87795913e-01, 2.32321158e-01, 1.95950586e-02, 2.51567864e-04,\n",
       "        3.65342004e-07, 3.12263652e-11, 2.99771346e-17, 1.08663905e-27,\n",
       "        0.00000000e+00, 5.00000000e-01],\n",
       "       [5.00000000e-01, 0.00000000e+00, 1.23647018e-31, 1.13843930e-14,\n",
       "        5.74969647e-07, 3.11032846e-03, 1.71678156e-01, 5.79974174e-01,\n",
       "        7.28443980e-01, 7.31457889e-01, 6.67623103e-01, 5.67871869e-01,\n",
       "        4.67854291e-01, 4.00258720e-01, 3.77504796e-01, 3.96351159e-01,\n",
       "        4.48479116e-01, 5.25763154e-01, 6.19482279e-01, 7.11543143e-01,\n",
       "        7.71686912e-01, 7.63260663e-01, 5.98510027e-01, 1.85955822e-01,\n",
       "        8.11282080e-03, 4.32210763e-05, 9.55455715e-09, 9.96903463e-16,\n",
       "        6.83779113e-33, 5.00000000e-01],\n",
       "       [5.00000000e-01, 0.00000000e+00, 2.63853349e-21, 1.76695458e-08,\n",
       "        3.26041412e-03, 3.10897708e-01, 7.07512558e-01, 7.36551523e-01,\n",
       "        6.16463482e-01, 4.17338163e-01, 2.39656225e-01, 1.34883493e-01,\n",
       "        8.44327807e-02, 6.19279332e-02, 5.26090264e-02, 4.96030487e-02,\n",
       "        5.06169461e-02, 5.78729250e-02, 8.08291435e-02, 1.45179138e-01,\n",
       "        2.98521668e-01, 5.25442362e-01, 6.73719168e-01, 6.46608472e-01,\n",
       "        3.45869541e-01, 3.06510106e-02, 1.26583283e-04, 7.46130269e-10,\n",
       "        1.29539977e-23, 5.00000000e-01],\n",
       "       [5.00000000e-01, 0.00000000e+00, 8.15641229e-15, 9.49490277e-05,\n",
       "        2.45280996e-01, 7.58044243e-01, 7.41190314e-01, 5.19236028e-01,\n",
       "        2.48467594e-01, 1.02278672e-01, 4.83933948e-02, 2.90791374e-02,\n",
       "        2.12904159e-02, 1.69958938e-02, 1.30560668e-02, 8.91989842e-03,\n",
       "        5.57738589e-03, 3.77173326e-03, 3.58457165e-03, 6.03486365e-03,\n",
       "        1.88860521e-02, 8.59906375e-02, 3.21335882e-01, 6.04284167e-01,\n",
       "        6.69728518e-01, 4.03699368e-01, 1.94334276e-02, 1.88911997e-06,\n",
       "        1.03138818e-17, 5.00000000e-01],\n",
       "       [5.00000000e-01, 4.62584899e-34, 2.53158383e-10, 2.14822907e-02,\n",
       "        7.66961455e-01, 8.05257380e-01, 5.14495611e-01, 1.66062161e-01,\n",
       "        4.52999733e-02, 1.75721496e-02, 1.08673358e-02, 9.72661097e-03,\n",
       "        1.01881493e-02, 9.65099689e-03, 6.63553784e-03, 3.01654520e-03,\n",
       "        1.00773328e-03, 3.38525540e-04, 1.76033864e-04, 2.06732700e-04,\n",
       "        6.34760072e-04, 4.29357216e-03, 4.06605490e-02, 2.63618052e-01,\n",
       "        6.12818718e-01, 6.84460223e-01, 2.55514294e-01, 3.55870579e-04,\n",
       "        2.37011609e-13, 5.00000000e-01],\n",
       "       [5.00000000e-01, 1.14767138e-27, 4.78006825e-07, 3.96894783e-01,\n",
       "        8.84558856e-01, 6.65608823e-01, 1.70857221e-01, 2.51144040e-02,\n",
       "        6.01229491e-03, 3.02562630e-03, 2.99508916e-03, 4.55171242e-03,\n",
       "        7.36148981e-03, 8.56982451e-03, 5.33197261e-03, 1.61402451e-03,\n",
       "        2.86626368e-04, 4.68282560e-05, 1.25484121e-05, 9.09689152e-06,\n",
       "        2.24289124e-05, 1.65750578e-04, 2.42497539e-03, 3.97958606e-02,\n",
       "        3.28268707e-01, 6.99598849e-01, 6.35800421e-01, 1.44972354e-02,\n",
       "        3.17454230e-10, 5.00000000e-01],\n",
       "       [5.00000000e-01, 1.50329272e-22, 1.17809279e-04, 8.16067517e-01,\n",
       "        8.63808453e-01, 3.29793066e-01, 2.62635741e-02, 2.70434981e-03,\n",
       "        7.15274655e-04, 5.23508410e-04, 8.86472350e-04, 2.37533124e-03,\n",
       "        6.06069528e-03, 8.85644183e-03, 5.18060708e-03, 1.11159508e-03,\n",
       "        1.13537004e-04, 9.68412951e-06, 1.37884138e-06, 5.94833466e-07,\n",
       "        1.05166009e-06, 7.10235008e-06, 1.26282364e-04, 3.53214820e-03,\n",
       "        8.58423263e-02, 5.78297734e-01, 8.10773790e-01, 1.60556450e-01,\n",
       "        1.82508249e-08, 5.00000000e-01],\n",
       "       [5.00000000e-01, 1.26962577e-18, 5.58797689e-03, 9.10414577e-01,\n",
       "        7.25863934e-01, 7.46810883e-02, 2.76975357e-03, 2.45712698e-04,\n",
       "        7.54674620e-05, 8.03385119e-05, 2.27383280e-04, 1.04417559e-03,\n",
       "        4.14609583e-03, 7.75158219e-03, 4.54252912e-03, 7.70005514e-04,\n",
       "        5.18105662e-05, 2.63379002e-06, 2.19556611e-07, 5.85744289e-08,\n",
       "        7.22369862e-08, 4.09381016e-07, 7.80265418e-06, 3.13553086e-04,\n",
       "        1.60421189e-02, 3.91021669e-01, 8.74480486e-01, 4.81243432e-01,\n",
       "        3.76205058e-08, 5.00000000e-01],\n",
       "       [5.00000000e-01, 6.29956349e-16, 6.58807606e-02, 9.22384679e-01,\n",
       "        4.44270462e-01, 1.13091897e-02, 2.63702794e-04, 2.02571009e-05,\n",
       "        6.75429010e-06, 9.43962095e-06, 3.98793163e-05, 2.84962909e-04,\n",
       "        1.67341437e-03, 4.06727800e-03, 2.60187080e-03, 4.03878483e-04,\n",
       "        2.15161344e-05, 7.85337988e-07, 4.50138273e-08, 8.35920044e-09,\n",
       "        7.70444064e-09, 3.73261066e-08, 7.39857171e-07, 3.95235402e-05,\n",
       "        3.58372182e-03, 2.45963067e-01, 9.04405594e-01, 6.63027108e-01,\n",
       "        4.06117850e-09, 5.00000000e-01],\n",
       "       [5.00000000e-01, 1.97622256e-14, 2.40219802e-01, 9.12684262e-01,\n",
       "        2.00100869e-01, 1.86739897e-03, 2.83879435e-05, 1.70503654e-06,\n",
       "        5.22760558e-07, 7.83000985e-07, 4.01687612e-06, 3.76607895e-05,\n",
       "        2.96712591e-04, 9.38752666e-04, 7.26005819e-04, 1.23958176e-04,\n",
       "        6.58971658e-06, 2.20408580e-07, 1.09346479e-08, 1.72842385e-09,\n",
       "        1.39989120e-09, 6.47669918e-09, 1.39636427e-07, 9.58949749e-06,\n",
       "        1.35444291e-03, 1.85867563e-01, 9.25560236e-01, 6.83589160e-01,\n",
       "        6.04504155e-11, 5.00000000e-01],\n",
       "       [5.00000000e-01, 5.87284128e-14, 4.02115613e-01, 9.03375328e-01,\n",
       "        9.91723835e-02, 4.71330481e-04, 4.47981347e-06, 1.80690378e-07,\n",
       "        4.04314129e-08, 4.90871734e-08, 2.30218689e-07, 2.23285974e-06,\n",
       "        2.03861509e-05, 8.17577820e-05, 8.44192182e-05, 1.94068161e-05,\n",
       "        1.34590175e-06, 5.54590684e-08, 3.19270610e-09, 5.62026092e-10,\n",
       "        5.01487407e-10, 2.60696398e-09, 6.59823627e-08, 5.65353776e-06,\n",
       "        1.06705574e-03, 2.00031221e-01, 9.42842782e-01, 5.85721552e-01,\n",
       "        4.52816116e-13, 5.00000000e-01],\n",
       "       [5.00000000e-01, 3.12190527e-14, 4.53737348e-01, 9.08643544e-01,\n",
       "        7.64625669e-02, 2.33172104e-04, 1.36662470e-06, 3.22764464e-08,\n",
       "        4.16063584e-09, 3.02688963e-09, 9.43874223e-09, 7.16675856e-08,\n",
       "        6.27608131e-07, 2.98377950e-06, 4.39255473e-06, 1.63454979e-06,\n",
       "        1.93870420e-07, 1.35221532e-08, 1.25022448e-09, 3.30071193e-10,\n",
       "        4.12920032e-10, 2.82900148e-09, 8.90148328e-08, 8.94800451e-06,\n",
       "        1.85153773e-03, 2.98277885e-01, 9.54008281e-01, 3.70483726e-01,\n",
       "        5.39995108e-15, 5.00000000e-01],\n",
       "       [5.00000000e-01, 5.59519726e-15, 3.90141249e-01, 9.25716817e-01,\n",
       "        1.00502215e-01, 2.60706904e-04, 1.01896467e-06, 1.33427882e-08,\n",
       "        8.37299841e-10, 2.83892437e-10, 4.40570108e-10, 1.98515471e-09,\n",
       "        1.34233984e-08, 6.70828229e-08, 1.40452329e-07, 9.51696748e-08,\n",
       "        2.40538984e-08, 3.78000919e-09, 7.60911667e-10, 3.96169320e-10,\n",
       "        8.51866966e-10, 8.57781046e-09, 3.36612487e-07, 3.56079981e-05,\n",
       "        6.37367321e-03, 4.96389776e-01, 9.55675066e-01, 1.30057663e-01,\n",
       "        1.73552683e-16, 5.00000000e-01],\n",
       "       [5.00000000e-01, 5.15553750e-16, 2.24979550e-01, 9.40617800e-01,\n",
       "        1.96831793e-01, 6.60326914e-04, 2.10136409e-06, 1.64594010e-08,\n",
       "        4.84955354e-10, 6.73207462e-11, 4.27774691e-11, 9.12197054e-11,\n",
       "        3.82312043e-10, 1.68622238e-09, 4.56637572e-09, 5.68196024e-09,\n",
       "        3.42912387e-09, 1.47332380e-09, 8.08042022e-10, 1.01163256e-09,\n",
       "        4.24559499e-09, 6.50181562e-08, 2.99829594e-06, 2.87657080e-04,\n",
       "        3.40724327e-02, 7.17017949e-01, 9.40004349e-01, 1.96671486e-02,\n",
       "        1.08123607e-17, 5.00000000e-01],\n",
       "       [5.00000000e-01, 2.72576559e-17, 6.35013282e-02, 9.42246437e-01,\n",
       "        4.13543701e-01, 3.26696481e-03, 1.15316643e-05, 6.70549340e-08,\n",
       "        1.05189724e-09, 6.19167773e-11, 1.52735914e-11, 1.35144743e-11,\n",
       "        2.91071195e-11, 9.21004800e-11, 2.68974731e-10, 5.48132040e-10,\n",
       "        7.70340791e-10, 9.55980295e-10, 1.57171998e-09, 5.14481879e-09,\n",
       "        4.33961844e-08, 9.68305471e-07, 4.69693587e-05, 3.44093470e-03,\n",
       "        1.86161682e-01, 8.49335551e-01, 8.69956911e-01, 1.14801934e-03,\n",
       "        4.69805035e-19, 5.00000000e-01],\n",
       "       [5.00000000e-01, 6.77066563e-19, 6.94335485e-03, 9.15269017e-01,\n",
       "        6.68585598e-01, 2.36847848e-02, 1.35866911e-04, 8.09163055e-07,\n",
       "        8.85187212e-09, 2.69239603e-10, 2.85618890e-11, 1.04074631e-11,\n",
       "        1.02894108e-11, 1.93020322e-11, 4.86233276e-11, 1.31911246e-10,\n",
       "        3.69363373e-10, 1.20217314e-09, 5.59984770e-09, 4.55544331e-08,\n",
       "        7.16178363e-07, 2.07886605e-05, 9.13524593e-04, 4.13236022e-02,\n",
       "        5.56081295e-01, 8.91860425e-01, 5.81126750e-01, 2.20257953e-05,\n",
       "        3.98350029e-21, 5.00000000e-01],\n",
       "       [5.00000000e-01, 4.98205915e-21, 2.73959507e-04, 7.89873838e-01,\n",
       "        8.10857356e-01, 1.58933505e-01, 2.39741267e-03, 2.10724738e-05,\n",
       "        2.29509297e-07, 4.94590280e-09, 2.85431151e-10, 4.84245248e-11,\n",
       "        2.19499679e-11, 2.18095386e-11, 3.90814187e-11, 1.11806939e-10,\n",
       "        4.91825303e-10, 3.36839623e-09, 3.64864903e-08, 6.14992132e-07,\n",
       "        1.50997294e-05, 4.76511108e-04, 1.55677218e-02, 2.83098191e-01,\n",
       "        8.04610789e-01, 8.54321897e-01, 9.97166410e-02, 1.09212714e-07,\n",
       "        2.22937811e-24, 5.00000000e-01],\n",
       "       [5.00000000e-01, 5.53712080e-24, 3.41189684e-06, 3.64166021e-01,\n",
       "        8.36443901e-01, 5.16512573e-01, 3.97327282e-02, 7.49164377e-04,\n",
       "        1.17607515e-05, 2.58698179e-07, 1.11605916e-08, 1.11275977e-09,\n",
       "        2.62053768e-10, 1.39418546e-10, 1.61488836e-10, 4.04951239e-10,\n",
       "        2.18002882e-09, 2.35903173e-08, 4.41857708e-07, 1.16033143e-05,\n",
       "        3.41906009e-04, 9.14749317e-03, 1.55598789e-01, 6.61683500e-01,\n",
       "        8.54874671e-01, 5.96728802e-01, 2.57913349e-03, 1.08061109e-10,\n",
       "        4.28555614e-29, 5.00000000e-01],\n",
       "       [5.00000000e-01, 4.00350352e-28, 1.01859747e-08, 2.98364740e-02,\n",
       "        7.22425520e-01, 7.54614830e-01, 3.10716808e-01, 2.17405632e-02,\n",
       "        6.95184106e-04, 2.21968694e-05, 1.00881221e-06, 7.99116364e-08,\n",
       "        1.23275221e-08, 4.03458866e-09, 3.10554560e-09, 6.22399687e-09,\n",
       "        3.33959136e-08, 4.26379188e-07, 9.84265534e-06, 2.85385671e-04,\n",
       "        7.27192499e-03, 1.12244129e-01, 5.37575424e-01, 8.02475393e-01,\n",
       "        7.34715044e-01, 9.01176035e-02, 1.33863969e-05, 1.68453356e-14,\n",
       "        2.34203948e-35, 5.00000000e-01],\n",
       "       [5.00000000e-01, 7.32963753e-34, 4.64444889e-12, 4.21689241e-04,\n",
       "        2.93482006e-01, 7.63115227e-01, 6.78836942e-01, 2.59961724e-01,\n",
       "        2.78094970e-02, 1.79333263e-03, 1.19158154e-04, 1.03623152e-05,\n",
       "        1.40251586e-06, 3.54347208e-07, 2.05443584e-07, 3.27289712e-07,\n",
       "        1.51521749e-06, 1.75519672e-05, 3.56298813e-04, 7.89247733e-03,\n",
       "        1.11549973e-01, 5.01862884e-01, 7.60704637e-01, 7.34839201e-01,\n",
       "        2.48665988e-01, 1.35706598e-03, 1.19556534e-08, 3.35777581e-19,\n",
       "        0.00000000e+00, 5.00000000e-01],\n",
       "       [5.00000000e-01, 0.00000000e+00, 1.72368346e-16, 9.16533679e-07,\n",
       "        1.37692764e-02, 4.60667223e-01, 7.48287976e-01, 6.68534994e-01,\n",
       "        3.49296898e-01, 7.97846019e-02, 1.11973686e-02, 1.47956877e-03,\n",
       "        2.38638851e-04, 6.01668180e-05, 3.09655406e-05, 4.05924839e-05,\n",
       "        1.45185142e-04, 1.19944732e-03, 1.52388727e-02, 1.56233311e-01,\n",
       "        5.57443619e-01, 7.71358609e-01, 7.28873491e-01, 3.05681705e-01,\n",
       "        7.11678388e-03, 2.75518573e-06, 1.31885952e-12, 6.10995845e-25,\n",
       "        0.00000000e+00, 5.00000000e-01],\n",
       "       [5.00000000e-01, 0.00000000e+00, 2.62030689e-22, 1.70995537e-10,\n",
       "        5.84094560e-05, 3.48217599e-02, 4.50480789e-01, 7.36744881e-01,\n",
       "        7.54477501e-01, 6.24767303e-01, 3.65274370e-01, 1.33870810e-01,\n",
       "        3.83714624e-02, 1.26694525e-02, 6.76744571e-03, 7.43379211e-03,\n",
       "        1.78962871e-02, 7.67366514e-02, 3.24560493e-01, 6.77567840e-01,\n",
       "        8.08513165e-01, 7.25945115e-01, 2.77102530e-01, 8.61080457e-03,\n",
       "        1.46645889e-05, 4.13802326e-10, 8.15948079e-18, 3.90923312e-32,\n",
       "        0.00000000e+00, 5.00000000e-01],\n",
       "       [5.00000000e-01, 0.00000000e+00, 1.08822249e-29, 1.53714648e-15,\n",
       "        1.65638649e-08, 1.30650020e-04, 2.30700616e-02, 3.31976652e-01,\n",
       "        7.40232885e-01, 8.72577071e-01, 8.95742238e-01, 8.68178487e-01,\n",
       "        7.87337124e-01, 6.58356249e-01, 5.44323683e-01, 5.17534137e-01,\n",
       "        5.95432758e-01, 7.27035224e-01, 8.18933904e-01, 8.20325077e-01,\n",
       "        6.33354306e-01, 1.42426893e-01, 2.89468397e-03, 6.05374271e-06,\n",
       "        6.96035174e-10, 9.01063591e-16, 3.84640886e-25, 0.00000000e+00,\n",
       "        0.00000000e+00, 5.00000000e-01],\n",
       "       [5.00000000e-01, 0.00000000e+00, 2.07969129e-38, 5.80177383e-22,\n",
       "        1.96735152e-13, 1.87479579e-08, 2.50780013e-05, 3.13993171e-03,\n",
       "        9.03665870e-02, 5.53671539e-01, 8.79698992e-01, 9.56651390e-01,\n",
       "        9.74008024e-01, 9.76265907e-01, 9.71527994e-01, 9.60060656e-01,\n",
       "        9.36189890e-01, 8.74269485e-01, 6.69030249e-01, 2.06338897e-01,\n",
       "        1.01243220e-02, 8.42877052e-05, 9.74720891e-08, 9.42809372e-12,\n",
       "        3.18618391e-17, 6.31592067e-25, 1.25386572e-36, 0.00000000e+00,\n",
       "        0.00000000e+00, 5.00000000e-01],\n",
       "       [5.00000000e-01, 0.00000000e+00, 0.00000000e+00, 2.91957588e-29,\n",
       "        1.21084262e-19, 4.86820870e-14, 1.56589325e-10, 4.02939193e-08,\n",
       "        2.87541775e-06, 1.01088001e-04, 2.07325816e-03, 2.37951931e-02,\n",
       "        1.31088033e-01, 3.14454496e-01, 3.92899662e-01, 2.84939408e-01,\n",
       "        8.99072364e-02, 8.85248743e-03, 2.62463174e-04, 2.15976229e-06,\n",
       "        3.94216482e-09, 1.10605871e-12, 2.80290878e-17, 3.07695133e-23,\n",
       "        4.72579245e-31, 0.00000000e+00, 0.00000000e+00, 0.00000000e+00,\n",
       "        0.00000000e+00, 5.00000000e-01],\n",
       "       [5.00000000e-01, 0.00000000e+00, 0.00000000e+00, 1.66415375e-35,\n",
       "        4.76635922e-26, 1.89257854e-21, 1.88443970e-19, 1.07932336e-18,\n",
       "        2.44257667e-18, 6.39107617e-18, 2.96807194e-17, 2.36099846e-16,\n",
       "        2.33146454e-15, 1.81981420e-14, 6.97769750e-14, 8.34947481e-14,\n",
       "        2.06236734e-14, 7.44569860e-16, 3.06566473e-18, 1.20609315e-21,\n",
       "        3.63149468e-26, 5.49438520e-32, 0.00000000e+00, 0.00000000e+00,\n",
       "        0.00000000e+00, 0.00000000e+00, 0.00000000e+00, 0.00000000e+00,\n",
       "        0.00000000e+00, 5.00000000e-01],\n",
       "       [5.00000000e-01, 5.00000000e-01, 5.00000000e-01, 5.00000000e-01,\n",
       "        5.00000000e-01, 5.00000000e-01, 5.00000000e-01, 5.00000000e-01,\n",
       "        5.00000000e-01, 5.00000000e-01, 5.00000000e-01, 5.00000000e-01,\n",
       "        5.00000000e-01, 5.00000000e-01, 5.00000000e-01, 5.00000000e-01,\n",
       "        5.00000000e-01, 5.00000000e-01, 5.00000000e-01, 5.00000000e-01,\n",
       "        5.00000000e-01, 5.00000000e-01, 5.00000000e-01, 5.00000000e-01,\n",
       "        5.00000000e-01, 5.00000000e-01, 5.00000000e-01, 5.00000000e-01,\n",
       "        5.00000000e-01, 5.00000000e-01]])"
      ]
     },
     "execution_count": 36,
     "metadata": {},
     "output_type": "execute_result"
    },
    {
     "data": {
      "image/png": "[encoded data removed]",
      "text/plain": [
       "<Figure size 288x288 with 1 Axes>"
      ]
     },
     "metadata": {
      "needs_background": "light"
     },
     "output_type": "display_data"
    },
    {
     "data": {
      "image/png": "[encoded data removed]",
      "text/plain": [
       "<Figure size 288x288 with 1 Axes>"
      ]
     },
     "metadata": {
      "needs_background": "light"
     },
     "output_type": "display_data"
    },
    {
     "data": {
      "image/png": "[encoded data removed]",
      "text/plain": [
       "<Figure size 288x288 with 1 Axes>"
      ]
     },
     "metadata": {
      "needs_background": "light"
     },
     "output_type": "display_data"
    },
    {
     "data": {
      "image/png": "[encoded data removed]",
      "text/plain": [
       "<Figure size 288x288 with 1 Axes>"
      ]
     },
     "metadata": {
      "needs_background": "light"
     },
     "output_type": "display_data"
    },
    {
     "data": {
      "image/png": "[encoded data removed]",
      "text/plain": [
       "<Figure size 288x288 with 1 Axes>"
      ]
     },
     "metadata": {
      "needs_background": "light"
     },
     "output_type": "display_data"
    },
    {
     "data": {
      "image/png": "[encoded data removed]",
      "text/plain": [
       "<Figure size 288x288 with 1 Axes>"
      ]
     },
     "metadata": {
      "needs_background": "light"
     },
     "output_type": "display_data"
    },
    {
     "data": {
      "image/png": "[encoded data removed]",
      "text/plain": [
       "<Figure size 288x288 with 1 Axes>"
      ]
     },
     "metadata": {
      "needs_background": "light"
     },
     "output_type": "display_data"
    },
    {
     "data": {
      "image/png": "[encoded data removed]",
      "text/plain": [
       "<Figure size 288x288 with 1 Axes>"
      ]
     },
     "metadata": {
      "needs_background": "light"
     },
     "output_type": "display_data"
    },
    {
     "data": {
      "image/png": "[encoded data removed]",
      "text/plain": [
       "<Figure size 288x288 with 1 Axes>"
      ]
     },
     "metadata": {
      "needs_background": "light"
     },
     "output_type": "display_data"
    },
    {
     "data": {
      "image/png": "[encoded data removed]",
      "text/plain": [
       "<Figure size 288x288 with 1 Axes>"
      ]
     },
     "metadata": {
      "needs_background": "light"
     },
     "output_type": "display_data"
    }
   ],
   "source": [
    "print(\"reconstructing images...\")\n",
    "test_model.xrecons_grid(int(index), data)"
   ]
  },
  {
   "cell_type": "code",
   "execution_count": null,
   "metadata": {},
   "outputs": [],
   "source": []
  },
  {
   "cell_type": "code",
   "execution_count": null,
   "metadata": {},
   "outputs": [],
   "source": []
  }
 ],
 "metadata": {
  "kernelspec": {
   "display_name": "Python 3",
   "language": "python",
   "name": "python3"
  },
  "language_info": {
   "codemirror_mode": {
    "name": "ipython",
    "version": 3
   },
   "file_extension": ".py",
   "mimetype": "text/x-python",
   "name": "python",
   "nbconvert_exporter": "python",
   "pygments_lexer": "ipython3",
   "version": "3.7.7"
  }
 },
 "nbformat": 4,
 "nbformat_minor": 4
}
