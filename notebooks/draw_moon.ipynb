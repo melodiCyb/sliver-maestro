{
 "cells": [
  {
   "cell_type": "code",
   "execution_count": 1,
   "metadata": {},
   "outputs": [],
   "source": [
    "import csv\n",
    "import ndjson\n",
    "import os\n",
    "import sys"
   ]
  },
  {
   "cell_type": "code",
   "execution_count": 2,
   "metadata": {},
   "outputs": [
    {
     "name": "stdout",
     "output_type": "stream",
     "text": [
      "root_path: C:\\Users\\ozgur\\Desktop\\sandbox\\sliver-maestro\n"
     ]
    }
   ],
   "source": [
    "base_path = os.getcwd().split('sliver-maestro')[0]\n",
    "root_path = os.path.join(base_path, \"sliver-maestro\")\n",
    "print(\"root_path: {}\".format(root_path))"
   ]
  },
  {
   "cell_type": "code",
   "execution_count": 3,
   "metadata": {},
   "outputs": [],
   "source": [
    "sys.path.insert(1, root_path)\n",
    "from src.utils.model_utils import *\n",
    "from src.draw_model import *\n",
    "from src.generate_images import *"
   ]
  },
  {
   "cell_type": "code",
   "execution_count": 4,
   "metadata": {},
   "outputs": [],
   "source": [
    "categories_file = os.path.join(root_path, \"src\", \"data\", \"categories.csv\")"
   ]
  },
  {
   "cell_type": "code",
   "execution_count": 5,
   "metadata": {},
   "outputs": [],
   "source": [
    "with open(categories_file, newline='') as f:\n",
    "    reader = csv.reader(f)\n",
    "    categories = {rows[0]:rows[0] for rows in reader}"
   ]
  },
  {
   "cell_type": "markdown",
   "metadata": {},
   "source": [
    "#### Select a category to download images from "
   ]
  },
  {
   "cell_type": "code",
   "execution_count": 6,
   "metadata": {},
   "outputs": [
    {
     "name": "stdout",
     "output_type": "stream",
     "text": [
      "Number of categories: 345\n"
     ]
    }
   ],
   "source": [
    "print('Number of categories: %d' % len(categories))"
   ]
  },
  {
   "cell_type": "code",
   "execution_count": 7,
   "metadata": {},
   "outputs": [
    {
     "data": {
      "text/plain": [
       "['aircraft carrier',\n",
       " 'airplane',\n",
       " 'alarm clock',\n",
       " 'ambulance',\n",
       " 'angel',\n",
       " 'animal migration',\n",
       " 'ant',\n",
       " 'anvil',\n",
       " 'apple',\n",
       " 'arm']"
      ]
     },
     "execution_count": 7,
     "metadata": {},
     "output_type": "execute_result"
    }
   ],
   "source": [
    "list(categories.keys())[:10]"
   ]
  },
  {
   "cell_type": "code",
   "execution_count": 8,
   "metadata": {},
   "outputs": [
    {
     "name": "stdout",
     "output_type": "stream",
     "text": [
      "Selected category from the list above: moon\n"
     ]
    }
   ],
   "source": [
    "category = input(\"Selected category from the list above: \") or 'cat'\n",
    "# Checking to see if the entered category is in the categories dictionary\n",
    "assert categories.get(category)"
   ]
  },
  {
   "cell_type": "code",
   "execution_count": 9,
   "metadata": {},
   "outputs": [
    {
     "name": "stdout",
     "output_type": "stream",
     "text": [
      "Creating directories to save images, weights and the model ...\n",
      "folders are created...\n"
     ]
    }
   ],
   "source": [
    "print(\"Creating directories to save images, weights and the model ...\")\n",
    "src_list, dst_list, paths_dict = create_folders(root_path, category)"
   ]
  },
  {
   "cell_type": "code",
   "execution_count": 10,
   "metadata": {},
   "outputs": [
    {
     "name": "stdout",
     "output_type": "stream",
     "text": [
      "Select a download method ... \n",
      " 1. Use Google Cloud credentials stored in a json file \n",
      " 2. Use gsutil in the notebook \n",
      " 3. Use gsutil in the terminal \n",
      "2\n"
     ]
    }
   ],
   "source": [
    "option = input(\"Select a download method ... \\n 1. Use Google Cloud credentials stored in a json file \\n 2. Use gsutil in the notebook \\n 3. Use gsutil in the terminal \\n\")"
   ]
  },
  {
   "cell_type": "code",
   "execution_count": 11,
   "metadata": {},
   "outputs": [
    {
     "name": "stdout",
     "output_type": "stream",
     "text": [
      "gs://quickdraw_dataset/full/numpy_bitmap/moon.npy C:\\Users\\ozgur\\Desktop\\sandbox\\sliver-maestro\\src\\data\\input\\moon\\moon.npy\n",
      "gs://quickdraw_dataset/full/raw/moon.ndjson C:\\Users\\ozgur\\Desktop\\sandbox\\sliver-maestro\\src\\data\\raw\\moon\\moon.ndjson\n"
     ]
    },
    {
     "name": "stderr",
     "output_type": "stream",
     "text": [
      "Copying gs://quickdraw_dataset/full/numpy_bitmap/moon.npy...\n",
      "/ [0/1 files][    0.0 B/ 91.0 MiB]   0% Done                                    \n",
      "/ [0/1 files][264.0 KiB/ 91.0 MiB]   0% Done                                    \n",
      "-\n",
      "\\\n",
      "\\ [0/1 files][  8.2 MiB/ 91.0 MiB]   9% Done                                    \n",
      "|\n",
      "/\n",
      "/ [0/1 files][ 16.8 MiB/ 91.0 MiB]  18% Done                                    \n",
      "-\n",
      "- [0/1 files][ 27.6 MiB/ 91.0 MiB]  30% Done                                    \n",
      "\\\n",
      "|\n",
      "| [0/1 files][ 38.4 MiB/ 91.0 MiB]  42% Done                                    \n",
      "/\n",
      "-\n",
      "- [0/1 files][ 48.2 MiB/ 91.0 MiB]  53% Done                                    \n",
      "\\\n",
      "|\n",
      "| [0/1 files][ 57.8 MiB/ 91.0 MiB]  63% Done                                    \n",
      "/\n",
      "/ [0/1 files][ 64.2 MiB/ 91.0 MiB]  70% Done                                    \n",
      "-\n",
      "\\\n",
      "\\ [0/1 files][ 72.2 MiB/ 91.0 MiB]  79% Done                                    \n",
      "|\n",
      "/\n",
      "/ [0/1 files][ 79.4 MiB/ 91.0 MiB]  87% Done   6.8 MiB/s ETA 00:00:02           \n",
      "-\n",
      "- [0/1 files][ 87.9 MiB/ 91.0 MiB]  96% Done   7.4 MiB/s ETA 00:00:00           \n",
      "\\\n",
      "\\ [1/1 files][ 91.0 MiB/ 91.0 MiB] 100% Done   7.4 MiB/s ETA 00:00:00           \n",
      "\n",
      "Operation completed over 1 objects/91.0 MiB.                                     \n",
      "Copying gs://quickdraw_dataset/full/raw/moon.ndjson...\n",
      "/ [0/1 files][    0.0 B/315.6 MiB]   0% Done                                    \n",
      "/ [0/1 files][    0.0 B/315.6 MiB]   0% Done                                    \n",
      "-\n",
      "\\\n",
      "\\ [0/1 files][  1.3 MiB/315.6 MiB]   0% Done                                    \n",
      "|\n",
      "| [0/1 files][  9.8 MiB/315.6 MiB]   3% Done                                    \n",
      "/\n",
      "-\n",
      "- [0/1 files][ 18.6 MiB/315.6 MiB]   5% Done                                    \n",
      "\\\n",
      "|\n",
      "| [0/1 files][ 26.6 MiB/315.6 MiB]   8% Done                                    \n",
      "/\n",
      "/ [0/1 files][ 34.3 MiB/315.6 MiB]  10% Done                                    \n",
      "-\n",
      "\\\n",
      "\\ [0/1 files][ 43.0 MiB/315.6 MiB]  13% Done                                    \n",
      "|\n",
      "/\n",
      "/ [0/1 files][ 52.8 MiB/315.6 MiB]  16% Done                                    \n",
      "-\n",
      "- [0/1 files][ 61.4 MiB/315.6 MiB]  19% Done   8.4 MiB/s ETA 00:00:30           \n",
      "\\\n",
      "|\n",
      "| [0/1 files][ 70.9 MiB/315.6 MiB]  22% Done   8.7 MiB/s ETA 00:00:28           \n",
      "/\n",
      "-\n",
      "- [0/1 files][ 80.7 MiB/315.6 MiB]  25% Done   9.1 MiB/s ETA 00:00:26           \n",
      "\\\n",
      "\\ [0/1 files][ 87.4 MiB/315.6 MiB]  27% Done   8.6 MiB/s ETA 00:00:26           \n",
      "|\n",
      "/\n",
      "/ [0/1 files][ 95.9 MiB/315.6 MiB]  30% Done   8.4 MiB/s ETA 00:00:26           \n",
      "-\n",
      "- [0/1 files][106.2 MiB/315.6 MiB]  33% Done   8.7 MiB/s ETA 00:00:24           \n",
      "\\\n",
      "|\n",
      "| [0/1 files][115.5 MiB/315.6 MiB]  36% Done   8.7 MiB/s ETA 00:00:23           \n",
      "/\n",
      "-\n",
      "- [0/1 files][124.5 MiB/315.6 MiB]  39% Done   8.5 MiB/s ETA 00:00:22           \n",
      "\\\n",
      "\\ [0/1 files][133.8 MiB/315.6 MiB]  42% Done   9.2 MiB/s ETA 00:00:20           \n",
      "|\n",
      "/\n",
      "/ [0/1 files][142.8 MiB/315.6 MiB]  45% Done   9.2 MiB/s ETA 00:00:19           \n",
      "-\n",
      "\\\n",
      "\\ [0/1 files][151.6 MiB/315.6 MiB]  48% Done   8.9 MiB/s ETA 00:00:18           \n",
      "|\n",
      "| [0/1 files][159.8 MiB/315.6 MiB]  50% Done   8.7 MiB/s ETA 00:00:18           \n",
      "/\n",
      "-\n",
      "- [0/1 files][168.4 MiB/315.6 MiB]  53% Done   8.6 MiB/s ETA 00:00:17           \n",
      "\\\n",
      "\\ [0/1 files][175.8 MiB/315.6 MiB]  55% Done   8.3 MiB/s ETA 00:00:17           \n",
      "|\n",
      "/\n",
      "/ [0/1 files][184.6 MiB/315.6 MiB]  58% Done   8.2 MiB/s ETA 00:00:16           \n",
      "-\n",
      "\\\n",
      "\\ [0/1 files][193.6 MiB/315.6 MiB]  61% Done   8.3 MiB/s ETA 00:00:15           \n",
      "|\n",
      "| [0/1 files][200.1 MiB/315.6 MiB]  63% Done   7.9 MiB/s ETA 00:00:15           \n",
      "/\n",
      "-\n",
      "- [0/1 files][209.3 MiB/315.6 MiB]  66% Done   8.0 MiB/s ETA 00:00:13           \n",
      "\\\n",
      "|\n",
      "| [0/1 files][219.1 MiB/315.6 MiB]  69% Done   8.5 MiB/s ETA 00:00:11           \n",
      "/\n",
      "/ [0/1 files][228.7 MiB/315.6 MiB]  72% Done   8.7 MiB/s ETA 00:00:10           \n",
      "-\n",
      "\\\n",
      "\\ [0/1 files][237.7 MiB/315.6 MiB]  75% Done   8.8 MiB/s ETA 00:00:09           \n",
      "|\n",
      "/\n",
      "/ [0/1 files][246.2 MiB/315.6 MiB]  78% Done   9.1 MiB/s ETA 00:00:08           \n",
      "-\n",
      "- [0/1 files][253.2 MiB/315.6 MiB]  80% Done   8.6 MiB/s ETA 00:00:07           \n",
      "\\\n",
      "|\n",
      "| [0/1 files][259.6 MiB/315.6 MiB]  82% Done   8.0 MiB/s ETA 00:00:07           \n",
      "/\n",
      "-\n",
      "- [0/1 files][268.7 MiB/315.6 MiB]  85% Done   7.9 MiB/s ETA 00:00:06           \n",
      "\\\n",
      "\\ [0/1 files][278.0 MiB/315.6 MiB]  88% Done   8.0 MiB/s ETA 00:00:05           \n",
      "|\n",
      "/\n",
      "/ [0/1 files][287.5 MiB/315.6 MiB]  91% Done   8.1 MiB/s ETA 00:00:03           \n",
      "-\n",
      "- [0/1 files][296.5 MiB/315.6 MiB]  93% Done   8.6 MiB/s ETA 00:00:02           \n",
      "\\\n",
      "|\n",
      "| [0/1 files][306.6 MiB/315.6 MiB]  97% Done   9.3 MiB/s ETA 00:00:01           \n",
      "/\n",
      "-\n",
      "- [0/1 files][315.6 MiB/315.6 MiB]  99% Done   9.1 MiB/s ETA 00:00:00           \n",
      "- [1/1 files][315.6 MiB/315.6 MiB] 100% Done   9.1 MiB/s ETA 00:00:00           \n",
      "\n",
      "Operation completed over 1 objects/315.6 MiB.                                    \n"
     ]
    }
   ],
   "source": [
    "if option == \"1\":\n",
    "    download_data(src_list, dst_list)\n",
    "elif option == \"2\":\n",
    "    for (src_file, dst_file) in zip(src_list, dst_list): \n",
    "        print('gs://quickdraw_dataset/' + src_file, dst_file)\n",
    "        !gsutil -m cp {'gs://quickdraw_dataset/' + src_file} {dst_file}\n",
    "elif option == \"3\":\n",
    "    print('Type the following in the terminal to download the files manually:')\n",
    "    for (src_file, dst_file) in zip(src_list, dst_list):\n",
    "        print(\"gsutil -m cp \" + \"gs://quickdraw_dataset/\" + \"{}\".format(src_file) + \" \" + \"{}\".format(dst_file))"
   ]
  },
  {
   "cell_type": "code",
   "execution_count": 12,
   "metadata": {},
   "outputs": [],
   "source": [
    "model_path = os.path.join(paths_dict['input_path'], category, category)"
   ]
  },
  {
   "cell_type": "code",
   "execution_count": 13,
   "metadata": {},
   "outputs": [],
   "source": [
    "npy_data = np.load(paths_dict['base_input'] + '.npy', allow_pickle=True)"
   ]
  },
  {
   "cell_type": "code",
   "execution_count": 14,
   "metadata": {},
   "outputs": [],
   "source": [
    "# load from file-like objects\n",
    "with open(paths_dict['base_raw'] + '.ndjson') as f:\n",
    "    ndjson_data = ndjson.load(f)"
   ]
  },
  {
   "cell_type": "code",
   "execution_count": 15,
   "metadata": {},
   "outputs": [],
   "source": [
    "def plot_bitmap():\n",
    "    print(\"Bitmap image:\")\n",
    "    plt.imshow(npy_data[int(index)].reshape(28,28))"
   ]
  },
  {
   "cell_type": "code",
   "execution_count": 16,
   "metadata": {},
   "outputs": [],
   "source": [
    "def plot_raw():\n",
    "    print(\"Raw image:\")\n",
    "    i = 0\n",
    "    for stroke in ndjson_data[int(index)]['drawing']:\n",
    "        stroke = np.array(stroke)\n",
    "        plt.plot(stroke[0], stroke[1]*-1)\n",
    "        i += 1\n",
    "    print('There are', i, 'number of strokes in this raw image file!')"
   ]
  },
  {
   "cell_type": "code",
   "execution_count": 29,
   "metadata": {},
   "outputs": [
    {
     "name": "stdout",
     "output_type": "stream",
     "text": [
      "There are  121662  images in selected category moon\n",
      "Select an index value from 0 to 121661 to display and compare bitmap and raw images:\n",
      "Bitmap image:\n"
     ]
    },
    {
     "data": {
      "image/png": "[encoded data removed]",
      "text/plain": [
       "<Figure size 432x288 with 1 Axes>"
      ]
     },
     "metadata": {
      "needs_background": "light"
     },
     "output_type": "display_data"
    },
    {
     "name": "stdout",
     "output_type": "stream",
     "text": [
      "Raw image:\n",
      "There are 1 number of strokes in this raw image file!\n"
     ]
    },
    {
     "data": {
      "image/png": "[encoded data removed]",
      "text/plain": [
       "<Figure size 432x288 with 1 Axes>"
      ]
     },
     "metadata": {
      "needs_background": "light"
     },
     "output_type": "display_data"
    }
   ],
   "source": [
    "print('There are ', len(npy_data)+1, ' images in selected category', categories[category])\n",
    "print(\"Select an index value from 0 to\", len(npy_data), \"to display and compare bitmap and raw images:\")\n",
    "#index=input()\n",
    "index = '0'\n",
    "plot_bitmap()\n",
    "plt.show()\n",
    "plot_raw()"
   ]
  },
  {
   "cell_type": "code",
   "execution_count": 18,
   "metadata": {},
   "outputs": [],
   "source": [
    "# TRAIN TEST SPLIT\n",
    "filepath = paths_dict['input_path']\n",
    "x_train, x_test, y_train, y_test = split_data(filepath, categories[category], shuffle=False)"
   ]
  },
  {
   "cell_type": "code",
   "execution_count": 19,
   "metadata": {},
   "outputs": [
    {
     "data": {
      "text/plain": [
       "DRAW(\n",
       "  (encoder): LSTMCell(306, 256)\n",
       "  (mu_linear): Linear(in_features=256, out_features=10, bias=True)\n",
       "  (sigma_linear): Linear(in_features=256, out_features=10, bias=True)\n",
       "  (decoder): LSTMCell(10, 256)\n",
       "  (dec_linear): Linear(in_features=256, out_features=5, bias=True)\n",
       "  (dec_w_linear): Linear(in_features=256, out_features=25, bias=True)\n",
       "  (sigmoid): Sigmoid()\n",
       ")"
      ]
     },
     "execution_count": 19,
     "metadata": {},
     "output_type": "execute_result"
    }
   ],
   "source": [
    "DRAW(model_path, category)"
   ]
  },
  {
   "cell_type": "code",
   "execution_count": 20,
   "metadata": {},
   "outputs": [],
   "source": [
    "train_data = Dataset(x_train)\n",
    "test_data = Dataset(x_test)"
   ]
  },
  {
   "cell_type": "code",
   "execution_count": 21,
   "metadata": {},
   "outputs": [],
   "source": [
    "model = DRAW(category)"
   ]
  },
  {
   "cell_type": "code",
   "execution_count": 22,
   "metadata": {},
   "outputs": [
    {
     "name": "stdout",
     "output_type": "stream",
     "text": [
      "training...\n"
     ]
    },
    {
     "name": "stderr",
     "output_type": "stream",
     "text": [
      "C:\\Users\\ozgur\\Desktop\\sandbox\\sliver-maestro\\src\\draw_model.py:211: UserWarning: torch.nn.utils.clip_grad_norm is now deprecated in favor of torch.nn.utils.clip_grad_norm_.\n",
      "  torch.nn.utils.clip_grad_norm(self.parameters(), self.clip)\n"
     ]
    },
    {
     "name": "stdout",
     "output_type": "stream",
     "text": [
      "Phase: train | Epoch: 0 | Count: 100 \\ Start Time: 03:17:33 | Loss: 222\n",
      "Phase: train | Epoch: 0 | Count: 200 \\ Start Time: 03:18:35 | Loss: 191\n",
      "Phase: train | Epoch: 0 | Count: 300 \\ Start Time: 03:19:38 | Loss: 186\n",
      "Phase: train | Epoch: 0 | Count: 400 \\ Start Time: 03:20:42 | Loss: 184\n",
      "Phase: train | Epoch: 0 | Count: 500 \\ Start Time: 03:21:49 | Loss: 181\n",
      "Phase: train | Epoch: 0 | Count: 600 \\ Start Time: 03:23:02 | Loss: 173\n",
      "Phase: train | Epoch: 0 | Count: 700 \\ Start Time: 03:24:17 | Loss: 163\n",
      "Phase: train | Epoch: 0 | Count: 800 \\ Start Time: 03:25:28 | Loss: 153\n",
      "Phase: train | Epoch: 0 | Count: 900 \\ Start Time: 03:26:29 | Loss: 150\n",
      "Phase: train | Epoch: 0 | Count: 1000 \\ Start Time: 03:27:31 | Loss: 144\n",
      "Phase: train | Epoch: 0 | Count: 1100 \\ Start Time: 03:28:37 | Loss: 140\n",
      "Phase: train | Epoch: 0 | Count: 1200 \\ Start Time: 03:29:39 | Loss: 136\n",
      "Phase: train | Epoch: 0 | Count: 1300 \\ Start Time: 03:30:40 | Loss: 137\n",
      "Phase: train | Epoch: 0 | Count: 1400 \\ Start Time: 03:31:42 | Loss: 132\n",
      "Phase: train | Epoch: 0 | Count: 1500 \\ Start Time: 03:32:45 | Loss: 129\n",
      "Phase: train | Epoch: 1 | Count: 1600 \\ Start Time: 03:33:46 | Loss: 129\n",
      "Phase: train | Epoch: 1 | Count: 1700 \\ Start Time: 03:34:48 | Loss: 129\n",
      "Phase: train | Epoch: 1 | Count: 1800 \\ Start Time: 03:35:53 | Loss: 124\n",
      "Phase: train | Epoch: 1 | Count: 1900 \\ Start Time: 03:36:57 | Loss: 125\n",
      "Phase: train | Epoch: 1 | Count: 2000 \\ Start Time: 03:38:00 | Loss: 121\n",
      "Phase: train | Epoch: 1 | Count: 2100 \\ Start Time: 03:39:02 | Loss: 117\n",
      "Phase: train | Epoch: 1 | Count: 2200 \\ Start Time: 03:40:04 | Loss: 116\n",
      "Phase: train | Epoch: 1 | Count: 2300 \\ Start Time: 03:41:07 | Loss: 115\n",
      "Phase: train | Epoch: 1 | Count: 2400 \\ Start Time: 03:42:09 | Loss: 113\n",
      "Phase: train | Epoch: 1 | Count: 2500 \\ Start Time: 03:43:12 | Loss: 110\n",
      "Phase: train | Epoch: 1 | Count: 2600 \\ Start Time: 03:44:15 | Loss: 110\n",
      "Phase: train | Epoch: 1 | Count: 2700 \\ Start Time: 03:45:17 | Loss: 108\n",
      "Phase: train | Epoch: 1 | Count: 2800 \\ Start Time: 03:46:19 | Loss: 108\n",
      "Phase: train | Epoch: 1 | Count: 2900 \\ Start Time: 03:47:21 | Loss: 107\n",
      "Phase: train | Epoch: 1 | Count: 3000 \\ Start Time: 03:48:24 | Loss: 103\n",
      "Phase: train | Epoch: 2 | Count: 3100 \\ Start Time: 03:49:26 | Loss: 102\n",
      "Phase: train | Epoch: 2 | Count: 3200 \\ Start Time: 03:50:32 | Loss: 102\n",
      "Phase: train | Epoch: 2 | Count: 3300 \\ Start Time: 03:51:34 | Loss: 98\n",
      "Phase: train | Epoch: 2 | Count: 3400 \\ Start Time: 03:52:36 | Loss: 98\n",
      "Phase: train | Epoch: 2 | Count: 3500 \\ Start Time: 03:53:38 | Loss: 98\n",
      "Phase: train | Epoch: 2 | Count: 3600 \\ Start Time: 03:54:41 | Loss: 95\n",
      "Phase: train | Epoch: 2 | Count: 3700 \\ Start Time: 03:55:44 | Loss: 94\n",
      "Phase: train | Epoch: 2 | Count: 3800 \\ Start Time: 03:56:46 | Loss: 95\n",
      "Phase: train | Epoch: 2 | Count: 3900 \\ Start Time: 03:57:48 | Loss: 90\n",
      "Phase: train | Epoch: 2 | Count: 4000 \\ Start Time: 03:58:50 | Loss: 91\n",
      "Phase: train | Epoch: 2 | Count: 4100 \\ Start Time: 03:59:53 | Loss: 92\n",
      "Phase: train | Epoch: 2 | Count: 4200 \\ Start Time: 04:00:55 | Loss: 91\n",
      "Phase: train | Epoch: 2 | Count: 4300 \\ Start Time: 04:01:57 | Loss: 90\n",
      "Phase: train | Epoch: 2 | Count: 4400 \\ Start Time: 04:03:01 | Loss: 87\n",
      "Phase: train | Epoch: 2 | Count: 4500 \\ Start Time: 04:04:03 | Loss: 86\n",
      "Phase: train | Epoch: 3 | Count: 4600 \\ Start Time: 04:05:05 | Loss: 87\n",
      "Phase: train | Epoch: 3 | Count: 4700 \\ Start Time: 04:06:09 | Loss: 85\n",
      "Phase: train | Epoch: 3 | Count: 4800 \\ Start Time: 04:07:11 | Loss: 83\n",
      "Phase: train | Epoch: 3 | Count: 4900 \\ Start Time: 04:08:14 | Loss: 83\n",
      "Phase: train | Epoch: 3 | Count: 5000 \\ Start Time: 04:09:16 | Loss: 81\n",
      "Phase: train | Epoch: 3 | Count: 5100 \\ Start Time: 04:10:19 | Loss: 80\n",
      "Phase: train | Epoch: 3 | Count: 5200 \\ Start Time: 04:11:22 | Loss: 79\n",
      "Phase: train | Epoch: 3 | Count: 5300 \\ Start Time: 04:12:25 | Loss: 79\n",
      "Phase: train | Epoch: 3 | Count: 5400 \\ Start Time: 04:13:28 | Loss: 76\n",
      "Phase: train | Epoch: 3 | Count: 5500 \\ Start Time: 04:14:30 | Loss: 77\n",
      "Phase: train | Epoch: 3 | Count: 5600 \\ Start Time: 04:15:33 | Loss: 77\n",
      "Phase: train | Epoch: 3 | Count: 5700 \\ Start Time: 04:16:36 | Loss: 76\n",
      "Phase: train | Epoch: 3 | Count: 5800 \\ Start Time: 04:17:38 | Loss: 75\n",
      "Phase: train | Epoch: 3 | Count: 5900 \\ Start Time: 04:18:41 | Loss: 75\n",
      "Phase: train | Epoch: 3 | Count: 6000 \\ Start Time: 04:19:44 | Loss: 74\n",
      "Phase: train | Epoch: 4 | Count: 6100 \\ Start Time: 04:20:48 | Loss: 74\n",
      "Phase: train | Epoch: 4 | Count: 6200 \\ Start Time: 04:21:52 | Loss: 72\n",
      "Phase: train | Epoch: 4 | Count: 6300 \\ Start Time: 04:22:56 | Loss: 71\n",
      "Phase: train | Epoch: 4 | Count: 6400 \\ Start Time: 04:24:00 | Loss: 69\n",
      "Phase: train | Epoch: 4 | Count: 6500 \\ Start Time: 04:25:03 | Loss: 70\n",
      "Phase: train | Epoch: 4 | Count: 6600 \\ Start Time: 04:26:07 | Loss: 70\n",
      "Phase: train | Epoch: 4 | Count: 6700 \\ Start Time: 04:27:11 | Loss: 69\n",
      "Phase: train | Epoch: 4 | Count: 6800 \\ Start Time: 04:28:14 | Loss: 68\n",
      "Phase: train | Epoch: 4 | Count: 6900 \\ Start Time: 04:29:20 | Loss: 66\n",
      "Phase: train | Epoch: 4 | Count: 7000 \\ Start Time: 04:30:24 | Loss: 67\n",
      "Phase: train | Epoch: 4 | Count: 7100 \\ Start Time: 04:31:30 | Loss: 67\n",
      "Phase: train | Epoch: 4 | Count: 7200 \\ Start Time: 04:32:33 | Loss: 67\n",
      "Phase: train | Epoch: 4 | Count: 7300 \\ Start Time: 04:33:37 | Loss: 64\n",
      "Phase: train | Epoch: 4 | Count: 7400 \\ Start Time: 04:34:42 | Loss: 65\n",
      "Phase: train | Epoch: 4 | Count: 7500 \\ Start Time: 04:35:46 | Loss: 63\n",
      "Phase: train | Epoch: 4 | Count: 7600 \\ Start Time: 04:36:49 | Loss: 62\n",
      "Phase: train | Epoch: 5 | Count: 7700 \\ Start Time: 04:37:52 | Loss: 62\n",
      "Phase: train | Epoch: 5 | Count: 7800 \\ Start Time: 04:38:55 | Loss: 63\n",
      "Phase: train | Epoch: 5 | Count: 7900 \\ Start Time: 04:39:58 | Loss: 61\n",
      "Phase: train | Epoch: 5 | Count: 8000 \\ Start Time: 04:41:02 | Loss: 61\n",
      "Phase: train | Epoch: 5 | Count: 8100 \\ Start Time: 04:42:05 | Loss: 61\n",
      "Phase: train | Epoch: 5 | Count: 8200 \\ Start Time: 04:43:08 | Loss: 60\n",
      "Phase: train | Epoch: 5 | Count: 8300 \\ Start Time: 04:44:11 | Loss: 60\n",
      "Phase: train | Epoch: 5 | Count: 8400 \\ Start Time: 04:45:14 | Loss: 57\n",
      "Phase: train | Epoch: 5 | Count: 8500 \\ Start Time: 04:46:17 | Loss: 57\n",
      "Phase: train | Epoch: 5 | Count: 8600 \\ Start Time: 04:47:20 | Loss: 59\n",
      "Phase: train | Epoch: 5 | Count: 8700 \\ Start Time: 04:48:24 | Loss: 60\n",
      "Phase: train | Epoch: 5 | Count: 8800 \\ Start Time: 04:49:30 | Loss: 56\n",
      "Phase: train | Epoch: 5 | Count: 8900 \\ Start Time: 04:50:33 | Loss: 59\n",
      "Phase: train | Epoch: 5 | Count: 9000 \\ Start Time: 04:51:37 | Loss: 57\n",
      "Phase: train | Epoch: 5 | Count: 9100 \\ Start Time: 04:52:41 | Loss: 56\n",
      "Phase: train | Epoch: 6 | Count: 9200 \\ Start Time: 04:53:44 | Loss: 56\n",
      "Phase: train | Epoch: 6 | Count: 9300 \\ Start Time: 04:54:47 | Loss: 56\n",
      "Phase: train | Epoch: 6 | Count: 9400 \\ Start Time: 04:55:51 | Loss: 54\n",
      "Phase: train | Epoch: 6 | Count: 9500 \\ Start Time: 04:56:55 | Loss: 54\n",
      "Phase: train | Epoch: 6 | Count: 9600 \\ Start Time: 04:57:58 | Loss: 54\n",
      "Phase: train | Epoch: 6 | Count: 9700 \\ Start Time: 04:59:02 | Loss: 53\n",
      "Phase: train | Epoch: 6 | Count: 9800 \\ Start Time: 05:00:05 | Loss: 54\n",
      "Phase: train | Epoch: 6 | Count: 9900 \\ Start Time: 05:01:10 | Loss: 53\n",
      "Phase: train | Epoch: 6 | Count: 10000 \\ Start Time: 05:02:14 | Loss: 51\n",
      "Phase: train | Epoch: 6 | Count: 10100 \\ Start Time: 05:03:19 | Loss: 53\n",
      "Phase: train | Epoch: 6 | Count: 10200 \\ Start Time: 05:04:23 | Loss: 53\n",
      "Phase: train | Epoch: 6 | Count: 10300 \\ Start Time: 05:05:28 | Loss: 52\n",
      "Phase: train | Epoch: 6 | Count: 10400 \\ Start Time: 05:06:32 | Loss: 54\n",
      "Phase: train | Epoch: 6 | Count: 10500 \\ Start Time: 05:07:36 | Loss: 51\n",
      "Phase: train | Epoch: 6 | Count: 10600 \\ Start Time: 05:08:39 | Loss: 51\n",
      "Phase: train | Epoch: 7 | Count: 10700 \\ Start Time: 05:09:43 | Loss: 51\n",
      "Phase: train | Epoch: 7 | Count: 10800 \\ Start Time: 05:10:48 | Loss: 52\n",
      "Phase: train | Epoch: 7 | Count: 10900 \\ Start Time: 05:11:52 | Loss: 51\n",
      "Phase: train | Epoch: 7 | Count: 11000 \\ Start Time: 05:12:57 | Loss: 49\n",
      "Phase: train | Epoch: 7 | Count: 11100 \\ Start Time: 05:14:02 | Loss: 48\n",
      "Phase: train | Epoch: 7 | Count: 11200 \\ Start Time: 05:15:07 | Loss: 49\n",
      "Phase: train | Epoch: 7 | Count: 11300 \\ Start Time: 05:16:11 | Loss: 49\n",
      "Phase: train | Epoch: 7 | Count: 11400 \\ Start Time: 05:17:16 | Loss: 48\n"
     ]
    },
    {
     "name": "stdout",
     "output_type": "stream",
     "text": [
      "Phase: train | Epoch: 7 | Count: 11500 \\ Start Time: 05:18:20 | Loss: 46\n",
      "Phase: train | Epoch: 7 | Count: 11600 \\ Start Time: 05:19:24 | Loss: 48\n",
      "Phase: train | Epoch: 7 | Count: 11700 \\ Start Time: 05:20:29 | Loss: 48\n",
      "Phase: train | Epoch: 7 | Count: 11800 \\ Start Time: 05:21:33 | Loss: 47\n",
      "Phase: train | Epoch: 7 | Count: 11900 \\ Start Time: 05:22:37 | Loss: 48\n",
      "Phase: train | Epoch: 7 | Count: 12000 \\ Start Time: 05:23:41 | Loss: 49\n",
      "Phase: train | Epoch: 7 | Count: 12100 \\ Start Time: 05:24:45 | Loss: 46\n",
      "Phase: train | Epoch: 8 | Count: 12200 \\ Start Time: 05:25:49 | Loss: 47\n",
      "Phase: train | Epoch: 8 | Count: 12300 \\ Start Time: 05:26:53 | Loss: 47\n",
      "Phase: train | Epoch: 8 | Count: 12400 \\ Start Time: 05:27:58 | Loss: 46\n",
      "Phase: train | Epoch: 8 | Count: 12500 \\ Start Time: 05:29:01 | Loss: 44\n",
      "Phase: train | Epoch: 8 | Count: 12600 \\ Start Time: 05:30:07 | Loss: 45\n",
      "Phase: train | Epoch: 8 | Count: 12700 \\ Start Time: 05:31:12 | Loss: 44\n",
      "Phase: train | Epoch: 8 | Count: 12800 \\ Start Time: 05:32:16 | Loss: 44\n",
      "Phase: train | Epoch: 8 | Count: 12900 \\ Start Time: 05:33:20 | Loss: 44\n",
      "Phase: train | Epoch: 8 | Count: 13000 \\ Start Time: 05:34:25 | Loss: 43\n",
      "Phase: train | Epoch: 8 | Count: 13100 \\ Start Time: 05:35:30 | Loss: 44\n",
      "Phase: train | Epoch: 8 | Count: 13200 \\ Start Time: 05:36:34 | Loss: 45\n",
      "Phase: train | Epoch: 8 | Count: 13300 \\ Start Time: 05:37:41 | Loss: 44\n",
      "Phase: train | Epoch: 8 | Count: 13400 \\ Start Time: 05:38:44 | Loss: 45\n",
      "Phase: train | Epoch: 8 | Count: 13500 \\ Start Time: 05:39:48 | Loss: 45\n",
      "Phase: train | Epoch: 8 | Count: 13600 \\ Start Time: 05:40:52 | Loss: 44\n",
      "Phase: train | Epoch: 9 | Count: 13700 \\ Start Time: 05:41:56 | Loss: 42\n",
      "Phase: train | Epoch: 9 | Count: 13800 \\ Start Time: 05:43:00 | Loss: 45\n",
      "Phase: train | Epoch: 9 | Count: 13900 \\ Start Time: 05:44:04 | Loss: 43\n",
      "Phase: train | Epoch: 9 | Count: 14000 \\ Start Time: 05:45:08 | Loss: 42\n",
      "Phase: train | Epoch: 9 | Count: 14100 \\ Start Time: 05:46:13 | Loss: 43\n",
      "Phase: train | Epoch: 9 | Count: 14200 \\ Start Time: 05:47:17 | Loss: 41\n",
      "Phase: train | Epoch: 9 | Count: 14300 \\ Start Time: 05:48:21 | Loss: 40\n",
      "Phase: train | Epoch: 9 | Count: 14400 \\ Start Time: 05:49:26 | Loss: 42\n",
      "Phase: train | Epoch: 9 | Count: 14500 \\ Start Time: 05:50:33 | Loss: 39\n",
      "Phase: train | Epoch: 9 | Count: 14600 \\ Start Time: 05:51:38 | Loss: 40\n",
      "Phase: train | Epoch: 9 | Count: 14700 \\ Start Time: 05:52:41 | Loss: 43\n",
      "Phase: train | Epoch: 9 | Count: 14800 \\ Start Time: 05:53:45 | Loss: 41\n",
      "Phase: train | Epoch: 9 | Count: 14900 \\ Start Time: 05:54:49 | Loss: 40\n",
      "Phase: train | Epoch: 9 | Count: 15000 \\ Start Time: 05:55:54 | Loss: 42\n",
      "Phase: train | Epoch: 9 | Count: 15100 \\ Start Time: 05:56:59 | Loss: 41\n",
      "Phase: train | Epoch: 9 | Count: 15200 \\ Start Time: 05:58:03 | Loss: 40\n"
     ]
    }
   ],
   "source": [
    "# TRAINING AND TESTING\n",
    "print(\"training...\")\n",
    "model.start(phase='train') "
   ]
  },
  {
   "cell_type": "markdown",
   "metadata": {},
   "source": [
    "## Generating Images"
   ]
  },
  {
   "cell_type": "code",
   "execution_count": 30,
   "metadata": {},
   "outputs": [],
   "source": [
    "test_model = Test(category)"
   ]
  },
  {
   "cell_type": "code",
   "execution_count": 31,
   "metadata": {},
   "outputs": [],
   "source": [
    "dataloader = test_model.dataloaders['train']"
   ]
  },
  {
   "cell_type": "code",
   "execution_count": 32,
   "metadata": {},
   "outputs": [],
   "source": [
    "data = dataloader.next_batch(test_model.batch_size)"
   ]
  },
  {
   "cell_type": "code",
   "execution_count": 33,
   "metadata": {},
   "outputs": [
    {
     "data": {
      "text/plain": [
       "(64, 784)"
      ]
     },
     "execution_count": 33,
     "metadata": {},
     "output_type": "execute_result"
    }
   ],
   "source": [
    "data.shape"
   ]
  },
  {
   "cell_type": "code",
   "execution_count": 34,
   "metadata": {},
   "outputs": [
    {
     "data": {
      "text/plain": [
       "<matplotlib.image.AxesImage at 0x1dff2ce5508>"
      ]
     },
     "execution_count": 34,
     "metadata": {},
     "output_type": "execute_result"
    },
    {
     "data": {
      "image/png": "[encoded data removed]",
      "text/plain": [
       "<Figure size 432x288 with 1 Axes>"
      ]
     },
     "metadata": {
      "needs_background": "light"
     },
     "output_type": "display_data"
    }
   ],
   "source": [
    "plt.imshow(npy_data[int(index)].reshape(28,28))"
   ]
  },
  {
   "cell_type": "code",
   "execution_count": 35,
   "metadata": {},
   "outputs": [
    {
     "name": "stdout",
     "output_type": "stream",
     "text": [
      "reconstructing images...\n",
      "C:\\Users\\ozgur\\Desktop\\sandbox\\sliver-maestro\\src\\data\\output\\images\\moon\\moon_test_0.png\n",
      "C:\\Users\\ozgur\\Desktop\\sandbox\\sliver-maestro\\src\\data\\output\\images\\moon\\moon_test_1.png\n",
      "C:\\Users\\ozgur\\Desktop\\sandbox\\sliver-maestro\\src\\data\\output\\images\\moon\\moon_test_2.png\n",
      "C:\\Users\\ozgur\\Desktop\\sandbox\\sliver-maestro\\src\\data\\output\\images\\moon\\moon_test_3.png\n",
      "C:\\Users\\ozgur\\Desktop\\sandbox\\sliver-maestro\\src\\data\\output\\images\\moon\\moon_test_4.png\n",
      "C:\\Users\\ozgur\\Desktop\\sandbox\\sliver-maestro\\src\\data\\output\\images\\moon\\moon_test_5.png\n",
      "C:\\Users\\ozgur\\Desktop\\sandbox\\sliver-maestro\\src\\data\\output\\images\\moon\\moon_test_6.png\n",
      "C:\\Users\\ozgur\\Desktop\\sandbox\\sliver-maestro\\src\\data\\output\\images\\moon\\moon_test_7.png\n",
      "C:\\Users\\ozgur\\Desktop\\sandbox\\sliver-maestro\\src\\data\\output\\images\\moon\\moon_test_8.png\n",
      "C:\\Users\\ozgur\\Desktop\\sandbox\\sliver-maestro\\src\\data\\output\\images\\moon\\moon_test_9.png\n",
      "C:\\Users\\ozgur\\Desktop\\sandbox\\sliver-maestro\\src\\data\\output\\images\\moon\\moon_test_10.png\n",
      "C:\\Users\\ozgur\\Desktop\\sandbox\\sliver-maestro\\src\\data\\output\\images\\moon\\moon_test_11.png\n",
      "C:\\Users\\ozgur\\Desktop\\sandbox\\sliver-maestro\\src\\data\\output\\images\\moon\\moon_test_12.png\n",
      "C:\\Users\\ozgur\\Desktop\\sandbox\\sliver-maestro\\src\\data\\output\\images\\moon\\moon_test_13.png\n",
      "C:\\Users\\ozgur\\Desktop\\sandbox\\sliver-maestro\\src\\data\\output\\images\\moon\\moon_test_14.png\n",
      "C:\\Users\\ozgur\\Desktop\\sandbox\\sliver-maestro\\src\\data\\output\\images\\moon\\moon_test_15.png\n",
      "C:\\Users\\ozgur\\Desktop\\sandbox\\sliver-maestro\\src\\data\\output\\images\\moon\\moon_test_16.png\n",
      "C:\\Users\\ozgur\\Desktop\\sandbox\\sliver-maestro\\src\\data\\output\\images\\moon\\moon_test_17.png\n",
      "C:\\Users\\ozgur\\Desktop\\sandbox\\sliver-maestro\\src\\data\\output\\images\\moon\\moon_test_18.png\n",
      "C:\\Users\\ozgur\\Desktop\\sandbox\\sliver-maestro\\src\\data\\output\\images\\moon\\moon_test_19.png\n"
     ]
    },
    {
     "data": {
      "text/plain": [
       "array([[5.00000000e-01, 5.00000000e-01, 5.00000000e-01, 5.00000000e-01,\n",
       "        5.00000000e-01, 5.00000000e-01, 5.00000000e-01, 5.00000000e-01,\n",
       "        5.00000000e-01, 5.00000000e-01, 5.00000000e-01, 5.00000000e-01,\n",
       "        5.00000000e-01, 5.00000000e-01, 5.00000000e-01, 5.00000000e-01,\n",
       "        5.00000000e-01, 5.00000000e-01, 5.00000000e-01, 5.00000000e-01,\n",
       "        5.00000000e-01, 5.00000000e-01, 5.00000000e-01, 5.00000000e-01,\n",
       "        5.00000000e-01, 5.00000000e-01, 5.00000000e-01, 5.00000000e-01,\n",
       "        5.00000000e-01, 5.00000000e-01],\n",
       "       [5.00000000e-01, 0.00000000e+00, 0.00000000e+00, 0.00000000e+00,\n",
       "        0.00000000e+00, 0.00000000e+00, 0.00000000e+00, 0.00000000e+00,\n",
       "        0.00000000e+00, 0.00000000e+00, 0.00000000e+00, 0.00000000e+00,\n",
       "        8.19102888e-36, 1.21299873e-31, 2.43768660e-28, 4.35705412e-26,\n",
       "        6.61047344e-25, 3.53194129e-24, 3.38512426e-23, 2.92931393e-22,\n",
       "        1.87593067e-22, 3.30519289e-24, 1.02133313e-26, 5.28658802e-29,\n",
       "        6.30634334e-31, 1.11414192e-32, 2.20495786e-34, 8.80728136e-38,\n",
       "        0.00000000e+00, 5.00000000e-01],\n",
       "       [5.00000000e-01, 0.00000000e+00, 0.00000000e+00, 0.00000000e+00,\n",
       "        0.00000000e+00, 0.00000000e+00, 0.00000000e+00, 0.00000000e+00,\n",
       "        8.46151993e-37, 3.37886955e-29, 3.74563527e-22, 2.80040924e-16,\n",
       "        8.26553583e-12, 8.89715146e-09, 3.46231531e-07, 7.69037797e-07,\n",
       "        4.28566750e-07, 4.84906366e-07, 2.74184936e-06, 1.30046847e-05,\n",
       "        3.04942091e-06, 2.16441833e-08, 5.83587900e-11, 8.26753325e-13,\n",
       "        6.15994614e-14, 4.31065570e-15, 5.07276021e-17, 2.46308274e-21,\n",
       "        2.31593208e-32, 5.00000000e-01],\n",
       "       [5.00000000e-01, 0.00000000e+00, 0.00000000e+00, 0.00000000e+00,\n",
       "        0.00000000e+00, 0.00000000e+00, 4.36654398e-31, 2.29484512e-23,\n",
       "        8.98907164e-17, 1.50583799e-11, 9.99355692e-08, 3.89217566e-05,\n",
       "        1.27537106e-03, 3.30846733e-03, 6.57348835e-04, 2.92773730e-05,\n",
       "        2.51801453e-06, 1.89709988e-06, 6.64956906e-06, 9.28034387e-06,\n",
       "        7.80659775e-07, 9.49366630e-09, 2.62985606e-10, 8.27959853e-11,\n",
       "        9.81452281e-11, 4.96350426e-11, 2.43614460e-12, 1.02897234e-15,\n",
       "        3.81185084e-24, 5.00000000e-01],\n",
       "       [5.00000000e-01, 0.00000000e+00, 0.00000000e+00, 0.00000000e+00,\n",
       "        5.16796071e-39, 4.82009459e-27, 6.97092565e-18, 6.47787865e-11,\n",
       "        3.95361576e-06, 2.29900749e-03, 4.75855917e-02, 1.60642833e-01,\n",
       "        1.87650144e-01, 4.13182601e-02, 6.35723933e-04, 2.72214970e-06,\n",
       "        5.70087337e-08, 2.39433096e-08, 4.32168612e-08, 2.03330615e-08,\n",
       "        8.55893023e-10, 2.07994993e-11, 4.41075822e-12, 1.54245384e-11,\n",
       "        1.37010153e-10, 3.34039713e-10, 7.47644238e-11, 3.34826351e-13,\n",
       "        2.25803066e-19, 5.00000000e-01],\n",
       "       [5.00000000e-01, 0.00000000e+00, 0.00000000e+00, 0.00000000e+00,\n",
       "        2.68635931e-28, 4.68915653e-17, 3.56016550e-09, 6.14715624e-04,\n",
       "        3.14463466e-01, 8.16724777e-01, 8.07593822e-01, 7.22294450e-01,\n",
       "        6.18181467e-01, 2.02044234e-01, 2.20363727e-03, 2.46859349e-06,\n",
       "        7.37266337e-09, 4.62892419e-10, 2.20823818e-10, 5.55538393e-11,\n",
       "        2.28158573e-12, 8.56245549e-14, 4.13186297e-14, 4.76039401e-13,\n",
       "        1.82967357e-11, 1.99994882e-10, 1.74003645e-10, 3.26989802e-12,\n",
       "        2.32124780e-17, 5.00000000e-01],\n",
       "       [5.00000000e-01, 0.00000000e+00, 0.00000000e+00, 7.06952450e-34,\n",
       "        2.09846286e-19, 8.11963052e-10, 8.33090511e-04, 6.88090980e-01,\n",
       "        9.82672215e-01, 9.84078884e-01, 9.54944968e-01, 9.26419258e-01,\n",
       "        9.36816156e-01, 8.50220263e-01, 7.27448687e-02, 3.79613666e-05,\n",
       "        1.01405560e-08, 3.26274147e-11, 2.20411233e-12, 3.85330548e-13,\n",
       "        2.45412550e-14, 1.13295400e-15, 5.04135693e-16, 8.65768384e-15,\n",
       "        1.11981821e-12, 5.38348775e-11, 1.35316341e-10, 3.53851041e-12,\n",
       "        1.51387965e-17, 5.00000000e-01],\n",
       "       [5.00000000e-01, 0.00000000e+00, 0.00000000e+00, 8.72184462e-26,\n",
       "        5.67075358e-13, 3.17739032e-05, 3.38508129e-01, 9.78991389e-01,\n",
       "        9.93631184e-01, 9.89076018e-01, 9.78934228e-01, 9.85133052e-01,\n",
       "        9.94713128e-01, 9.92518544e-01, 6.70922816e-01, 4.35145572e-04,\n",
       "        1.56856430e-08, 3.90143690e-12, 4.13098036e-14, 4.53140519e-15,\n",
       "        4.54230629e-16, 3.37443335e-17, 1.90504840e-17, 5.09883712e-16,\n",
       "        1.60116400e-13, 2.00803575e-11, 8.12529696e-11, 1.27292014e-12,\n",
       "        5.97468162e-19, 5.00000000e-01],\n",
       "       [5.00000000e-01, 0.00000000e+00, 4.73217931e-38, 7.80601620e-20,\n",
       "        1.22057662e-08, 1.17185730e-02, 8.47394645e-01, 9.77900088e-01,\n",
       "        9.81938243e-01, 9.77379620e-01, 9.84308898e-01, 9.95650232e-01,\n",
       "        9.98718619e-01, 9.96403575e-01, 5.89758098e-01, 1.15902316e-04,\n",
       "        1.84979232e-09, 1.91434040e-13, 8.40925575e-16, 5.94588012e-17,\n",
       "        8.79018615e-18, 1.98648251e-18, 4.00980600e-18, 2.60491695e-16,\n",
       "        1.21290117e-13, 1.69986074e-11, 5.98479946e-11, 4.23210078e-13,\n",
       "        2.02694341e-20, 5.00000000e-01],\n",
       "       [5.00000000e-01, 0.00000000e+00, 1.55749078e-32, 3.76882439e-15,\n",
       "        1.11965919e-05, 2.12012097e-01, 8.86004269e-01, 9.22953486e-01,\n",
       "        9.08979893e-01, 9.38531756e-01, 9.83213186e-01, 9.96431947e-01,\n",
       "        9.96722162e-01, 9.16094720e-01, 6.11220812e-03, 2.03131250e-07,\n",
       "        5.90858786e-12, 1.84650133e-15, 1.50783958e-17, 1.25531782e-18,\n",
       "        3.05138217e-19, 2.53477556e-19, 2.54124422e-18, 4.39988459e-16,\n",
       "        2.28286438e-13, 2.43386075e-11, 6.42047110e-11, 2.91890345e-13,\n",
       "        5.27202917e-21, 5.00000000e-01],\n",
       "       [5.00000000e-01, 0.00000000e+00, 3.51059165e-27, 1.94518984e-11,\n",
       "        9.46756743e-04, 5.51989913e-01, 8.54055047e-01, 7.84963310e-01,\n",
       "        7.41813898e-01, 8.86265278e-01, 9.79611576e-01, 9.91536975e-01,\n",
       "        9.22993004e-01, 1.49977552e-02, 6.60917465e-07, 1.55839890e-11,\n",
       "        2.78805680e-15, 1.14895189e-17, 6.82423747e-19, 1.64954833e-19,\n",
       "        7.46001236e-20, 1.16275150e-19, 2.24617607e-18, 6.14343097e-16,\n",
       "        3.82601801e-13, 4.25633417e-11, 1.17818075e-10, 6.75788798e-13,\n",
       "        2.91012673e-20, 5.00000000e-01],\n",
       "       [5.00000000e-01, 0.00000000e+00, 2.14683863e-22, 6.70214062e-09,\n",
       "        9.16789006e-03, 6.54999614e-01, 7.92538881e-01, 6.39105380e-01,\n",
       "        6.12465918e-01, 8.55419397e-01, 9.70441759e-01, 9.53459918e-01,\n",
       "        1.09371506e-01, 6.21742947e-06, 4.67395532e-11, 2.38408731e-15,\n",
       "        6.36188662e-18, 6.08455499e-19, 4.26045914e-19, 4.47281579e-19,\n",
       "        3.46834323e-19, 4.35029328e-19, 4.99946804e-18, 1.09265207e-15,\n",
       "        8.51204686e-13, 1.33750566e-10, 4.95060992e-10, 5.60727810e-12,\n",
       "        2.29127313e-18, 5.00000000e-01],\n",
       "       [5.00000000e-01, 0.00000000e+00, 8.76814551e-19, 2.32409647e-07,\n",
       "        2.27650777e-02, 5.78127205e-01, 6.09458208e-01, 3.88474315e-01,\n",
       "        3.97071093e-01, 7.23573029e-01, 8.91636312e-01, 4.97298837e-01,\n",
       "        4.75099456e-04, 2.94976998e-09, 2.06832774e-14, 1.01995952e-17,\n",
       "        7.68036889e-19, 1.35625588e-18, 6.14879373e-18, 1.66232267e-17,\n",
       "        1.68172519e-17, 1.58063032e-17, 1.02951369e-16, 1.49621323e-14,\n",
       "        1.04597823e-11, 1.58610602e-09, 5.77906079e-09, 1.16545676e-10,\n",
       "        6.02389397e-16, 5.00000000e-01],\n",
       "       [5.00000000e-01, 0.00000000e+00, 1.76082096e-16, 2.84431508e-06,\n",
       "        4.58796807e-02, 4.17651802e-01, 2.24895373e-01, 6.65444061e-02,\n",
       "        6.41480237e-02, 1.81140453e-01, 2.30589315e-01, 7.54436618e-03,\n",
       "        6.26292149e-07, 1.95253405e-12, 6.64792750e-17, 1.06009606e-18,\n",
       "        2.98275766e-18, 5.35747313e-17, 5.44365046e-16, 1.41728009e-15,\n",
       "        1.37112548e-15, 1.81250079e-15, 1.81377079e-14, 2.61485820e-12,\n",
       "        1.05274633e-09, 7.36520391e-08, 1.47539623e-07, 3.20579496e-09,\n",
       "        9.27593370e-14, 5.00000000e-01],\n",
       "       [5.00000000e-01, 0.00000000e+00, 2.07965202e-15, 1.76361464e-05,\n",
       "        1.05869472e-01, 3.08244050e-01, 4.16741334e-02, 4.05259384e-03,\n",
       "        2.54086452e-03, 5.51798614e-03, 3.56650585e-03, 3.50307018e-05,\n",
       "        1.54099677e-09, 8.45190396e-15, 2.91291735e-18, 1.35898009e-18,\n",
       "        7.13131464e-17, 5.59075923e-15, 5.94903155e-14, 8.15876636e-14,\n",
       "        5.70328154e-14, 1.31481753e-13, 3.38344543e-12, 6.82915113e-10,\n",
       "        1.58876276e-07, 4.50527159e-06, 4.21387449e-06, 6.08642239e-08,\n",
       "        2.31096500e-12, 5.00000000e-01],\n",
       "       [5.00000000e-01, 0.00000000e+00, 3.40099356e-15, 3.35865079e-05,\n",
       "        1.74207419e-01, 2.91472435e-01, 1.40065700e-02, 5.05361182e-04,\n",
       "        1.84263947e-04, 3.30874929e-04, 2.08267971e-04, 2.73925912e-06,\n",
       "        3.13438775e-10, 9.53101208e-15, 2.57969923e-17, 6.70180607e-17,\n",
       "        9.15075782e-15, 9.17588163e-13, 7.62145555e-12, 6.09556502e-12,\n",
       "        2.42495368e-12, 4.01648506e-12, 9.46924275e-11, 1.84883735e-08,\n",
       "        3.97112672e-06, 9.86543891e-05, 6.95889612e-05, 5.36547930e-07,\n",
       "        6.11668051e-12, 5.00000000e-01],\n",
       "       [5.00000000e-01, 0.00000000e+00, 3.91268362e-15, 2.04158787e-05,\n",
       "        1.37621447e-01, 2.66701967e-01, 9.59412567e-03, 2.03742035e-04,\n",
       "        5.70107914e-05, 1.51454267e-04, 2.73465790e-04, 2.09547197e-05,\n",
       "        3.15052588e-08, 1.47180289e-11, 1.84735216e-13, 3.70386474e-13,\n",
       "        1.48083611e-11, 5.35858580e-10, 2.97415870e-09, 1.92343563e-09,\n",
       "        3.62610497e-10, 1.23228081e-10, 4.95693153e-10, 4.01349887e-08,\n",
       "        1.13943406e-05, 5.74498612e-04, 5.39144210e-04, 2.14083661e-06,\n",
       "        2.76355848e-12, 5.00000000e-01],\n",
       "       [5.00000000e-01, 9.04393405e-39, 7.59510473e-15, 7.19744139e-06,\n",
       "        3.83758284e-02, 1.04579315e-01, 4.25559515e-03, 1.02290011e-04,\n",
       "        3.55513694e-05, 2.17334178e-04, 2.04104488e-03, 1.96171855e-03,\n",
       "        8.68610223e-05, 1.03264676e-06, 5.12146059e-08, 3.68595927e-08,\n",
       "        1.73693195e-07, 1.17729678e-06, 3.26046506e-06, 1.63575828e-06,\n",
       "        1.39788852e-07, 7.38905026e-09, 3.16523296e-09, 7.02752416e-08,\n",
       "        2.11997631e-05, 1.99889368e-03, 2.44623236e-03, 4.95814129e-06,\n",
       "        6.34481671e-13, 5.00000000e-01],\n",
       "       [5.00000000e-01, 1.87048548e-37, 9.27831759e-15, 1.46279001e-06,\n",
       "        2.61109113e-03, 6.48667105e-03, 5.23679599e-04, 3.55336088e-05,\n",
       "        2.77191684e-05, 3.79230711e-04, 1.23176100e-02, 8.41598585e-02,\n",
       "        6.76805228e-02, 1.56981368e-02, 3.64742987e-03, 1.71340944e-03,\n",
       "        1.64698786e-03, 2.26426730e-03, 2.19235220e-03, 5.92609693e-04,\n",
       "        2.82090459e-05, 6.45850605e-07, 9.98363063e-08, 8.93098672e-07,\n",
       "        1.45027399e-04, 9.27874632e-03, 8.15274287e-03, 8.96562597e-06,\n",
       "        2.49844280e-13, 5.00000000e-01],\n",
       "       [5.00000000e-01, 8.32807596e-38, 1.08926023e-15, 8.36979694e-08,\n",
       "        5.06263168e-05, 9.67968081e-05, 2.69979937e-05, 1.22521687e-05,\n",
       "        3.60844897e-05, 8.10031430e-04, 3.31003815e-02, 3.39934766e-01,\n",
       "        6.50156200e-01, 7.46225476e-01, 7.63556719e-01, 7.16242969e-01,\n",
       "        5.89579105e-01, 4.01058555e-01, 1.73024103e-01, 2.39267871e-02,\n",
       "        8.83535715e-04, 2.84634934e-05, 6.78586912e-06, 4.57423521e-05,\n",
       "        2.44038319e-03, 4.34059463e-02, 1.77704580e-02, 1.46180364e-05,\n",
       "        3.68397505e-13, 5.00000000e-01],\n",
       "       [5.00000000e-01, 3.58419637e-39, 1.10558562e-17, 1.70656100e-09,\n",
       "        1.15653586e-06, 2.73035766e-06, 2.60425281e-06, 7.37307073e-06,\n",
       "        7.45171346e-05, 1.76749076e-03, 3.74340154e-02, 2.62485355e-01,\n",
       "        6.14353359e-01, 8.63999903e-01, 9.58888054e-01, 9.78998780e-01,\n",
       "        9.72764015e-01, 9.22426164e-01, 6.61604941e-01, 1.18188746e-01,\n",
       "        4.60323598e-03, 2.66247545e-04, 1.24456928e-04, 7.58278649e-04,\n",
       "        1.46647161e-02, 7.97192156e-02, 1.87108982e-02, 1.99088463e-05,\n",
       "        1.87941047e-12, 5.00000000e-01],\n",
       "       [5.00000000e-01, 0.00000000e+00, 1.06533328e-19, 6.19137033e-11,\n",
       "        1.97987362e-07, 1.16443448e-06, 2.18543119e-06, 1.30244316e-05,\n",
       "        1.89024955e-04, 2.59160902e-03, 1.67836025e-02, 4.93480675e-02,\n",
       "        1.24135315e-01, 3.93498689e-01, 8.07887971e-01, 9.46546435e-01,\n",
       "        9.63390827e-01, 9.30941939e-01, 7.41053700e-01, 1.96059272e-01,\n",
       "        1.04729990e-02, 7.18359312e-04, 3.12937598e-04, 1.24072155e-03,\n",
       "        1.24595715e-02, 4.07599881e-02, 8.34136922e-03, 1.69387058e-05,\n",
       "        1.14942448e-11, 5.00000000e-01],\n",
       "       [5.00000000e-01, 0.00000000e+00, 4.85507966e-21, 7.59991289e-12,\n",
       "        2.23743527e-07, 6.21691379e-06, 1.82719396e-05, 9.31848408e-05,\n",
       "        7.59485294e-04, 3.19751888e-03, 4.63787327e-03, 4.25429409e-03,\n",
       "        6.16379315e-03, 2.16136985e-02, 1.23084292e-01, 4.37667608e-01,\n",
       "        6.83767796e-01, 7.25153208e-01, 5.92924416e-01, 2.33226657e-01,\n",
       "        2.28508394e-02, 1.51232909e-03, 3.50361748e-04, 6.20196806e-04,\n",
       "        3.40748322e-03, 8.31013359e-03, 1.64218561e-03, 5.25595215e-06,\n",
       "        1.35165889e-11, 5.00000000e-01],\n",
       "       [5.00000000e-01, 0.00000000e+00, 2.49312358e-22, 7.30962545e-13,\n",
       "        1.72954316e-07, 3.63432919e-05, 2.92889919e-04, 1.45205029e-03,\n",
       "        4.90446063e-03, 4.54737432e-03, 1.43086701e-03, 5.39035304e-04,\n",
       "        5.94023732e-04, 1.79040723e-03, 8.58180970e-03, 4.08486687e-02,\n",
       "        1.43396199e-01, 3.11615735e-01, 4.04398650e-01, 2.72983909e-01,\n",
       "        5.50782792e-02, 4.29482199e-03, 5.88977768e-04, 4.16483555e-04,\n",
       "        9.03420965e-04, 1.06565934e-03, 1.25195380e-04, 2.59654485e-07,\n",
       "        3.56836387e-13, 5.00000000e-01],\n",
       "       [5.00000000e-01, 0.00000000e+00, 1.51714646e-24, 1.03650532e-14,\n",
       "        1.19955121e-08, 1.94194781e-05, 8.04641226e-04, 7.57344114e-03,\n",
       "        1.57872569e-02, 4.46833763e-03, 5.05438016e-04, 1.61861259e-04,\n",
       "        2.86266149e-04, 1.22672308e-03, 5.22755180e-03, 1.87326465e-02,\n",
       "        6.61242679e-02, 2.02250481e-01, 3.68667215e-01, 3.34708095e-01,\n",
       "        1.06868684e-01, 1.12294983e-02, 1.22433237e-03, 3.60637816e-04,\n",
       "        2.12354164e-04, 6.46673943e-05, 2.03440004e-06, 7.12567005e-10,\n",
       "        3.15927904e-17, 5.00000000e-01],\n",
       "       [5.00000000e-01, 0.00000000e+00, 7.03382308e-28, 1.72209210e-17,\n",
       "        5.12726875e-11, 3.43035907e-07, 6.69390574e-05, 1.89308962e-03,\n",
       "        5.94936591e-03, 1.64261484e-03, 2.14123633e-04, 1.42445846e-04,\n",
       "        7.73011358e-04, 7.96456821e-03, 4.10623588e-02, 9.75158811e-02,\n",
       "        1.82444781e-01, 3.19064677e-01, 4.13466394e-01, 3.10771585e-01,\n",
       "        8.83730054e-02, 9.20398999e-03, 7.80980510e-04, 9.55375581e-05,\n",
       "        1.27440726e-05, 6.47834440e-07, 2.48685672e-09, 3.44580118e-14,\n",
       "        2.84128765e-24, 5.00000000e-01],\n",
       "       [5.00000000e-01, 0.00000000e+00, 5.28276977e-32, 7.67248388e-21,\n",
       "        3.39872580e-14, 3.63605701e-10, 1.51194797e-07, 1.11644877e-05,\n",
       "        1.21719459e-04, 1.54233756e-04, 9.41598992e-05, 2.35801941e-04,\n",
       "        3.87549214e-03, 8.63950774e-02, 4.04167354e-01, 5.08187056e-01,\n",
       "        4.02310610e-01, 2.69780874e-01, 1.50896505e-01, 4.81761321e-02,\n",
       "        6.46890886e-03, 4.35166730e-04, 2.22744802e-05, 1.03842899e-06,\n",
       "        2.91324902e-08, 1.77975856e-10, 3.87152943e-14, 5.82913006e-21,\n",
       "        1.19750766e-34, 5.00000000e-01],\n",
       "       [5.00000000e-01, 0.00000000e+00, 7.39593895e-37, 6.48942343e-24,\n",
       "        5.07417304e-17, 3.01361068e-13, 4.81349162e-11, 1.65255465e-09,\n",
       "        2.28548416e-08, 1.24306368e-07, 4.39020397e-07, 3.03796696e-06,\n",
       "        6.46211629e-05, 1.60135620e-03, 9.70028341e-03, 7.18300045e-03,\n",
       "        1.21189677e-03, 1.47915023e-04, 2.33764895e-05, 3.55826410e-06,\n",
       "        3.06888978e-07, 1.32374129e-08, 3.52227220e-10, 5.63645484e-12,\n",
       "        2.79446825e-14, 1.23119333e-17, 6.06581719e-23, 3.52741639e-32,\n",
       "        0.00000000e+00, 5.00000000e-01],\n",
       "       [5.00000000e-01, 0.00000000e+00, 0.00000000e+00, 7.73530340e-24,\n",
       "        1.42827606e-15, 6.65311610e-13, 2.64872461e-13, 3.69032180e-15,\n",
       "        3.38824793e-17, 1.07279680e-18, 1.36398076e-19, 5.53656153e-20,\n",
       "        7.99893798e-20, 3.05463169e-19, 8.88220131e-19, 6.02289694e-19,\n",
       "        1.11794701e-19, 2.02121437e-20, 8.34147024e-21, 4.76898986e-21,\n",
       "        1.22098068e-21, 8.18661609e-23, 1.71001477e-24, 1.02228030e-26,\n",
       "        6.14123162e-30, 6.81408935e-35, 0.00000000e+00, 0.00000000e+00,\n",
       "        0.00000000e+00, 5.00000000e-01],\n",
       "       [5.00000000e-01, 5.00000000e-01, 5.00000000e-01, 5.00000000e-01,\n",
       "        5.00000000e-01, 5.00000000e-01, 5.00000000e-01, 5.00000000e-01,\n",
       "        5.00000000e-01, 5.00000000e-01, 5.00000000e-01, 5.00000000e-01,\n",
       "        5.00000000e-01, 5.00000000e-01, 5.00000000e-01, 5.00000000e-01,\n",
       "        5.00000000e-01, 5.00000000e-01, 5.00000000e-01, 5.00000000e-01,\n",
       "        5.00000000e-01, 5.00000000e-01, 5.00000000e-01, 5.00000000e-01,\n",
       "        5.00000000e-01, 5.00000000e-01, 5.00000000e-01, 5.00000000e-01,\n",
       "        5.00000000e-01, 5.00000000e-01]])"
      ]
     },
     "execution_count": 35,
     "metadata": {},
     "output_type": "execute_result"
    },
    {
     "data": {
      "image/png": "[encoded data removed]",
      "text/plain": [
       "<Figure size 288x288 with 1 Axes>"
      ]
     },
     "metadata": {
      "needs_background": "light"
     },
     "output_type": "display_data"
    },
    {
     "data": {
      "image/png": "[encoded data removed]",
      "text/plain": [
       "<Figure size 288x288 with 1 Axes>"
      ]
     },
     "metadata": {
      "needs_background": "light"
     },
     "output_type": "display_data"
    },
    {
     "data": {
      "image/png": "[encoded data removed]",
      "text/plain": [
       "<Figure size 288x288 with 1 Axes>"
      ]
     },
     "metadata": {
      "needs_background": "light"
     },
     "output_type": "display_data"
    },
    {
     "data": {
      "image/png": "[encoded data removed]",
      "text/plain": [
       "<Figure size 288x288 with 1 Axes>"
      ]
     },
     "metadata": {
      "needs_background": "light"
     },
     "output_type": "display_data"
    },
    {
     "data": {
      "image/png": "[encoded data removed]",
      "text/plain": [
       "<Figure size 288x288 with 1 Axes>"
      ]
     },
     "metadata": {
      "needs_background": "light"
     },
     "output_type": "display_data"
    },
    {
     "data": {
      "image/png": "[encoded data removed]",
      "text/plain": [
       "<Figure size 288x288 with 1 Axes>"
      ]
     },
     "metadata": {
      "needs_background": "light"
     },
     "output_type": "display_data"
    },
    {
     "data": {
      "image/png": "[encoded data removed]",
      "text/plain": [
       "<Figure size 288x288 with 1 Axes>"
      ]
     },
     "metadata": {
      "needs_background": "light"
     },
     "output_type": "display_data"
    },
    {
     "data": {
      "image/png": "[encoded data removed]",
      "text/plain": [
       "<Figure size 288x288 with 1 Axes>"
      ]
     },
     "metadata": {
      "needs_background": "light"
     },
     "output_type": "display_data"
    },
    {
     "data": {
      "image/png": "[encoded data removed]",
      "text/plain": [
       "<Figure size 288x288 with 1 Axes>"
      ]
     },
     "metadata": {
      "needs_background": "light"
     },
     "output_type": "display_data"
    },
    {
     "data": {
      "image/png": "[encoded data removed]",
      "text/plain": [
       "<Figure size 288x288 with 1 Axes>"
      ]
     },
     "metadata": {
      "needs_background": "light"
     },
     "output_type": "display_data"
    },
    {
     "data": {
      "image/png": "[encoded data removed]",
      "text/plain": [
       "<Figure size 288x288 with 1 Axes>"
      ]
     },
     "metadata": {
      "needs_background": "light"
     },
     "output_type": "display_data"
    },
    {
     "data": {
      "image/png": "[encoded data removed]",
      "text/plain": [
       "<Figure size 288x288 with 1 Axes>"
      ]
     },
     "metadata": {
      "needs_background": "light"
     },
     "output_type": "display_data"
    },
    {
     "data": {
      "image/png": "[encoded data removed]",
      "text/plain": [
       "<Figure size 288x288 with 1 Axes>"
      ]
     },
     "metadata": {
      "needs_background": "light"
     },
     "output_type": "display_data"
    },
    {
     "data": {
      "image/png": "[encoded data removed]",
      "text/plain": [
       "<Figure size 288x288 with 1 Axes>"
      ]
     },
     "metadata": {
      "needs_background": "light"
     },
     "output_type": "display_data"
    },
    {
     "data": {
      "image/png": "[encoded data removed]",
      "text/plain": [
       "<Figure size 288x288 with 1 Axes>"
      ]
     },
     "metadata": {
      "needs_background": "light"
     },
     "output_type": "display_data"
    },
    {
     "data": {
      "image/png": "[encoded data removed]",
      "text/plain": [
       "<Figure size 288x288 with 1 Axes>"
      ]
     },
     "metadata": {
      "needs_background": "light"
     },
     "output_type": "display_data"
    },
    {
     "data": {
      "image/png": "[encoded data removed]",
      "text/plain": [
       "<Figure size 288x288 with 1 Axes>"
      ]
     },
     "metadata": {
      "needs_background": "light"
     },
     "output_type": "display_data"
    },
    {
     "data": {
      "image/png": "[encoded data removed]",
      "text/plain": [
       "<Figure size 288x288 with 1 Axes>"
      ]
     },
     "metadata": {
      "needs_background": "light"
     },
     "output_type": "display_data"
    },
    {
     "data": {
      "image/png": "[encoded data removed]",
      "text/plain": [
       "<Figure size 288x288 with 1 Axes>"
      ]
     },
     "metadata": {
      "needs_background": "light"
     },
     "output_type": "display_data"
    },
    {
     "data": {
      "image/png": "[encoded data removed]",
      "text/plain": [
       "<Figure size 288x288 with 1 Axes>"
      ]
     },
     "metadata": {
      "needs_background": "light"
     },
     "output_type": "display_data"
    }
   ],
   "source": [
    "print(\"reconstructing images...\")\n",
    "test_model.xrecons_grid(int(index), data)"
   ]
  },
  {
   "cell_type": "code",
   "execution_count": null,
   "metadata": {},
   "outputs": [],
   "source": []
  },
  {
   "cell_type": "code",
   "execution_count": null,
   "metadata": {},
   "outputs": [],
   "source": []
  }
 ],
 "metadata": {
  "kernelspec": {
   "display_name": "Python 3",
   "language": "python",
   "name": "python3"
  },
  "language_info": {
   "codemirror_mode": {
    "name": "ipython",
    "version": 3
   },
   "file_extension": ".py",
   "mimetype": "text/x-python",
   "name": "python",
   "nbconvert_exporter": "python",
   "pygments_lexer": "ipython3",
   "version": "3.7.7"
  }
 },
 "nbformat": 4,
 "nbformat_minor": 4
}
