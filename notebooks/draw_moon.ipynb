{
 "cells": [
  {
   "cell_type": "code",
   "execution_count": 1,
   "metadata": {},
   "outputs": [],
   "source": [
    "import csv\n",
    "import ndjson\n",
    "import os\n",
    "import sys"
   ]
  },
  {
   "cell_type": "code",
   "execution_count": 2,
   "metadata": {},
   "outputs": [
    {
     "name": "stdout",
     "output_type": "stream",
     "text": [
      "root_path: C:\\Users\\ozgur\\Desktop\\sandbox\\sliver-maestro\n"
     ]
    }
   ],
   "source": [
    "base_path = os.getcwd().split('sliver-maestro')[0]\n",
    "root_path = os.path.join(base_path, \"sliver-maestro\")\n",
    "print(\"root_path: {}\".format(root_path))"
   ]
  },
  {
   "cell_type": "code",
   "execution_count": 3,
   "metadata": {},
   "outputs": [],
   "source": [
    "sys.path.insert(1, root_path)\n",
    "from src.utils.model_utils import *\n",
    "from src.draw_model import *\n",
    "from src.generate_images import *"
   ]
  },
  {
   "cell_type": "code",
   "execution_count": 4,
   "metadata": {},
   "outputs": [],
   "source": [
    "categories_file = os.path.join(root_path, \"src\", \"data\", \"categories.csv\")"
   ]
  },
  {
   "cell_type": "code",
   "execution_count": 5,
   "metadata": {},
   "outputs": [],
   "source": [
    "with open(categories_file, newline='') as f:\n",
    "    reader = csv.reader(f)\n",
    "    categories = {rows[0]:rows[0] for rows in reader}"
   ]
  },
  {
   "cell_type": "markdown",
   "metadata": {},
   "source": [
    "#### Select a category to download images from "
   ]
  },
  {
   "cell_type": "code",
   "execution_count": 6,
   "metadata": {},
   "outputs": [],
   "source": [
    "for key, value in categories.items():\n",
    "    #print(key)\n",
    "    pass"
   ]
  },
  {
   "cell_type": "code",
   "execution_count": 7,
   "metadata": {},
   "outputs": [
    {
     "name": "stdout",
     "output_type": "stream",
     "text": [
      "Selected category from the list above:\n",
      "moon\n"
     ]
    }
   ],
   "source": [
    "print(\"Selected category from the list above:\")\n",
    "#category=input()\n",
    "category='moon'\n",
    "print(category)"
   ]
  },
  {
   "cell_type": "code",
   "execution_count": 8,
   "metadata": {},
   "outputs": [
    {
     "name": "stdout",
     "output_type": "stream",
     "text": [
      "Creating directories to save images, weights and the model ...\n",
      "C:\\Users\\ozgur\\Desktop\\sandbox\\sliver-maestro\\src\\data folder exists...\n",
      "C:\\Users\\ozgur\\Desktop\\sandbox\\sliver-maestro\\src\\save folder exists...\n",
      "C:\\Users\\ozgur\\Desktop\\sandbox\\sliver-maestro\\src\\data\\input folder exists...\n",
      "C:\\Users\\ozgur\\Desktop\\sandbox\\sliver-maestro\\src\\data\\output folder exists...\n",
      "C:\\Users\\ozgur\\Desktop\\sandbox\\sliver-maestro\\src\\data\\output\\images folder exists...\n",
      "C:\\Users\\ozgur\\Desktop\\sandbox\\sliver-maestro\\src\\data\\output\\positions folder exists...\n",
      "C:\\Users\\ozgur\\Desktop\\sandbox\\sliver-maestro\\src\\data\\raw folder exists...\n",
      "C:\\Users\\ozgur\\Desktop\\sandbox\\sliver-maestro\\src\\save\\moon folder exists...\n",
      "C:\\Users\\ozgur\\Desktop\\sandbox\\sliver-maestro\\src\\data\\input\\moon folder exists...\n",
      "C:\\Users\\ozgur\\Desktop\\sandbox\\sliver-maestro\\src\\data\\raw\\moon folder exists...\n",
      "C:\\Users\\ozgur\\Desktop\\sandbox\\sliver-maestro\\src\\data\\output\\images\\moon folder exists...\n",
      "src_file: gs://quickdraw_dataset/full/numpy_bitmap/moon.npy, dst_file: C:\\Users\\ozgur\\Desktop\\sandbox\\sliver-maestro\\src\\data\\input\\moon\\moon.npy\n",
      "src_file: gs://quickdraw_dataset/full/raw/moon.ndjson, dst_file: C:\\Users\\ozgur\\Desktop\\sandbox\\sliver-maestro\\src\\data\\raw\\moon\\moon.ndjson\n"
     ]
    }
   ],
   "source": [
    "print(\"Creating directories to save images, weights and the model ...\")\n",
    "src_list, dst_list, paths_dict = create_folders(root_path, categories, category)\n",
    "\n",
    "for (src_file, dst_file) in zip(src_list, dst_list): \n",
    "    print('src_file: {}, dst_file: {}'.format(src_file, dst_file))"
   ]
  },
  {
   "cell_type": "code",
   "execution_count": 9,
   "metadata": {},
   "outputs": [
    {
     "name": "stderr",
     "output_type": "stream",
     "text": [
      "Copying gs://quickdraw_dataset/full/numpy_bitmap/moon.npy...\n",
      "/ [0/1 files][    0.0 B/ 91.0 MiB]   0% Done                                    \n",
      "/ [0/1 files][264.0 KiB/ 91.0 MiB]   0% Done                                    \n",
      "-\n",
      "\\\n",
      "\\ [0/1 files][  7.0 MiB/ 91.0 MiB]   7% Done                                    \n",
      "|\n",
      "/\n",
      "/ [0/1 files][ 13.4 MiB/ 91.0 MiB]  14% Done                                    \n",
      "-\n",
      "- [0/1 files][ 20.1 MiB/ 91.0 MiB]  22% Done                                    \n",
      "\\\n",
      "|\n",
      "| [0/1 files][ 27.1 MiB/ 91.0 MiB]  29% Done                                    \n",
      "/\n",
      "-\n",
      "- [0/1 files][ 33.5 MiB/ 91.0 MiB]  36% Done                                    \n",
      "\\\n",
      "\\ [0/1 files][ 40.2 MiB/ 91.0 MiB]  44% Done                                    \n",
      "|\n",
      "/\n",
      "/ [0/1 files][ 46.2 MiB/ 91.0 MiB]  50% Done                                    \n",
      "-\n",
      "\\\n",
      "\\ [0/1 files][ 51.6 MiB/ 91.0 MiB]  56% Done                                    \n",
      "|\n",
      "| [0/1 files][ 56.2 MiB/ 91.0 MiB]  61% Done                                    \n",
      "/\n",
      "/ [0/1 files][ 60.3 MiB/ 91.0 MiB]  66% Done   5.3 MiB/s ETA 00:00:06           \n",
      "-\n",
      "\\\n",
      "\\ [0/1 files][ 65.7 MiB/ 91.0 MiB]  72% Done   5.0 MiB/s ETA 00:00:05           \n",
      "|\n",
      "/\n",
      "/ [0/1 files][ 72.7 MiB/ 91.0 MiB]  79% Done   5.2 MiB/s ETA 00:00:04           \n",
      "-\n",
      "- [0/1 files][ 79.4 MiB/ 91.0 MiB]  87% Done   5.5 MiB/s ETA 00:00:02           \n",
      "\\\n",
      "|\n",
      "| [0/1 files][ 86.1 MiB/ 91.0 MiB]  94% Done   5.9 MiB/s ETA 00:00:01           \n",
      "/\n",
      "/ [1/1 files][ 91.0 MiB/ 91.0 MiB] 100% Done   6.3 MiB/s ETA 00:00:00           \n",
      "\n",
      "Operation completed over 1 objects/91.0 MiB.                                     \n",
      "Copying gs://quickdraw_dataset/full/raw/moon.ndjson...\n",
      "/ [0/1 files][    0.0 B/315.6 MiB]   0% Done                                    \n",
      "/ [0/1 files][    0.0 B/315.6 MiB]   0% Done                                    \n",
      "-\n",
      "\\\n",
      "\\ [0/1 files][528.0 KiB/315.6 MiB]   0% Done                                    \n",
      "|\n",
      "| [0/1 files][  6.7 MiB/315.6 MiB]   2% Done                                    \n",
      "/\n",
      "-\n",
      "- [0/1 files][ 12.6 MiB/315.6 MiB]   4% Done                                    \n",
      "\\\n",
      "\\ [0/1 files][ 19.6 MiB/315.6 MiB]   6% Done                                    \n",
      "|\n",
      "/\n",
      "/ [0/1 files][ 26.3 MiB/315.6 MiB]   8% Done                                    \n",
      "-\n",
      "\\\n",
      "\\ [0/1 files][ 33.8 MiB/315.6 MiB]  10% Done                                    \n",
      "|\n",
      "| [0/1 files][ 39.7 MiB/315.6 MiB]  12% Done                                    \n",
      "/\n",
      "-\n",
      "- [0/1 files][ 47.2 MiB/315.6 MiB]  14% Done   6.8 MiB/s ETA 00:00:40           \n",
      "\\\n",
      "|\n",
      "| [0/1 files][ 53.4 MiB/315.6 MiB]  16% Done   6.7 MiB/s ETA 00:00:39           \n",
      "/\n",
      "/ [0/1 files][ 60.8 MiB/315.6 MiB]  19% Done   6.8 MiB/s ETA 00:00:38           \n",
      "-\n",
      "- [0/1 files][ 67.6 MiB/315.6 MiB]  21% Done   6.5 MiB/s ETA 00:00:38           \n",
      "\\\n",
      "|\n",
      "| [0/1 files][ 73.7 MiB/315.6 MiB]  23% Done   6.6 MiB/s ETA 00:00:37           \n",
      "/\n",
      "-\n",
      "- [0/1 files][ 79.2 MiB/315.6 MiB]  25% Done   6.1 MiB/s ETA 00:00:39           \n",
      "\\\n",
      "\\ [0/1 files][ 83.0 MiB/315.6 MiB]  26% Done   5.5 MiB/s ETA 00:00:42           \n",
      "|\n",
      "/\n",
      "/ [0/1 files][ 88.4 MiB/315.6 MiB]  28% Done   5.0 MiB/s ETA 00:00:45           \n",
      "-\n",
      "- [0/1 files][ 96.4 MiB/315.6 MiB]  30% Done   5.5 MiB/s ETA 00:00:40           \n",
      "\\\n",
      "|\n",
      "| [0/1 files][101.3 MiB/315.6 MiB]  32% Done   5.2 MiB/s ETA 00:00:41           \n",
      "/\n",
      "-\n",
      "- [0/1 files][107.2 MiB/315.6 MiB]  33% Done   5.5 MiB/s ETA 00:00:38           \n",
      "\\\n",
      "\\ [0/1 files][114.5 MiB/315.6 MiB]  36% Done   6.3 MiB/s ETA 00:00:32           \n",
      "|\n",
      "/\n",
      "/ [0/1 files][121.4 MiB/315.6 MiB]  38% Done   6.4 MiB/s ETA 00:00:30           \n",
      "-\n",
      "\\\n",
      "\\ [0/1 files][126.8 MiB/315.6 MiB]  40% Done   5.9 MiB/s ETA 00:00:32           \n",
      "|\n",
      "| [0/1 files][132.8 MiB/315.6 MiB]  42% Done   6.2 MiB/s ETA 00:00:30           \n",
      "/\n",
      "-\n",
      "- [0/1 files][140.2 MiB/315.6 MiB]  44% Done   6.5 MiB/s ETA 00:00:27           \n",
      "\\\n",
      "|\n",
      "| [0/1 files][146.7 MiB/315.6 MiB]  46% Done   6.2 MiB/s ETA 00:00:27           \n",
      "/\n",
      "/ [0/1 files][152.9 MiB/315.6 MiB]  48% Done   6.2 MiB/s ETA 00:00:26           \n",
      "-\n",
      "\\\n",
      "\\ [0/1 files][159.6 MiB/315.6 MiB]  50% Done   6.4 MiB/s ETA 00:00:24           \n",
      "|\n",
      "| [0/1 files][164.0 MiB/315.6 MiB]  51% Done   5.9 MiB/s ETA 00:00:26           \n",
      "/\n",
      "-\n",
      "- [0/1 files][165.0 MiB/315.6 MiB]  52% Done   4.4 MiB/s ETA 00:00:34           \n",
      "\\\n",
      "|\n",
      "| [0/1 files][167.9 MiB/315.6 MiB]  53% Done   3.8 MiB/s ETA 00:00:39           \n",
      "/\n",
      "/ [0/1 files][172.0 MiB/315.6 MiB]  54% Done   3.3 MiB/s ETA 00:00:43           \n",
      "-\n",
      "\\\n",
      "\\ [0/1 files][176.6 MiB/315.6 MiB]  55% Done   3.0 MiB/s ETA 00:00:47           \n",
      "|\n",
      "/\n",
      "/ [0/1 files][181.5 MiB/315.6 MiB]  57% Done   3.6 MiB/s ETA 00:00:37           \n",
      "-\n",
      "- [0/1 files][186.7 MiB/315.6 MiB]  59% Done   4.3 MiB/s ETA 00:00:30           \n",
      "\\\n",
      "|\n",
      "| [0/1 files][192.1 MiB/315.6 MiB]  60% Done   4.7 MiB/s ETA 00:00:26           \n",
      "/\n",
      "/ [0/1 files][197.8 MiB/315.6 MiB]  62% Done   5.0 MiB/s ETA 00:00:23           \n",
      "-\n",
      "\\\n",
      "\\ [0/1 files][203.2 MiB/315.6 MiB]  64% Done   5.2 MiB/s ETA 00:00:22           \n",
      "|\n",
      "/\n",
      "/ [0/1 files][207.8 MiB/315.6 MiB]  65% Done   5.1 MiB/s ETA 00:00:21           \n",
      "-\n",
      "- [0/1 files][213.2 MiB/315.6 MiB]  67% Done   4.9 MiB/s ETA 00:00:21           \n",
      "\\\n",
      "|\n",
      "| [0/1 files][219.2 MiB/315.6 MiB]  69% Done   5.0 MiB/s ETA 00:00:19           \n",
      "/\n",
      "-\n",
      "- [0/1 files][225.1 MiB/315.6 MiB]  71% Done   5.1 MiB/s ETA 00:00:18           \n",
      "\\\n",
      "\\ [0/1 files][231.0 MiB/315.6 MiB]  73% Done   5.3 MiB/s ETA 00:00:16           \n",
      "|\n",
      "/\n",
      "/ [0/1 files][235.9 MiB/315.6 MiB]  74% Done   5.2 MiB/s ETA 00:00:15           \n",
      "-\n",
      "\\\n",
      "\\ [0/1 files][242.1 MiB/315.6 MiB]  76% Done   5.6 MiB/s ETA 00:00:13           \n",
      "|\n",
      "| [0/1 files][248.8 MiB/315.6 MiB]  78% Done   5.7 MiB/s ETA 00:00:12           \n",
      "/\n",
      "-\n",
      "- [0/1 files][254.8 MiB/315.6 MiB]  80% Done   5.7 MiB/s ETA 00:00:11           \n",
      "\\\n",
      "|\n",
      "| [0/1 files][260.4 MiB/315.6 MiB]  82% Done   5.7 MiB/s ETA 00:00:10           \n",
      "/\n",
      "/ [0/1 files][265.6 MiB/315.6 MiB]  84% Done   5.7 MiB/s ETA 00:00:09           \n",
      "-\n",
      "\\\n",
      "\\ [0/1 files][270.5 MiB/315.6 MiB]  85% Done   5.4 MiB/s ETA 00:00:08           \n",
      "|\n",
      "/\n",
      "/ [0/1 files][276.2 MiB/315.6 MiB]  87% Done   5.2 MiB/s ETA 00:00:08           \n",
      "-\n",
      "- [0/1 files][281.8 MiB/315.6 MiB]  89% Done   5.1 MiB/s ETA 00:00:07           \n",
      "\\\n",
      "|\n",
      "| [0/1 files][287.2 MiB/315.6 MiB]  91% Done   5.2 MiB/s ETA 00:00:05           \n",
      "/\n",
      "-\n",
      "- [0/1 files][291.9 MiB/315.6 MiB]  92% Done   5.0 MiB/s ETA 00:00:05           \n",
      "\\\n",
      "\\ [0/1 files][297.3 MiB/315.6 MiB]  94% Done   5.2 MiB/s ETA 00:00:04           \n",
      "|\n",
      "/\n",
      "/ [0/1 files][303.0 MiB/315.6 MiB]  95% Done   5.2 MiB/s ETA 00:00:02           \n",
      "-\n",
      "- [0/1 files][308.9 MiB/315.6 MiB]  97% Done   5.3 MiB/s ETA 00:00:01           \n",
      "\\\n",
      "|\n",
      "| [0/1 files][314.8 MiB/315.6 MiB]  99% Done   5.4 MiB/s ETA 00:00:00           \n",
      "| [1/1 files][315.6 MiB/315.6 MiB] 100% Done   5.4 MiB/s ETA 00:00:00           \n",
      "\n",
      "Operation completed over 1 objects/315.6 MiB.                                    \n"
     ]
    }
   ],
   "source": [
    "for (src_file, dst_file) in zip(src_list, dst_list): \n",
    "    !gsutil -m cp {src_file} {dst_file}"
   ]
  },
  {
   "cell_type": "code",
   "execution_count": 10,
   "metadata": {},
   "outputs": [],
   "source": [
    "model_path = os.path.join(paths_dict['input_path'], category, category)"
   ]
  },
  {
   "cell_type": "code",
   "execution_count": 11,
   "metadata": {},
   "outputs": [],
   "source": [
    "npy_data = np.load(paths_dict['base_input'] + '.npy', allow_pickle=True)"
   ]
  },
  {
   "cell_type": "code",
   "execution_count": 12,
   "metadata": {},
   "outputs": [],
   "source": [
    "# load from file-like objects\n",
    "with open(paths_dict['base_raw'] + '.ndjson') as f:\n",
    "    ndjson_data = ndjson.load(f)"
   ]
  },
  {
   "cell_type": "code",
   "execution_count": 13,
   "metadata": {},
   "outputs": [],
   "source": [
    "def plot_bitmap():\n",
    "    print(\"Bitmap image:\")\n",
    "    plt.imshow(npy_data[int(index)].reshape(28,28))"
   ]
  },
  {
   "cell_type": "code",
   "execution_count": 14,
   "metadata": {},
   "outputs": [],
   "source": [
    "def plot_raw():\n",
    "    print(\"Raw image:\")\n",
    "    i = 0\n",
    "    for stroke in ndjson_data[int(index)]['drawing']:\n",
    "        stroke = np.array(stroke)\n",
    "        plt.plot(stroke[0], stroke[1]*-1)\n",
    "        i += 1\n",
    "    print('There are', i, 'number of strokes in this raw image file!')"
   ]
  },
  {
   "cell_type": "code",
   "execution_count": 15,
   "metadata": {},
   "outputs": [
    {
     "name": "stdout",
     "output_type": "stream",
     "text": [
      "There are  121662  images in selected category moon\n",
      "Select an index value from 0 to 121661 to display and compare bitmap and raw images:\n",
      "Bitmap image:\n"
     ]
    },
    {
     "data": {
      "image/png": "[encoded data removed]",
      "text/plain": [
       "<Figure size 432x288 with 1 Axes>"
      ]
     },
     "metadata": {
      "needs_background": "light"
     },
     "output_type": "display_data"
    },
    {
     "name": "stdout",
     "output_type": "stream",
     "text": [
      "Raw image:\n",
      "There are 1 number of strokes in this raw image file!\n"
     ]
    },
    {
     "data": {
      "image/png": "[encoded data removed]",
      "text/plain": [
       "<Figure size 432x288 with 1 Axes>"
      ]
     },
     "metadata": {
      "needs_background": "light"
     },
     "output_type": "display_data"
    }
   ],
   "source": [
    "print('There are ', len(npy_data)+1, ' images in selected category', categories[category])\n",
    "print(\"Select an index value from 0 to\", len(npy_data), \"to display and compare bitmap and raw images:\")\n",
    "#index=input()\n",
    "index='0'\n",
    "plot_bitmap()\n",
    "plt.show()\n",
    "plot_raw()"
   ]
  },
  {
   "cell_type": "code",
   "execution_count": 16,
   "metadata": {},
   "outputs": [],
   "source": [
    "# TRAIN TEST SPLIT\n",
    "filepath = paths_dict['input_path']\n",
    "x_train, x_test, y_train, y_test = split_data(filepath, categories[category], shuffle=False)"
   ]
  },
  {
   "cell_type": "code",
   "execution_count": 17,
   "metadata": {},
   "outputs": [
    {
     "data": {
      "text/plain": [
       "DRAW(\n",
       "  (encoder): LSTMCell(306, 256)\n",
       "  (mu_linear): Linear(in_features=256, out_features=10, bias=True)\n",
       "  (sigma_linear): Linear(in_features=256, out_features=10, bias=True)\n",
       "  (decoder): LSTMCell(10, 256)\n",
       "  (dec_linear): Linear(in_features=256, out_features=5, bias=True)\n",
       "  (dec_w_linear): Linear(in_features=256, out_features=25, bias=True)\n",
       "  (sigmoid): Sigmoid()\n",
       ")"
      ]
     },
     "execution_count": 17,
     "metadata": {},
     "output_type": "execute_result"
    }
   ],
   "source": [
    "DRAW(model_path, category)"
   ]
  },
  {
   "cell_type": "code",
   "execution_count": 18,
   "metadata": {},
   "outputs": [
    {
     "name": "stdout",
     "output_type": "stream",
     "text": [
      "training...\n"
     ]
    },
    {
     "name": "stderr",
     "output_type": "stream",
     "text": [
      "C:\\Users\\ozgur\\Desktop\\sandbox\\sliver-maestro\\src\\draw_model.py:210: UserWarning: torch.nn.utils.clip_grad_norm is now deprecated in favor of torch.nn.utils.clip_grad_norm_.\n",
      "  torch.nn.utils.clip_grad_norm(self.parameters(), self.clip)\n"
     ]
    },
    {
     "name": "stdout",
     "output_type": "stream",
     "text": [
      "Phase: train | Epoch: 0 | Count: 100 \\ Start Time: 12:51:44 | Loss: 328\n",
      "Phase: train | Epoch: 0 | Count: 200 \\ Start Time: 12:52:23 | Loss: 298\n",
      "Phase: train | Epoch: 0 | Count: 300 \\ Start Time: 12:53:02 | Loss: 289\n",
      "Phase: train | Epoch: 0 | Count: 400 \\ Start Time: 12:53:41 | Loss: 277\n",
      "Phase: train | Epoch: 0 | Count: 500 \\ Start Time: 12:54:19 | Loss: 271\n",
      "Phase: train | Epoch: 0 | Count: 600 \\ Start Time: 12:54:58 | Loss: 271\n",
      "Phase: train | Epoch: 0 | Count: 700 \\ Start Time: 12:55:36 | Loss: 261\n",
      "Phase: train | Epoch: 0 | Count: 800 \\ Start Time: 12:56:14 | Loss: 256\n",
      "Phase: train | Epoch: 0 | Count: 900 \\ Start Time: 12:56:53 | Loss: 256\n",
      "Phase: train | Epoch: 0 | Count: 1000 \\ Start Time: 12:57:31 | Loss: 254\n",
      "Phase: train | Epoch: 0 | Count: 1100 \\ Start Time: 12:58:10 | Loss: 252\n",
      "Phase: train | Epoch: 0 | Count: 1200 \\ Start Time: 12:58:49 | Loss: 251\n",
      "Phase: train | Epoch: 0 | Count: 1300 \\ Start Time: 12:59:26 | Loss: 253\n",
      "Phase: train | Epoch: 0 | Count: 1400 \\ Start Time: 13:00:05 | Loss: 246\n",
      "Phase: train | Epoch: 0 | Count: 1500 \\ Start Time: 13:00:49 | Loss: 246\n",
      "Phase: train | Epoch: 1 | Count: 1600 \\ Start Time: 13:01:30 | Loss: 244\n",
      "Phase: train | Epoch: 1 | Count: 1700 \\ Start Time: 13:02:10 | Loss: 243\n",
      "Phase: train | Epoch: 1 | Count: 1800 \\ Start Time: 13:02:50 | Loss: 243\n",
      "Phase: train | Epoch: 1 | Count: 1900 \\ Start Time: 13:03:29 | Loss: 243\n",
      "Phase: train | Epoch: 1 | Count: 2000 \\ Start Time: 13:04:07 | Loss: 239\n",
      "Phase: train | Epoch: 1 | Count: 2100 \\ Start Time: 13:04:45 | Loss: 237\n",
      "Phase: train | Epoch: 1 | Count: 2200 \\ Start Time: 13:05:22 | Loss: 237\n",
      "Phase: train | Epoch: 1 | Count: 2300 \\ Start Time: 13:06:00 | Loss: 235\n",
      "Phase: train | Epoch: 1 | Count: 2400 \\ Start Time: 13:06:38 | Loss: 235\n",
      "Phase: train | Epoch: 1 | Count: 2500 \\ Start Time: 13:07:17 | Loss: 234\n",
      "Phase: train | Epoch: 1 | Count: 2600 \\ Start Time: 13:07:58 | Loss: 235\n",
      "Phase: train | Epoch: 1 | Count: 2700 \\ Start Time: 13:08:37 | Loss: 232\n",
      "Phase: train | Epoch: 1 | Count: 2800 \\ Start Time: 13:09:16 | Loss: 233\n",
      "Phase: train | Epoch: 1 | Count: 2900 \\ Start Time: 13:09:58 | Loss: 232\n",
      "Phase: train | Epoch: 1 | Count: 3000 \\ Start Time: 13:10:37 | Loss: 229\n",
      "Phase: train | Epoch: 2 | Count: 3100 \\ Start Time: 13:11:15 | Loss: 230\n",
      "Phase: train | Epoch: 2 | Count: 3200 \\ Start Time: 13:11:53 | Loss: 229\n",
      "Phase: train | Epoch: 2 | Count: 3300 \\ Start Time: 13:12:32 | Loss: 226\n",
      "Phase: train | Epoch: 2 | Count: 3400 \\ Start Time: 13:13:10 | Loss: 225\n",
      "Phase: train | Epoch: 2 | Count: 3500 \\ Start Time: 13:13:49 | Loss: 224\n",
      "Phase: train | Epoch: 2 | Count: 3600 \\ Start Time: 13:14:30 | Loss: 221\n",
      "Phase: train | Epoch: 2 | Count: 3700 \\ Start Time: 13:15:08 | Loss: 222\n",
      "Phase: train | Epoch: 2 | Count: 3800 \\ Start Time: 13:15:46 | Loss: 221\n",
      "Phase: train | Epoch: 2 | Count: 3900 \\ Start Time: 13:16:24 | Loss: 217\n",
      "Phase: train | Epoch: 2 | Count: 4000 \\ Start Time: 13:17:02 | Loss: 217\n",
      "Phase: train | Epoch: 2 | Count: 4100 \\ Start Time: 13:17:41 | Loss: 217\n",
      "Phase: train | Epoch: 2 | Count: 4200 \\ Start Time: 13:18:19 | Loss: 216\n",
      "Phase: train | Epoch: 2 | Count: 4300 \\ Start Time: 13:18:58 | Loss: 215\n",
      "Phase: train | Epoch: 2 | Count: 4400 \\ Start Time: 13:19:36 | Loss: 217\n",
      "Phase: train | Epoch: 2 | Count: 4500 \\ Start Time: 13:20:14 | Loss: 213\n",
      "Phase: train | Epoch: 3 | Count: 4600 \\ Start Time: 13:20:53 | Loss: 212\n",
      "Phase: train | Epoch: 3 | Count: 4700 \\ Start Time: 13:21:32 | Loss: 209\n",
      "Phase: train | Epoch: 3 | Count: 4800 \\ Start Time: 13:22:09 | Loss: 210\n",
      "Phase: train | Epoch: 3 | Count: 4900 \\ Start Time: 13:22:47 | Loss: 207\n",
      "Phase: train | Epoch: 3 | Count: 5000 \\ Start Time: 13:23:25 | Loss: 206\n",
      "Phase: train | Epoch: 3 | Count: 5100 \\ Start Time: 13:24:04 | Loss: 205\n",
      "Phase: train | Epoch: 3 | Count: 5200 \\ Start Time: 13:24:42 | Loss: 205\n",
      "Phase: train | Epoch: 3 | Count: 5300 \\ Start Time: 13:25:20 | Loss: 210\n",
      "Phase: train | Epoch: 3 | Count: 5400 \\ Start Time: 13:25:58 | Loss: 202\n",
      "Phase: train | Epoch: 3 | Count: 5500 \\ Start Time: 13:26:36 | Loss: 204\n",
      "Phase: train | Epoch: 3 | Count: 5600 \\ Start Time: 13:27:15 | Loss: 203\n",
      "Phase: train | Epoch: 3 | Count: 5700 \\ Start Time: 13:27:51 | Loss: 202\n",
      "Phase: train | Epoch: 3 | Count: 5800 \\ Start Time: 13:28:29 | Loss: 201\n",
      "Phase: train | Epoch: 3 | Count: 5900 \\ Start Time: 13:29:06 | Loss: 203\n",
      "Phase: train | Epoch: 3 | Count: 6000 \\ Start Time: 13:29:44 | Loss: 198\n",
      "Phase: train | Epoch: 4 | Count: 6100 \\ Start Time: 13:30:21 | Loss: 199\n",
      "Phase: train | Epoch: 4 | Count: 6200 \\ Start Time: 13:30:59 | Loss: 201\n",
      "Phase: train | Epoch: 4 | Count: 6300 \\ Start Time: 13:31:38 | Loss: 197\n",
      "Phase: train | Epoch: 4 | Count: 6400 \\ Start Time: 13:32:16 | Loss: 197\n",
      "Phase: train | Epoch: 4 | Count: 6500 \\ Start Time: 13:32:54 | Loss: 195\n",
      "Phase: train | Epoch: 4 | Count: 6600 \\ Start Time: 13:33:32 | Loss: 193\n",
      "Phase: train | Epoch: 4 | Count: 6700 \\ Start Time: 13:34:10 | Loss: 192\n",
      "Phase: train | Epoch: 4 | Count: 6800 \\ Start Time: 13:34:48 | Loss: 194\n",
      "Phase: train | Epoch: 4 | Count: 6900 \\ Start Time: 13:35:27 | Loss: 193\n",
      "Phase: train | Epoch: 4 | Count: 7000 \\ Start Time: 13:36:06 | Loss: 191\n",
      "Phase: train | Epoch: 4 | Count: 7100 \\ Start Time: 13:36:44 | Loss: 193\n",
      "Phase: train | Epoch: 4 | Count: 7200 \\ Start Time: 13:37:23 | Loss: 191\n",
      "Phase: train | Epoch: 4 | Count: 7300 \\ Start Time: 13:38:01 | Loss: 192\n",
      "Phase: train | Epoch: 4 | Count: 7400 \\ Start Time: 13:38:40 | Loss: 193\n",
      "Phase: train | Epoch: 4 | Count: 7500 \\ Start Time: 13:39:18 | Loss: 191\n",
      "Phase: train | Epoch: 4 | Count: 7600 \\ Start Time: 13:39:57 | Loss: 191\n",
      "Phase: train | Epoch: 5 | Count: 7700 \\ Start Time: 13:40:36 | Loss: 188\n",
      "Phase: train | Epoch: 5 | Count: 7800 \\ Start Time: 13:41:15 | Loss: 189\n",
      "Phase: train | Epoch: 5 | Count: 7900 \\ Start Time: 13:41:54 | Loss: 187\n",
      "Phase: train | Epoch: 5 | Count: 8000 \\ Start Time: 13:42:34 | Loss: 188\n",
      "Phase: train | Epoch: 5 | Count: 8100 \\ Start Time: 13:43:12 | Loss: 187\n",
      "Phase: train | Epoch: 5 | Count: 8200 \\ Start Time: 13:43:49 | Loss: 185\n",
      "Phase: train | Epoch: 5 | Count: 8300 \\ Start Time: 13:44:26 | Loss: 188\n",
      "Phase: train | Epoch: 5 | Count: 8400 \\ Start Time: 13:45:03 | Loss: 184\n",
      "Phase: train | Epoch: 5 | Count: 8500 \\ Start Time: 13:45:40 | Loss: 185\n",
      "Phase: train | Epoch: 5 | Count: 8600 \\ Start Time: 13:46:17 | Loss: 185\n",
      "Phase: train | Epoch: 5 | Count: 8700 \\ Start Time: 13:46:54 | Loss: 185\n",
      "Phase: train | Epoch: 5 | Count: 8800 \\ Start Time: 13:47:30 | Loss: 185\n",
      "Phase: train | Epoch: 5 | Count: 8900 \\ Start Time: 13:48:07 | Loss: 187\n",
      "Phase: train | Epoch: 5 | Count: 9000 \\ Start Time: 13:48:44 | Loss: 184\n",
      "Phase: train | Epoch: 5 | Count: 9100 \\ Start Time: 13:49:21 | Loss: 183\n",
      "Phase: train | Epoch: 6 | Count: 9200 \\ Start Time: 13:49:58 | Loss: 183\n",
      "Phase: train | Epoch: 6 | Count: 9300 \\ Start Time: 13:50:35 | Loss: 185\n",
      "Phase: train | Epoch: 6 | Count: 9400 \\ Start Time: 13:51:12 | Loss: 182\n",
      "Phase: train | Epoch: 6 | Count: 9500 \\ Start Time: 13:51:49 | Loss: 183\n",
      "Phase: train | Epoch: 6 | Count: 9600 \\ Start Time: 13:52:24 | Loss: 183\n",
      "Phase: train | Epoch: 6 | Count: 9700 \\ Start Time: 13:52:58 | Loss: 180\n",
      "Phase: train | Epoch: 6 | Count: 9800 \\ Start Time: 13:53:31 | Loss: 182\n",
      "Phase: train | Epoch: 6 | Count: 9900 \\ Start Time: 13:54:04 | Loss: 180\n",
      "Phase: train | Epoch: 6 | Count: 10000 \\ Start Time: 13:54:37 | Loss: 180\n",
      "Phase: train | Epoch: 6 | Count: 10100 \\ Start Time: 13:55:10 | Loss: 181\n",
      "Phase: train | Epoch: 6 | Count: 10200 \\ Start Time: 13:55:44 | Loss: 182\n",
      "Phase: train | Epoch: 6 | Count: 10300 \\ Start Time: 13:56:18 | Loss: 179\n",
      "Phase: train | Epoch: 6 | Count: 10400 \\ Start Time: 13:56:52 | Loss: 181\n",
      "Phase: train | Epoch: 6 | Count: 10500 \\ Start Time: 13:57:25 | Loss: 180\n",
      "Phase: train | Epoch: 6 | Count: 10600 \\ Start Time: 13:57:58 | Loss: 180\n",
      "Phase: train | Epoch: 7 | Count: 10700 \\ Start Time: 13:58:32 | Loss: 182\n",
      "Phase: train | Epoch: 7 | Count: 10800 \\ Start Time: 13:59:05 | Loss: 180\n",
      "Phase: train | Epoch: 7 | Count: 10900 \\ Start Time: 13:59:39 | Loss: 179\n",
      "Phase: train | Epoch: 7 | Count: 11000 \\ Start Time: 14:00:15 | Loss: 178\n",
      "Phase: train | Epoch: 7 | Count: 11100 \\ Start Time: 14:00:52 | Loss: 180\n",
      "Phase: train | Epoch: 7 | Count: 11200 \\ Start Time: 14:01:25 | Loss: 178\n",
      "Phase: train | Epoch: 7 | Count: 11300 \\ Start Time: 14:01:58 | Loss: 179\n"
     ]
    },
    {
     "name": "stdout",
     "output_type": "stream",
     "text": [
      "Phase: train | Epoch: 7 | Count: 11400 \\ Start Time: 14:02:30 | Loss: 178\n",
      "Phase: train | Epoch: 7 | Count: 11500 \\ Start Time: 14:03:03 | Loss: 176\n",
      "Phase: train | Epoch: 7 | Count: 11600 \\ Start Time: 14:03:36 | Loss: 178\n",
      "Phase: train | Epoch: 7 | Count: 11700 \\ Start Time: 14:04:08 | Loss: 178\n",
      "Phase: train | Epoch: 7 | Count: 11800 \\ Start Time: 14:04:40 | Loss: 177\n",
      "Phase: train | Epoch: 7 | Count: 11900 \\ Start Time: 14:05:12 | Loss: 177\n",
      "Phase: train | Epoch: 7 | Count: 12000 \\ Start Time: 14:05:44 | Loss: 179\n",
      "Phase: train | Epoch: 7 | Count: 12100 \\ Start Time: 14:06:15 | Loss: 176\n",
      "Phase: train | Epoch: 8 | Count: 12200 \\ Start Time: 14:06:47 | Loss: 177\n",
      "Phase: train | Epoch: 8 | Count: 12300 \\ Start Time: 14:07:19 | Loss: 178\n",
      "Phase: train | Epoch: 8 | Count: 12400 \\ Start Time: 14:07:51 | Loss: 179\n",
      "Phase: train | Epoch: 8 | Count: 12500 \\ Start Time: 14:08:23 | Loss: 174\n",
      "Phase: train | Epoch: 8 | Count: 12600 \\ Start Time: 14:08:55 | Loss: 177\n",
      "Phase: train | Epoch: 8 | Count: 12700 \\ Start Time: 14:09:27 | Loss: 174\n",
      "Phase: train | Epoch: 8 | Count: 12800 \\ Start Time: 14:09:59 | Loss: 174\n",
      "Phase: train | Epoch: 8 | Count: 12900 \\ Start Time: 14:10:31 | Loss: 175\n",
      "Phase: train | Epoch: 8 | Count: 13000 \\ Start Time: 14:11:02 | Loss: 174\n",
      "Phase: train | Epoch: 8 | Count: 13100 \\ Start Time: 14:11:35 | Loss: 175\n",
      "Phase: train | Epoch: 8 | Count: 13200 \\ Start Time: 14:12:07 | Loss: 176\n",
      "Phase: train | Epoch: 8 | Count: 13300 \\ Start Time: 14:12:38 | Loss: 175\n",
      "Phase: train | Epoch: 8 | Count: 13400 \\ Start Time: 14:13:11 | Loss: 174\n",
      "Phase: train | Epoch: 8 | Count: 13500 \\ Start Time: 14:13:42 | Loss: 177\n",
      "Phase: train | Epoch: 8 | Count: 13600 \\ Start Time: 14:14:14 | Loss: 174\n",
      "Phase: train | Epoch: 9 | Count: 13700 \\ Start Time: 14:14:49 | Loss: 175\n",
      "Phase: train | Epoch: 9 | Count: 13800 \\ Start Time: 14:15:22 | Loss: 174\n",
      "Phase: train | Epoch: 9 | Count: 13900 \\ Start Time: 14:15:54 | Loss: 174\n",
      "Phase: train | Epoch: 9 | Count: 14000 \\ Start Time: 14:16:27 | Loss: 172\n",
      "Phase: train | Epoch: 9 | Count: 14100 \\ Start Time: 14:17:00 | Loss: 174\n",
      "Phase: train | Epoch: 9 | Count: 14200 \\ Start Time: 14:17:33 | Loss: 174\n",
      "Phase: train | Epoch: 9 | Count: 14300 \\ Start Time: 14:18:06 | Loss: 172\n",
      "Phase: train | Epoch: 9 | Count: 14400 \\ Start Time: 14:18:39 | Loss: 173\n",
      "Phase: train | Epoch: 9 | Count: 14500 \\ Start Time: 14:19:11 | Loss: 171\n",
      "Phase: train | Epoch: 9 | Count: 14600 \\ Start Time: 14:19:43 | Loss: 172\n",
      "Phase: train | Epoch: 9 | Count: 14700 \\ Start Time: 14:20:16 | Loss: 175\n",
      "Phase: train | Epoch: 9 | Count: 14800 \\ Start Time: 14:20:49 | Loss: 174\n",
      "Phase: train | Epoch: 9 | Count: 14900 \\ Start Time: 14:21:22 | Loss: 172\n",
      "Phase: train | Epoch: 9 | Count: 15000 \\ Start Time: 14:21:54 | Loss: 174\n",
      "Phase: train | Epoch: 9 | Count: 15100 \\ Start Time: 14:22:26 | Loss: 173\n",
      "Phase: train | Epoch: 9 | Count: 15200 \\ Start Time: 14:22:58 | Loss: 172\n"
     ]
    }
   ],
   "source": [
    "# TRAINING AND TESTING\n",
    "\n",
    "#train_data = Dataset(x_train)\n",
    "#test_data = Dataset(x_test)\n",
    "\n",
    "\n",
    "\n",
    "model = DRAW(category)\n",
    "print(\"training...\")\n",
    "model.start(phase='train') \n",
    "\n"
   ]
  },
  {
   "cell_type": "markdown",
   "metadata": {},
   "source": [
    "## Generating Images"
   ]
  },
  {
   "cell_type": "code",
   "execution_count": 19,
   "metadata": {},
   "outputs": [],
   "source": [
    "test_model = Test(category)"
   ]
  },
  {
   "cell_type": "code",
   "execution_count": 20,
   "metadata": {},
   "outputs": [
    {
     "name": "stdout",
     "output_type": "stream",
     "text": [
      "reconstructing images...\n",
      "C:\\Users\\ozgur\\Desktop\\sandbox\\sliver-maestro\\src\\data\\output\\images\\moon\\moon_test_0.png\n",
      "C:\\Users\\ozgur\\Desktop\\sandbox\\sliver-maestro\\src\\data\\output\\images\\moon\\moon_test_1.png\n",
      "C:\\Users\\ozgur\\Desktop\\sandbox\\sliver-maestro\\src\\data\\output\\images\\moon\\moon_test_2.png\n",
      "C:\\Users\\ozgur\\Desktop\\sandbox\\sliver-maestro\\src\\data\\output\\images\\moon\\moon_test_3.png\n",
      "C:\\Users\\ozgur\\Desktop\\sandbox\\sliver-maestro\\src\\data\\output\\images\\moon\\moon_test_4.png\n",
      "C:\\Users\\ozgur\\Desktop\\sandbox\\sliver-maestro\\src\\data\\output\\images\\moon\\moon_test_5.png\n",
      "C:\\Users\\ozgur\\Desktop\\sandbox\\sliver-maestro\\src\\data\\output\\images\\moon\\moon_test_6.png\n",
      "C:\\Users\\ozgur\\Desktop\\sandbox\\sliver-maestro\\src\\data\\output\\images\\moon\\moon_test_7.png\n",
      "C:\\Users\\ozgur\\Desktop\\sandbox\\sliver-maestro\\src\\data\\output\\images\\moon\\moon_test_8.png\n",
      "C:\\Users\\ozgur\\Desktop\\sandbox\\sliver-maestro\\src\\data\\output\\images\\moon\\moon_test_9.png\n"
     ]
    },
    {
     "data": {
      "text/plain": [
       "array([[5.00000000e-01, 5.00000000e-01, 5.00000000e-01, 5.00000000e-01,\n",
       "        5.00000000e-01, 5.00000000e-01, 5.00000000e-01, 5.00000000e-01,\n",
       "        5.00000000e-01, 5.00000000e-01, 5.00000000e-01, 5.00000000e-01,\n",
       "        5.00000000e-01, 5.00000000e-01, 5.00000000e-01, 5.00000000e-01,\n",
       "        5.00000000e-01, 5.00000000e-01, 5.00000000e-01, 5.00000000e-01,\n",
       "        5.00000000e-01, 5.00000000e-01, 5.00000000e-01, 5.00000000e-01,\n",
       "        5.00000000e-01, 5.00000000e-01, 5.00000000e-01, 5.00000000e-01,\n",
       "        5.00000000e-01, 5.00000000e-01],\n",
       "       [5.00000000e-01, 0.00000000e+00, 0.00000000e+00, 0.00000000e+00,\n",
       "        1.24781410e-38, 7.31817328e-29, 5.75877359e-23, 5.69929179e-21,\n",
       "        2.04070587e-21, 1.95297474e-22, 1.02091059e-22, 3.89613706e-22,\n",
       "        4.51642957e-21, 2.85897349e-19, 3.35652581e-16, 3.35632780e-12,\n",
       "        1.68163350e-08, 3.68044539e-06, 2.54349980e-05, 1.86835059e-05,\n",
       "        4.75393699e-06, 5.44391128e-07, 1.68427849e-08, 8.70383002e-11,\n",
       "        1.44270934e-13, 8.27140114e-16, 3.16742571e-16, 2.67916877e-14,\n",
       "        9.61357383e-11, 5.00000000e-01],\n",
       "       [5.00000000e-01, 0.00000000e+00, 0.00000000e+00, 1.31243393e-33,\n",
       "        1.39944522e-28, 7.07373842e-25, 1.15049279e-22, 1.45668081e-21,\n",
       "        1.67515335e-20, 1.81916145e-18, 4.13551893e-15, 4.19986754e-11,\n",
       "        1.54564916e-07, 6.68264911e-05, 5.05801616e-03, 9.59074870e-02,\n",
       "        3.63486677e-01, 4.60410923e-01, 3.80218685e-01, 2.60370433e-01,\n",
       "        1.35167122e-01, 3.56187001e-02, 3.60292173e-03, 1.58246592e-04,\n",
       "        5.03059437e-06, 3.20279014e-07, 1.37586724e-07, 6.87718114e-07,\n",
       "        2.13008461e-05, 5.00000000e-01],\n",
       "       [5.00000000e-01, 0.00000000e+00, 2.05410438e-32, 9.23602142e-28,\n",
       "        2.59990164e-25, 5.03628366e-23, 1.03045847e-20, 2.68648576e-18,\n",
       "        1.80613704e-15, 4.72579311e-12, 3.12237347e-08, 1.21488018e-04,\n",
       "        4.99010943e-02, 5.87757409e-01, 8.27612162e-01, 8.42522383e-01,\n",
       "        7.82212019e-01, 6.69844210e-01, 5.71737468e-01, 5.41063666e-01,\n",
       "        5.19772649e-01, 3.97094399e-01, 1.67269200e-01, 3.05140708e-02,\n",
       "        3.36080510e-03, 4.21545148e-04, 1.23050297e-04, 1.41175449e-04,\n",
       "        6.27727190e-04, 5.00000000e-01],\n",
       "       [5.00000000e-01, 0.00000000e+00, 4.75577207e-33, 1.84919503e-29,\n",
       "        4.60447479e-27, 1.81454101e-23, 4.06926824e-19, 8.99669692e-15,\n",
       "        1.16057657e-10, 6.69353255e-07, 9.82053811e-04, 1.49608955e-01,\n",
       "        7.06758380e-01, 7.80630291e-01, 6.30690277e-01, 4.43769097e-01,\n",
       "        3.52484405e-01, 3.27087581e-01, 3.48374307e-01, 4.27669883e-01,\n",
       "        5.29360354e-01, 5.56630254e-01, 4.23947215e-01, 1.65983468e-01,\n",
       "        2.72591989e-02, 2.90541956e-03, 4.07044485e-04, 1.63467193e-04,\n",
       "        3.10807780e-04, 5.00000000e-01],\n",
       "       [5.00000000e-01, 0.00000000e+00, 1.36412964e-37, 3.89574164e-34,\n",
       "        1.26014151e-30, 1.81887146e-24, 1.74098987e-17, 1.70110939e-11,\n",
       "        7.42514260e-07, 1.86736870e-03, 2.12557763e-01, 6.99712455e-01,\n",
       "        6.67110801e-01, 3.31724882e-01, 1.17893681e-01, 8.47397149e-02,\n",
       "        1.25077754e-01, 2.06830174e-01, 3.02837968e-01, 4.26966697e-01,\n",
       "        5.66701472e-01, 6.37257278e-01, 5.49039662e-01, 2.51960218e-01,\n",
       "        3.60056423e-02, 2.17275275e-03, 1.27646781e-04, 2.19991562e-05,\n",
       "        2.87345865e-05, 5.00000000e-01],\n",
       "       [5.00000000e-01, 0.00000000e+00, 0.00000000e+00, 1.35718039e-36,\n",
       "        6.80856437e-32, 1.16097630e-23, 6.21077888e-15, 2.93098381e-08,\n",
       "        7.02278514e-04, 2.13686079e-01, 7.68972874e-01, 7.20251262e-01,\n",
       "        2.94717699e-01, 5.79734370e-02, 2.67593134e-02, 4.82503884e-02,\n",
       "        1.51278779e-01, 3.19550246e-01, 4.39146042e-01, 5.34000099e-01,\n",
       "        6.28274500e-01, 6.67561471e-01, 5.59901536e-01, 2.34494835e-01,\n",
       "        2.54042950e-02, 9.94409667e-04, 3.43745705e-05, 3.80669098e-06,\n",
       "        4.47883986e-06, 5.00000000e-01],\n",
       "       [5.00000000e-01, 0.00000000e+00, 1.67171642e-38, 5.86911977e-34,\n",
       "        1.22219261e-28, 4.67042297e-20, 2.19469547e-11, 2.89866948e-05,\n",
       "        7.61499032e-02, 7.40525603e-01, 8.01812589e-01, 4.24352288e-01,\n",
       "        7.32358098e-02, 2.06186399e-02, 2.78958138e-02, 1.17699750e-01,\n",
       "        3.86410594e-01, 5.61396122e-01, 5.62335074e-01, 5.23188949e-01,\n",
       "        5.09049177e-01, 4.88234669e-01, 3.66272062e-01, 1.32973000e-01,\n",
       "        1.51317166e-02, 7.17571413e-04, 3.09822608e-05, 4.15284740e-06,\n",
       "        5.40775454e-06, 5.00000000e-01],\n",
       "       [5.00000000e-01, 0.00000000e+00, 7.65454187e-34, 9.42990575e-28,\n",
       "        2.73949784e-22, 8.28827160e-15, 1.30072578e-07, 6.86876196e-03,\n",
       "        5.18474460e-01, 7.68095136e-01, 5.02833545e-01, 1.12243637e-01,\n",
       "        2.68295482e-02, 2.73649506e-02, 1.12819485e-01, 4.57896709e-01,\n",
       "        6.97613895e-01, 6.39568150e-01, 3.97372305e-01, 1.91000283e-01,\n",
       "        1.08582139e-01, 8.58529508e-02, 6.93947002e-02, 3.39541137e-02,\n",
       "        7.27678370e-03, 7.94991327e-04, 8.34352322e-05, 2.27488708e-05,\n",
       "        3.79563717e-05, 5.00000000e-01],\n",
       "       [5.00000000e-01, 0.00000000e+00, 8.64652869e-30, 5.66702983e-22,\n",
       "        2.46291982e-16, 4.25620622e-10, 1.53210203e-04, 2.26426303e-01,\n",
       "        7.50624239e-01, 5.63586891e-01, 1.47614807e-01, 3.34695913e-02,\n",
       "        2.94645950e-02, 1.24802336e-01, 5.61765790e-01, 8.12133312e-01,\n",
       "        7.12688208e-01, 2.87682444e-01, 4.25801612e-02, 6.09808788e-03,\n",
       "        1.80038868e-03, 1.49955926e-03, 2.41336413e-03, 3.26609239e-03,\n",
       "        2.07732571e-03, 6.51175447e-04, 1.81497671e-04, 1.04664272e-04,\n",
       "        2.32726321e-04, 5.00000000e-01],\n",
       "       [5.00000000e-01, 0.00000000e+00, 3.08473551e-28, 5.79802169e-19,\n",
       "        6.30936059e-13, 3.10832689e-07, 1.24050779e-02, 7.15047121e-01,\n",
       "        7.72606254e-01, 2.69214600e-01, 4.02079895e-02, 2.40275413e-02,\n",
       "        9.60644484e-02, 5.64077973e-01, 8.49513710e-01, 6.43704534e-01,\n",
       "        7.54503310e-02, 3.18516535e-03, 2.13640305e-04, 2.13019630e-05,\n",
       "        5.13097302e-06, 5.94613903e-06, 2.55495015e-05, 1.29314169e-04,\n",
       "        2.71390221e-04, 1.90104751e-04, 8.34052407e-05, 6.31736912e-05,\n",
       "        1.71461652e-04, 5.00000000e-01],\n",
       "       [5.00000000e-01, 0.00000000e+00, 2.71014647e-28, 8.09987581e-18,\n",
       "        2.07424113e-11, 7.98179371e-06, 1.06865279e-01, 8.54182243e-01,\n",
       "        6.38713121e-01, 7.03902915e-02, 1.22841075e-02, 3.19601260e-02,\n",
       "        3.64090592e-01, 8.31991196e-01, 5.37207127e-01, 4.71554417e-03,\n",
       "        1.03312823e-05, 3.42569081e-07, 9.64681561e-08, 3.02078327e-08,\n",
       "        1.14124079e-08, 1.96204279e-08, 1.94209051e-07, 3.19716742e-06,\n",
       "        1.79817016e-05, 1.73434819e-05, 5.64808443e-06, 2.87325747e-06,\n",
       "        8.10754955e-06, 5.00000000e-01],\n",
       "       [5.00000000e-01, 0.00000000e+00, 5.80988401e-28, 1.52132530e-16,\n",
       "        4.45178810e-10, 8.98469370e-05, 3.12664181e-01, 8.63139510e-01,\n",
       "        3.64977807e-01, 1.41855758e-02, 4.88730241e-03, 5.96646294e-02,\n",
       "        7.17918158e-01, 8.16575885e-01, 1.31567484e-02, 3.47066958e-07,\n",
       "        6.42657247e-11, 7.75603366e-12, 4.42926494e-11, 1.34870309e-10,\n",
       "        1.30357031e-10, 3.00170055e-10, 4.30038760e-09, 1.32090932e-07,\n",
       "        1.19480592e-06, 9.78108119e-07, 1.46010677e-07, 3.41254633e-08,\n",
       "        9.03038995e-08, 5.00000000e-01],\n",
       "       [5.00000000e-01, 0.00000000e+00, 4.21003725e-26, 1.98047890e-14,\n",
       "        2.81044823e-08, 1.37783750e-03, 5.94300449e-01, 8.49850476e-01,\n",
       "        1.89660802e-01, 5.86767402e-03, 5.22167329e-03, 1.86528862e-01,\n",
       "        9.10504878e-01, 7.12929666e-01, 2.26482953e-04, 2.91523583e-10,\n",
       "        2.64145327e-14, 1.40912172e-14, 6.83612617e-13, 9.88148105e-12,\n",
       "        2.06092348e-11, 6.29052574e-11, 9.66928093e-10, 2.85095734e-08,\n",
       "        2.09420094e-07, 1.08075696e-07, 8.50176018e-09, 1.20466126e-09,\n",
       "        3.26450644e-09, 5.00000000e-01],\n",
       "       [5.00000000e-01, 0.00000000e+00, 5.04919131e-23, 4.00129192e-12,\n",
       "        1.71088891e-06, 1.75880101e-02, 7.98078656e-01, 8.24101329e-01,\n",
       "        1.05072618e-01, 4.51542623e-03, 1.23743704e-02, 5.60896873e-01,\n",
       "        9.71115589e-01, 5.62968314e-01, 2.39054243e-05, 3.86502774e-11,\n",
       "        1.49999083e-14, 1.81163068e-14, 6.55244359e-13, 6.22295488e-12,\n",
       "        1.52545528e-11, 8.09443762e-11, 1.69542635e-09, 3.67660675e-08,\n",
       "        1.43420280e-07, 5.02969826e-08, 4.28963931e-09, 8.49224302e-10,\n",
       "        3.08284753e-09, 5.00000000e-01],\n",
       "       [5.00000000e-01, 0.00000000e+00, 4.46398422e-20, 1.52148946e-10,\n",
       "        2.21767477e-05, 8.05276036e-02, 8.65705311e-01, 7.16676474e-01,\n",
       "        3.08299083e-02, 1.67754351e-03, 1.53650679e-02, 7.95072675e-01,\n",
       "        9.80472028e-01, 2.06589058e-01, 1.69333828e-06, 1.37647619e-11,\n",
       "        7.64001899e-14, 1.88354364e-13, 1.56167115e-12, 3.14408417e-12,\n",
       "        6.28881929e-12, 8.25204002e-11, 4.11769641e-09, 9.17312306e-08,\n",
       "        2.29338411e-07, 8.33133242e-08, 1.66646679e-08, 9.84650139e-09,\n",
       "        6.01333383e-08, 5.00000000e-01],\n",
       "       [5.00000000e-01, 7.16677970e-36, 2.74941787e-18, 6.96692704e-10,\n",
       "        5.17447988e-05, 1.27702311e-01, 8.67266357e-01, 5.27551353e-01,\n",
       "        6.13879878e-03, 3.03735200e-04, 7.02432962e-03, 8.21040273e-01,\n",
       "        9.76795435e-01, 3.72217409e-02, 6.56754935e-08, 1.17405868e-12,\n",
       "        4.94394734e-14, 2.80022668e-13, 9.22025043e-13, 5.59138348e-13,\n",
       "        8.96101607e-13, 2.64165877e-11, 3.75515974e-09, 1.43606286e-07,\n",
       "        4.16780296e-07, 2.37290678e-07, 1.34141388e-07, 2.45404692e-07,\n",
       "        2.36276628e-06, 5.00000000e-01],\n",
       "       [5.00000000e-01, 2.82472762e-34, 2.00477677e-17, 1.50587687e-09,\n",
       "        6.47200213e-05, 1.31692857e-01, 8.61051679e-01, 4.66793209e-01,\n",
       "        3.34816659e-03, 1.20153891e-04, 3.10788560e-03, 7.74188340e-01,\n",
       "        9.79063451e-01, 3.35276835e-02, 3.15955830e-08, 3.96930373e-13,\n",
       "        2.01736126e-14, 1.46417709e-13, 4.18752110e-13, 1.63150201e-13,\n",
       "        1.71576810e-13, 4.78492029e-12, 1.10394649e-09, 9.29115274e-08,\n",
       "        5.57927422e-07, 5.68907637e-07, 5.45195405e-07, 1.50644723e-06,\n",
       "        1.58576186e-05, 5.00000000e-01],\n",
       "       [5.00000000e-01, 2.03972621e-35, 8.20070631e-17, 3.92722299e-09,\n",
       "        7.58655442e-05, 1.09284163e-01, 8.49902570e-01, 5.44770241e-01,\n",
       "        5.25099970e-03, 1.08725078e-04, 1.22889667e-03, 5.48824310e-01,\n",
       "        9.79744315e-01, 1.48030654e-01, 3.35309124e-07, 2.10865331e-12,\n",
       "        3.46239659e-14, 1.80093408e-13, 6.83185117e-13, 2.33431005e-13,\n",
       "        8.93111607e-14, 7.39736939e-13, 1.26457261e-10, 2.41560123e-08,\n",
       "        4.19339472e-07, 6.80960795e-07, 5.21636991e-07, 8.82570873e-07,\n",
       "        6.79600362e-06, 5.00000000e-01],\n",
       "       [5.00000000e-01, 4.23133304e-36, 3.95898435e-16, 7.58849605e-09,\n",
       "        4.95427848e-05, 5.28633744e-02, 7.85146117e-01, 6.11486077e-01,\n",
       "        1.00590801e-02, 1.13004950e-04, 3.44068016e-04, 1.49602175e-01,\n",
       "        9.53073263e-01, 4.40314531e-01, 1.01078349e-05, 6.56836668e-11,\n",
       "        3.68178334e-13, 1.10027027e-12, 4.67599483e-12, 1.16285757e-12,\n",
       "        1.16941626e-13, 1.90289489e-13, 1.63726758e-11, 5.22855004e-09,\n",
       "        1.99883033e-07, 3.63745556e-07, 1.38608854e-07, 9.22116996e-08,\n",
       "        4.51250713e-07, 5.00000000e-01],\n",
       "       [5.00000000e-01, 5.75810398e-34, 2.29672857e-15, 5.16653165e-09,\n",
       "        1.10483707e-05, 1.20919580e-02, 6.22644305e-01, 6.69888139e-01,\n",
       "        3.10681090e-02, 3.50528455e-04, 3.13169468e-04, 3.84864435e-02,\n",
       "        8.44671786e-01, 6.85714304e-01, 6.58734760e-04, 2.51465142e-08,\n",
       "        9.75621597e-11, 7.91384042e-11, 1.23387300e-10, 1.60762254e-11,\n",
       "        7.75750883e-13, 5.14569182e-13, 2.05742402e-11, 4.20828350e-09,\n",
       "        1.22635740e-07, 1.51587358e-07, 3.11039585e-08, 1.09734462e-08,\n",
       "        4.17218438e-08, 5.00000000e-01],\n",
       "       [5.00000000e-01, 8.62024727e-30, 9.65650255e-15, 1.22176391e-09,\n",
       "        1.01790988e-06, 1.55482441e-03, 3.68875712e-01, 7.45400429e-01,\n",
       "        1.83854595e-01, 5.84448595e-03, 2.14931625e-03, 3.30307782e-02,\n",
       "        6.29070282e-01, 8.15015078e-01, 7.19307438e-02, 8.38017877e-05,\n",
       "        4.32303068e-07, 4.42653523e-08, 9.45333589e-09, 6.80717371e-10,\n",
       "        4.68008375e-11, 3.51029900e-11, 5.88893823e-10, 2.53775525e-08,\n",
       "        1.92538806e-07, 1.28306212e-07, 2.53026826e-08, 1.02885442e-08,\n",
       "        4.24871587e-08, 5.00000000e-01],\n",
       "       [5.00000000e-01, 3.16476481e-26, 2.04257438e-14, 2.01264200e-10,\n",
       "        6.78264627e-08, 1.30423359e-04, 1.14149630e-01, 7.36046851e-01,\n",
       "        5.72465420e-01, 1.15579009e-01, 2.84860823e-02, 5.20261787e-02,\n",
       "        3.39351892e-01, 7.66455293e-01, 6.37571633e-01, 5.62645085e-02,\n",
       "        7.70853076e-04, 1.94483910e-05, 9.95474352e-07, 7.22451148e-08,\n",
       "        1.29243825e-08, 1.48755035e-08, 8.96847538e-08, 5.57266446e-07,\n",
       "        9.13831514e-07, 4.19985042e-07, 1.44159671e-07, 1.20273612e-07,\n",
       "        6.19185187e-07, 5.00000000e-01],\n",
       "       [5.00000000e-01, 3.17813496e-25, 1.24855790e-14, 1.84329236e-11,\n",
       "        1.73271153e-09, 2.87642138e-06, 7.05923140e-03, 4.25954759e-01,\n",
       "        7.09051728e-01, 5.31566143e-01, 2.22701177e-01, 1.10312797e-01,\n",
       "        1.77425385e-01, 5.13647139e-01, 7.37037480e-01, 4.91208076e-01,\n",
       "        4.96405698e-02, 1.67034555e-03, 9.10763411e-05, 1.21513631e-05,\n",
       "        4.66374422e-06, 5.39738267e-06, 1.09518587e-05, 1.49727684e-05,\n",
       "        9.22727122e-06, 4.00941281e-06, 2.43848444e-06, 3.60987542e-06,\n",
       "        1.90129012e-05, 5.00000000e-01],\n",
       "       [5.00000000e-01, 1.12225796e-27, 5.15109428e-16, 1.85189619e-13,\n",
       "        2.81124147e-12, 3.17102167e-09, 2.62278827e-05, 2.09131204e-02,\n",
       "        4.17708516e-01, 7.25677669e-01, 6.55650198e-01, 3.74354661e-01,\n",
       "        2.57326752e-01, 4.15915489e-01, 6.69737518e-01, 6.60423577e-01,\n",
       "        2.95824766e-01, 4.22666147e-02, 5.81701100e-03, 1.45019148e-03,\n",
       "        6.49438240e-04, 4.48197214e-04, 3.46501445e-04, 2.00200448e-04,\n",
       "        7.95388769e-05, 3.01494074e-05, 1.67829767e-05, 2.07008015e-05,\n",
       "        7.98933397e-05, 5.00000000e-01],\n",
       "       [5.00000000e-01, 5.90192461e-33, 1.06162169e-18, 2.29553631e-16,\n",
       "        4.81482909e-16, 2.29798846e-13, 4.53262050e-09, 2.73129190e-05,\n",
       "        1.03602484e-02, 3.12665552e-01, 7.30399191e-01, 7.54009008e-01,\n",
       "        6.91529155e-01, 7.38146067e-01, 8.28363776e-01, 8.34496140e-01,\n",
       "        6.94966376e-01, 3.81866008e-01, 1.38712138e-01, 4.48644534e-02,\n",
       "        1.43561335e-02, 4.92288405e-03, 1.86796777e-03, 6.63093873e-04,\n",
       "        1.77787515e-04, 3.54613694e-05, 7.34651894e-06, 3.40546671e-06,\n",
       "        8.30703448e-06, 5.00000000e-01],\n",
       "       [5.00000000e-01, 0.00000000e+00, 3.40125419e-22, 3.04416243e-19,\n",
       "        1.48745401e-19, 1.13199799e-17, 1.16653350e-13, 1.47578760e-09,\n",
       "        2.35760740e-06, 6.67731452e-04, 5.29615469e-02, 5.53027630e-01,\n",
       "        8.78572345e-01, 9.43200886e-01, 9.54397917e-01, 9.41224337e-01,\n",
       "        8.89250338e-01, 7.52368093e-01, 4.79399443e-01, 1.74478978e-01,\n",
       "        3.80581729e-02, 7.85988569e-03, 1.89316529e-03, 4.12677298e-04,\n",
       "        5.28963101e-05, 3.22379515e-06, 1.44419332e-07, 1.85311642e-08,\n",
       "        3.40168675e-08, 5.00000000e-01],\n",
       "       [5.00000000e-01, 0.00000000e+00, 9.58092658e-28, 3.40553853e-22,\n",
       "        2.85213910e-22, 3.77309955e-21, 7.24609968e-18, 2.52900626e-14,\n",
       "        6.13355026e-12, 2.55362509e-10, 2.96144069e-08, 1.35162409e-05,\n",
       "        2.57974328e-03, 5.16656265e-02, 1.88165963e-01, 3.21268886e-01,\n",
       "        3.59122634e-01, 2.49210477e-01, 8.42485130e-02, 1.45004867e-02,\n",
       "        2.31099850e-03, 5.60514396e-04, 1.71368971e-04, 3.27687303e-05,\n",
       "        2.10646658e-06, 3.83217689e-08, 3.98671512e-10, 1.73127606e-11,\n",
       "        3.29631877e-11, 5.00000000e-01],\n",
       "       [5.00000000e-01, 0.00000000e+00, 0.00000000e+00, 1.01811561e-27,\n",
       "        1.04777089e-23, 4.23829574e-21, 6.61352406e-18, 8.09549357e-17,\n",
       "        4.52619369e-20, 8.36352920e-26, 2.04588875e-29, 6.65595611e-29,\n",
       "        4.17993666e-26, 1.16230173e-22, 1.53881050e-18, 3.94661619e-14,\n",
       "        7.26187097e-11, 9.35946320e-10, 1.86799062e-10, 1.10268687e-11,\n",
       "        3.66194445e-12, 1.97420240e-11, 4.34941722e-10, 3.21425642e-09,\n",
       "        1.20887345e-09, 1.44291168e-11, 2.26230845e-14, 1.64882110e-16,\n",
       "        3.04305242e-16, 5.00000000e-01],\n",
       "       [5.00000000e-01, 5.00000000e-01, 5.00000000e-01, 5.00000000e-01,\n",
       "        5.00000000e-01, 5.00000000e-01, 5.00000000e-01, 5.00000000e-01,\n",
       "        5.00000000e-01, 5.00000000e-01, 5.00000000e-01, 5.00000000e-01,\n",
       "        5.00000000e-01, 5.00000000e-01, 5.00000000e-01, 5.00000000e-01,\n",
       "        5.00000000e-01, 5.00000000e-01, 5.00000000e-01, 5.00000000e-01,\n",
       "        5.00000000e-01, 5.00000000e-01, 5.00000000e-01, 5.00000000e-01,\n",
       "        5.00000000e-01, 5.00000000e-01, 5.00000000e-01, 5.00000000e-01,\n",
       "        5.00000000e-01, 5.00000000e-01]])"
      ]
     },
     "execution_count": 20,
     "metadata": {},
     "output_type": "execute_result"
    },
    {
     "data": {
      "image/png": "[encoded data removed]",
      "text/plain": [
       "<Figure size 288x288 with 1 Axes>"
      ]
     },
     "metadata": {
      "needs_background": "light"
     },
     "output_type": "display_data"
    },
    {
     "data": {
      "image/png": "[encoded data removed]",
      "text/plain": [
       "<Figure size 288x288 with 1 Axes>"
      ]
     },
     "metadata": {
      "needs_background": "light"
     },
     "output_type": "display_data"
    },
    {
     "data": {
      "image/png": "[encoded data removed]",
      "text/plain": [
       "<Figure size 288x288 with 1 Axes>"
      ]
     },
     "metadata": {
      "needs_background": "light"
     },
     "output_type": "display_data"
    },
    {
     "data": {
      "image/png": "[encoded data removed]",
      "text/plain": [
       "<Figure size 288x288 with 1 Axes>"
      ]
     },
     "metadata": {
      "needs_background": "light"
     },
     "output_type": "display_data"
    },
    {
     "data": {
      "image/png": "[encoded data removed]",
      "text/plain": [
       "<Figure size 288x288 with 1 Axes>"
      ]
     },
     "metadata": {
      "needs_background": "light"
     },
     "output_type": "display_data"
    },
    {
     "data": {
      "image/png": "[encoded data removed]",
      "text/plain": [
       "<Figure size 288x288 with 1 Axes>"
      ]
     },
     "metadata": {
      "needs_background": "light"
     },
     "output_type": "display_data"
    },
    {
     "data": {
      "image/png": "[encoded data removed]",
      "text/plain": [
       "<Figure size 288x288 with 1 Axes>"
      ]
     },
     "metadata": {
      "needs_background": "light"
     },
     "output_type": "display_data"
    },
    {
     "data": {
      "image/png": "[encoded data removed]",
      "text/plain": [
       "<Figure size 288x288 with 1 Axes>"
      ]
     },
     "metadata": {
      "needs_background": "light"
     },
     "output_type": "display_data"
    },
    {
     "data": {
      "image/png": "[encoded data removed]",
      "text/plain": [
       "<Figure size 288x288 with 1 Axes>"
      ]
     },
     "metadata": {
      "needs_background": "light"
     },
     "output_type": "display_data"
    },
    {
     "data": {
      "image/png": "[encoded data removed]",
      "text/plain": [
       "<Figure size 288x288 with 1 Axes>"
      ]
     },
     "metadata": {
      "needs_background": "light"
     },
     "output_type": "display_data"
    }
   ],
   "source": [
    "img_loc = {'startr': 0, 'endr': 30, 'startc': 0, 'endc': 30}\n",
    "## MC: Check the remaining shuffling operations\n",
    "print(\"reconstructing images...\")\n",
    "test_model.xrecons_grid(img_loc)"
   ]
  },
  {
   "cell_type": "code",
   "execution_count": null,
   "metadata": {},
   "outputs": [],
   "source": []
  }
 ],
 "metadata": {
  "kernelspec": {
   "display_name": "Python 3",
   "language": "python",
   "name": "python3"
  },
  "language_info": {
   "codemirror_mode": {
    "name": "ipython",
    "version": 3
   },
   "file_extension": ".py",
   "mimetype": "text/x-python",
   "name": "python",
   "nbconvert_exporter": "python",
   "pygments_lexer": "ipython3",
   "version": "3.7.7"
  }
 },
 "nbformat": 4,
 "nbformat_minor": 4
}
